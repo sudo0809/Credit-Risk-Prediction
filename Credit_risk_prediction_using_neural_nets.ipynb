{
  "nbformat": 4,
  "nbformat_minor": 0,
  "metadata": {
    "colab": {
      "name": "Credit_risk_prediction_using_neural_nets.ipynb",
      "provenance": [],
      "toc_visible": true,
      "authorship_tag": "ABX9TyOd2AgqunYzaNzSsZOicLwp",
      "include_colab_link": true
    },
    "kernelspec": {
      "name": "python3",
      "display_name": "Python 3"
    },
    "language_info": {
      "name": "python"
    },
    "accelerator": "GPU"
  },
  "cells": [
    {
      "cell_type": "markdown",
      "metadata": {
        "id": "view-in-github",
        "colab_type": "text"
      },
      "source": [
        "<a href=\"https://colab.research.google.com/github/sudo0809/Credit-Risk-Prediction/blob/main/Credit_risk_prediction_using_neural_nets.ipynb\" target=\"_parent\"><img src=\"https://colab.research.google.com/assets/colab-badge.svg\" alt=\"Open In Colab\"/></a>"
      ]
    },
    {
      "cell_type": "code",
      "metadata": {
        "colab": {
          "base_uri": "https://localhost:8080/"
        },
        "id": "wsg-wi4vBDpa",
        "outputId": "b7e500a6-e344-4d73-b874-a526fc88ad24"
      },
      "source": [
        "pip install category_encoders"
      ],
      "execution_count": 1,
      "outputs": [
        {
          "output_type": "stream",
          "text": [
            "Requirement already satisfied: category_encoders in /usr/local/lib/python3.7/dist-packages (2.2.2)\n",
            "Requirement already satisfied: pandas>=0.21.1 in /usr/local/lib/python3.7/dist-packages (from category_encoders) (1.1.5)\n",
            "Requirement already satisfied: statsmodels>=0.9.0 in /usr/local/lib/python3.7/dist-packages (from category_encoders) (0.10.2)\n",
            "Requirement already satisfied: numpy>=1.14.0 in /usr/local/lib/python3.7/dist-packages (from category_encoders) (1.19.5)\n",
            "Requirement already satisfied: patsy>=0.5.1 in /usr/local/lib/python3.7/dist-packages (from category_encoders) (0.5.1)\n",
            "Requirement already satisfied: scikit-learn>=0.20.0 in /usr/local/lib/python3.7/dist-packages (from category_encoders) (0.22.2.post1)\n",
            "Requirement already satisfied: scipy>=1.0.0 in /usr/local/lib/python3.7/dist-packages (from category_encoders) (1.4.1)\n",
            "Requirement already satisfied: pytz>=2017.2 in /usr/local/lib/python3.7/dist-packages (from pandas>=0.21.1->category_encoders) (2018.9)\n",
            "Requirement already satisfied: python-dateutil>=2.7.3 in /usr/local/lib/python3.7/dist-packages (from pandas>=0.21.1->category_encoders) (2.8.1)\n",
            "Requirement already satisfied: six in /usr/local/lib/python3.7/dist-packages (from patsy>=0.5.1->category_encoders) (1.15.0)\n",
            "Requirement already satisfied: joblib>=0.11 in /usr/local/lib/python3.7/dist-packages (from scikit-learn>=0.20.0->category_encoders) (1.0.1)\n"
          ],
          "name": "stdout"
        }
      ]
    },
    {
      "cell_type": "code",
      "metadata": {
        "id": "W_17a4_RxGeV",
        "colab": {
          "base_uri": "https://localhost:8080/"
        },
        "outputId": "37c8b619-baa6-428b-c882-24ea0f111013"
      },
      "source": [
        "import numpy as np\n",
        "import pandas as pd\n",
        "import seaborn as sns\n",
        "import matplotlib.pyplot as plt\n",
        "%matplotlib inline\n",
        "\n",
        "from sklearn import preprocessing\n",
        "from sklearn.metrics import accuracy_score, f1_score, roc_auc_score\n",
        "\n",
        "import category_encoders as ce"
      ],
      "execution_count": 2,
      "outputs": [
        {
          "output_type": "stream",
          "text": [
            "/usr/local/lib/python3.7/dist-packages/statsmodels/tools/_testing.py:19: FutureWarning: pandas.util.testing is deprecated. Use the functions in the public API at pandas.testing instead.\n",
            "  import pandas.util.testing as tm\n"
          ],
          "name": "stderr"
        }
      ]
    },
    {
      "cell_type": "code",
      "metadata": {
        "id": "52eldErWSVvp",
        "colab": {
          "base_uri": "https://localhost:8080/",
          "height": 202
        },
        "outputId": "3cdadb85-e159-4064-cffc-6404a657d96c"
      },
      "source": [
        "df = pd.read_csv(\"https://raw.githubusercontent.com/sudo0809/Credit-Risk-Prediction/main/Training%20Data.csv\")\n",
        "df.head()"
      ],
      "execution_count": 3,
      "outputs": [
        {
          "output_type": "execute_result",
          "data": {
            "text/html": [
              "<div>\n",
              "<style scoped>\n",
              "    .dataframe tbody tr th:only-of-type {\n",
              "        vertical-align: middle;\n",
              "    }\n",
              "\n",
              "    .dataframe tbody tr th {\n",
              "        vertical-align: top;\n",
              "    }\n",
              "\n",
              "    .dataframe thead th {\n",
              "        text-align: right;\n",
              "    }\n",
              "</style>\n",
              "<table border=\"1\" class=\"dataframe\">\n",
              "  <thead>\n",
              "    <tr style=\"text-align: right;\">\n",
              "      <th></th>\n",
              "      <th>Id</th>\n",
              "      <th>income</th>\n",
              "      <th>age</th>\n",
              "      <th>experience</th>\n",
              "      <th>married</th>\n",
              "      <th>house_ownership</th>\n",
              "      <th>car_ownership</th>\n",
              "      <th>profession</th>\n",
              "      <th>city</th>\n",
              "      <th>state</th>\n",
              "      <th>current_job_years</th>\n",
              "      <th>current_house_years</th>\n",
              "      <th>risk_flag</th>\n",
              "    </tr>\n",
              "  </thead>\n",
              "  <tbody>\n",
              "    <tr>\n",
              "      <th>0</th>\n",
              "      <td>1</td>\n",
              "      <td>1303835</td>\n",
              "      <td>23</td>\n",
              "      <td>3</td>\n",
              "      <td>single</td>\n",
              "      <td>rented</td>\n",
              "      <td>no</td>\n",
              "      <td>Mechanical_engineer</td>\n",
              "      <td>Rewa</td>\n",
              "      <td>Madhya_Pradesh</td>\n",
              "      <td>3</td>\n",
              "      <td>13</td>\n",
              "      <td>0</td>\n",
              "    </tr>\n",
              "    <tr>\n",
              "      <th>1</th>\n",
              "      <td>2</td>\n",
              "      <td>7574516</td>\n",
              "      <td>40</td>\n",
              "      <td>10</td>\n",
              "      <td>single</td>\n",
              "      <td>rented</td>\n",
              "      <td>no</td>\n",
              "      <td>Software_Developer</td>\n",
              "      <td>Parbhani</td>\n",
              "      <td>Maharashtra</td>\n",
              "      <td>9</td>\n",
              "      <td>13</td>\n",
              "      <td>0</td>\n",
              "    </tr>\n",
              "    <tr>\n",
              "      <th>2</th>\n",
              "      <td>3</td>\n",
              "      <td>3991815</td>\n",
              "      <td>66</td>\n",
              "      <td>4</td>\n",
              "      <td>married</td>\n",
              "      <td>rented</td>\n",
              "      <td>no</td>\n",
              "      <td>Technical_writer</td>\n",
              "      <td>Alappuzha</td>\n",
              "      <td>Kerala</td>\n",
              "      <td>4</td>\n",
              "      <td>10</td>\n",
              "      <td>0</td>\n",
              "    </tr>\n",
              "    <tr>\n",
              "      <th>3</th>\n",
              "      <td>4</td>\n",
              "      <td>6256451</td>\n",
              "      <td>41</td>\n",
              "      <td>2</td>\n",
              "      <td>single</td>\n",
              "      <td>rented</td>\n",
              "      <td>yes</td>\n",
              "      <td>Software_Developer</td>\n",
              "      <td>Bhubaneswar</td>\n",
              "      <td>Odisha</td>\n",
              "      <td>2</td>\n",
              "      <td>12</td>\n",
              "      <td>1</td>\n",
              "    </tr>\n",
              "    <tr>\n",
              "      <th>4</th>\n",
              "      <td>5</td>\n",
              "      <td>5768871</td>\n",
              "      <td>47</td>\n",
              "      <td>11</td>\n",
              "      <td>single</td>\n",
              "      <td>rented</td>\n",
              "      <td>no</td>\n",
              "      <td>Civil_servant</td>\n",
              "      <td>Tiruchirappalli[10]</td>\n",
              "      <td>Tamil_Nadu</td>\n",
              "      <td>3</td>\n",
              "      <td>14</td>\n",
              "      <td>1</td>\n",
              "    </tr>\n",
              "  </tbody>\n",
              "</table>\n",
              "</div>"
            ],
            "text/plain": [
              "   Id   income  age  ...  current_job_years current_house_years risk_flag\n",
              "0   1  1303835   23  ...                  3                  13         0\n",
              "1   2  7574516   40  ...                  9                  13         0\n",
              "2   3  3991815   66  ...                  4                  10         0\n",
              "3   4  6256451   41  ...                  2                  12         1\n",
              "4   5  5768871   47  ...                  3                  14         1\n",
              "\n",
              "[5 rows x 13 columns]"
            ]
          },
          "metadata": {
            "tags": []
          },
          "execution_count": 3
        }
      ]
    },
    {
      "cell_type": "code",
      "metadata": {
        "colab": {
          "base_uri": "https://localhost:8080/",
          "height": 202
        },
        "id": "2WJZ-gdOzC4x",
        "outputId": "e00a5323-4717-4e19-b6e6-e7326affa8ed"
      },
      "source": [
        "df.drop(\"Id\", axis=1, inplace=True)\n",
        "df.head()"
      ],
      "execution_count": 4,
      "outputs": [
        {
          "output_type": "execute_result",
          "data": {
            "text/html": [
              "<div>\n",
              "<style scoped>\n",
              "    .dataframe tbody tr th:only-of-type {\n",
              "        vertical-align: middle;\n",
              "    }\n",
              "\n",
              "    .dataframe tbody tr th {\n",
              "        vertical-align: top;\n",
              "    }\n",
              "\n",
              "    .dataframe thead th {\n",
              "        text-align: right;\n",
              "    }\n",
              "</style>\n",
              "<table border=\"1\" class=\"dataframe\">\n",
              "  <thead>\n",
              "    <tr style=\"text-align: right;\">\n",
              "      <th></th>\n",
              "      <th>income</th>\n",
              "      <th>age</th>\n",
              "      <th>experience</th>\n",
              "      <th>married</th>\n",
              "      <th>house_ownership</th>\n",
              "      <th>car_ownership</th>\n",
              "      <th>profession</th>\n",
              "      <th>city</th>\n",
              "      <th>state</th>\n",
              "      <th>current_job_years</th>\n",
              "      <th>current_house_years</th>\n",
              "      <th>risk_flag</th>\n",
              "    </tr>\n",
              "  </thead>\n",
              "  <tbody>\n",
              "    <tr>\n",
              "      <th>0</th>\n",
              "      <td>1303835</td>\n",
              "      <td>23</td>\n",
              "      <td>3</td>\n",
              "      <td>single</td>\n",
              "      <td>rented</td>\n",
              "      <td>no</td>\n",
              "      <td>Mechanical_engineer</td>\n",
              "      <td>Rewa</td>\n",
              "      <td>Madhya_Pradesh</td>\n",
              "      <td>3</td>\n",
              "      <td>13</td>\n",
              "      <td>0</td>\n",
              "    </tr>\n",
              "    <tr>\n",
              "      <th>1</th>\n",
              "      <td>7574516</td>\n",
              "      <td>40</td>\n",
              "      <td>10</td>\n",
              "      <td>single</td>\n",
              "      <td>rented</td>\n",
              "      <td>no</td>\n",
              "      <td>Software_Developer</td>\n",
              "      <td>Parbhani</td>\n",
              "      <td>Maharashtra</td>\n",
              "      <td>9</td>\n",
              "      <td>13</td>\n",
              "      <td>0</td>\n",
              "    </tr>\n",
              "    <tr>\n",
              "      <th>2</th>\n",
              "      <td>3991815</td>\n",
              "      <td>66</td>\n",
              "      <td>4</td>\n",
              "      <td>married</td>\n",
              "      <td>rented</td>\n",
              "      <td>no</td>\n",
              "      <td>Technical_writer</td>\n",
              "      <td>Alappuzha</td>\n",
              "      <td>Kerala</td>\n",
              "      <td>4</td>\n",
              "      <td>10</td>\n",
              "      <td>0</td>\n",
              "    </tr>\n",
              "    <tr>\n",
              "      <th>3</th>\n",
              "      <td>6256451</td>\n",
              "      <td>41</td>\n",
              "      <td>2</td>\n",
              "      <td>single</td>\n",
              "      <td>rented</td>\n",
              "      <td>yes</td>\n",
              "      <td>Software_Developer</td>\n",
              "      <td>Bhubaneswar</td>\n",
              "      <td>Odisha</td>\n",
              "      <td>2</td>\n",
              "      <td>12</td>\n",
              "      <td>1</td>\n",
              "    </tr>\n",
              "    <tr>\n",
              "      <th>4</th>\n",
              "      <td>5768871</td>\n",
              "      <td>47</td>\n",
              "      <td>11</td>\n",
              "      <td>single</td>\n",
              "      <td>rented</td>\n",
              "      <td>no</td>\n",
              "      <td>Civil_servant</td>\n",
              "      <td>Tiruchirappalli[10]</td>\n",
              "      <td>Tamil_Nadu</td>\n",
              "      <td>3</td>\n",
              "      <td>14</td>\n",
              "      <td>1</td>\n",
              "    </tr>\n",
              "  </tbody>\n",
              "</table>\n",
              "</div>"
            ],
            "text/plain": [
              "    income  age  experience  ... current_job_years current_house_years risk_flag\n",
              "0  1303835   23           3  ...                 3                  13         0\n",
              "1  7574516   40          10  ...                 9                  13         0\n",
              "2  3991815   66           4  ...                 4                  10         0\n",
              "3  6256451   41           2  ...                 2                  12         1\n",
              "4  5768871   47          11  ...                 3                  14         1\n",
              "\n",
              "[5 rows x 12 columns]"
            ]
          },
          "metadata": {
            "tags": []
          },
          "execution_count": 4
        }
      ]
    },
    {
      "cell_type": "code",
      "metadata": {
        "colab": {
          "base_uri": "https://localhost:8080/"
        },
        "id": "Njt8nOnrC-nW",
        "outputId": "a38761eb-df07-4538-d0f9-6765a99d0a67"
      },
      "source": [
        "df.isnull().values.any()"
      ],
      "execution_count": 5,
      "outputs": [
        {
          "output_type": "execute_result",
          "data": {
            "text/plain": [
              "False"
            ]
          },
          "metadata": {
            "tags": []
          },
          "execution_count": 5
        }
      ]
    },
    {
      "cell_type": "code",
      "metadata": {
        "colab": {
          "base_uri": "https://localhost:8080/"
        },
        "id": "I7AI9dzX3UNF",
        "outputId": "244088c6-c855-4830-b397-da4d23e1376c"
      },
      "source": [
        "df.shape"
      ],
      "execution_count": 6,
      "outputs": [
        {
          "output_type": "execute_result",
          "data": {
            "text/plain": [
              "(252000, 12)"
            ]
          },
          "metadata": {
            "tags": []
          },
          "execution_count": 6
        }
      ]
    },
    {
      "cell_type": "code",
      "metadata": {
        "colab": {
          "base_uri": "https://localhost:8080/"
        },
        "id": "4tBYoEctIlgK",
        "outputId": "813925f7-b531-47f4-8ae2-f4dfa30f5558"
      },
      "source": [
        "print(f\"count of risk flag = 1 is {df[df['risk_flag']==1].shape[0]} i.e {(df[df['risk_flag']==1].shape[0]/df.shape[0])*100} % of total data\")\n",
        "print(f\"count of risk flag = 0 is {df[df['risk_flag']==0].shape[0]} i.e {(df[df['risk_flag']==0].shape[0]/df.shape[0])*100} % of total data\")"
      ],
      "execution_count": 7,
      "outputs": [
        {
          "output_type": "stream",
          "text": [
            "count of risk flag = 1 is 30996 i.e 12.3 % of total data\n",
            "count of risk flag = 0 is 221004 i.e 87.7 % of total data\n"
          ],
          "name": "stdout"
        }
      ]
    },
    {
      "cell_type": "code",
      "metadata": {
        "id": "z-v--PgTrRqZ"
      },
      "source": [
        "data = df.copy()"
      ],
      "execution_count": 8,
      "outputs": []
    },
    {
      "cell_type": "markdown",
      "metadata": {
        "id": "KKByPKr3amzT"
      },
      "source": [
        "## Encoding the Categorical Data"
      ]
    },
    {
      "cell_type": "code",
      "metadata": {
        "colab": {
          "base_uri": "https://localhost:8080/"
        },
        "id": "P7Vb96iM29aJ",
        "outputId": "cce6931e-ca3b-4b9a-c21d-5ff0c498da3a"
      },
      "source": [
        "married_le = preprocessing.LabelEncoder()\n",
        "married_le.fit(df['married'].unique())\n",
        "print(married_le.classes_)\n",
        "df['married'] = married_le.transform(df[\"married\"])\n",
        "df['married'].unique()"
      ],
      "execution_count": 9,
      "outputs": [
        {
          "output_type": "stream",
          "text": [
            "['married' 'single']\n"
          ],
          "name": "stdout"
        },
        {
          "output_type": "execute_result",
          "data": {
            "text/plain": [
              "array([1, 0])"
            ]
          },
          "metadata": {
            "tags": []
          },
          "execution_count": 9
        }
      ]
    },
    {
      "cell_type": "code",
      "metadata": {
        "colab": {
          "base_uri": "https://localhost:8080/"
        },
        "id": "r2vradKI3mch",
        "outputId": "8c9845b9-6c51-4be5-95ec-a1c6f9abc2f3"
      },
      "source": [
        "car_le = preprocessing.LabelEncoder()\n",
        "car_le.fit(df['car_ownership'].unique())\n",
        "print(car_le.classes_)\n",
        "df['car_ownership'] = car_le.transform(df['car_ownership'])\n",
        "df['car_ownership'].unique()"
      ],
      "execution_count": 10,
      "outputs": [
        {
          "output_type": "stream",
          "text": [
            "['no' 'yes']\n"
          ],
          "name": "stdout"
        },
        {
          "output_type": "execute_result",
          "data": {
            "text/plain": [
              "array([0, 1])"
            ]
          },
          "metadata": {
            "tags": []
          },
          "execution_count": 10
        }
      ]
    },
    {
      "cell_type": "code",
      "metadata": {
        "colab": {
          "base_uri": "https://localhost:8080/"
        },
        "id": "yGx7eRlISQom",
        "outputId": "4d6709eb-438c-4909-c8e2-e3de0d73fa37"
      },
      "source": [
        "house_le = preprocessing.LabelEncoder()\n",
        "house_le.fit(df['house_ownership'].unique())\n",
        "print(house_le.classes_)\n",
        "df['house_ownership'] = house_le.transform(df['house_ownership'])\n",
        "df['house_ownership'].unique()"
      ],
      "execution_count": 11,
      "outputs": [
        {
          "output_type": "stream",
          "text": [
            "['norent_noown' 'owned' 'rented']\n"
          ],
          "name": "stdout"
        },
        {
          "output_type": "execute_result",
          "data": {
            "text/plain": [
              "array([2, 0, 1])"
            ]
          },
          "metadata": {
            "tags": []
          },
          "execution_count": 11
        }
      ]
    },
    {
      "cell_type": "code",
      "metadata": {
        "colab": {
          "base_uri": "https://localhost:8080/"
        },
        "id": "Mr5TEzXJcAO4",
        "outputId": "2968d7f7-3cd0-4e6f-8a32-89af8ea5fe36"
      },
      "source": [
        "# 1st method tried\n",
        "'''\n",
        "hash_enc = ce.hashing.HashingEncoder(cols='profession' , max_process=4)\n",
        "# hash_enc.fit(balanced_data['profession'])\n",
        "\n",
        "data1 = hash_enc.fit_transform(balanced_data)\n",
        "print(hash_enc.get_feature_names())\n",
        "'''\n",
        "#2nd method\n",
        "'''\n",
        "binary_enc = ce.BinaryEncoder(cols=['profession', 'state'])\n",
        "data1 = binary_enc.fit_transform(balanced_data)\n",
        "'''\n",
        "#3rd method\n",
        "profession_le = preprocessing.LabelEncoder()\n",
        "profession_le.fit(df['profession'])\n",
        "df['profession'] = profession_le.transform(df['profession'])\n",
        "print(profession_le.classes_)\n",
        "df['profession'].unique()"
      ],
      "execution_count": 12,
      "outputs": [
        {
          "output_type": "stream",
          "text": [
            "['Air_traffic_controller' 'Analyst' 'Architect' 'Army_officer' 'Artist'\n",
            " 'Aviator' 'Biomedical_Engineer' 'Chartered_Accountant' 'Chef'\n",
            " 'Chemical_engineer' 'Civil_engineer' 'Civil_servant' 'Comedian'\n",
            " 'Computer_hardware_engineer' 'Computer_operator' 'Consultant' 'Dentist'\n",
            " 'Design_Engineer' 'Designer' 'Drafter' 'Economist' 'Engineer'\n",
            " 'Fashion_Designer' 'Financial_Analyst' 'Firefighter' 'Flight_attendant'\n",
            " 'Geologist' 'Graphic_Designer' 'Hotel_Manager' 'Industrial_Engineer'\n",
            " 'Lawyer' 'Librarian' 'Magistrate' 'Mechanical_engineer' 'Microbiologist'\n",
            " 'Official' 'Petroleum_Engineer' 'Physician' 'Police_officer' 'Politician'\n",
            " 'Psychologist' 'Scientist' 'Secretary' 'Software_Developer'\n",
            " 'Statistician' 'Surgeon' 'Surveyor' 'Technical_writer' 'Technician'\n",
            " 'Technology_specialist' 'Web_designer']\n"
          ],
          "name": "stdout"
        },
        {
          "output_type": "execute_result",
          "data": {
            "text/plain": [
              "array([33, 43, 47, 11, 31, 20, 25,  2, 18, 37, 23,  0, 39, 38,  4, 46, 17,\n",
              "        9, 28, 16, 12,  6, 27, 13, 36, 42, 14,  7, 48, 34, 22,  5, 40, 32,\n",
              "       30, 24, 21, 35,  1, 26, 19, 44, 50, 15,  8,  3, 45, 41, 10, 29, 49])"
            ]
          },
          "metadata": {
            "tags": []
          },
          "execution_count": 12
        }
      ]
    },
    {
      "cell_type": "code",
      "metadata": {
        "colab": {
          "base_uri": "https://localhost:8080/",
          "height": 202
        },
        "id": "7rNpM1afqQcF",
        "outputId": "cb2d5ef6-918f-46c4-e167-58b5c17554a7"
      },
      "source": [
        "df.head()"
      ],
      "execution_count": 13,
      "outputs": [
        {
          "output_type": "execute_result",
          "data": {
            "text/html": [
              "<div>\n",
              "<style scoped>\n",
              "    .dataframe tbody tr th:only-of-type {\n",
              "        vertical-align: middle;\n",
              "    }\n",
              "\n",
              "    .dataframe tbody tr th {\n",
              "        vertical-align: top;\n",
              "    }\n",
              "\n",
              "    .dataframe thead th {\n",
              "        text-align: right;\n",
              "    }\n",
              "</style>\n",
              "<table border=\"1\" class=\"dataframe\">\n",
              "  <thead>\n",
              "    <tr style=\"text-align: right;\">\n",
              "      <th></th>\n",
              "      <th>income</th>\n",
              "      <th>age</th>\n",
              "      <th>experience</th>\n",
              "      <th>married</th>\n",
              "      <th>house_ownership</th>\n",
              "      <th>car_ownership</th>\n",
              "      <th>profession</th>\n",
              "      <th>city</th>\n",
              "      <th>state</th>\n",
              "      <th>current_job_years</th>\n",
              "      <th>current_house_years</th>\n",
              "      <th>risk_flag</th>\n",
              "    </tr>\n",
              "  </thead>\n",
              "  <tbody>\n",
              "    <tr>\n",
              "      <th>0</th>\n",
              "      <td>1303835</td>\n",
              "      <td>23</td>\n",
              "      <td>3</td>\n",
              "      <td>1</td>\n",
              "      <td>2</td>\n",
              "      <td>0</td>\n",
              "      <td>33</td>\n",
              "      <td>Rewa</td>\n",
              "      <td>Madhya_Pradesh</td>\n",
              "      <td>3</td>\n",
              "      <td>13</td>\n",
              "      <td>0</td>\n",
              "    </tr>\n",
              "    <tr>\n",
              "      <th>1</th>\n",
              "      <td>7574516</td>\n",
              "      <td>40</td>\n",
              "      <td>10</td>\n",
              "      <td>1</td>\n",
              "      <td>2</td>\n",
              "      <td>0</td>\n",
              "      <td>43</td>\n",
              "      <td>Parbhani</td>\n",
              "      <td>Maharashtra</td>\n",
              "      <td>9</td>\n",
              "      <td>13</td>\n",
              "      <td>0</td>\n",
              "    </tr>\n",
              "    <tr>\n",
              "      <th>2</th>\n",
              "      <td>3991815</td>\n",
              "      <td>66</td>\n",
              "      <td>4</td>\n",
              "      <td>0</td>\n",
              "      <td>2</td>\n",
              "      <td>0</td>\n",
              "      <td>47</td>\n",
              "      <td>Alappuzha</td>\n",
              "      <td>Kerala</td>\n",
              "      <td>4</td>\n",
              "      <td>10</td>\n",
              "      <td>0</td>\n",
              "    </tr>\n",
              "    <tr>\n",
              "      <th>3</th>\n",
              "      <td>6256451</td>\n",
              "      <td>41</td>\n",
              "      <td>2</td>\n",
              "      <td>1</td>\n",
              "      <td>2</td>\n",
              "      <td>1</td>\n",
              "      <td>43</td>\n",
              "      <td>Bhubaneswar</td>\n",
              "      <td>Odisha</td>\n",
              "      <td>2</td>\n",
              "      <td>12</td>\n",
              "      <td>1</td>\n",
              "    </tr>\n",
              "    <tr>\n",
              "      <th>4</th>\n",
              "      <td>5768871</td>\n",
              "      <td>47</td>\n",
              "      <td>11</td>\n",
              "      <td>1</td>\n",
              "      <td>2</td>\n",
              "      <td>0</td>\n",
              "      <td>11</td>\n",
              "      <td>Tiruchirappalli[10]</td>\n",
              "      <td>Tamil_Nadu</td>\n",
              "      <td>3</td>\n",
              "      <td>14</td>\n",
              "      <td>1</td>\n",
              "    </tr>\n",
              "  </tbody>\n",
              "</table>\n",
              "</div>"
            ],
            "text/plain": [
              "    income  age  experience  ...  current_job_years  current_house_years  risk_flag\n",
              "0  1303835   23           3  ...                  3                   13          0\n",
              "1  7574516   40          10  ...                  9                   13          0\n",
              "2  3991815   66           4  ...                  4                   10          0\n",
              "3  6256451   41           2  ...                  2                   12          1\n",
              "4  5768871   47          11  ...                  3                   14          1\n",
              "\n",
              "[5 rows x 12 columns]"
            ]
          },
          "metadata": {
            "tags": []
          },
          "execution_count": 13
        }
      ]
    },
    {
      "cell_type": "code",
      "metadata": {
        "colab": {
          "base_uri": "https://localhost:8080/"
        },
        "id": "eSQYPEfJNOgL",
        "outputId": "091c7ac3-dfba-4e1b-e51b-7cecab2f2054"
      },
      "source": [
        "my_dict = {}\n",
        "for col_name in df.columns:\n",
        "  if len(data[col_name].unique())<60:\n",
        "    print(col_name, \" = \", data[col_name].unique())\n",
        "    print()\n",
        "  else:\n",
        "    print(f\"{col_name} = {len(data[col_name].unique())} unique values\")\n",
        "    print()\n",
        "  my_dict[col_name] = data[col_name].unique()"
      ],
      "execution_count": 14,
      "outputs": [
        {
          "output_type": "stream",
          "text": [
            "income = 41917 unique values\n",
            "\n",
            "age  =  [23 40 66 41 47 64 58 33 24 78 22 28 57 48 39 72 56 54 50 35 76 38 31 52\n",
            " 59 21 26 55 45 77 71 63 30 25 73 75 27 74 67 46 68 36 79 42 60 32 65 49\n",
            " 61 29 37 69 62 53 70 34 43 44 51]\n",
            "\n",
            "experience  =  [ 3 10  4  2 11  0 14 17 12  7  9  6  8  1 13 19 15 20  5 16 18]\n",
            "\n",
            "married  =  ['single' 'married']\n",
            "\n",
            "house_ownership  =  ['rented' 'norent_noown' 'owned']\n",
            "\n",
            "car_ownership  =  ['no' 'yes']\n",
            "\n",
            "profession  =  ['Mechanical_engineer' 'Software_Developer' 'Technical_writer'\n",
            " 'Civil_servant' 'Librarian' 'Economist' 'Flight_attendant' 'Architect'\n",
            " 'Designer' 'Physician' 'Financial_Analyst' 'Air_traffic_controller'\n",
            " 'Politician' 'Police_officer' 'Artist' 'Surveyor' 'Design_Engineer'\n",
            " 'Chemical_engineer' 'Hotel_Manager' 'Dentist' 'Comedian'\n",
            " 'Biomedical_Engineer' 'Graphic_Designer' 'Computer_hardware_engineer'\n",
            " 'Petroleum_Engineer' 'Secretary' 'Computer_operator'\n",
            " 'Chartered_Accountant' 'Technician' 'Microbiologist' 'Fashion_Designer'\n",
            " 'Aviator' 'Psychologist' 'Magistrate' 'Lawyer' 'Firefighter' 'Engineer'\n",
            " 'Official' 'Analyst' 'Geologist' 'Drafter' 'Statistician' 'Web_designer'\n",
            " 'Consultant' 'Chef' 'Army_officer' 'Surgeon' 'Scientist' 'Civil_engineer'\n",
            " 'Industrial_Engineer' 'Technology_specialist']\n",
            "\n",
            "city = 317 unique values\n",
            "\n",
            "state  =  ['Madhya_Pradesh' 'Maharashtra' 'Kerala' 'Odisha' 'Tamil_Nadu' 'Gujarat'\n",
            " 'Rajasthan' 'Telangana' 'Bihar' 'Andhra_Pradesh' 'West_Bengal' 'Haryana'\n",
            " 'Puducherry' 'Karnataka' 'Uttar_Pradesh' 'Himachal_Pradesh' 'Punjab'\n",
            " 'Tripura' 'Uttarakhand' 'Jharkhand' 'Mizoram' 'Assam' 'Jammu_and_Kashmir'\n",
            " 'Delhi' 'Chhattisgarh' 'Chandigarh' 'Uttar_Pradesh[5]' 'Manipur' 'Sikkim']\n",
            "\n",
            "current_job_years  =  [ 3  9  4  2  0  8 11  5  7  6 12  1 10 13 14]\n",
            "\n",
            "current_house_years  =  [13 10 12 14 11]\n",
            "\n",
            "risk_flag  =  [0 1]\n",
            "\n"
          ],
          "name": "stdout"
        }
      ]
    },
    {
      "cell_type": "markdown",
      "metadata": {
        "id": "C7P_NyfeJ2bp"
      },
      "source": [
        "## Taking only balanced Data\n",
        "### 50% risk flag = 1 and 50% risk_flag = 0"
      ]
    },
    {
      "cell_type": "code",
      "metadata": {
        "colab": {
          "base_uri": "https://localhost:8080/"
        },
        "id": "TljCKgPmJ0tl",
        "outputId": "2b00f6af-e2db-49a1-f753-7ef1cd0b7f5b"
      },
      "source": [
        "risk_high_data = df[df['risk_flag']==1]\n",
        "risk_low_data = df[df['risk_flag']==0]\n",
        "\n",
        "m_low = min(len(risk_high_data), len(risk_low_data))\n",
        "\n",
        "balanced_data = pd.concat([risk_high_data[:m_low], risk_low_data[:m_low]]).sample(frac=1)\n",
        "print(f\"Balanced Data shape = {balanced_data.shape}\")\n",
        "print(f\"count of risk flag = 1 is {balanced_data[balanced_data['risk_flag']==1].shape[0]}\")\n",
        "print(f\"count of risk flag = 0 is {balanced_data[balanced_data['risk_flag']==0].shape[0]}\")"
      ],
      "execution_count": 15,
      "outputs": [
        {
          "output_type": "stream",
          "text": [
            "Balanced Data shape = (61992, 12)\n",
            "count of risk flag = 1 is 30996\n",
            "count of risk flag = 0 is 30996\n"
          ],
          "name": "stdout"
        }
      ]
    },
    {
      "cell_type": "code",
      "metadata": {
        "colab": {
          "base_uri": "https://localhost:8080/"
        },
        "id": "inRGpHCbzQIS",
        "outputId": "e8b33f6c-4d1e-4bb6-d7b1-dc5ebcff2e1b"
      },
      "source": [
        "cols = list(df.columns)\n",
        "cols"
      ],
      "execution_count": 16,
      "outputs": [
        {
          "output_type": "execute_result",
          "data": {
            "text/plain": [
              "['income',\n",
              " 'age',\n",
              " 'experience',\n",
              " 'married',\n",
              " 'house_ownership',\n",
              " 'car_ownership',\n",
              " 'profession',\n",
              " 'city',\n",
              " 'state',\n",
              " 'current_job_years',\n",
              " 'current_house_years',\n",
              " 'risk_flag']"
            ]
          },
          "metadata": {
            "tags": []
          },
          "execution_count": 16
        }
      ]
    },
    {
      "cell_type": "code",
      "metadata": {
        "colab": {
          "base_uri": "https://localhost:8080/",
          "height": 603
        },
        "id": "MaRjZ64qePtd",
        "outputId": "05976e7c-d027-4a25-9fa5-28389c6ec8a0"
      },
      "source": [
        "features = ['married', 'house_ownership','car_ownership', 'current_job_years','current_house_years', 'experience']\n",
        "\n",
        "plt.figure(figsize=(15,8))\n",
        "for i,feature in enumerate(features):\n",
        "  plt.subplot(len(features)/2, 2, i+1)\n",
        "  sns.countplot(x=feature, data=balanced_data, hue='risk_flag')\n",
        "plt.tight_layout()\n",
        "plt.plot()"
      ],
      "execution_count": 17,
      "outputs": [
        {
          "output_type": "execute_result",
          "data": {
            "text/plain": [
              "[]"
            ]
          },
          "metadata": {
            "tags": []
          },
          "execution_count": 17
        },
        {
          "output_type": "display_data",
          "data": {
            "image/png": "[encoded data removed]",
            "text/plain": [
              "<Figure size 1080x576 with 6 Axes>"
            ]
          },
          "metadata": {
            "tags": [],
            "needs_background": "light"
          }
        }
      ]
    },
    {
      "cell_type": "markdown",
      "metadata": {
        "id": "EFjUGK5UzwLO"
      },
      "source": [
        "### Trying to find correalation between professions on basis of their income"
      ]
    },
    {
      "cell_type": "code",
      "metadata": {
        "colab": {
          "base_uri": "https://localhost:8080/",
          "height": 1000
        },
        "id": "d4cY1gwdfrZ3",
        "outputId": "4e22448f-cb64-45fa-f113-dbaec796d0f9"
      },
      "source": [
        "# plt.figure(figsize=(18,12))\n",
        "# sns.histplot(x=balanced_data.income[balanced_data.profession=='Software_Developer'] , data=balanced_data)\n",
        "# plt.title('Software Developer',)\n",
        "\n",
        "plt.figure(figsize=(18,52))\n",
        "for i,job in enumerate(my_dict['profession']):\n",
        "  plt.subplot(52/2, 2, i+1)\n",
        "  sns.histplot(x=balanced_data.income[balanced_data.profession==job] , data=balanced_data)\n",
        "  plt.title(job)\n",
        "plt.tight_layout()\n",
        "plt.plot()"
      ],
      "execution_count": 12,
      "outputs": [
        {
          "output_type": "execute_result",
          "data": {
            "text/plain": [
              "[]"
            ]
          },
          "metadata": {
            "tags": []
          },
          "execution_count": 12
        },
        {
          "output_type": "display_data",
          "data": {
            "image/png": "[encoded data removed]",
            "text/plain": [
              "<Figure size 1296x3744 with 51 Axes>"
            ]
          },
          "metadata": {
            "tags": [],
            "needs_background": "light"
          }
        }
      ]
    },
    {
      "cell_type": "code",
      "metadata": {
        "colab": {
          "base_uri": "https://localhost:8080/"
        },
        "id": "Qk8aHNtAjnWw",
        "outputId": "d6bd6360-ba38-419b-a4c1-0951c871fb04"
      },
      "source": [
        "jobs = my_dict['profession']\n",
        "income_len = []\n",
        "for i in jobs:\n",
        "  income_len.append(len(balanced_data.income[balanced_data.profession==i]))\n",
        "\n",
        "print(income_len)"
      ],
      "execution_count": 13,
      "outputs": [
        {
          "output_type": "stream",
          "text": [
            "[1244, 1246, 1237, 1223, 1255, 1122, 1264, 1281, 1189, 1215, 1062, 995, 1017, 1172, 1120, 1192, 1213, 1316, 1250, 1161, 1325, 1190, 1342, 1189, 1093, 980, 1297, 1186, 1350, 1393, 1309, 1201, 1074, 1094, 1244, 1350, 1018, 1195, 1284, 1271, 1407, 1297, 1342, 1477, 1155, 1277, 1132, 1151, 1278, 1085, 1232]\n"
          ],
          "name": "stdout"
        }
      ]
    },
    {
      "cell_type": "code",
      "metadata": {
        "colab": {
          "base_uri": "https://localhost:8080/"
        },
        "id": "WJUtrRFuo_hJ",
        "outputId": "dcc6204c-0ec6-41c3-8752-d56beda76ad1"
      },
      "source": [
        "len(balanced_data.income[balanced_data.profession=='Firefighter'])"
      ],
      "execution_count": 14,
      "outputs": [
        {
          "output_type": "execute_result",
          "data": {
            "text/plain": [
              "1155"
            ]
          },
          "metadata": {
            "tags": []
          },
          "execution_count": 14
        }
      ]
    },
    {
      "cell_type": "code",
      "metadata": {
        "colab": {
          "base_uri": "https://localhost:8080/",
          "height": 222
        },
        "id": "BJmt7gyTojY-",
        "outputId": "fb04f27b-8920-4b58-da18-2274c17721ce"
      },
      "source": [
        "jobs_data = {}\n",
        "for job in jobs:\n",
        "  jobs_data[job] = balanced_data.income[balanced_data.profession == job] \n",
        "\n",
        "jobs_data = pd.DataFrame(jobs_data)\n",
        "jobs_data.head()"
      ],
      "execution_count": 15,
      "outputs": [
        {
          "output_type": "execute_result",
          "data": {
            "text/html": [
              "<div>\n",
              "<style scoped>\n",
              "    .dataframe tbody tr th:only-of-type {\n",
              "        vertical-align: middle;\n",
              "    }\n",
              "\n",
              "    .dataframe tbody tr th {\n",
              "        vertical-align: top;\n",
              "    }\n",
              "\n",
              "    .dataframe thead th {\n",
              "        text-align: right;\n",
              "    }\n",
              "</style>\n",
              "<table border=\"1\" class=\"dataframe\">\n",
              "  <thead>\n",
              "    <tr style=\"text-align: right;\">\n",
              "      <th></th>\n",
              "      <th>Scientist</th>\n",
              "      <th>Computer_operator</th>\n",
              "      <th>Army_officer</th>\n",
              "      <th>Technician</th>\n",
              "      <th>Mechanical_engineer</th>\n",
              "      <th>Chef</th>\n",
              "      <th>Surveyor</th>\n",
              "      <th>Flight_attendant</th>\n",
              "      <th>Industrial_Engineer</th>\n",
              "      <th>Chartered_Accountant</th>\n",
              "      <th>Civil_servant</th>\n",
              "      <th>Technology_specialist</th>\n",
              "      <th>Official</th>\n",
              "      <th>Architect</th>\n",
              "      <th>Dentist</th>\n",
              "      <th>Microbiologist</th>\n",
              "      <th>Lawyer</th>\n",
              "      <th>Technical_writer</th>\n",
              "      <th>Graphic_Designer</th>\n",
              "      <th>Civil_engineer</th>\n",
              "      <th>Hotel_Manager</th>\n",
              "      <th>Aviator</th>\n",
              "      <th>Software_Developer</th>\n",
              "      <th>Politician</th>\n",
              "      <th>Librarian</th>\n",
              "      <th>Engineer</th>\n",
              "      <th>Fashion_Designer</th>\n",
              "      <th>Artist</th>\n",
              "      <th>Computer_hardware_engineer</th>\n",
              "      <th>Statistician</th>\n",
              "      <th>Magistrate</th>\n",
              "      <th>Financial_Analyst</th>\n",
              "      <th>Designer</th>\n",
              "      <th>Petroleum_Engineer</th>\n",
              "      <th>Geologist</th>\n",
              "      <th>Psychologist</th>\n",
              "      <th>Economist</th>\n",
              "      <th>Consultant</th>\n",
              "      <th>Drafter</th>\n",
              "      <th>Web_designer</th>\n",
              "      <th>Police_officer</th>\n",
              "      <th>Comedian</th>\n",
              "      <th>Air_traffic_controller</th>\n",
              "      <th>Physician</th>\n",
              "      <th>Firefighter</th>\n",
              "      <th>Secretary</th>\n",
              "      <th>Analyst</th>\n",
              "      <th>Surgeon</th>\n",
              "      <th>Biomedical_Engineer</th>\n",
              "      <th>Design_Engineer</th>\n",
              "      <th>Chemical_engineer</th>\n",
              "    </tr>\n",
              "  </thead>\n",
              "  <tbody>\n",
              "    <tr>\n",
              "      <th>0</th>\n",
              "      <td>NaN</td>\n",
              "      <td>NaN</td>\n",
              "      <td>NaN</td>\n",
              "      <td>NaN</td>\n",
              "      <td>1303835.0</td>\n",
              "      <td>NaN</td>\n",
              "      <td>NaN</td>\n",
              "      <td>NaN</td>\n",
              "      <td>NaN</td>\n",
              "      <td>NaN</td>\n",
              "      <td>NaN</td>\n",
              "      <td>NaN</td>\n",
              "      <td>NaN</td>\n",
              "      <td>NaN</td>\n",
              "      <td>NaN</td>\n",
              "      <td>NaN</td>\n",
              "      <td>NaN</td>\n",
              "      <td>NaN</td>\n",
              "      <td>NaN</td>\n",
              "      <td>NaN</td>\n",
              "      <td>NaN</td>\n",
              "      <td>NaN</td>\n",
              "      <td>NaN</td>\n",
              "      <td>NaN</td>\n",
              "      <td>NaN</td>\n",
              "      <td>NaN</td>\n",
              "      <td>NaN</td>\n",
              "      <td>NaN</td>\n",
              "      <td>NaN</td>\n",
              "      <td>NaN</td>\n",
              "      <td>NaN</td>\n",
              "      <td>NaN</td>\n",
              "      <td>NaN</td>\n",
              "      <td>NaN</td>\n",
              "      <td>NaN</td>\n",
              "      <td>NaN</td>\n",
              "      <td>NaN</td>\n",
              "      <td>NaN</td>\n",
              "      <td>NaN</td>\n",
              "      <td>NaN</td>\n",
              "      <td>NaN</td>\n",
              "      <td>NaN</td>\n",
              "      <td>NaN</td>\n",
              "      <td>NaN</td>\n",
              "      <td>NaN</td>\n",
              "      <td>NaN</td>\n",
              "      <td>NaN</td>\n",
              "      <td>NaN</td>\n",
              "      <td>NaN</td>\n",
              "      <td>NaN</td>\n",
              "      <td>NaN</td>\n",
              "    </tr>\n",
              "    <tr>\n",
              "      <th>1</th>\n",
              "      <td>NaN</td>\n",
              "      <td>NaN</td>\n",
              "      <td>NaN</td>\n",
              "      <td>NaN</td>\n",
              "      <td>NaN</td>\n",
              "      <td>NaN</td>\n",
              "      <td>NaN</td>\n",
              "      <td>NaN</td>\n",
              "      <td>NaN</td>\n",
              "      <td>NaN</td>\n",
              "      <td>NaN</td>\n",
              "      <td>NaN</td>\n",
              "      <td>NaN</td>\n",
              "      <td>NaN</td>\n",
              "      <td>NaN</td>\n",
              "      <td>NaN</td>\n",
              "      <td>NaN</td>\n",
              "      <td>NaN</td>\n",
              "      <td>NaN</td>\n",
              "      <td>NaN</td>\n",
              "      <td>NaN</td>\n",
              "      <td>NaN</td>\n",
              "      <td>7574516.0</td>\n",
              "      <td>NaN</td>\n",
              "      <td>NaN</td>\n",
              "      <td>NaN</td>\n",
              "      <td>NaN</td>\n",
              "      <td>NaN</td>\n",
              "      <td>NaN</td>\n",
              "      <td>NaN</td>\n",
              "      <td>NaN</td>\n",
              "      <td>NaN</td>\n",
              "      <td>NaN</td>\n",
              "      <td>NaN</td>\n",
              "      <td>NaN</td>\n",
              "      <td>NaN</td>\n",
              "      <td>NaN</td>\n",
              "      <td>NaN</td>\n",
              "      <td>NaN</td>\n",
              "      <td>NaN</td>\n",
              "      <td>NaN</td>\n",
              "      <td>NaN</td>\n",
              "      <td>NaN</td>\n",
              "      <td>NaN</td>\n",
              "      <td>NaN</td>\n",
              "      <td>NaN</td>\n",
              "      <td>NaN</td>\n",
              "      <td>NaN</td>\n",
              "      <td>NaN</td>\n",
              "      <td>NaN</td>\n",
              "      <td>NaN</td>\n",
              "    </tr>\n",
              "    <tr>\n",
              "      <th>2</th>\n",
              "      <td>NaN</td>\n",
              "      <td>NaN</td>\n",
              "      <td>NaN</td>\n",
              "      <td>NaN</td>\n",
              "      <td>NaN</td>\n",
              "      <td>NaN</td>\n",
              "      <td>NaN</td>\n",
              "      <td>NaN</td>\n",
              "      <td>NaN</td>\n",
              "      <td>NaN</td>\n",
              "      <td>NaN</td>\n",
              "      <td>NaN</td>\n",
              "      <td>NaN</td>\n",
              "      <td>NaN</td>\n",
              "      <td>NaN</td>\n",
              "      <td>NaN</td>\n",
              "      <td>NaN</td>\n",
              "      <td>3991815.0</td>\n",
              "      <td>NaN</td>\n",
              "      <td>NaN</td>\n",
              "      <td>NaN</td>\n",
              "      <td>NaN</td>\n",
              "      <td>NaN</td>\n",
              "      <td>NaN</td>\n",
              "      <td>NaN</td>\n",
              "      <td>NaN</td>\n",
              "      <td>NaN</td>\n",
              "      <td>NaN</td>\n",
              "      <td>NaN</td>\n",
              "      <td>NaN</td>\n",
              "      <td>NaN</td>\n",
              "      <td>NaN</td>\n",
              "      <td>NaN</td>\n",
              "      <td>NaN</td>\n",
              "      <td>NaN</td>\n",
              "      <td>NaN</td>\n",
              "      <td>NaN</td>\n",
              "      <td>NaN</td>\n",
              "      <td>NaN</td>\n",
              "      <td>NaN</td>\n",
              "      <td>NaN</td>\n",
              "      <td>NaN</td>\n",
              "      <td>NaN</td>\n",
              "      <td>NaN</td>\n",
              "      <td>NaN</td>\n",
              "      <td>NaN</td>\n",
              "      <td>NaN</td>\n",
              "      <td>NaN</td>\n",
              "      <td>NaN</td>\n",
              "      <td>NaN</td>\n",
              "      <td>NaN</td>\n",
              "    </tr>\n",
              "    <tr>\n",
              "      <th>3</th>\n",
              "      <td>NaN</td>\n",
              "      <td>NaN</td>\n",
              "      <td>NaN</td>\n",
              "      <td>NaN</td>\n",
              "      <td>NaN</td>\n",
              "      <td>NaN</td>\n",
              "      <td>NaN</td>\n",
              "      <td>NaN</td>\n",
              "      <td>NaN</td>\n",
              "      <td>NaN</td>\n",
              "      <td>NaN</td>\n",
              "      <td>NaN</td>\n",
              "      <td>NaN</td>\n",
              "      <td>NaN</td>\n",
              "      <td>NaN</td>\n",
              "      <td>NaN</td>\n",
              "      <td>NaN</td>\n",
              "      <td>NaN</td>\n",
              "      <td>NaN</td>\n",
              "      <td>NaN</td>\n",
              "      <td>NaN</td>\n",
              "      <td>NaN</td>\n",
              "      <td>6256451.0</td>\n",
              "      <td>NaN</td>\n",
              "      <td>NaN</td>\n",
              "      <td>NaN</td>\n",
              "      <td>NaN</td>\n",
              "      <td>NaN</td>\n",
              "      <td>NaN</td>\n",
              "      <td>NaN</td>\n",
              "      <td>NaN</td>\n",
              "      <td>NaN</td>\n",
              "      <td>NaN</td>\n",
              "      <td>NaN</td>\n",
              "      <td>NaN</td>\n",
              "      <td>NaN</td>\n",
              "      <td>NaN</td>\n",
              "      <td>NaN</td>\n",
              "      <td>NaN</td>\n",
              "      <td>NaN</td>\n",
              "      <td>NaN</td>\n",
              "      <td>NaN</td>\n",
              "      <td>NaN</td>\n",
              "      <td>NaN</td>\n",
              "      <td>NaN</td>\n",
              "      <td>NaN</td>\n",
              "      <td>NaN</td>\n",
              "      <td>NaN</td>\n",
              "      <td>NaN</td>\n",
              "      <td>NaN</td>\n",
              "      <td>NaN</td>\n",
              "    </tr>\n",
              "    <tr>\n",
              "      <th>4</th>\n",
              "      <td>NaN</td>\n",
              "      <td>NaN</td>\n",
              "      <td>NaN</td>\n",
              "      <td>NaN</td>\n",
              "      <td>NaN</td>\n",
              "      <td>NaN</td>\n",
              "      <td>NaN</td>\n",
              "      <td>NaN</td>\n",
              "      <td>NaN</td>\n",
              "      <td>NaN</td>\n",
              "      <td>5768871.0</td>\n",
              "      <td>NaN</td>\n",
              "      <td>NaN</td>\n",
              "      <td>NaN</td>\n",
              "      <td>NaN</td>\n",
              "      <td>NaN</td>\n",
              "      <td>NaN</td>\n",
              "      <td>NaN</td>\n",
              "      <td>NaN</td>\n",
              "      <td>NaN</td>\n",
              "      <td>NaN</td>\n",
              "      <td>NaN</td>\n",
              "      <td>NaN</td>\n",
              "      <td>NaN</td>\n",
              "      <td>NaN</td>\n",
              "      <td>NaN</td>\n",
              "      <td>NaN</td>\n",
              "      <td>NaN</td>\n",
              "      <td>NaN</td>\n",
              "      <td>NaN</td>\n",
              "      <td>NaN</td>\n",
              "      <td>NaN</td>\n",
              "      <td>NaN</td>\n",
              "      <td>NaN</td>\n",
              "      <td>NaN</td>\n",
              "      <td>NaN</td>\n",
              "      <td>NaN</td>\n",
              "      <td>NaN</td>\n",
              "      <td>NaN</td>\n",
              "      <td>NaN</td>\n",
              "      <td>NaN</td>\n",
              "      <td>NaN</td>\n",
              "      <td>NaN</td>\n",
              "      <td>NaN</td>\n",
              "      <td>NaN</td>\n",
              "      <td>NaN</td>\n",
              "      <td>NaN</td>\n",
              "      <td>NaN</td>\n",
              "      <td>NaN</td>\n",
              "      <td>NaN</td>\n",
              "      <td>NaN</td>\n",
              "    </tr>\n",
              "  </tbody>\n",
              "</table>\n",
              "</div>"
            ],
            "text/plain": [
              "   Scientist  Computer_operator  ...  Design_Engineer  Chemical_engineer\n",
              "0        NaN                NaN  ...              NaN                NaN\n",
              "1        NaN                NaN  ...              NaN                NaN\n",
              "2        NaN                NaN  ...              NaN                NaN\n",
              "3        NaN                NaN  ...              NaN                NaN\n",
              "4        NaN                NaN  ...              NaN                NaN\n",
              "\n",
              "[5 rows x 51 columns]"
            ]
          },
          "metadata": {
            "tags": []
          },
          "execution_count": 15
        }
      ]
    },
    {
      "cell_type": "code",
      "metadata": {
        "id": "Mw9HiCByqU0M"
      },
      "source": [
        "for i in jobs_data.columns[jobs_data.isnull().any(axis=0)]:     #---Applying Only on variables with NaN values\n",
        "    jobs_data[i].fillna(jobs_data[i].mean(),inplace=True)"
      ],
      "execution_count": 16,
      "outputs": []
    },
    {
      "cell_type": "code",
      "metadata": {
        "colab": {
          "base_uri": "https://localhost:8080/",
          "height": 222
        },
        "id": "UPNQ7ybSvO8B",
        "outputId": "1fd443a0-3681-4238-f631-c3a690498a70"
      },
      "source": [
        "jobs_data.head()"
      ],
      "execution_count": 17,
      "outputs": [
        {
          "output_type": "execute_result",
          "data": {
            "text/html": [
              "<div>\n",
              "<style scoped>\n",
              "    .dataframe tbody tr th:only-of-type {\n",
              "        vertical-align: middle;\n",
              "    }\n",
              "\n",
              "    .dataframe tbody tr th {\n",
              "        vertical-align: top;\n",
              "    }\n",
              "\n",
              "    .dataframe thead th {\n",
              "        text-align: right;\n",
              "    }\n",
              "</style>\n",
              "<table border=\"1\" class=\"dataframe\">\n",
              "  <thead>\n",
              "    <tr style=\"text-align: right;\">\n",
              "      <th></th>\n",
              "      <th>Scientist</th>\n",
              "      <th>Computer_operator</th>\n",
              "      <th>Army_officer</th>\n",
              "      <th>Technician</th>\n",
              "      <th>Mechanical_engineer</th>\n",
              "      <th>Chef</th>\n",
              "      <th>Surveyor</th>\n",
              "      <th>Flight_attendant</th>\n",
              "      <th>Industrial_Engineer</th>\n",
              "      <th>Chartered_Accountant</th>\n",
              "      <th>Civil_servant</th>\n",
              "      <th>Technology_specialist</th>\n",
              "      <th>Official</th>\n",
              "      <th>Architect</th>\n",
              "      <th>Dentist</th>\n",
              "      <th>Microbiologist</th>\n",
              "      <th>Lawyer</th>\n",
              "      <th>Technical_writer</th>\n",
              "      <th>Graphic_Designer</th>\n",
              "      <th>Civil_engineer</th>\n",
              "      <th>Hotel_Manager</th>\n",
              "      <th>Aviator</th>\n",
              "      <th>Software_Developer</th>\n",
              "      <th>Politician</th>\n",
              "      <th>Librarian</th>\n",
              "      <th>Engineer</th>\n",
              "      <th>Fashion_Designer</th>\n",
              "      <th>Artist</th>\n",
              "      <th>Computer_hardware_engineer</th>\n",
              "      <th>Statistician</th>\n",
              "      <th>Magistrate</th>\n",
              "      <th>Financial_Analyst</th>\n",
              "      <th>Designer</th>\n",
              "      <th>Petroleum_Engineer</th>\n",
              "      <th>Geologist</th>\n",
              "      <th>Psychologist</th>\n",
              "      <th>Economist</th>\n",
              "      <th>Consultant</th>\n",
              "      <th>Drafter</th>\n",
              "      <th>Web_designer</th>\n",
              "      <th>Police_officer</th>\n",
              "      <th>Comedian</th>\n",
              "      <th>Air_traffic_controller</th>\n",
              "      <th>Physician</th>\n",
              "      <th>Firefighter</th>\n",
              "      <th>Secretary</th>\n",
              "      <th>Analyst</th>\n",
              "      <th>Surgeon</th>\n",
              "      <th>Biomedical_Engineer</th>\n",
              "      <th>Design_Engineer</th>\n",
              "      <th>Chemical_engineer</th>\n",
              "    </tr>\n",
              "  </thead>\n",
              "  <tbody>\n",
              "    <tr>\n",
              "      <th>0</th>\n",
              "      <td>5.688815e+06</td>\n",
              "      <td>4.970570e+06</td>\n",
              "      <td>5.571531e+06</td>\n",
              "      <td>5.190680e+06</td>\n",
              "      <td>1.303835e+06</td>\n",
              "      <td>4.994675e+06</td>\n",
              "      <td>5.303235e+06</td>\n",
              "      <td>4.609739e+06</td>\n",
              "      <td>4.963921e+06</td>\n",
              "      <td>5.211001e+06</td>\n",
              "      <td>4.815896e+06</td>\n",
              "      <td>4.992534e+06</td>\n",
              "      <td>4.623760e+06</td>\n",
              "      <td>5.167268e+06</td>\n",
              "      <td>4.926439e+06</td>\n",
              "      <td>4.962999e+06</td>\n",
              "      <td>5.156056e+06</td>\n",
              "      <td>5.119637e+06</td>\n",
              "      <td>4675128.028</td>\n",
              "      <td>5.056963e+06</td>\n",
              "      <td>4.805578e+06</td>\n",
              "      <td>5.027789e+06</td>\n",
              "      <td>4.577065e+06</td>\n",
              "      <td>4.729681e+06</td>\n",
              "      <td>4.952862e+06</td>\n",
              "      <td>4.700973e+06</td>\n",
              "      <td>5.008554e+06</td>\n",
              "      <td>5.044414e+06</td>\n",
              "      <td>5.275280e+06</td>\n",
              "      <td>4.905456e+06</td>\n",
              "      <td>4.677260e+06</td>\n",
              "      <td>4.956153e+06</td>\n",
              "      <td>5.379038e+06</td>\n",
              "      <td>5383430.5</td>\n",
              "      <td>4.774411e+06</td>\n",
              "      <td>5.349087e+06</td>\n",
              "      <td>4.841927e+06</td>\n",
              "      <td>4.659545e+06</td>\n",
              "      <td>4.322350e+06</td>\n",
              "      <td>5.062199e+06</td>\n",
              "      <td>4.466719e+06</td>\n",
              "      <td>5.173603e+06</td>\n",
              "      <td>4.801514e+06</td>\n",
              "      <td>4.729933e+06</td>\n",
              "      <td>4.992956e+06</td>\n",
              "      <td>5.442130e+06</td>\n",
              "      <td>4.918596e+06</td>\n",
              "      <td>5.181772e+06</td>\n",
              "      <td>5.206573e+06</td>\n",
              "      <td>4.760711e+06</td>\n",
              "      <td>5.571240e+06</td>\n",
              "    </tr>\n",
              "    <tr>\n",
              "      <th>1</th>\n",
              "      <td>5.688815e+06</td>\n",
              "      <td>4.970570e+06</td>\n",
              "      <td>5.571531e+06</td>\n",
              "      <td>5.190680e+06</td>\n",
              "      <td>5.005563e+06</td>\n",
              "      <td>4.994675e+06</td>\n",
              "      <td>5.303235e+06</td>\n",
              "      <td>4.609739e+06</td>\n",
              "      <td>4.963921e+06</td>\n",
              "      <td>5.211001e+06</td>\n",
              "      <td>4.815896e+06</td>\n",
              "      <td>4.992534e+06</td>\n",
              "      <td>4.623760e+06</td>\n",
              "      <td>5.167268e+06</td>\n",
              "      <td>4.926439e+06</td>\n",
              "      <td>4.962999e+06</td>\n",
              "      <td>5.156056e+06</td>\n",
              "      <td>5.119637e+06</td>\n",
              "      <td>4675128.028</td>\n",
              "      <td>5.056963e+06</td>\n",
              "      <td>4.805578e+06</td>\n",
              "      <td>5.027789e+06</td>\n",
              "      <td>7.574516e+06</td>\n",
              "      <td>4.729681e+06</td>\n",
              "      <td>4.952862e+06</td>\n",
              "      <td>4.700973e+06</td>\n",
              "      <td>5.008554e+06</td>\n",
              "      <td>5.044414e+06</td>\n",
              "      <td>5.275280e+06</td>\n",
              "      <td>4.905456e+06</td>\n",
              "      <td>4.677260e+06</td>\n",
              "      <td>4.956153e+06</td>\n",
              "      <td>5.379038e+06</td>\n",
              "      <td>5383430.5</td>\n",
              "      <td>4.774411e+06</td>\n",
              "      <td>5.349087e+06</td>\n",
              "      <td>4.841927e+06</td>\n",
              "      <td>4.659545e+06</td>\n",
              "      <td>4.322350e+06</td>\n",
              "      <td>5.062199e+06</td>\n",
              "      <td>4.466719e+06</td>\n",
              "      <td>5.173603e+06</td>\n",
              "      <td>4.801514e+06</td>\n",
              "      <td>4.729933e+06</td>\n",
              "      <td>4.992956e+06</td>\n",
              "      <td>5.442130e+06</td>\n",
              "      <td>4.918596e+06</td>\n",
              "      <td>5.181772e+06</td>\n",
              "      <td>5.206573e+06</td>\n",
              "      <td>4.760711e+06</td>\n",
              "      <td>5.571240e+06</td>\n",
              "    </tr>\n",
              "    <tr>\n",
              "      <th>2</th>\n",
              "      <td>5.688815e+06</td>\n",
              "      <td>4.970570e+06</td>\n",
              "      <td>5.571531e+06</td>\n",
              "      <td>5.190680e+06</td>\n",
              "      <td>5.005563e+06</td>\n",
              "      <td>4.994675e+06</td>\n",
              "      <td>5.303235e+06</td>\n",
              "      <td>4.609739e+06</td>\n",
              "      <td>4.963921e+06</td>\n",
              "      <td>5.211001e+06</td>\n",
              "      <td>4.815896e+06</td>\n",
              "      <td>4.992534e+06</td>\n",
              "      <td>4.623760e+06</td>\n",
              "      <td>5.167268e+06</td>\n",
              "      <td>4.926439e+06</td>\n",
              "      <td>4.962999e+06</td>\n",
              "      <td>5.156056e+06</td>\n",
              "      <td>3.991815e+06</td>\n",
              "      <td>4675128.028</td>\n",
              "      <td>5.056963e+06</td>\n",
              "      <td>4.805578e+06</td>\n",
              "      <td>5.027789e+06</td>\n",
              "      <td>4.577065e+06</td>\n",
              "      <td>4.729681e+06</td>\n",
              "      <td>4.952862e+06</td>\n",
              "      <td>4.700973e+06</td>\n",
              "      <td>5.008554e+06</td>\n",
              "      <td>5.044414e+06</td>\n",
              "      <td>5.275280e+06</td>\n",
              "      <td>4.905456e+06</td>\n",
              "      <td>4.677260e+06</td>\n",
              "      <td>4.956153e+06</td>\n",
              "      <td>5.379038e+06</td>\n",
              "      <td>5383430.5</td>\n",
              "      <td>4.774411e+06</td>\n",
              "      <td>5.349087e+06</td>\n",
              "      <td>4.841927e+06</td>\n",
              "      <td>4.659545e+06</td>\n",
              "      <td>4.322350e+06</td>\n",
              "      <td>5.062199e+06</td>\n",
              "      <td>4.466719e+06</td>\n",
              "      <td>5.173603e+06</td>\n",
              "      <td>4.801514e+06</td>\n",
              "      <td>4.729933e+06</td>\n",
              "      <td>4.992956e+06</td>\n",
              "      <td>5.442130e+06</td>\n",
              "      <td>4.918596e+06</td>\n",
              "      <td>5.181772e+06</td>\n",
              "      <td>5.206573e+06</td>\n",
              "      <td>4.760711e+06</td>\n",
              "      <td>5.571240e+06</td>\n",
              "    </tr>\n",
              "    <tr>\n",
              "      <th>3</th>\n",
              "      <td>5.688815e+06</td>\n",
              "      <td>4.970570e+06</td>\n",
              "      <td>5.571531e+06</td>\n",
              "      <td>5.190680e+06</td>\n",
              "      <td>5.005563e+06</td>\n",
              "      <td>4.994675e+06</td>\n",
              "      <td>5.303235e+06</td>\n",
              "      <td>4.609739e+06</td>\n",
              "      <td>4.963921e+06</td>\n",
              "      <td>5.211001e+06</td>\n",
              "      <td>4.815896e+06</td>\n",
              "      <td>4.992534e+06</td>\n",
              "      <td>4.623760e+06</td>\n",
              "      <td>5.167268e+06</td>\n",
              "      <td>4.926439e+06</td>\n",
              "      <td>4.962999e+06</td>\n",
              "      <td>5.156056e+06</td>\n",
              "      <td>5.119637e+06</td>\n",
              "      <td>4675128.028</td>\n",
              "      <td>5.056963e+06</td>\n",
              "      <td>4.805578e+06</td>\n",
              "      <td>5.027789e+06</td>\n",
              "      <td>6.256451e+06</td>\n",
              "      <td>4.729681e+06</td>\n",
              "      <td>4.952862e+06</td>\n",
              "      <td>4.700973e+06</td>\n",
              "      <td>5.008554e+06</td>\n",
              "      <td>5.044414e+06</td>\n",
              "      <td>5.275280e+06</td>\n",
              "      <td>4.905456e+06</td>\n",
              "      <td>4.677260e+06</td>\n",
              "      <td>4.956153e+06</td>\n",
              "      <td>5.379038e+06</td>\n",
              "      <td>5383430.5</td>\n",
              "      <td>4.774411e+06</td>\n",
              "      <td>5.349087e+06</td>\n",
              "      <td>4.841927e+06</td>\n",
              "      <td>4.659545e+06</td>\n",
              "      <td>4.322350e+06</td>\n",
              "      <td>5.062199e+06</td>\n",
              "      <td>4.466719e+06</td>\n",
              "      <td>5.173603e+06</td>\n",
              "      <td>4.801514e+06</td>\n",
              "      <td>4.729933e+06</td>\n",
              "      <td>4.992956e+06</td>\n",
              "      <td>5.442130e+06</td>\n",
              "      <td>4.918596e+06</td>\n",
              "      <td>5.181772e+06</td>\n",
              "      <td>5.206573e+06</td>\n",
              "      <td>4.760711e+06</td>\n",
              "      <td>5.571240e+06</td>\n",
              "    </tr>\n",
              "    <tr>\n",
              "      <th>4</th>\n",
              "      <td>5.688815e+06</td>\n",
              "      <td>4.970570e+06</td>\n",
              "      <td>5.571531e+06</td>\n",
              "      <td>5.190680e+06</td>\n",
              "      <td>5.005563e+06</td>\n",
              "      <td>4.994675e+06</td>\n",
              "      <td>5.303235e+06</td>\n",
              "      <td>4.609739e+06</td>\n",
              "      <td>4.963921e+06</td>\n",
              "      <td>5.211001e+06</td>\n",
              "      <td>5.768871e+06</td>\n",
              "      <td>4.992534e+06</td>\n",
              "      <td>4.623760e+06</td>\n",
              "      <td>5.167268e+06</td>\n",
              "      <td>4.926439e+06</td>\n",
              "      <td>4.962999e+06</td>\n",
              "      <td>5.156056e+06</td>\n",
              "      <td>5.119637e+06</td>\n",
              "      <td>4675128.028</td>\n",
              "      <td>5.056963e+06</td>\n",
              "      <td>4.805578e+06</td>\n",
              "      <td>5.027789e+06</td>\n",
              "      <td>4.577065e+06</td>\n",
              "      <td>4.729681e+06</td>\n",
              "      <td>4.952862e+06</td>\n",
              "      <td>4.700973e+06</td>\n",
              "      <td>5.008554e+06</td>\n",
              "      <td>5.044414e+06</td>\n",
              "      <td>5.275280e+06</td>\n",
              "      <td>4.905456e+06</td>\n",
              "      <td>4.677260e+06</td>\n",
              "      <td>4.956153e+06</td>\n",
              "      <td>5.379038e+06</td>\n",
              "      <td>5383430.5</td>\n",
              "      <td>4.774411e+06</td>\n",
              "      <td>5.349087e+06</td>\n",
              "      <td>4.841927e+06</td>\n",
              "      <td>4.659545e+06</td>\n",
              "      <td>4.322350e+06</td>\n",
              "      <td>5.062199e+06</td>\n",
              "      <td>4.466719e+06</td>\n",
              "      <td>5.173603e+06</td>\n",
              "      <td>4.801514e+06</td>\n",
              "      <td>4.729933e+06</td>\n",
              "      <td>4.992956e+06</td>\n",
              "      <td>5.442130e+06</td>\n",
              "      <td>4.918596e+06</td>\n",
              "      <td>5.181772e+06</td>\n",
              "      <td>5.206573e+06</td>\n",
              "      <td>4.760711e+06</td>\n",
              "      <td>5.571240e+06</td>\n",
              "    </tr>\n",
              "  </tbody>\n",
              "</table>\n",
              "</div>"
            ],
            "text/plain": [
              "      Scientist  Computer_operator  ...  Design_Engineer  Chemical_engineer\n",
              "0  5.688815e+06       4.970570e+06  ...     4.760711e+06       5.571240e+06\n",
              "1  5.688815e+06       4.970570e+06  ...     4.760711e+06       5.571240e+06\n",
              "2  5.688815e+06       4.970570e+06  ...     4.760711e+06       5.571240e+06\n",
              "3  5.688815e+06       4.970570e+06  ...     4.760711e+06       5.571240e+06\n",
              "4  5.688815e+06       4.970570e+06  ...     4.760711e+06       5.571240e+06\n",
              "\n",
              "[5 rows x 51 columns]"
            ]
          },
          "metadata": {
            "tags": []
          },
          "execution_count": 17
        }
      ]
    },
    {
      "cell_type": "code",
      "metadata": {
        "colab": {
          "base_uri": "https://localhost:8080/",
          "height": 223
        },
        "id": "ajS0isSNvoTV",
        "outputId": "aecb4768-f3ff-4cb0-b838-2f6c9be72955"
      },
      "source": [
        "plt.figure(figsize=(18,20)) \n",
        "sns.heatmap(jobs_data.corr(),cmap=\"Greens\",square=True,)\n",
        "plt.plot()"
      ],
      "execution_count": 20,
      "outputs": [
        {
          "output_type": "error",
          "ename": "NameError",
          "evalue": "ignored",
          "traceback": [
            "\u001b[0;31m---------------------------------------------------------------------------\u001b[0m",
            "\u001b[0;31mNameError\u001b[0m                                 Traceback (most recent call last)",
            "\u001b[0;32m<ipython-input-20-bca2272ed8d2>\u001b[0m in \u001b[0;36m<module>\u001b[0;34m()\u001b[0m\n\u001b[1;32m      1\u001b[0m \u001b[0mplt\u001b[0m\u001b[0;34m.\u001b[0m\u001b[0mfigure\u001b[0m\u001b[0;34m(\u001b[0m\u001b[0mfigsize\u001b[0m\u001b[0;34m=\u001b[0m\u001b[0;34m(\u001b[0m\u001b[0;36m18\u001b[0m\u001b[0;34m,\u001b[0m\u001b[0;36m20\u001b[0m\u001b[0;34m)\u001b[0m\u001b[0;34m)\u001b[0m\u001b[0;34m\u001b[0m\u001b[0;34m\u001b[0m\u001b[0m\n\u001b[0;32m----> 2\u001b[0;31m \u001b[0msns\u001b[0m\u001b[0;34m.\u001b[0m\u001b[0mheatmap\u001b[0m\u001b[0;34m(\u001b[0m\u001b[0mjobs_data\u001b[0m\u001b[0;34m.\u001b[0m\u001b[0mcorr\u001b[0m\u001b[0;34m(\u001b[0m\u001b[0;34m)\u001b[0m\u001b[0;34m,\u001b[0m\u001b[0mcmap\u001b[0m\u001b[0;34m=\u001b[0m\u001b[0;34m\"Greens\"\u001b[0m\u001b[0;34m,\u001b[0m\u001b[0msquare\u001b[0m\u001b[0;34m=\u001b[0m\u001b[0;32mTrue\u001b[0m\u001b[0;34m,\u001b[0m\u001b[0;34m)\u001b[0m\u001b[0;34m\u001b[0m\u001b[0;34m\u001b[0m\u001b[0m\n\u001b[0m\u001b[1;32m      3\u001b[0m \u001b[0mplt\u001b[0m\u001b[0;34m.\u001b[0m\u001b[0mplot\u001b[0m\u001b[0;34m(\u001b[0m\u001b[0;34m)\u001b[0m\u001b[0;34m\u001b[0m\u001b[0;34m\u001b[0m\u001b[0m\n",
            "\u001b[0;31mNameError\u001b[0m: name 'jobs_data' is not defined"
          ]
        },
        {
          "output_type": "display_data",
          "data": {
            "text/plain": [
              "<Figure size 1296x1440 with 0 Axes>"
            ]
          },
          "metadata": {
            "tags": []
          }
        }
      ]
    },
    {
      "cell_type": "markdown",
      "metadata": {
        "id": "8-qhKgO80AfG"
      },
      "source": [
        "They are not correlated in any ways"
      ]
    },
    {
      "cell_type": "markdown",
      "metadata": {
        "id": "QNsc-WtVsTUQ"
      },
      "source": [
        "### coorrelation and final data preparation"
      ]
    },
    {
      "cell_type": "code",
      "metadata": {
        "id": "ErAAZpqspj4B"
      },
      "source": [
        ""
      ],
      "execution_count": null,
      "outputs": []
    },
    {
      "cell_type": "code",
      "metadata": {
        "colab": {
          "base_uri": "https://localhost:8080/",
          "height": 376
        },
        "id": "JPvJrR44l2xF",
        "outputId": "deafc2dc-f71b-4e01-fea6-631f1c4d6cc2"
      },
      "source": [
        "balanced_data.head(10)"
      ],
      "execution_count": 22,
      "outputs": [
        {
          "output_type": "execute_result",
          "data": {
            "text/html": [
              "<div>\n",
              "<style scoped>\n",
              "    .dataframe tbody tr th:only-of-type {\n",
              "        vertical-align: middle;\n",
              "    }\n",
              "\n",
              "    .dataframe tbody tr th {\n",
              "        vertical-align: top;\n",
              "    }\n",
              "\n",
              "    .dataframe thead th {\n",
              "        text-align: right;\n",
              "    }\n",
              "</style>\n",
              "<table border=\"1\" class=\"dataframe\">\n",
              "  <thead>\n",
              "    <tr style=\"text-align: right;\">\n",
              "      <th></th>\n",
              "      <th>income</th>\n",
              "      <th>age</th>\n",
              "      <th>experience</th>\n",
              "      <th>married</th>\n",
              "      <th>house_ownership</th>\n",
              "      <th>car_ownership</th>\n",
              "      <th>profession</th>\n",
              "      <th>city</th>\n",
              "      <th>state</th>\n",
              "      <th>current_job_years</th>\n",
              "      <th>current_house_years</th>\n",
              "      <th>risk_flag</th>\n",
              "    </tr>\n",
              "  </thead>\n",
              "  <tbody>\n",
              "    <tr>\n",
              "      <th>14091</th>\n",
              "      <td>1916815</td>\n",
              "      <td>53</td>\n",
              "      <td>8</td>\n",
              "      <td>1</td>\n",
              "      <td>2</td>\n",
              "      <td>0</td>\n",
              "      <td>38</td>\n",
              "      <td>Chinsurah</td>\n",
              "      <td>West_Bengal</td>\n",
              "      <td>8</td>\n",
              "      <td>14</td>\n",
              "      <td>0</td>\n",
              "    </tr>\n",
              "    <tr>\n",
              "      <th>245312</th>\n",
              "      <td>8709078</td>\n",
              "      <td>41</td>\n",
              "      <td>3</td>\n",
              "      <td>1</td>\n",
              "      <td>2</td>\n",
              "      <td>1</td>\n",
              "      <td>38</td>\n",
              "      <td>Satara</td>\n",
              "      <td>Maharashtra</td>\n",
              "      <td>3</td>\n",
              "      <td>14</td>\n",
              "      <td>1</td>\n",
              "    </tr>\n",
              "    <tr>\n",
              "      <th>22157</th>\n",
              "      <td>6129612</td>\n",
              "      <td>42</td>\n",
              "      <td>13</td>\n",
              "      <td>1</td>\n",
              "      <td>1</td>\n",
              "      <td>0</td>\n",
              "      <td>34</td>\n",
              "      <td>Amaravati</td>\n",
              "      <td>Andhra_Pradesh</td>\n",
              "      <td>6</td>\n",
              "      <td>12</td>\n",
              "      <td>0</td>\n",
              "    </tr>\n",
              "    <tr>\n",
              "      <th>251795</th>\n",
              "      <td>543631</td>\n",
              "      <td>54</td>\n",
              "      <td>18</td>\n",
              "      <td>1</td>\n",
              "      <td>2</td>\n",
              "      <td>1</td>\n",
              "      <td>36</td>\n",
              "      <td>Shimoga</td>\n",
              "      <td>Karnataka</td>\n",
              "      <td>7</td>\n",
              "      <td>11</td>\n",
              "      <td>1</td>\n",
              "    </tr>\n",
              "    <tr>\n",
              "      <th>69519</th>\n",
              "      <td>8622588</td>\n",
              "      <td>45</td>\n",
              "      <td>18</td>\n",
              "      <td>1</td>\n",
              "      <td>1</td>\n",
              "      <td>0</td>\n",
              "      <td>45</td>\n",
              "      <td>Agartala</td>\n",
              "      <td>Tripura</td>\n",
              "      <td>3</td>\n",
              "      <td>12</td>\n",
              "      <td>1</td>\n",
              "    </tr>\n",
              "    <tr>\n",
              "      <th>77032</th>\n",
              "      <td>6207088</td>\n",
              "      <td>35</td>\n",
              "      <td>16</td>\n",
              "      <td>1</td>\n",
              "      <td>2</td>\n",
              "      <td>0</td>\n",
              "      <td>20</td>\n",
              "      <td>Arrah</td>\n",
              "      <td>Bihar</td>\n",
              "      <td>13</td>\n",
              "      <td>13</td>\n",
              "      <td>1</td>\n",
              "    </tr>\n",
              "    <tr>\n",
              "      <th>208375</th>\n",
              "      <td>5091752</td>\n",
              "      <td>66</td>\n",
              "      <td>2</td>\n",
              "      <td>1</td>\n",
              "      <td>2</td>\n",
              "      <td>0</td>\n",
              "      <td>9</td>\n",
              "      <td>Bhilwara</td>\n",
              "      <td>Rajasthan</td>\n",
              "      <td>2</td>\n",
              "      <td>11</td>\n",
              "      <td>1</td>\n",
              "    </tr>\n",
              "    <tr>\n",
              "      <th>228281</th>\n",
              "      <td>803780</td>\n",
              "      <td>78</td>\n",
              "      <td>14</td>\n",
              "      <td>1</td>\n",
              "      <td>2</td>\n",
              "      <td>1</td>\n",
              "      <td>19</td>\n",
              "      <td>Rajpur_Sonarpur</td>\n",
              "      <td>West_Bengal</td>\n",
              "      <td>9</td>\n",
              "      <td>11</td>\n",
              "      <td>1</td>\n",
              "    </tr>\n",
              "    <tr>\n",
              "      <th>6353</th>\n",
              "      <td>8729941</td>\n",
              "      <td>33</td>\n",
              "      <td>20</td>\n",
              "      <td>1</td>\n",
              "      <td>2</td>\n",
              "      <td>0</td>\n",
              "      <td>47</td>\n",
              "      <td>Satara</td>\n",
              "      <td>Maharashtra</td>\n",
              "      <td>11</td>\n",
              "      <td>11</td>\n",
              "      <td>0</td>\n",
              "    </tr>\n",
              "    <tr>\n",
              "      <th>216793</th>\n",
              "      <td>2791072</td>\n",
              "      <td>61</td>\n",
              "      <td>13</td>\n",
              "      <td>1</td>\n",
              "      <td>2</td>\n",
              "      <td>1</td>\n",
              "      <td>25</td>\n",
              "      <td>Agartala</td>\n",
              "      <td>Tripura</td>\n",
              "      <td>5</td>\n",
              "      <td>10</td>\n",
              "      <td>1</td>\n",
              "    </tr>\n",
              "  </tbody>\n",
              "</table>\n",
              "</div>"
            ],
            "text/plain": [
              "         income  age  ...  current_house_years  risk_flag\n",
              "14091   1916815   53  ...                   14          0\n",
              "245312  8709078   41  ...                   14          1\n",
              "22157   6129612   42  ...                   12          0\n",
              "251795   543631   54  ...                   11          1\n",
              "69519   8622588   45  ...                   12          1\n",
              "77032   6207088   35  ...                   13          1\n",
              "208375  5091752   66  ...                   11          1\n",
              "228281   803780   78  ...                   11          1\n",
              "6353    8729941   33  ...                   11          0\n",
              "216793  2791072   61  ...                   10          1\n",
              "\n",
              "[10 rows x 12 columns]"
            ]
          },
          "metadata": {
            "tags": []
          },
          "execution_count": 22
        }
      ]
    },
    {
      "cell_type": "code",
      "metadata": {
        "id": "NADyXghiTnrD"
      },
      "source": [
        "df_final = balanced_data.drop(labels=['city','state'], axis=1)"
      ],
      "execution_count": 23,
      "outputs": []
    },
    {
      "cell_type": "code",
      "metadata": {
        "colab": {
          "base_uri": "https://localhost:8080/"
        },
        "id": "Z2FZDk_iUG03",
        "outputId": "1ce7bcc0-978f-46bf-b60e-8a04d6aaf802"
      },
      "source": [
        "df_final.info()"
      ],
      "execution_count": 24,
      "outputs": [
        {
          "output_type": "stream",
          "text": [
            "<class 'pandas.core.frame.DataFrame'>\n",
            "Int64Index: 61992 entries, 14091 to 195846\n",
            "Data columns (total 10 columns):\n",
            " #   Column               Non-Null Count  Dtype\n",
            "---  ------               --------------  -----\n",
            " 0   income               61992 non-null  int64\n",
            " 1   age                  61992 non-null  int64\n",
            " 2   experience           61992 non-null  int64\n",
            " 3   married              61992 non-null  int64\n",
            " 4   house_ownership      61992 non-null  int64\n",
            " 5   car_ownership        61992 non-null  int64\n",
            " 6   profession           61992 non-null  int64\n",
            " 7   current_job_years    61992 non-null  int64\n",
            " 8   current_house_years  61992 non-null  int64\n",
            " 9   risk_flag            61992 non-null  int64\n",
            "dtypes: int64(10)\n",
            "memory usage: 7.7 MB\n"
          ],
          "name": "stdout"
        }
      ]
    },
    {
      "cell_type": "code",
      "metadata": {
        "colab": {
          "base_uri": "https://localhost:8080/",
          "height": 202
        },
        "id": "ByLvRV4kUI8Q",
        "outputId": "45a35ad4-5916-4b8c-ddc9-e375ed716d5f"
      },
      "source": [
        "df_final.head()"
      ],
      "execution_count": 25,
      "outputs": [
        {
          "output_type": "execute_result",
          "data": {
            "text/html": [
              "<div>\n",
              "<style scoped>\n",
              "    .dataframe tbody tr th:only-of-type {\n",
              "        vertical-align: middle;\n",
              "    }\n",
              "\n",
              "    .dataframe tbody tr th {\n",
              "        vertical-align: top;\n",
              "    }\n",
              "\n",
              "    .dataframe thead th {\n",
              "        text-align: right;\n",
              "    }\n",
              "</style>\n",
              "<table border=\"1\" class=\"dataframe\">\n",
              "  <thead>\n",
              "    <tr style=\"text-align: right;\">\n",
              "      <th></th>\n",
              "      <th>income</th>\n",
              "      <th>age</th>\n",
              "      <th>experience</th>\n",
              "      <th>married</th>\n",
              "      <th>house_ownership</th>\n",
              "      <th>car_ownership</th>\n",
              "      <th>profession</th>\n",
              "      <th>current_job_years</th>\n",
              "      <th>current_house_years</th>\n",
              "      <th>risk_flag</th>\n",
              "    </tr>\n",
              "  </thead>\n",
              "  <tbody>\n",
              "    <tr>\n",
              "      <th>14091</th>\n",
              "      <td>1916815</td>\n",
              "      <td>53</td>\n",
              "      <td>8</td>\n",
              "      <td>1</td>\n",
              "      <td>2</td>\n",
              "      <td>0</td>\n",
              "      <td>38</td>\n",
              "      <td>8</td>\n",
              "      <td>14</td>\n",
              "      <td>0</td>\n",
              "    </tr>\n",
              "    <tr>\n",
              "      <th>245312</th>\n",
              "      <td>8709078</td>\n",
              "      <td>41</td>\n",
              "      <td>3</td>\n",
              "      <td>1</td>\n",
              "      <td>2</td>\n",
              "      <td>1</td>\n",
              "      <td>38</td>\n",
              "      <td>3</td>\n",
              "      <td>14</td>\n",
              "      <td>1</td>\n",
              "    </tr>\n",
              "    <tr>\n",
              "      <th>22157</th>\n",
              "      <td>6129612</td>\n",
              "      <td>42</td>\n",
              "      <td>13</td>\n",
              "      <td>1</td>\n",
              "      <td>1</td>\n",
              "      <td>0</td>\n",
              "      <td>34</td>\n",
              "      <td>6</td>\n",
              "      <td>12</td>\n",
              "      <td>0</td>\n",
              "    </tr>\n",
              "    <tr>\n",
              "      <th>251795</th>\n",
              "      <td>543631</td>\n",
              "      <td>54</td>\n",
              "      <td>18</td>\n",
              "      <td>1</td>\n",
              "      <td>2</td>\n",
              "      <td>1</td>\n",
              "      <td>36</td>\n",
              "      <td>7</td>\n",
              "      <td>11</td>\n",
              "      <td>1</td>\n",
              "    </tr>\n",
              "    <tr>\n",
              "      <th>69519</th>\n",
              "      <td>8622588</td>\n",
              "      <td>45</td>\n",
              "      <td>18</td>\n",
              "      <td>1</td>\n",
              "      <td>1</td>\n",
              "      <td>0</td>\n",
              "      <td>45</td>\n",
              "      <td>3</td>\n",
              "      <td>12</td>\n",
              "      <td>1</td>\n",
              "    </tr>\n",
              "  </tbody>\n",
              "</table>\n",
              "</div>"
            ],
            "text/plain": [
              "         income  age  ...  current_house_years  risk_flag\n",
              "14091   1916815   53  ...                   14          0\n",
              "245312  8709078   41  ...                   14          1\n",
              "22157   6129612   42  ...                   12          0\n",
              "251795   543631   54  ...                   11          1\n",
              "69519   8622588   45  ...                   12          1\n",
              "\n",
              "[5 rows x 10 columns]"
            ]
          },
          "metadata": {
            "tags": []
          },
          "execution_count": 25
        }
      ]
    },
    {
      "cell_type": "code",
      "metadata": {
        "id": "0kbnjayGuL8j"
      },
      "source": [
        "# np.unique(df_final['profession_0'].values), np.unique(df_final['state_0'].values)"
      ],
      "execution_count": 27,
      "outputs": []
    },
    {
      "cell_type": "code",
      "metadata": {
        "id": "PMbhxbanuWg-"
      },
      "source": [
        "# df_final.drop(['profession_0', 'state_0'], axis=1, inplace=True)"
      ],
      "execution_count": 28,
      "outputs": []
    },
    {
      "cell_type": "code",
      "metadata": {
        "colab": {
          "base_uri": "https://localhost:8080/",
          "height": 599
        },
        "id": "3SYqQMZGChPV",
        "outputId": "5ee489a8-6677-48b0-b7d0-82d579b09a0c"
      },
      "source": [
        "plt.figure(figsize=(12,8)) \n",
        "sns.heatmap(df_final.corr(), annot=True, fmt='.2g', cmap='BuGn')\n",
        "plt.plot()"
      ],
      "execution_count": 26,
      "outputs": [
        {
          "output_type": "execute_result",
          "data": {
            "text/plain": [
              "[]"
            ]
          },
          "metadata": {
            "tags": []
          },
          "execution_count": 26
        },
        {
          "output_type": "display_data",
          "data": {
            "image/png": "[encoded data removed]",
            "text/plain": [
              "<Figure size 864x576 with 2 Axes>"
            ]
          },
          "metadata": {
            "tags": [],
            "needs_background": "light"
          }
        }
      ]
    },
    {
      "cell_type": "code",
      "metadata": {
        "id": "Sx0xrWKdUN6v"
      },
      "source": [
        "scaler = preprocessing.MinMaxScaler()"
      ],
      "execution_count": 27,
      "outputs": []
    },
    {
      "cell_type": "code",
      "metadata": {
        "colab": {
          "base_uri": "https://localhost:8080/"
        },
        "id": "fzVg4WmfVG8V",
        "outputId": "6222ea37-8bc7-4a42-82e8-4f100a7313f6"
      },
      "source": [
        "scaler.fit(df_final)"
      ],
      "execution_count": 28,
      "outputs": [
        {
          "output_type": "execute_result",
          "data": {
            "text/plain": [
              "MinMaxScaler(copy=True, feature_range=(0, 1))"
            ]
          },
          "metadata": {
            "tags": []
          },
          "execution_count": 28
        }
      ]
    },
    {
      "cell_type": "code",
      "metadata": {
        "id": "iGRs8hvYVP77"
      },
      "source": [
        "# scaler.data_max_ , scaler.data_min_"
      ],
      "execution_count": 29,
      "outputs": []
    },
    {
      "cell_type": "code",
      "metadata": {
        "id": "7fD9iJMAVY44",
        "colab": {
          "base_uri": "https://localhost:8080/",
          "height": 416
        },
        "outputId": "ed27e0f1-42fc-4d0b-9281-ef3f5a44d6b4"
      },
      "source": [
        "data2 = pd.DataFrame(scaler.transform(df_final))\n",
        "data2.columns = df_final.columns\n",
        "data2"
      ],
      "execution_count": 30,
      "outputs": [
        {
          "output_type": "execute_result",
          "data": {
            "text/html": [
              "<div>\n",
              "<style scoped>\n",
              "    .dataframe tbody tr th:only-of-type {\n",
              "        vertical-align: middle;\n",
              "    }\n",
              "\n",
              "    .dataframe tbody tr th {\n",
              "        vertical-align: top;\n",
              "    }\n",
              "\n",
              "    .dataframe thead th {\n",
              "        text-align: right;\n",
              "    }\n",
              "</style>\n",
              "<table border=\"1\" class=\"dataframe\">\n",
              "  <thead>\n",
              "    <tr style=\"text-align: right;\">\n",
              "      <th></th>\n",
              "      <th>income</th>\n",
              "      <th>age</th>\n",
              "      <th>experience</th>\n",
              "      <th>married</th>\n",
              "      <th>house_ownership</th>\n",
              "      <th>car_ownership</th>\n",
              "      <th>profession</th>\n",
              "      <th>current_job_years</th>\n",
              "      <th>current_house_years</th>\n",
              "      <th>risk_flag</th>\n",
              "    </tr>\n",
              "  </thead>\n",
              "  <tbody>\n",
              "    <tr>\n",
              "      <th>0</th>\n",
              "      <td>0.190863</td>\n",
              "      <td>0.551724</td>\n",
              "      <td>0.40</td>\n",
              "      <td>1.0</td>\n",
              "      <td>1.0</td>\n",
              "      <td>0.0</td>\n",
              "      <td>0.76</td>\n",
              "      <td>0.571429</td>\n",
              "      <td>1.00</td>\n",
              "      <td>0.0</td>\n",
              "    </tr>\n",
              "    <tr>\n",
              "      <th>1</th>\n",
              "      <td>0.870846</td>\n",
              "      <td>0.344828</td>\n",
              "      <td>0.15</td>\n",
              "      <td>1.0</td>\n",
              "      <td>1.0</td>\n",
              "      <td>1.0</td>\n",
              "      <td>0.76</td>\n",
              "      <td>0.214286</td>\n",
              "      <td>1.00</td>\n",
              "      <td>1.0</td>\n",
              "    </tr>\n",
              "    <tr>\n",
              "      <th>2</th>\n",
              "      <td>0.612612</td>\n",
              "      <td>0.362069</td>\n",
              "      <td>0.65</td>\n",
              "      <td>1.0</td>\n",
              "      <td>0.5</td>\n",
              "      <td>0.0</td>\n",
              "      <td>0.68</td>\n",
              "      <td>0.428571</td>\n",
              "      <td>0.50</td>\n",
              "      <td>0.0</td>\n",
              "    </tr>\n",
              "    <tr>\n",
              "      <th>3</th>\n",
              "      <td>0.053392</td>\n",
              "      <td>0.568966</td>\n",
              "      <td>0.90</td>\n",
              "      <td>1.0</td>\n",
              "      <td>1.0</td>\n",
              "      <td>1.0</td>\n",
              "      <td>0.72</td>\n",
              "      <td>0.500000</td>\n",
              "      <td>0.25</td>\n",
              "      <td>1.0</td>\n",
              "    </tr>\n",
              "    <tr>\n",
              "      <th>4</th>\n",
              "      <td>0.862187</td>\n",
              "      <td>0.413793</td>\n",
              "      <td>0.90</td>\n",
              "      <td>1.0</td>\n",
              "      <td>0.5</td>\n",
              "      <td>0.0</td>\n",
              "      <td>0.90</td>\n",
              "      <td>0.214286</td>\n",
              "      <td>0.50</td>\n",
              "      <td>1.0</td>\n",
              "    </tr>\n",
              "    <tr>\n",
              "      <th>...</th>\n",
              "      <td>...</td>\n",
              "      <td>...</td>\n",
              "      <td>...</td>\n",
              "      <td>...</td>\n",
              "      <td>...</td>\n",
              "      <td>...</td>\n",
              "      <td>...</td>\n",
              "      <td>...</td>\n",
              "      <td>...</td>\n",
              "      <td>...</td>\n",
              "    </tr>\n",
              "    <tr>\n",
              "      <th>61987</th>\n",
              "      <td>0.998469</td>\n",
              "      <td>0.603448</td>\n",
              "      <td>0.65</td>\n",
              "      <td>1.0</td>\n",
              "      <td>0.0</td>\n",
              "      <td>1.0</td>\n",
              "      <td>0.42</td>\n",
              "      <td>0.500000</td>\n",
              "      <td>0.25</td>\n",
              "      <td>1.0</td>\n",
              "    </tr>\n",
              "    <tr>\n",
              "      <th>61988</th>\n",
              "      <td>0.992165</td>\n",
              "      <td>0.896552</td>\n",
              "      <td>0.00</td>\n",
              "      <td>1.0</td>\n",
              "      <td>1.0</td>\n",
              "      <td>0.0</td>\n",
              "      <td>0.16</td>\n",
              "      <td>0.000000</td>\n",
              "      <td>1.00</td>\n",
              "      <td>1.0</td>\n",
              "    </tr>\n",
              "    <tr>\n",
              "      <th>61989</th>\n",
              "      <td>0.172125</td>\n",
              "      <td>0.293103</td>\n",
              "      <td>0.60</td>\n",
              "      <td>1.0</td>\n",
              "      <td>1.0</td>\n",
              "      <td>0.0</td>\n",
              "      <td>0.56</td>\n",
              "      <td>0.857143</td>\n",
              "      <td>0.50</td>\n",
              "      <td>1.0</td>\n",
              "    </tr>\n",
              "    <tr>\n",
              "      <th>61990</th>\n",
              "      <td>0.658516</td>\n",
              "      <td>0.103448</td>\n",
              "      <td>0.35</td>\n",
              "      <td>1.0</td>\n",
              "      <td>1.0</td>\n",
              "      <td>0.0</td>\n",
              "      <td>0.54</td>\n",
              "      <td>0.428571</td>\n",
              "      <td>0.00</td>\n",
              "      <td>0.0</td>\n",
              "    </tr>\n",
              "    <tr>\n",
              "      <th>61991</th>\n",
              "      <td>0.014600</td>\n",
              "      <td>0.827586</td>\n",
              "      <td>0.35</td>\n",
              "      <td>1.0</td>\n",
              "      <td>1.0</td>\n",
              "      <td>1.0</td>\n",
              "      <td>1.00</td>\n",
              "      <td>0.500000</td>\n",
              "      <td>0.75</td>\n",
              "      <td>1.0</td>\n",
              "    </tr>\n",
              "  </tbody>\n",
              "</table>\n",
              "<p>61992 rows × 10 columns</p>\n",
              "</div>"
            ],
            "text/plain": [
              "         income       age  ...  current_house_years  risk_flag\n",
              "0      0.190863  0.551724  ...                 1.00        0.0\n",
              "1      0.870846  0.344828  ...                 1.00        1.0\n",
              "2      0.612612  0.362069  ...                 0.50        0.0\n",
              "3      0.053392  0.568966  ...                 0.25        1.0\n",
              "4      0.862187  0.413793  ...                 0.50        1.0\n",
              "...         ...       ...  ...                  ...        ...\n",
              "61987  0.998469  0.603448  ...                 0.25        1.0\n",
              "61988  0.992165  0.896552  ...                 1.00        1.0\n",
              "61989  0.172125  0.293103  ...                 0.50        1.0\n",
              "61990  0.658516  0.103448  ...                 0.00        0.0\n",
              "61991  0.014600  0.827586  ...                 0.75        1.0\n",
              "\n",
              "[61992 rows x 10 columns]"
            ]
          },
          "metadata": {
            "tags": []
          },
          "execution_count": 30
        }
      ]
    },
    {
      "cell_type": "code",
      "metadata": {
        "id": "5aKcONDVn-U1"
      },
      "source": [
        "train_ratio = 0.8\n",
        "train_m = int(train_ratio * data2.shape[0])\n",
        "\n",
        "Train = data2[:train_m]\n",
        "Test = data2[train_m:]"
      ],
      "execution_count": 31,
      "outputs": []
    },
    {
      "cell_type": "code",
      "metadata": {
        "id": "Zb87xIgSj5Bk",
        "colab": {
          "base_uri": "https://localhost:8080/"
        },
        "outputId": "076eef84-b8d4-4024-be71-3843b2337dac"
      },
      "source": [
        "X_train = Train.iloc[:, :-1]\n",
        "y_train = Train.iloc[:, -1]\n",
        "X_test = Test.iloc[:, :-1]\n",
        "y_test = Test.iloc[:, -1]\n",
        "\n",
        "print(f\"shape of X train is {X_train.shape}\")\n",
        "print(f\"shape of y train is {y_train.shape}\")\n",
        "print(f\"shape of X test is {X_test.shape}\")\n",
        "print(f\"shape of y test is {y_test.shape}\")"
      ],
      "execution_count": 32,
      "outputs": [
        {
          "output_type": "stream",
          "text": [
            "shape of X train is (49593, 9)\n",
            "shape of y train is (49593,)\n",
            "shape of X test is (12399, 9)\n",
            "shape of y test is (12399,)\n"
          ],
          "name": "stdout"
        }
      ]
    },
    {
      "cell_type": "markdown",
      "metadata": {
        "id": "TADa-pfRW0K2"
      },
      "source": [
        "## Using Neural Network to Classify"
      ]
    },
    {
      "cell_type": "code",
      "metadata": {
        "id": "o_UHqKhAWzyE"
      },
      "source": [
        "from tensorflow import keras\n",
        "from keras.models import Sequential\n",
        "from keras.layers import Dense"
      ],
      "execution_count": 33,
      "outputs": []
    },
    {
      "cell_type": "code",
      "metadata": {
        "id": "iYxwyGylRnr9"
      },
      "source": [
        "model = Sequential()\n",
        "\n",
        "model.add(Dense(units = 9, activation = 'relu', input_shape=(X_train.shape[1], )))\n",
        "\n",
        "model.add(Dense(6, activation='relu'))\n",
        "model.add(Dense(4, activation='relu'))\n",
        "\n",
        "model.add(Dense(1, activation='sigmoid'))"
      ],
      "execution_count": 34,
      "outputs": []
    },
    {
      "cell_type": "code",
      "metadata": {
        "id": "4nhU1GCVaiPZ",
        "colab": {
          "base_uri": "https://localhost:8080/"
        },
        "outputId": "bcc9ab6c-61dc-4fe8-9553-c711e8624e56"
      },
      "source": [
        "optimize  = keras.optimizers.SGD(learning_rate=0.0015)\n",
        "model.compile(loss='binary_crossentropy',optimizer=optimize ,metrics=['accuracy'])\n",
        "\n",
        "# my_callbacks = [\n",
        "#     keras.callbacks.EarlyStopping(patience=5),\n",
        "#     keras.callbacks.ModelCheckpoint(filepath='model.{epoch:02d}-{val_loss:.2f}.h5',\n",
        "#                                     save_best_only=True),\n",
        "#     keras.callbacks.TensorBoard(log_dir='./logs'),\n",
        "# ]\n",
        "\n",
        "history = model.fit(X_train, y_train, epochs=20, validation_data=(X_test, y_test), batch_size=5, verbose=1)"
      ],
      "execution_count": 35,
      "outputs": [
        {
          "output_type": "stream",
          "text": [
            "Epoch 1/20\n",
            "9919/9919 [==============================] - 27s 3ms/step - loss: 0.6928 - accuracy: 0.5142 - val_loss: 0.6929 - val_accuracy: 0.5104\n",
            "Epoch 2/20\n",
            "9919/9919 [==============================] - 27s 3ms/step - loss: 0.6920 - accuracy: 0.5232 - val_loss: 0.6924 - val_accuracy: 0.5168\n",
            "Epoch 3/20\n",
            "9919/9919 [==============================] - 26s 3ms/step - loss: 0.6918 - accuracy: 0.5235 - val_loss: 0.6918 - val_accuracy: 0.5249\n",
            "Epoch 4/20\n",
            "9919/9919 [==============================] - 26s 3ms/step - loss: 0.6913 - accuracy: 0.5257 - val_loss: 0.6913 - val_accuracy: 0.5280\n",
            "Epoch 5/20\n",
            "9919/9919 [==============================] - 26s 3ms/step - loss: 0.6903 - accuracy: 0.5361 - val_loss: 0.6913 - val_accuracy: 0.5240\n",
            "Epoch 6/20\n",
            "9919/9919 [==============================] - 26s 3ms/step - loss: 0.6903 - accuracy: 0.5314 - val_loss: 0.6908 - val_accuracy: 0.5334\n",
            "Epoch 7/20\n",
            "9919/9919 [==============================] - 26s 3ms/step - loss: 0.6900 - accuracy: 0.5337 - val_loss: 0.6905 - val_accuracy: 0.5279\n",
            "Epoch 8/20\n",
            "9919/9919 [==============================] - 26s 3ms/step - loss: 0.6893 - accuracy: 0.5369 - val_loss: 0.6903 - val_accuracy: 0.5263\n",
            "Epoch 9/20\n",
            "9919/9919 [==============================] - 26s 3ms/step - loss: 0.6888 - accuracy: 0.5400 - val_loss: 0.6899 - val_accuracy: 0.5260\n",
            "Epoch 10/20\n",
            "9919/9919 [==============================] - 26s 3ms/step - loss: 0.6890 - accuracy: 0.5377 - val_loss: 0.6899 - val_accuracy: 0.5285\n",
            "Epoch 11/20\n",
            "9919/9919 [==============================] - 25s 3ms/step - loss: 0.6890 - accuracy: 0.5366 - val_loss: 0.6889 - val_accuracy: 0.5391\n",
            "Epoch 12/20\n",
            "9919/9919 [==============================] - 26s 3ms/step - loss: 0.6885 - accuracy: 0.5393 - val_loss: 0.6892 - val_accuracy: 0.5357\n",
            "Epoch 13/20\n",
            "9919/9919 [==============================] - 26s 3ms/step - loss: 0.6884 - accuracy: 0.5432 - val_loss: 0.6885 - val_accuracy: 0.5367\n",
            "Epoch 14/20\n",
            "9919/9919 [==============================] - 26s 3ms/step - loss: 0.6874 - accuracy: 0.5460 - val_loss: 0.6888 - val_accuracy: 0.5431\n",
            "Epoch 15/20\n",
            "9919/9919 [==============================] - 26s 3ms/step - loss: 0.6880 - accuracy: 0.5471 - val_loss: 0.6886 - val_accuracy: 0.5363\n",
            "Epoch 16/20\n",
            "9919/9919 [==============================] - 26s 3ms/step - loss: 0.6869 - accuracy: 0.5462 - val_loss: 0.6883 - val_accuracy: 0.5408\n",
            "Epoch 17/20\n",
            "9919/9919 [==============================] - 26s 3ms/step - loss: 0.6878 - accuracy: 0.5447 - val_loss: 0.6882 - val_accuracy: 0.5409\n",
            "Epoch 18/20\n",
            "9919/9919 [==============================] - 26s 3ms/step - loss: 0.6865 - accuracy: 0.5496 - val_loss: 0.6880 - val_accuracy: 0.5427\n",
            "Epoch 19/20\n",
            "9919/9919 [==============================] - 25s 3ms/step - loss: 0.6879 - accuracy: 0.5430 - val_loss: 0.6888 - val_accuracy: 0.5384\n",
            "Epoch 20/20\n",
            "9919/9919 [==============================] - 26s 3ms/step - loss: 0.6872 - accuracy: 0.5451 - val_loss: 0.6885 - val_accuracy: 0.5407\n"
          ],
          "name": "stdout"
        }
      ]
    },
    {
      "cell_type": "code",
      "metadata": {
        "id": "nWoF2xM3ycMe",
        "colab": {
          "base_uri": "https://localhost:8080/",
          "height": 281
        },
        "outputId": "58e88231-9204-499c-85d3-d08f02ee5ae8"
      },
      "source": [
        "# plot loss during training\n",
        "plt.subplot(211)\n",
        "plt.title('Loss')\n",
        "plt.plot(history.history['loss'], label='train')\n",
        "plt.plot(history.history['val_loss'], label='test')\n",
        "plt.legend()\n",
        "# plot accuracy during training\n",
        "plt.subplot(212)\n",
        "plt.title('Accuracy')\n",
        "plt.plot(history.history['accuracy'], label='train')\n",
        "plt.plot(history.history['val_accuracy'], label='test')\n",
        "plt.legend()\n",
        "plt.show()"
      ],
      "execution_count": 36,
      "outputs": [
        {
          "output_type": "display_data",
          "data": {
            "image/png": "[encoded data removed]",
            "text/plain": [
              "<Figure size 432x288 with 2 Axes>"
            ]
          },
          "metadata": {
            "tags": [],
            "needs_background": "light"
          }
        }
      ]
    },
    {
      "cell_type": "code",
      "metadata": {
        "id": "bMWakHS-ycEw",
        "colab": {
          "base_uri": "https://localhost:8080/"
        },
        "outputId": "23f7e52b-c50d-4c57-db93-a22c6519421e"
      },
      "source": [
        "pred_nn = model.predict(X_test, batch_size=1, verbose=1)"
      ],
      "execution_count": 38,
      "outputs": [
        {
          "output_type": "stream",
          "text": [
            "12399/12399 [==============================] - 12s 997us/step\n"
          ],
          "name": "stdout"
        }
      ]
    },
    {
      "cell_type": "code",
      "metadata": {
        "id": "oaTBpr402P-g"
      },
      "source": [
        "rounded = [round(x[0]) for x in pred_nn]"
      ],
      "execution_count": 39,
      "outputs": []
    },
    {
      "cell_type": "code",
      "metadata": {
        "id": "6XL0EHJX2P2D",
        "colab": {
          "base_uri": "https://localhost:8080/"
        },
        "outputId": "9f933041-ab53-441e-9ddb-38e3dffb5607"
      },
      "source": [
        "from sklearn.metrics import classification_report, accuracy_score\n",
        "print(accuracy_score(y_test, rounded))\n",
        "print(classification_report(y_test, rounded))"
      ],
      "execution_count": 40,
      "outputs": [
        {
          "output_type": "stream",
          "text": [
            "0.5406887652230019\n",
            "              precision    recall  f1-score   support\n",
            "\n",
            "         0.0       0.56      0.39      0.46      6239\n",
            "         1.0       0.53      0.69      0.60      6160\n",
            "\n",
            "    accuracy                           0.54     12399\n",
            "   macro avg       0.55      0.54      0.53     12399\n",
            "weighted avg       0.55      0.54      0.53     12399\n",
            "\n"
          ],
          "name": "stdout"
        }
      ]
    },
    {
      "cell_type": "code",
      "metadata": {
        "id": "lULxrZHzOTU5"
      },
      "source": [
        ""
      ],
      "execution_count": 40,
      "outputs": []
    },
    {
      "cell_type": "code",
      "metadata": {
        "colab": {
          "base_uri": "https://localhost:8080/",
          "height": 202
        },
        "id": "eKNA3tRp26oS",
        "outputId": "be856ae3-ceb9-4ad6-f990-55919b5b5809"
      },
      "source": [
        "test_file_url = \"https://raw.githubusercontent.com/sudo0809/Credit-Risk-Prediction/main/Test%20Data.csv\"\n",
        "test_df = pd.read_csv(test_file_url,)\n",
        "test_df.head()"
      ],
      "execution_count": 73,
      "outputs": [
        {
          "output_type": "execute_result",
          "data": {
            "text/html": [
              "<div>\n",
              "<style scoped>\n",
              "    .dataframe tbody tr th:only-of-type {\n",
              "        vertical-align: middle;\n",
              "    }\n",
              "\n",
              "    .dataframe tbody tr th {\n",
              "        vertical-align: top;\n",
              "    }\n",
              "\n",
              "    .dataframe thead th {\n",
              "        text-align: right;\n",
              "    }\n",
              "</style>\n",
              "<table border=\"1\" class=\"dataframe\">\n",
              "  <thead>\n",
              "    <tr style=\"text-align: right;\">\n",
              "      <th></th>\n",
              "      <th>id</th>\n",
              "      <th>income</th>\n",
              "      <th>age</th>\n",
              "      <th>experience</th>\n",
              "      <th>married</th>\n",
              "      <th>house_ownership</th>\n",
              "      <th>car_ownership</th>\n",
              "      <th>profession</th>\n",
              "      <th>city</th>\n",
              "      <th>state</th>\n",
              "      <th>current_job_years</th>\n",
              "      <th>current_house_years</th>\n",
              "    </tr>\n",
              "  </thead>\n",
              "  <tbody>\n",
              "    <tr>\n",
              "      <th>0</th>\n",
              "      <td>1</td>\n",
              "      <td>7393090</td>\n",
              "      <td>59</td>\n",
              "      <td>19</td>\n",
              "      <td>single</td>\n",
              "      <td>rented</td>\n",
              "      <td>no</td>\n",
              "      <td>Geologist</td>\n",
              "      <td>Malda</td>\n",
              "      <td>West Bengal</td>\n",
              "      <td>4</td>\n",
              "      <td>13</td>\n",
              "    </tr>\n",
              "    <tr>\n",
              "      <th>1</th>\n",
              "      <td>2</td>\n",
              "      <td>1215004</td>\n",
              "      <td>25</td>\n",
              "      <td>5</td>\n",
              "      <td>single</td>\n",
              "      <td>rented</td>\n",
              "      <td>no</td>\n",
              "      <td>Firefighter</td>\n",
              "      <td>Jalna</td>\n",
              "      <td>Maharashtra</td>\n",
              "      <td>5</td>\n",
              "      <td>10</td>\n",
              "    </tr>\n",
              "    <tr>\n",
              "      <th>2</th>\n",
              "      <td>3</td>\n",
              "      <td>8901342</td>\n",
              "      <td>50</td>\n",
              "      <td>12</td>\n",
              "      <td>single</td>\n",
              "      <td>rented</td>\n",
              "      <td>no</td>\n",
              "      <td>Lawyer</td>\n",
              "      <td>Thane</td>\n",
              "      <td>Maharashtra</td>\n",
              "      <td>9</td>\n",
              "      <td>14</td>\n",
              "    </tr>\n",
              "    <tr>\n",
              "      <th>3</th>\n",
              "      <td>4</td>\n",
              "      <td>1944421</td>\n",
              "      <td>49</td>\n",
              "      <td>9</td>\n",
              "      <td>married</td>\n",
              "      <td>rented</td>\n",
              "      <td>yes</td>\n",
              "      <td>Analyst</td>\n",
              "      <td>Latur</td>\n",
              "      <td>Maharashtra</td>\n",
              "      <td>3</td>\n",
              "      <td>12</td>\n",
              "    </tr>\n",
              "    <tr>\n",
              "      <th>4</th>\n",
              "      <td>5</td>\n",
              "      <td>13429</td>\n",
              "      <td>25</td>\n",
              "      <td>18</td>\n",
              "      <td>single</td>\n",
              "      <td>rented</td>\n",
              "      <td>yes</td>\n",
              "      <td>Comedian</td>\n",
              "      <td>Berhampore</td>\n",
              "      <td>West Bengal</td>\n",
              "      <td>13</td>\n",
              "      <td>11</td>\n",
              "    </tr>\n",
              "  </tbody>\n",
              "</table>\n",
              "</div>"
            ],
            "text/plain": [
              "   id   income  age  ...        state current_job_years current_house_years\n",
              "0   1  7393090   59  ...  West Bengal                 4                  13\n",
              "1   2  1215004   25  ...  Maharashtra                 5                  10\n",
              "2   3  8901342   50  ...  Maharashtra                 9                  14\n",
              "3   4  1944421   49  ...  Maharashtra                 3                  12\n",
              "4   5    13429   25  ...  West Bengal                13                  11\n",
              "\n",
              "[5 rows x 12 columns]"
            ]
          },
          "metadata": {
            "tags": []
          },
          "execution_count": 73
        }
      ]
    },
    {
      "cell_type": "code",
      "metadata": {
        "id": "zrvXOMET33fb"
      },
      "source": [
        "test_data = test_df.drop(['id', 'city', 'state'], axis=1)"
      ],
      "execution_count": 74,
      "outputs": []
    },
    {
      "cell_type": "code",
      "metadata": {
        "colab": {
          "base_uri": "https://localhost:8080/",
          "height": 202
        },
        "id": "LFOd5Av34b0g",
        "outputId": "56f23805-4321-4811-9165-2004f56b951f"
      },
      "source": [
        "test_data.head()"
      ],
      "execution_count": 75,
      "outputs": [
        {
          "output_type": "execute_result",
          "data": {
            "text/html": [
              "<div>\n",
              "<style scoped>\n",
              "    .dataframe tbody tr th:only-of-type {\n",
              "        vertical-align: middle;\n",
              "    }\n",
              "\n",
              "    .dataframe tbody tr th {\n",
              "        vertical-align: top;\n",
              "    }\n",
              "\n",
              "    .dataframe thead th {\n",
              "        text-align: right;\n",
              "    }\n",
              "</style>\n",
              "<table border=\"1\" class=\"dataframe\">\n",
              "  <thead>\n",
              "    <tr style=\"text-align: right;\">\n",
              "      <th></th>\n",
              "      <th>income</th>\n",
              "      <th>age</th>\n",
              "      <th>experience</th>\n",
              "      <th>married</th>\n",
              "      <th>house_ownership</th>\n",
              "      <th>car_ownership</th>\n",
              "      <th>profession</th>\n",
              "      <th>current_job_years</th>\n",
              "      <th>current_house_years</th>\n",
              "    </tr>\n",
              "  </thead>\n",
              "  <tbody>\n",
              "    <tr>\n",
              "      <th>0</th>\n",
              "      <td>7393090</td>\n",
              "      <td>59</td>\n",
              "      <td>19</td>\n",
              "      <td>single</td>\n",
              "      <td>rented</td>\n",
              "      <td>no</td>\n",
              "      <td>Geologist</td>\n",
              "      <td>4</td>\n",
              "      <td>13</td>\n",
              "    </tr>\n",
              "    <tr>\n",
              "      <th>1</th>\n",
              "      <td>1215004</td>\n",
              "      <td>25</td>\n",
              "      <td>5</td>\n",
              "      <td>single</td>\n",
              "      <td>rented</td>\n",
              "      <td>no</td>\n",
              "      <td>Firefighter</td>\n",
              "      <td>5</td>\n",
              "      <td>10</td>\n",
              "    </tr>\n",
              "    <tr>\n",
              "      <th>2</th>\n",
              "      <td>8901342</td>\n",
              "      <td>50</td>\n",
              "      <td>12</td>\n",
              "      <td>single</td>\n",
              "      <td>rented</td>\n",
              "      <td>no</td>\n",
              "      <td>Lawyer</td>\n",
              "      <td>9</td>\n",
              "      <td>14</td>\n",
              "    </tr>\n",
              "    <tr>\n",
              "      <th>3</th>\n",
              "      <td>1944421</td>\n",
              "      <td>49</td>\n",
              "      <td>9</td>\n",
              "      <td>married</td>\n",
              "      <td>rented</td>\n",
              "      <td>yes</td>\n",
              "      <td>Analyst</td>\n",
              "      <td>3</td>\n",
              "      <td>12</td>\n",
              "    </tr>\n",
              "    <tr>\n",
              "      <th>4</th>\n",
              "      <td>13429</td>\n",
              "      <td>25</td>\n",
              "      <td>18</td>\n",
              "      <td>single</td>\n",
              "      <td>rented</td>\n",
              "      <td>yes</td>\n",
              "      <td>Comedian</td>\n",
              "      <td>13</td>\n",
              "      <td>11</td>\n",
              "    </tr>\n",
              "  </tbody>\n",
              "</table>\n",
              "</div>"
            ],
            "text/plain": [
              "    income  age  ...  current_job_years current_house_years\n",
              "0  7393090   59  ...                  4                  13\n",
              "1  1215004   25  ...                  5                  10\n",
              "2  8901342   50  ...                  9                  14\n",
              "3  1944421   49  ...                  3                  12\n",
              "4    13429   25  ...                 13                  11\n",
              "\n",
              "[5 rows x 9 columns]"
            ]
          },
          "metadata": {
            "tags": []
          },
          "execution_count": 75
        }
      ]
    },
    {
      "cell_type": "code",
      "metadata": {
        "colab": {
          "base_uri": "https://localhost:8080/"
        },
        "id": "BQNPizz-42-0",
        "outputId": "4df0fc42-f5b0-4d67-b5c0-b54b64c4b56e"
      },
      "source": [
        "test_data.profession.unique(), data.profession.unique()"
      ],
      "execution_count": 76,
      "outputs": [
        {
          "output_type": "execute_result",
          "data": {
            "text/plain": [
              "(array(['Geologist', 'Firefighter', 'Lawyer', 'Analyst', 'Comedian',\n",
              "        'Economist', 'Artist', 'Flight attendant', 'Secretary', 'Engineer',\n",
              "        'Technician', 'Physician', 'Politician', 'Psychologist',\n",
              "        'Scientist', 'Petroleum Engineer', 'Chartered Accountant',\n",
              "        'Web designer', 'Financial Analyst', 'Software Developer',\n",
              "        'Official', 'Statistician', 'Drafter', 'Architect',\n",
              "        'Microbiologist', 'Graphic Designer', 'Designer', 'Army officer',\n",
              "        'Civil servant', 'Chemical engineer', 'Consultant',\n",
              "        'Air traffic controller', 'Civil engineer', 'Industrial Engineer',\n",
              "        'Chef', 'Hotel Manager', 'Surveyor', 'Magistrate',\n",
              "        'Mechanical engineer', 'Computer operator', 'Technical writer',\n",
              "        'Technology specialist', 'Librarian', 'Surgeon',\n",
              "        'Biomedical Engineer', 'Design Engineer', 'Aviator',\n",
              "        'Computer hardware engineer', 'Fashion Designer', 'Dentist',\n",
              "        'Police officer'], dtype=object),\n",
              " array(['Mechanical_engineer', 'Software_Developer', 'Technical_writer',\n",
              "        'Civil_servant', 'Librarian', 'Economist', 'Flight_attendant',\n",
              "        'Architect', 'Designer', 'Physician', 'Financial_Analyst',\n",
              "        'Air_traffic_controller', 'Politician', 'Police_officer', 'Artist',\n",
              "        'Surveyor', 'Design_Engineer', 'Chemical_engineer',\n",
              "        'Hotel_Manager', 'Dentist', 'Comedian', 'Biomedical_Engineer',\n",
              "        'Graphic_Designer', 'Computer_hardware_engineer',\n",
              "        'Petroleum_Engineer', 'Secretary', 'Computer_operator',\n",
              "        'Chartered_Accountant', 'Technician', 'Microbiologist',\n",
              "        'Fashion_Designer', 'Aviator', 'Psychologist', 'Magistrate',\n",
              "        'Lawyer', 'Firefighter', 'Engineer', 'Official', 'Analyst',\n",
              "        'Geologist', 'Drafter', 'Statistician', 'Web_designer',\n",
              "        'Consultant', 'Chef', 'Army_officer', 'Surgeon', 'Scientist',\n",
              "        'Civil_engineer', 'Industrial_Engineer', 'Technology_specialist'],\n",
              "       dtype=object))"
            ]
          },
          "metadata": {
            "tags": []
          },
          "execution_count": 76
        }
      ]
    },
    {
      "cell_type": "code",
      "metadata": {
        "id": "u-nme0z729zU"
      },
      "source": [
        "# test_data.profession.loc[test_data.profession == 'Flight attendant'] = 'Flight_attendant'\n",
        "# test_data.profession.loc[test_data.profession == 'Petroleum Engineer'] = 'Petroleum_Engineer'\n",
        "# test_data.profession.loc[test_data.profession == 'Petroleum Engineer'] = 'Petroleum_Engineer'\n",
        "\n",
        "test_data.profession.replace({'Petroleum Engineer':'Petroleum_Engineer', 'Chartered Accountant':'Chartered_Accountant','Flight attendant':'Flight_attendant',\n",
        "                              'Web designer':'Web_designer', 'Financial Analyst':'Financial_Analyst','Software Developer':'Software_Developer',\n",
        "                              'Graphic Designer':'Graphic_Designer','Army officer':'Army_officer', 'Civil servant':'Civil_servant',\n",
        "                              'Chemical engineer':'Chemical_engineer','Air traffic controller':'Air_traffic_controller',\n",
        "                              'Civil engineer':'Civil_engineer', 'Industrial Engineer':'Industrial_Engineer','Hotel Manager':'Hotel_Manager',\n",
        "                              'Mechanical engineer':'Mechanical_engineer', 'Computer operator':'Computer_operator', 'Technical writer':'Technical_writer',\n",
        "                              'Technology specialist':'Technology_specialist','Biomedical Engineer':'Biomedical_Engineer', 'Design Engineer':'Design_Engineer',\n",
        "                              'Computer hardware engineer':'Computer_hardware_engineer', 'Fashion Designer':'Fashion_Designer', 'Police officer':'Police_officer'},\n",
        "                             inplace=True)"
      ],
      "execution_count": 77,
      "outputs": []
    },
    {
      "cell_type": "code",
      "metadata": {
        "colab": {
          "base_uri": "https://localhost:8080/",
          "height": 202
        },
        "id": "vNKMMXud4gO4",
        "outputId": "c4b937f4-3a8d-4f74-8576-9480f9866c08"
      },
      "source": [
        "test_data['married'] = married_le.transform(test_data['married'])\n",
        "test_data['house_ownership'] = house_le.transform(test_data['house_ownership'])\n",
        "test_data['car_ownership'] = car_le.transform(test_data['car_ownership'])\n",
        "# test_data = hash_enc.fit_transform(test_data)\n",
        "test_data['profession'] = profession_le.transform(test_data['profession'])\n",
        "test_data.head()"
      ],
      "execution_count": 78,
      "outputs": [
        {
          "output_type": "execute_result",
          "data": {
            "text/html": [
              "<div>\n",
              "<style scoped>\n",
              "    .dataframe tbody tr th:only-of-type {\n",
              "        vertical-align: middle;\n",
              "    }\n",
              "\n",
              "    .dataframe tbody tr th {\n",
              "        vertical-align: top;\n",
              "    }\n",
              "\n",
              "    .dataframe thead th {\n",
              "        text-align: right;\n",
              "    }\n",
              "</style>\n",
              "<table border=\"1\" class=\"dataframe\">\n",
              "  <thead>\n",
              "    <tr style=\"text-align: right;\">\n",
              "      <th></th>\n",
              "      <th>income</th>\n",
              "      <th>age</th>\n",
              "      <th>experience</th>\n",
              "      <th>married</th>\n",
              "      <th>house_ownership</th>\n",
              "      <th>car_ownership</th>\n",
              "      <th>profession</th>\n",
              "      <th>current_job_years</th>\n",
              "      <th>current_house_years</th>\n",
              "    </tr>\n",
              "  </thead>\n",
              "  <tbody>\n",
              "    <tr>\n",
              "      <th>0</th>\n",
              "      <td>7393090</td>\n",
              "      <td>59</td>\n",
              "      <td>19</td>\n",
              "      <td>1</td>\n",
              "      <td>2</td>\n",
              "      <td>0</td>\n",
              "      <td>26</td>\n",
              "      <td>4</td>\n",
              "      <td>13</td>\n",
              "    </tr>\n",
              "    <tr>\n",
              "      <th>1</th>\n",
              "      <td>1215004</td>\n",
              "      <td>25</td>\n",
              "      <td>5</td>\n",
              "      <td>1</td>\n",
              "      <td>2</td>\n",
              "      <td>0</td>\n",
              "      <td>24</td>\n",
              "      <td>5</td>\n",
              "      <td>10</td>\n",
              "    </tr>\n",
              "    <tr>\n",
              "      <th>2</th>\n",
              "      <td>8901342</td>\n",
              "      <td>50</td>\n",
              "      <td>12</td>\n",
              "      <td>1</td>\n",
              "      <td>2</td>\n",
              "      <td>0</td>\n",
              "      <td>30</td>\n",
              "      <td>9</td>\n",
              "      <td>14</td>\n",
              "    </tr>\n",
              "    <tr>\n",
              "      <th>3</th>\n",
              "      <td>1944421</td>\n",
              "      <td>49</td>\n",
              "      <td>9</td>\n",
              "      <td>0</td>\n",
              "      <td>2</td>\n",
              "      <td>1</td>\n",
              "      <td>1</td>\n",
              "      <td>3</td>\n",
              "      <td>12</td>\n",
              "    </tr>\n",
              "    <tr>\n",
              "      <th>4</th>\n",
              "      <td>13429</td>\n",
              "      <td>25</td>\n",
              "      <td>18</td>\n",
              "      <td>1</td>\n",
              "      <td>2</td>\n",
              "      <td>1</td>\n",
              "      <td>12</td>\n",
              "      <td>13</td>\n",
              "      <td>11</td>\n",
              "    </tr>\n",
              "  </tbody>\n",
              "</table>\n",
              "</div>"
            ],
            "text/plain": [
              "    income  age  experience  ...  profession  current_job_years  current_house_years\n",
              "0  7393090   59          19  ...          26                  4                   13\n",
              "1  1215004   25           5  ...          24                  5                   10\n",
              "2  8901342   50          12  ...          30                  9                   14\n",
              "3  1944421   49           9  ...           1                  3                   12\n",
              "4    13429   25          18  ...          12                 13                   11\n",
              "\n",
              "[5 rows x 9 columns]"
            ]
          },
          "metadata": {
            "tags": []
          },
          "execution_count": 78
        }
      ]
    },
    {
      "cell_type": "code",
      "metadata": {
        "id": "Vccqgcb25gsm"
      },
      "source": [
        "test_X = pd.DataFrame(scaler.fit_transform(test_data))"
      ],
      "execution_count": 79,
      "outputs": []
    },
    {
      "cell_type": "code",
      "metadata": {
        "colab": {
          "base_uri": "https://localhost:8080/",
          "height": 220
        },
        "id": "RKHxHVx26Rd4",
        "outputId": "07f1120c-e978-473c-a0ec-c2bf9a4f6bed"
      },
      "source": [
        "display(test_X.head())\n",
        "test_X.shape"
      ],
      "execution_count": 80,
      "outputs": [
        {
          "output_type": "display_data",
          "data": {
            "text/html": [
              "<div>\n",
              "<style scoped>\n",
              "    .dataframe tbody tr th:only-of-type {\n",
              "        vertical-align: middle;\n",
              "    }\n",
              "\n",
              "    .dataframe tbody tr th {\n",
              "        vertical-align: top;\n",
              "    }\n",
              "\n",
              "    .dataframe thead th {\n",
              "        text-align: right;\n",
              "    }\n",
              "</style>\n",
              "<table border=\"1\" class=\"dataframe\">\n",
              "  <thead>\n",
              "    <tr style=\"text-align: right;\">\n",
              "      <th></th>\n",
              "      <th>0</th>\n",
              "      <th>1</th>\n",
              "      <th>2</th>\n",
              "      <th>3</th>\n",
              "      <th>4</th>\n",
              "      <th>5</th>\n",
              "      <th>6</th>\n",
              "      <th>7</th>\n",
              "      <th>8</th>\n",
              "    </tr>\n",
              "  </thead>\n",
              "  <tbody>\n",
              "    <tr>\n",
              "      <th>0</th>\n",
              "      <td>0.739054</td>\n",
              "      <td>0.655172</td>\n",
              "      <td>0.95</td>\n",
              "      <td>1.0</td>\n",
              "      <td>1.0</td>\n",
              "      <td>0.0</td>\n",
              "      <td>0.52</td>\n",
              "      <td>0.285714</td>\n",
              "      <td>0.75</td>\n",
              "    </tr>\n",
              "    <tr>\n",
              "      <th>1</th>\n",
              "      <td>0.120596</td>\n",
              "      <td>0.068966</td>\n",
              "      <td>0.25</td>\n",
              "      <td>1.0</td>\n",
              "      <td>1.0</td>\n",
              "      <td>0.0</td>\n",
              "      <td>0.48</td>\n",
              "      <td>0.357143</td>\n",
              "      <td>0.00</td>\n",
              "    </tr>\n",
              "    <tr>\n",
              "      <th>2</th>\n",
              "      <td>0.890037</td>\n",
              "      <td>0.500000</td>\n",
              "      <td>0.60</td>\n",
              "      <td>1.0</td>\n",
              "      <td>1.0</td>\n",
              "      <td>0.0</td>\n",
              "      <td>0.60</td>\n",
              "      <td>0.642857</td>\n",
              "      <td>1.00</td>\n",
              "    </tr>\n",
              "    <tr>\n",
              "      <th>3</th>\n",
              "      <td>0.193614</td>\n",
              "      <td>0.482759</td>\n",
              "      <td>0.45</td>\n",
              "      <td>0.0</td>\n",
              "      <td>1.0</td>\n",
              "      <td>1.0</td>\n",
              "      <td>0.02</td>\n",
              "      <td>0.214286</td>\n",
              "      <td>0.50</td>\n",
              "    </tr>\n",
              "    <tr>\n",
              "      <th>4</th>\n",
              "      <td>0.000312</td>\n",
              "      <td>0.068966</td>\n",
              "      <td>0.90</td>\n",
              "      <td>1.0</td>\n",
              "      <td>1.0</td>\n",
              "      <td>1.0</td>\n",
              "      <td>0.24</td>\n",
              "      <td>0.928571</td>\n",
              "      <td>0.25</td>\n",
              "    </tr>\n",
              "  </tbody>\n",
              "</table>\n",
              "</div>"
            ],
            "text/plain": [
              "          0         1     2    3    4    5     6         7     8\n",
              "0  0.739054  0.655172  0.95  1.0  1.0  0.0  0.52  0.285714  0.75\n",
              "1  0.120596  0.068966  0.25  1.0  1.0  0.0  0.48  0.357143  0.00\n",
              "2  0.890037  0.500000  0.60  1.0  1.0  0.0  0.60  0.642857  1.00\n",
              "3  0.193614  0.482759  0.45  0.0  1.0  1.0  0.02  0.214286  0.50\n",
              "4  0.000312  0.068966  0.90  1.0  1.0  1.0  0.24  0.928571  0.25"
            ]
          },
          "metadata": {
            "tags": []
          }
        },
        {
          "output_type": "execute_result",
          "data": {
            "text/plain": [
              "(28000, 9)"
            ]
          },
          "metadata": {
            "tags": []
          },
          "execution_count": 80
        }
      ]
    },
    {
      "cell_type": "markdown",
      "metadata": {
        "id": "1H7d6H6Q2xnY"
      },
      "source": [
        "### Predict using Neural Network Model"
      ]
    },
    {
      "cell_type": "code",
      "metadata": {
        "id": "ADE5fCRc_10D"
      },
      "source": [
        "TrainX = data2.iloc[:, :-1]\n",
        "TrainY = data2.iloc[:, -1]"
      ],
      "execution_count": 86,
      "outputs": []
    },
    {
      "cell_type": "code",
      "metadata": {
        "colab": {
          "base_uri": "https://localhost:8080/"
        },
        "id": "_Gwu7yKf-6yY",
        "outputId": "37e1ed0d-3aad-475d-b4bb-61145c7d1081"
      },
      "source": [
        "optimize  = keras.optimizers.SGD(learning_rate=0.0015)\n",
        "model.compile(loss='binary_crossentropy',optimizer=optimize ,metrics=['accuracy'])\n",
        "\n",
        "# my_callbacks = [\n",
        "#     keras.callbacks.EarlyStopping(patience=5),\n",
        "#     keras.callbacks.ModelCheckpoint(filepath='model.{epoch:02d}-{val_loss:.2f}.h5',\n",
        "#                                     save_best_only=True),\n",
        "#     keras.callbacks.TensorBoard(log_dir='./logs'),\n",
        "# ]\n",
        "\n",
        "history_full = model.fit(TrainX, TrainY, epochs=20, batch_size=5, verbose=1)"
      ],
      "execution_count": 87,
      "outputs": [
        {
          "output_type": "stream",
          "text": [
            "Epoch 1/20\n",
            "12399/12399 [==============================] - 27s 2ms/step - loss: 0.6868 - accuracy: 0.5481\n",
            "Epoch 2/20\n",
            "12399/12399 [==============================] - 27s 2ms/step - loss: 0.6873 - accuracy: 0.5475\n",
            "Epoch 3/20\n",
            "12399/12399 [==============================] - 27s 2ms/step - loss: 0.6872 - accuracy: 0.5474\n",
            "Epoch 4/20\n",
            "12399/12399 [==============================] - 27s 2ms/step - loss: 0.6876 - accuracy: 0.5431\n",
            "Epoch 5/20\n",
            "12399/12399 [==============================] - 27s 2ms/step - loss: 0.6869 - accuracy: 0.5485\n",
            "Epoch 6/20\n",
            "12399/12399 [==============================] - 27s 2ms/step - loss: 0.6867 - accuracy: 0.5487\n",
            "Epoch 7/20\n",
            "12399/12399 [==============================] - 27s 2ms/step - loss: 0.6873 - accuracy: 0.5442\n",
            "Epoch 8/20\n",
            "12399/12399 [==============================] - 27s 2ms/step - loss: 0.6871 - accuracy: 0.5442\n",
            "Epoch 9/20\n",
            "12399/12399 [==============================] - 27s 2ms/step - loss: 0.6873 - accuracy: 0.5450\n",
            "Epoch 10/20\n",
            "12399/12399 [==============================] - 28s 2ms/step - loss: 0.6869 - accuracy: 0.5452\n",
            "Epoch 11/20\n",
            "12399/12399 [==============================] - 27s 2ms/step - loss: 0.6868 - accuracy: 0.5437\n",
            "Epoch 12/20\n",
            "12399/12399 [==============================] - 27s 2ms/step - loss: 0.6863 - accuracy: 0.5494\n",
            "Epoch 13/20\n",
            "12399/12399 [==============================] - 27s 2ms/step - loss: 0.6864 - accuracy: 0.5461\n",
            "Epoch 14/20\n",
            "12399/12399 [==============================] - 27s 2ms/step - loss: 0.6870 - accuracy: 0.5431\n",
            "Epoch 15/20\n",
            "12399/12399 [==============================] - 27s 2ms/step - loss: 0.6873 - accuracy: 0.5421\n",
            "Epoch 16/20\n",
            "12399/12399 [==============================] - 28s 2ms/step - loss: 0.6871 - accuracy: 0.5418\n",
            "Epoch 17/20\n",
            "12399/12399 [==============================] - 28s 2ms/step - loss: 0.6865 - accuracy: 0.5442\n",
            "Epoch 18/20\n",
            "12399/12399 [==============================] - 27s 2ms/step - loss: 0.6856 - accuracy: 0.5475\n",
            "Epoch 19/20\n",
            "12399/12399 [==============================] - 27s 2ms/step - loss: 0.6861 - accuracy: 0.5471\n",
            "Epoch 20/20\n",
            "12399/12399 [==============================] - 27s 2ms/step - loss: 0.6865 - accuracy: 0.5435\n"
          ],
          "name": "stdout"
        }
      ]
    },
    {
      "cell_type": "code",
      "metadata": {
        "colab": {
          "base_uri": "https://localhost:8080/"
        },
        "id": "bU9WCy06E6cq",
        "outputId": "339b51d6-9fdc-4360-cb34-5f4bee443361"
      },
      "source": [
        "pred_y_nn = model.predict(test_X)\n",
        "\n",
        "rounded = [round(x[0]) for x in pred_y_nn]\n",
        "\n",
        "np.unique(rounded, return_counts=True)"
      ],
      "execution_count": 88,
      "outputs": [
        {
          "output_type": "execute_result",
          "data": {
            "text/plain": [
              "(array([0, 1]), array([13183, 14817]))"
            ]
          },
          "metadata": {
            "tags": []
          },
          "execution_count": 88
        }
      ]
    },
    {
      "cell_type": "code",
      "metadata": {
        "id": "0BZcgS8GuMD4"
      },
      "source": [
        "submission = pd.DataFrame({\n",
        "        \"id\": test_df['id'],\n",
        "        \"risk_flag\": rounded,\n",
        "    })\n",
        "submission.to_csv('submission_nn2.csv', index=False)"
      ],
      "execution_count": 90,
      "outputs": []
    },
    {
      "cell_type": "code",
      "metadata": {
        "id": "kgI26t-IuZ2u"
      },
      "source": [
        ""
      ],
      "execution_count": null,
      "outputs": []
    }
  ]
}