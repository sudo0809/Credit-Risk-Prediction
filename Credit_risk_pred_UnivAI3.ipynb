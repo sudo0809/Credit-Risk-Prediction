{
  "nbformat": 4,
  "nbformat_minor": 0,
  "metadata": {
    "accelerator": "GPU",
    "colab": {
      "name": "Credit_risk_pred_UnivAI3.ipynb",
      "provenance": [],
      "toc_visible": true,
      "authorship_tag": "ABX9TyOIYXY2qziSS9FmFG0JF82T",
      "include_colab_link": true
    },
    "kernelspec": {
      "display_name": "Python 3",
      "name": "python3"
    },
    "language_info": {
      "name": "python"
    }
  },
  "cells": [
    {
      "cell_type": "markdown",
      "metadata": {
        "id": "view-in-github",
        "colab_type": "text"
      },
      "source": [
        "<a href=\"https://colab.research.google.com/github/sudo0809/Credit-Risk-Prediction/blob/main/Credit_risk_pred_UnivAI3.ipynb\" target=\"_parent\"><img src=\"https://colab.research.google.com/assets/colab-badge.svg\" alt=\"Open In Colab\"/></a>"
      ]
    },
    {
      "cell_type": "code",
      "metadata": {
        "colab": {
          "base_uri": "https://localhost:8080/"
        },
        "id": "wsg-wi4vBDpa",
        "outputId": "e5e7a796-99e4-40b3-a575-6a2c0e6a8f7d"
      },
      "source": [
        "pip install category_encoders"
      ],
      "execution_count": 2,
      "outputs": [
        {
          "output_type": "stream",
          "text": [
            "Collecting category_encoders\n",
            "\u001b[?25l  Downloading https://files.pythonhosted.org/packages/44/57/fcef41c248701ee62e8325026b90c432adea35555cbc870aff9cfba23727/category_encoders-2.2.2-py2.py3-none-any.whl (80kB)\n",
            "\r\u001b[K     |████                            | 10kB 11.7MB/s eta 0:00:01\r\u001b[K     |████████▏                       | 20kB 14.9MB/s eta 0:00:01\r\u001b[K     |████████████▏                   | 30kB 7.8MB/s eta 0:00:01\r\u001b[K     |████████████████▎               | 40kB 6.7MB/s eta 0:00:01\r\u001b[K     |████████████████████▎           | 51kB 4.4MB/s eta 0:00:01\r\u001b[K     |████████████████████████▍       | 61kB 4.8MB/s eta 0:00:01\r\u001b[K     |████████████████████████████▍   | 71kB 5.1MB/s eta 0:00:01\r\u001b[K     |████████████████████████████████| 81kB 3.2MB/s \n",
            "\u001b[?25hRequirement already satisfied: scikit-learn>=0.20.0 in /usr/local/lib/python3.7/dist-packages (from category_encoders) (0.22.2.post1)\n",
            "Requirement already satisfied: statsmodels>=0.9.0 in /usr/local/lib/python3.7/dist-packages (from category_encoders) (0.10.2)\n",
            "Requirement already satisfied: scipy>=1.0.0 in /usr/local/lib/python3.7/dist-packages (from category_encoders) (1.4.1)\n",
            "Requirement already satisfied: pandas>=0.21.1 in /usr/local/lib/python3.7/dist-packages (from category_encoders) (1.1.5)\n",
            "Requirement already satisfied: numpy>=1.14.0 in /usr/local/lib/python3.7/dist-packages (from category_encoders) (1.19.5)\n",
            "Requirement already satisfied: patsy>=0.5.1 in /usr/local/lib/python3.7/dist-packages (from category_encoders) (0.5.1)\n",
            "Requirement already satisfied: joblib>=0.11 in /usr/local/lib/python3.7/dist-packages (from scikit-learn>=0.20.0->category_encoders) (1.0.1)\n",
            "Requirement already satisfied: python-dateutil>=2.7.3 in /usr/local/lib/python3.7/dist-packages (from pandas>=0.21.1->category_encoders) (2.8.1)\n",
            "Requirement already satisfied: pytz>=2017.2 in /usr/local/lib/python3.7/dist-packages (from pandas>=0.21.1->category_encoders) (2018.9)\n",
            "Requirement already satisfied: six in /usr/local/lib/python3.7/dist-packages (from patsy>=0.5.1->category_encoders) (1.15.0)\n",
            "Installing collected packages: category-encoders\n",
            "Successfully installed category-encoders-2.2.2\n"
          ],
          "name": "stdout"
        }
      ]
    },
    {
      "cell_type": "code",
      "metadata": {
        "id": "W_17a4_RxGeV",
        "colab": {
          "base_uri": "https://localhost:8080/"
        },
        "outputId": "51d553cd-96b2-4c6f-d793-c296a0493060"
      },
      "source": [
        "import numpy as np\n",
        "import pandas as pd\n",
        "import seaborn as sns\n",
        "import matplotlib.pyplot as plt\n",
        "%matplotlib inline\n",
        "\n",
        "from sklearn import preprocessing\n",
        "\n",
        "import category_encoders as ce"
      ],
      "execution_count": 3,
      "outputs": [
        {
          "output_type": "stream",
          "text": [
            "/usr/local/lib/python3.7/dist-packages/statsmodels/tools/_testing.py:19: FutureWarning: pandas.util.testing is deprecated. Use the functions in the public API at pandas.testing instead.\n",
            "  import pandas.util.testing as tm\n"
          ],
          "name": "stderr"
        }
      ]
    },
    {
      "cell_type": "code",
      "metadata": {
        "id": "52eldErWSVvp",
        "colab": {
          "base_uri": "https://localhost:8080/",
          "height": 222
        },
        "outputId": "1ccde8d6-dd38-4fe5-8f05-0c6ba633ea45"
      },
      "source": [
        "df = pd.read_csv(\"https://raw.githubusercontent.com/sudo0809/Credit-Risk-Prediction/main/Training%20Data.csv\")\n",
        "df.head()"
      ],
      "execution_count": 4,
      "outputs": [
        {
          "output_type": "execute_result",
          "data": {
            "text/html": [
              "<div>\n",
              "<style scoped>\n",
              "    .dataframe tbody tr th:only-of-type {\n",
              "        vertical-align: middle;\n",
              "    }\n",
              "\n",
              "    .dataframe tbody tr th {\n",
              "        vertical-align: top;\n",
              "    }\n",
              "\n",
              "    .dataframe thead th {\n",
              "        text-align: right;\n",
              "    }\n",
              "</style>\n",
              "<table border=\"1\" class=\"dataframe\">\n",
              "  <thead>\n",
              "    <tr style=\"text-align: right;\">\n",
              "      <th></th>\n",
              "      <th>Id</th>\n",
              "      <th>income</th>\n",
              "      <th>age</th>\n",
              "      <th>experience</th>\n",
              "      <th>married</th>\n",
              "      <th>house_ownership</th>\n",
              "      <th>car_ownership</th>\n",
              "      <th>profession</th>\n",
              "      <th>city</th>\n",
              "      <th>state</th>\n",
              "      <th>current_job_years</th>\n",
              "      <th>current_house_years</th>\n",
              "      <th>risk_flag</th>\n",
              "    </tr>\n",
              "  </thead>\n",
              "  <tbody>\n",
              "    <tr>\n",
              "      <th>0</th>\n",
              "      <td>1</td>\n",
              "      <td>1303835</td>\n",
              "      <td>23</td>\n",
              "      <td>3</td>\n",
              "      <td>single</td>\n",
              "      <td>rented</td>\n",
              "      <td>no</td>\n",
              "      <td>Mechanical_engineer</td>\n",
              "      <td>Rewa</td>\n",
              "      <td>Madhya_Pradesh</td>\n",
              "      <td>3</td>\n",
              "      <td>13</td>\n",
              "      <td>0</td>\n",
              "    </tr>\n",
              "    <tr>\n",
              "      <th>1</th>\n",
              "      <td>2</td>\n",
              "      <td>7574516</td>\n",
              "      <td>40</td>\n",
              "      <td>10</td>\n",
              "      <td>single</td>\n",
              "      <td>rented</td>\n",
              "      <td>no</td>\n",
              "      <td>Software_Developer</td>\n",
              "      <td>Parbhani</td>\n",
              "      <td>Maharashtra</td>\n",
              "      <td>9</td>\n",
              "      <td>13</td>\n",
              "      <td>0</td>\n",
              "    </tr>\n",
              "    <tr>\n",
              "      <th>2</th>\n",
              "      <td>3</td>\n",
              "      <td>3991815</td>\n",
              "      <td>66</td>\n",
              "      <td>4</td>\n",
              "      <td>married</td>\n",
              "      <td>rented</td>\n",
              "      <td>no</td>\n",
              "      <td>Technical_writer</td>\n",
              "      <td>Alappuzha</td>\n",
              "      <td>Kerala</td>\n",
              "      <td>4</td>\n",
              "      <td>10</td>\n",
              "      <td>0</td>\n",
              "    </tr>\n",
              "    <tr>\n",
              "      <th>3</th>\n",
              "      <td>4</td>\n",
              "      <td>6256451</td>\n",
              "      <td>41</td>\n",
              "      <td>2</td>\n",
              "      <td>single</td>\n",
              "      <td>rented</td>\n",
              "      <td>yes</td>\n",
              "      <td>Software_Developer</td>\n",
              "      <td>Bhubaneswar</td>\n",
              "      <td>Odisha</td>\n",
              "      <td>2</td>\n",
              "      <td>12</td>\n",
              "      <td>1</td>\n",
              "    </tr>\n",
              "    <tr>\n",
              "      <th>4</th>\n",
              "      <td>5</td>\n",
              "      <td>5768871</td>\n",
              "      <td>47</td>\n",
              "      <td>11</td>\n",
              "      <td>single</td>\n",
              "      <td>rented</td>\n",
              "      <td>no</td>\n",
              "      <td>Civil_servant</td>\n",
              "      <td>Tiruchirappalli[10]</td>\n",
              "      <td>Tamil_Nadu</td>\n",
              "      <td>3</td>\n",
              "      <td>14</td>\n",
              "      <td>1</td>\n",
              "    </tr>\n",
              "  </tbody>\n",
              "</table>\n",
              "</div>"
            ],
            "text/plain": [
              "   Id   income  age  ...  current_job_years current_house_years risk_flag\n",
              "0   1  1303835   23  ...                  3                  13         0\n",
              "1   2  7574516   40  ...                  9                  13         0\n",
              "2   3  3991815   66  ...                  4                  10         0\n",
              "3   4  6256451   41  ...                  2                  12         1\n",
              "4   5  5768871   47  ...                  3                  14         1\n",
              "\n",
              "[5 rows x 13 columns]"
            ]
          },
          "metadata": {
            "tags": []
          },
          "execution_count": 4
        }
      ]
    },
    {
      "cell_type": "code",
      "metadata": {
        "colab": {
          "base_uri": "https://localhost:8080/",
          "height": 222
        },
        "id": "2WJZ-gdOzC4x",
        "outputId": "65b6e0b9-3be4-4956-ca40-908d55331b89"
      },
      "source": [
        "df.drop(\"Id\", axis=1, inplace=True)\n",
        "df.head()"
      ],
      "execution_count": 5,
      "outputs": [
        {
          "output_type": "execute_result",
          "data": {
            "text/html": [
              "<div>\n",
              "<style scoped>\n",
              "    .dataframe tbody tr th:only-of-type {\n",
              "        vertical-align: middle;\n",
              "    }\n",
              "\n",
              "    .dataframe tbody tr th {\n",
              "        vertical-align: top;\n",
              "    }\n",
              "\n",
              "    .dataframe thead th {\n",
              "        text-align: right;\n",
              "    }\n",
              "</style>\n",
              "<table border=\"1\" class=\"dataframe\">\n",
              "  <thead>\n",
              "    <tr style=\"text-align: right;\">\n",
              "      <th></th>\n",
              "      <th>income</th>\n",
              "      <th>age</th>\n",
              "      <th>experience</th>\n",
              "      <th>married</th>\n",
              "      <th>house_ownership</th>\n",
              "      <th>car_ownership</th>\n",
              "      <th>profession</th>\n",
              "      <th>city</th>\n",
              "      <th>state</th>\n",
              "      <th>current_job_years</th>\n",
              "      <th>current_house_years</th>\n",
              "      <th>risk_flag</th>\n",
              "    </tr>\n",
              "  </thead>\n",
              "  <tbody>\n",
              "    <tr>\n",
              "      <th>0</th>\n",
              "      <td>1303835</td>\n",
              "      <td>23</td>\n",
              "      <td>3</td>\n",
              "      <td>single</td>\n",
              "      <td>rented</td>\n",
              "      <td>no</td>\n",
              "      <td>Mechanical_engineer</td>\n",
              "      <td>Rewa</td>\n",
              "      <td>Madhya_Pradesh</td>\n",
              "      <td>3</td>\n",
              "      <td>13</td>\n",
              "      <td>0</td>\n",
              "    </tr>\n",
              "    <tr>\n",
              "      <th>1</th>\n",
              "      <td>7574516</td>\n",
              "      <td>40</td>\n",
              "      <td>10</td>\n",
              "      <td>single</td>\n",
              "      <td>rented</td>\n",
              "      <td>no</td>\n",
              "      <td>Software_Developer</td>\n",
              "      <td>Parbhani</td>\n",
              "      <td>Maharashtra</td>\n",
              "      <td>9</td>\n",
              "      <td>13</td>\n",
              "      <td>0</td>\n",
              "    </tr>\n",
              "    <tr>\n",
              "      <th>2</th>\n",
              "      <td>3991815</td>\n",
              "      <td>66</td>\n",
              "      <td>4</td>\n",
              "      <td>married</td>\n",
              "      <td>rented</td>\n",
              "      <td>no</td>\n",
              "      <td>Technical_writer</td>\n",
              "      <td>Alappuzha</td>\n",
              "      <td>Kerala</td>\n",
              "      <td>4</td>\n",
              "      <td>10</td>\n",
              "      <td>0</td>\n",
              "    </tr>\n",
              "    <tr>\n",
              "      <th>3</th>\n",
              "      <td>6256451</td>\n",
              "      <td>41</td>\n",
              "      <td>2</td>\n",
              "      <td>single</td>\n",
              "      <td>rented</td>\n",
              "      <td>yes</td>\n",
              "      <td>Software_Developer</td>\n",
              "      <td>Bhubaneswar</td>\n",
              "      <td>Odisha</td>\n",
              "      <td>2</td>\n",
              "      <td>12</td>\n",
              "      <td>1</td>\n",
              "    </tr>\n",
              "    <tr>\n",
              "      <th>4</th>\n",
              "      <td>5768871</td>\n",
              "      <td>47</td>\n",
              "      <td>11</td>\n",
              "      <td>single</td>\n",
              "      <td>rented</td>\n",
              "      <td>no</td>\n",
              "      <td>Civil_servant</td>\n",
              "      <td>Tiruchirappalli[10]</td>\n",
              "      <td>Tamil_Nadu</td>\n",
              "      <td>3</td>\n",
              "      <td>14</td>\n",
              "      <td>1</td>\n",
              "    </tr>\n",
              "  </tbody>\n",
              "</table>\n",
              "</div>"
            ],
            "text/plain": [
              "    income  age  experience  ... current_job_years current_house_years risk_flag\n",
              "0  1303835   23           3  ...                 3                  13         0\n",
              "1  7574516   40          10  ...                 9                  13         0\n",
              "2  3991815   66           4  ...                 4                  10         0\n",
              "3  6256451   41           2  ...                 2                  12         1\n",
              "4  5768871   47          11  ...                 3                  14         1\n",
              "\n",
              "[5 rows x 12 columns]"
            ]
          },
          "metadata": {
            "tags": []
          },
          "execution_count": 5
        }
      ]
    },
    {
      "cell_type": "code",
      "metadata": {
        "colab": {
          "base_uri": "https://localhost:8080/"
        },
        "id": "Pk8_jYxhzJou",
        "outputId": "5196412e-7c0a-4ece-a33e-1deaaba84261"
      },
      "source": [
        "df.describe(), df.info()"
      ],
      "execution_count": 6,
      "outputs": [
        {
          "output_type": "stream",
          "text": [
            "<class 'pandas.core.frame.DataFrame'>\n",
            "RangeIndex: 252000 entries, 0 to 251999\n",
            "Data columns (total 12 columns):\n",
            " #   Column               Non-Null Count   Dtype \n",
            "---  ------               --------------   ----- \n",
            " 0   income               252000 non-null  int64 \n",
            " 1   age                  252000 non-null  int64 \n",
            " 2   experience           252000 non-null  int64 \n",
            " 3   married              252000 non-null  object\n",
            " 4   house_ownership      252000 non-null  object\n",
            " 5   car_ownership        252000 non-null  object\n",
            " 6   profession           252000 non-null  object\n",
            " 7   city                 252000 non-null  object\n",
            " 8   state                252000 non-null  object\n",
            " 9   current_job_years    252000 non-null  int64 \n",
            " 10  current_house_years  252000 non-null  int64 \n",
            " 11  risk_flag            252000 non-null  int64 \n",
            "dtypes: int64(6), object(6)\n",
            "memory usage: 23.1+ MB\n"
          ],
          "name": "stdout"
        },
        {
          "output_type": "execute_result",
          "data": {
            "text/plain": [
              "(             income            age  ...  current_house_years      risk_flag\n",
              " count  2.520000e+05  252000.000000  ...        252000.000000  252000.000000\n",
              " mean   4.997117e+06      49.954071  ...            11.997794       0.123000\n",
              " std    2.878311e+06      17.063863  ...             1.399037       0.328438\n",
              " min    1.031000e+04      21.000000  ...            10.000000       0.000000\n",
              " 25%    2.503015e+06      35.000000  ...            11.000000       0.000000\n",
              " 50%    5.000694e+06      50.000000  ...            12.000000       0.000000\n",
              " 75%    7.477502e+06      65.000000  ...            13.000000       0.000000\n",
              " max    9.999938e+06      79.000000  ...            14.000000       1.000000\n",
              " \n",
              " [8 rows x 6 columns], None)"
            ]
          },
          "metadata": {
            "tags": []
          },
          "execution_count": 6
        }
      ]
    },
    {
      "cell_type": "code",
      "metadata": {
        "colab": {
          "base_uri": "https://localhost:8080/"
        },
        "id": "Njt8nOnrC-nW",
        "outputId": "7cac414a-9e04-4d1d-905e-dba12b6b43d0"
      },
      "source": [
        "df.isnull().values.any()"
      ],
      "execution_count": 7,
      "outputs": [
        {
          "output_type": "execute_result",
          "data": {
            "text/plain": [
              "False"
            ]
          },
          "metadata": {
            "tags": []
          },
          "execution_count": 7
        }
      ]
    },
    {
      "cell_type": "code",
      "metadata": {
        "colab": {
          "base_uri": "https://localhost:8080/"
        },
        "id": "I7AI9dzX3UNF",
        "outputId": "f3964e00-23a4-47bf-8ca0-c5dc6ac1358b"
      },
      "source": [
        "df.shape"
      ],
      "execution_count": 8,
      "outputs": [
        {
          "output_type": "execute_result",
          "data": {
            "text/plain": [
              "(252000, 12)"
            ]
          },
          "metadata": {
            "tags": []
          },
          "execution_count": 8
        }
      ]
    },
    {
      "cell_type": "code",
      "metadata": {
        "colab": {
          "base_uri": "https://localhost:8080/"
        },
        "id": "4tBYoEctIlgK",
        "outputId": "c8139aee-5a50-405b-e68c-a1ccfea34efc"
      },
      "source": [
        "print(f\"count of risk flag = 1 is {df[df['risk_flag']==1].shape[0]} i.e {(df[df['risk_flag']==1].shape[0]/df.shape[0])*100} % of total data\")\n",
        "print(f\"count of risk flag = 0 is {df[df['risk_flag']==0].shape[0]} i.e {(df[df['risk_flag']==0].shape[0]/df.shape[0])*100} % of total data\")"
      ],
      "execution_count": 9,
      "outputs": [
        {
          "output_type": "stream",
          "text": [
            "count of risk flag = 1 is 30996 i.e 12.3 % of total data\n",
            "count of risk flag = 0 is 221004 i.e 87.7 % of total data\n"
          ],
          "name": "stdout"
        }
      ]
    },
    {
      "cell_type": "markdown",
      "metadata": {
        "id": "C7P_NyfeJ2bp"
      },
      "source": [
        "## Taking only balanced Data\n",
        "### 50% risk flag = 1 and 50% risk_flag = 0"
      ]
    },
    {
      "cell_type": "code",
      "metadata": {
        "colab": {
          "base_uri": "https://localhost:8080/"
        },
        "id": "TljCKgPmJ0tl",
        "outputId": "f4dcd5ea-589b-45d3-f02a-b8dfa38d28d0"
      },
      "source": [
        "risk_high_data = df[df['risk_flag']==1]\n",
        "risk_low_data = df[df['risk_flag']==0]\n",
        "\n",
        "m_low = min(len(risk_high_data), len(risk_low_data))\n",
        "\n",
        "balanced_data = pd.concat([risk_high_data[:m_low], risk_low_data[:m_low]]).sample(frac=1)\n",
        "print(f\"Balanced Data shape = {balanced_data.shape}\")\n",
        "print(f\"count of risk flag = 1 is {balanced_data[balanced_data['risk_flag']==1].shape[0]}\")\n",
        "print(f\"count of risk flag = 0 is {balanced_data[balanced_data['risk_flag']==0].shape[0]}\")"
      ],
      "execution_count": 10,
      "outputs": [
        {
          "output_type": "stream",
          "text": [
            "Balanced Data shape = (61992, 12)\n",
            "count of risk flag = 1 is 30996\n",
            "count of risk flag = 0 is 30996\n"
          ],
          "name": "stdout"
        }
      ]
    },
    {
      "cell_type": "code",
      "metadata": {
        "colab": {
          "base_uri": "https://localhost:8080/"
        },
        "id": "inRGpHCbzQIS",
        "outputId": "4138becf-719e-4cac-dd51-a217558df05b"
      },
      "source": [
        "cols = list(df.columns)\n",
        "cols"
      ],
      "execution_count": 11,
      "outputs": [
        {
          "output_type": "execute_result",
          "data": {
            "text/plain": [
              "['income',\n",
              " 'age',\n",
              " 'experience',\n",
              " 'married',\n",
              " 'house_ownership',\n",
              " 'car_ownership',\n",
              " 'profession',\n",
              " 'city',\n",
              " 'state',\n",
              " 'current_job_years',\n",
              " 'current_house_years',\n",
              " 'risk_flag']"
            ]
          },
          "metadata": {
            "tags": []
          },
          "execution_count": 11
        }
      ]
    },
    {
      "cell_type": "code",
      "metadata": {
        "colab": {
          "base_uri": "https://localhost:8080/"
        },
        "id": "eSQYPEfJNOgL",
        "outputId": "7a2c0045-b495-497a-e820-b8297ef0f37d"
      },
      "source": [
        "my_dict = {}\n",
        "for col_name in cols:\n",
        "  if len(balanced_data[col_name].unique())<60:\n",
        "    print(col_name, \" = \", balanced_data[col_name].unique())\n",
        "    print()\n",
        "  else:\n",
        "    print(f\"{col_name} = {len(balanced_data[col_name].unique())} unique values\")\n",
        "    print()\n",
        "  my_dict[col_name] = balanced_data[col_name].unique()"
      ],
      "execution_count": 12,
      "outputs": [
        {
          "output_type": "stream",
          "text": [
            "income = 13251 unique values\n",
            "\n",
            "age  =  [60 71 78 30 29 47 27 66 22 63 33 68 38 57 35 73 51 61 53 25 43 34 24 50\n",
            " 26 32 74 28 31 77 75 69 55 37 52 58 59 49 64 41 39 54 36 79 72 62 42 65\n",
            " 67 56 44 48 46 23 76 40 45 70 21]\n",
            "\n",
            "experience  =  [ 7  4  9 19 17 10 11 13  0  2 20 18 15  5 12  6  1  3 16 14  8]\n",
            "\n",
            "married  =  ['single' 'married']\n",
            "\n",
            "house_ownership  =  ['norent_noown' 'rented' 'owned']\n",
            "\n",
            "car_ownership  =  ['no' 'yes']\n",
            "\n",
            "profession  =  ['Software_Developer' 'Engineer' 'Civil_engineer' 'Psychologist'\n",
            " 'Biomedical_Engineer' 'Lawyer' 'Aviator' 'Hotel_Manager'\n",
            " 'Flight_attendant' 'Politician' 'Police_officer' 'Petroleum_Engineer'\n",
            " 'Architect' 'Surveyor' 'Web_designer' 'Consultant'\n",
            " 'Computer_hardware_engineer' 'Dentist' 'Librarian' 'Official' 'Drafter'\n",
            " 'Statistician' 'Civil_servant' 'Chef' 'Computer_operator' 'Economist'\n",
            " 'Magistrate' 'Chartered_Accountant' 'Artist' 'Geologist' 'Comedian'\n",
            " 'Industrial_Engineer' 'Graphic_Designer' 'Financial_Analyst'\n",
            " 'Design_Engineer' 'Army_officer' 'Microbiologist' 'Chemical_engineer'\n",
            " 'Fashion_Designer' 'Scientist' 'Technician' 'Technical_writer'\n",
            " 'Air_traffic_controller' 'Physician' 'Technology_specialist' 'Analyst'\n",
            " 'Surgeon' 'Mechanical_engineer' 'Firefighter' 'Designer' 'Secretary']\n",
            "\n",
            "city = 317 unique values\n",
            "\n",
            "state  =  ['Bihar' 'West_Bengal' 'Maharashtra' 'Punjab' 'Andhra_Pradesh'\n",
            " 'Uttar_Pradesh' 'Kerala' 'Jharkhand' 'Tamil_Nadu' 'Delhi'\n",
            " 'Madhya_Pradesh' 'Gujarat' 'Puducherry' 'Karnataka' 'Telangana'\n",
            " 'Uttar_Pradesh[5]' 'Uttarakhand' 'Rajasthan' 'Chhattisgarh' 'Mizoram'\n",
            " 'Odisha' 'Haryana' 'Himachal_Pradesh' 'Assam' 'Jammu_and_Kashmir'\n",
            " 'Chandigarh' 'Tripura' 'Manipur' 'Sikkim']\n",
            "\n",
            "current_job_years  =  [ 7  4  9  3  5  8  0  2  6 10 12  1 13 11 14]\n",
            "\n",
            "current_house_years  =  [13 12 10 11 14]\n",
            "\n",
            "risk_flag  =  [0 1]\n",
            "\n"
          ],
          "name": "stdout"
        }
      ]
    },
    {
      "cell_type": "code",
      "metadata": {
        "colab": {
          "base_uri": "https://localhost:8080/"
        },
        "id": "e5D6x-rqWgHl",
        "outputId": "92e362fe-574f-4425-a46a-9d6e6cc92bf1"
      },
      "source": [
        "print(my_dict['age'])"
      ],
      "execution_count": 13,
      "outputs": [
        {
          "output_type": "stream",
          "text": [
            "[60 71 78 30 29 47 27 66 22 63 33 68 38 57 35 73 51 61 53 25 43 34 24 50\n",
            " 26 32 74 28 31 77 75 69 55 37 52 58 59 49 64 41 39 54 36 79 72 62 42 65\n",
            " 67 56 44 48 46 23 76 40 45 70 21]\n"
          ],
          "name": "stdout"
        }
      ]
    },
    {
      "cell_type": "code",
      "metadata": {
        "id": "Gkcoa77AaiuF"
      },
      "source": [
        "my_dict['experience'].sort()"
      ],
      "execution_count": 14,
      "outputs": []
    },
    {
      "cell_type": "code",
      "metadata": {
        "colab": {
          "base_uri": "https://localhost:8080/"
        },
        "id": "DHZQFjFNaqsw",
        "outputId": "00fe1d7e-53b6-415d-a7e3-35002933a9b8"
      },
      "source": [
        "my_dict['experience']"
      ],
      "execution_count": 15,
      "outputs": [
        {
          "output_type": "execute_result",
          "data": {
            "text/plain": [
              "array([ 0,  1,  2,  3,  4,  5,  6,  7,  8,  9, 10, 11, 12, 13, 14, 15, 16,\n",
              "       17, 18, 19, 20])"
            ]
          },
          "metadata": {
            "tags": []
          },
          "execution_count": 15
        }
      ]
    },
    {
      "cell_type": "code",
      "metadata": {
        "colab": {
          "base_uri": "https://localhost:8080/",
          "height": 386
        },
        "id": "_OWIkIhzcB_-",
        "outputId": "fc048936-404c-4a13-fa58-712471708e70"
      },
      "source": [
        "sns.displot(y='experience', x='age' , data=balanced_data ,hue='risk_flag', col='married' ,kind='kde', height=5, aspect=0.7)"
      ],
      "execution_count": 16,
      "outputs": [
        {
          "output_type": "execute_result",
          "data": {
            "text/plain": [
              "<seaborn.axisgrid.FacetGrid at 0x7f7002e7a610>"
            ]
          },
          "metadata": {
            "tags": []
          },
          "execution_count": 16
        },
        {
          "output_type": "display_data",
          "data": {
            "image/png": "[encoded data removed]",
            "text/plain": [
              "<Figure size 554x360 with 2 Axes>"
            ]
          },
          "metadata": {
            "tags": [],
            "needs_background": "light"
          }
        }
      ]
    },
    {
      "cell_type": "code",
      "metadata": {
        "colab": {
          "base_uri": "https://localhost:8080/",
          "height": 603
        },
        "id": "MaRjZ64qePtd",
        "outputId": "b0d041d1-ab8e-42f3-a277-3ec44ee61002"
      },
      "source": [
        "features = ['married', 'house_ownership','car_ownership', 'current_job_years','current_house_years', 'experience']\n",
        "\n",
        "plt.figure(figsize=(15,8))\n",
        "for i,feature in enumerate(features):\n",
        "  plt.subplot(len(features)/2, 2, i+1)\n",
        "  sns.countplot(x=feature, data=balanced_data, hue='risk_flag')\n",
        "plt.tight_layout()\n",
        "plt.plot()"
      ],
      "execution_count": 17,
      "outputs": [
        {
          "output_type": "execute_result",
          "data": {
            "text/plain": [
              "[]"
            ]
          },
          "metadata": {
            "tags": []
          },
          "execution_count": 17
        },
        {
          "output_type": "display_data",
          "data": {
            "image/png": "[encoded data removed]",
            "text/plain": [
              "<Figure size 1080x576 with 6 Axes>"
            ]
          },
          "metadata": {
            "tags": [],
            "needs_background": "light"
          }
        }
      ]
    },
    {
      "cell_type": "markdown",
      "metadata": {
        "id": "KKByPKr3amzT"
      },
      "source": [
        "## Encoding the Categorical Data"
      ]
    },
    {
      "cell_type": "code",
      "metadata": {
        "colab": {
          "base_uri": "https://localhost:8080/"
        },
        "id": "P7Vb96iM29aJ",
        "outputId": "9b45ac2c-89ad-48de-daaf-988854bed246"
      },
      "source": [
        "married_le = preprocessing.LabelEncoder()\n",
        "married_le.fit(balanced_data['married'].unique())\n",
        "print(married_le.classes_)\n",
        "balanced_data['married'] = married_le.transform(balanced_data[\"married\"])\n",
        "balanced_data['married'].unique()"
      ],
      "execution_count": 18,
      "outputs": [
        {
          "output_type": "stream",
          "text": [
            "['married' 'single']\n"
          ],
          "name": "stdout"
        },
        {
          "output_type": "execute_result",
          "data": {
            "text/plain": [
              "array([1, 0])"
            ]
          },
          "metadata": {
            "tags": []
          },
          "execution_count": 18
        }
      ]
    },
    {
      "cell_type": "code",
      "metadata": {
        "colab": {
          "base_uri": "https://localhost:8080/"
        },
        "id": "r2vradKI3mch",
        "outputId": "c9c496c4-8633-45bc-8f2f-7036648a196f"
      },
      "source": [
        "car_le = preprocessing.LabelEncoder()\n",
        "car_le.fit(balanced_data['car_ownership'].unique())\n",
        "print(car_le.classes_)\n",
        "balanced_data['car_ownership'] = car_le.transform(balanced_data['car_ownership'])\n",
        "balanced_data['car_ownership'].unique()"
      ],
      "execution_count": 19,
      "outputs": [
        {
          "output_type": "stream",
          "text": [
            "['no' 'yes']\n"
          ],
          "name": "stdout"
        },
        {
          "output_type": "execute_result",
          "data": {
            "text/plain": [
              "array([0, 1])"
            ]
          },
          "metadata": {
            "tags": []
          },
          "execution_count": 19
        }
      ]
    },
    {
      "cell_type": "code",
      "metadata": {
        "colab": {
          "base_uri": "https://localhost:8080/"
        },
        "id": "yGx7eRlISQom",
        "outputId": "4c64387a-e325-4e8b-efab-d613deab1509"
      },
      "source": [
        "house_le = preprocessing.LabelEncoder()\n",
        "house_le.fit(balanced_data['house_ownership'].unique())\n",
        "print(house_le.classes_)\n",
        "balanced_data['house_ownership'] = house_le.transform(balanced_data['house_ownership'])\n",
        "balanced_data['house_ownership'].unique()"
      ],
      "execution_count": 20,
      "outputs": [
        {
          "output_type": "stream",
          "text": [
            "['norent_noown' 'owned' 'rented']\n"
          ],
          "name": "stdout"
        },
        {
          "output_type": "execute_result",
          "data": {
            "text/plain": [
              "array([0, 2, 1])"
            ]
          },
          "metadata": {
            "tags": []
          },
          "execution_count": 20
        }
      ]
    },
    {
      "cell_type": "code",
      "metadata": {
        "colab": {
          "base_uri": "https://localhost:8080/"
        },
        "id": "Mr5TEzXJcAO4",
        "outputId": "b3a7abb2-e7ba-4872-f70c-430b3cb4fc09"
      },
      "source": [
        "hash_enc = ce.hashing.HashingEncoder(cols='profession' , max_process=4)\n",
        "# hash_enc.fit(balanced_data['profession'])\n",
        "\n",
        "data1 = hash_enc.fit_transform(balanced_data)\n",
        "print(hash_enc.get_feature_names())"
      ],
      "execution_count": 21,
      "outputs": [
        {
          "output_type": "stream",
          "text": [
            "['col_0', 'col_1', 'col_2', 'col_3', 'col_4', 'col_5', 'col_6', 'col_7', 'income', 'age', 'experience', 'married', 'house_ownership', 'car_ownership', 'city', 'state', 'current_job_years', 'current_house_years', 'risk_flag']\n"
          ],
          "name": "stdout"
        }
      ]
    },
    {
      "cell_type": "code",
      "metadata": {
        "colab": {
          "base_uri": "https://localhost:8080/",
          "height": 239
        },
        "id": "JPvJrR44l2xF",
        "outputId": "381f055c-7285-498f-d410-866a42fd724b"
      },
      "source": [
        "data1.head()"
      ],
      "execution_count": 22,
      "outputs": [
        {
          "output_type": "execute_result",
          "data": {
            "text/html": [
              "<div>\n",
              "<style scoped>\n",
              "    .dataframe tbody tr th:only-of-type {\n",
              "        vertical-align: middle;\n",
              "    }\n",
              "\n",
              "    .dataframe tbody tr th {\n",
              "        vertical-align: top;\n",
              "    }\n",
              "\n",
              "    .dataframe thead th {\n",
              "        text-align: right;\n",
              "    }\n",
              "</style>\n",
              "<table border=\"1\" class=\"dataframe\">\n",
              "  <thead>\n",
              "    <tr style=\"text-align: right;\">\n",
              "      <th></th>\n",
              "      <th>col_0</th>\n",
              "      <th>col_1</th>\n",
              "      <th>col_2</th>\n",
              "      <th>col_3</th>\n",
              "      <th>col_4</th>\n",
              "      <th>col_5</th>\n",
              "      <th>col_6</th>\n",
              "      <th>col_7</th>\n",
              "      <th>income</th>\n",
              "      <th>age</th>\n",
              "      <th>experience</th>\n",
              "      <th>married</th>\n",
              "      <th>house_ownership</th>\n",
              "      <th>car_ownership</th>\n",
              "      <th>city</th>\n",
              "      <th>state</th>\n",
              "      <th>current_job_years</th>\n",
              "      <th>current_house_years</th>\n",
              "      <th>risk_flag</th>\n",
              "    </tr>\n",
              "  </thead>\n",
              "  <tbody>\n",
              "    <tr>\n",
              "      <th>0</th>\n",
              "      <td>0</td>\n",
              "      <td>0</td>\n",
              "      <td>0</td>\n",
              "      <td>0</td>\n",
              "      <td>0</td>\n",
              "      <td>0</td>\n",
              "      <td>0</td>\n",
              "      <td>1</td>\n",
              "      <td>5017077</td>\n",
              "      <td>60</td>\n",
              "      <td>7</td>\n",
              "      <td>1</td>\n",
              "      <td>0</td>\n",
              "      <td>0</td>\n",
              "      <td>Katihar</td>\n",
              "      <td>Bihar</td>\n",
              "      <td>7</td>\n",
              "      <td>13</td>\n",
              "      <td>0</td>\n",
              "    </tr>\n",
              "    <tr>\n",
              "      <th>1</th>\n",
              "      <td>0</td>\n",
              "      <td>0</td>\n",
              "      <td>0</td>\n",
              "      <td>0</td>\n",
              "      <td>0</td>\n",
              "      <td>0</td>\n",
              "      <td>1</td>\n",
              "      <td>0</td>\n",
              "      <td>1948549</td>\n",
              "      <td>71</td>\n",
              "      <td>4</td>\n",
              "      <td>1</td>\n",
              "      <td>2</td>\n",
              "      <td>0</td>\n",
              "      <td>North_Dumdum</td>\n",
              "      <td>West_Bengal</td>\n",
              "      <td>4</td>\n",
              "      <td>12</td>\n",
              "      <td>1</td>\n",
              "    </tr>\n",
              "    <tr>\n",
              "      <th>2</th>\n",
              "      <td>0</td>\n",
              "      <td>0</td>\n",
              "      <td>0</td>\n",
              "      <td>0</td>\n",
              "      <td>0</td>\n",
              "      <td>0</td>\n",
              "      <td>0</td>\n",
              "      <td>1</td>\n",
              "      <td>3959820</td>\n",
              "      <td>78</td>\n",
              "      <td>9</td>\n",
              "      <td>0</td>\n",
              "      <td>2</td>\n",
              "      <td>0</td>\n",
              "      <td>Darbhanga</td>\n",
              "      <td>Bihar</td>\n",
              "      <td>9</td>\n",
              "      <td>10</td>\n",
              "      <td>1</td>\n",
              "    </tr>\n",
              "    <tr>\n",
              "      <th>3</th>\n",
              "      <td>0</td>\n",
              "      <td>0</td>\n",
              "      <td>0</td>\n",
              "      <td>0</td>\n",
              "      <td>0</td>\n",
              "      <td>0</td>\n",
              "      <td>0</td>\n",
              "      <td>1</td>\n",
              "      <td>6296539</td>\n",
              "      <td>30</td>\n",
              "      <td>19</td>\n",
              "      <td>1</td>\n",
              "      <td>1</td>\n",
              "      <td>0</td>\n",
              "      <td>Kalyan-Dombivli</td>\n",
              "      <td>Maharashtra</td>\n",
              "      <td>3</td>\n",
              "      <td>10</td>\n",
              "      <td>0</td>\n",
              "    </tr>\n",
              "    <tr>\n",
              "      <th>4</th>\n",
              "      <td>0</td>\n",
              "      <td>0</td>\n",
              "      <td>0</td>\n",
              "      <td>1</td>\n",
              "      <td>0</td>\n",
              "      <td>0</td>\n",
              "      <td>0</td>\n",
              "      <td>0</td>\n",
              "      <td>1410169</td>\n",
              "      <td>29</td>\n",
              "      <td>17</td>\n",
              "      <td>1</td>\n",
              "      <td>2</td>\n",
              "      <td>0</td>\n",
              "      <td>Ludhiana</td>\n",
              "      <td>Punjab</td>\n",
              "      <td>5</td>\n",
              "      <td>13</td>\n",
              "      <td>0</td>\n",
              "    </tr>\n",
              "  </tbody>\n",
              "</table>\n",
              "</div>"
            ],
            "text/plain": [
              "   col_0  col_1  col_2  ...  current_job_years  current_house_years  risk_flag\n",
              "0      0      0      0  ...                  7                   13          0\n",
              "1      0      0      0  ...                  4                   12          1\n",
              "2      0      0      0  ...                  9                   10          1\n",
              "3      0      0      0  ...                  3                   10          0\n",
              "4      0      0      0  ...                  5                   13          0\n",
              "\n",
              "[5 rows x 19 columns]"
            ]
          },
          "metadata": {
            "tags": []
          },
          "execution_count": 22
        }
      ]
    },
    {
      "cell_type": "code",
      "metadata": {
        "id": "NADyXghiTnrD"
      },
      "source": [
        "df_final = data1.drop(labels=['city', 'state'], axis=1)"
      ],
      "execution_count": 23,
      "outputs": []
    },
    {
      "cell_type": "code",
      "metadata": {
        "colab": {
          "base_uri": "https://localhost:8080/"
        },
        "id": "Z2FZDk_iUG03",
        "outputId": "8ed399bc-7430-4940-d6d8-dd701eff1d3a"
      },
      "source": [
        "df_final.info()"
      ],
      "execution_count": 24,
      "outputs": [
        {
          "output_type": "stream",
          "text": [
            "<class 'pandas.core.frame.DataFrame'>\n",
            "RangeIndex: 61992 entries, 0 to 61991\n",
            "Data columns (total 17 columns):\n",
            " #   Column               Non-Null Count  Dtype\n",
            "---  ------               --------------  -----\n",
            " 0   col_0                61992 non-null  int64\n",
            " 1   col_1                61992 non-null  int64\n",
            " 2   col_2                61992 non-null  int64\n",
            " 3   col_3                61992 non-null  int64\n",
            " 4   col_4                61992 non-null  int64\n",
            " 5   col_5                61992 non-null  int64\n",
            " 6   col_6                61992 non-null  int64\n",
            " 7   col_7                61992 non-null  int64\n",
            " 8   income               61992 non-null  int64\n",
            " 9   age                  61992 non-null  int64\n",
            " 10  experience           61992 non-null  int64\n",
            " 11  married              61992 non-null  int64\n",
            " 12  house_ownership      61992 non-null  int64\n",
            " 13  car_ownership        61992 non-null  int64\n",
            " 14  current_job_years    61992 non-null  int64\n",
            " 15  current_house_years  61992 non-null  int64\n",
            " 16  risk_flag            61992 non-null  int64\n",
            "dtypes: int64(17)\n",
            "memory usage: 8.0 MB\n"
          ],
          "name": "stdout"
        }
      ]
    },
    {
      "cell_type": "code",
      "metadata": {
        "colab": {
          "base_uri": "https://localhost:8080/",
          "height": 222
        },
        "id": "ByLvRV4kUI8Q",
        "outputId": "207769aa-9e73-43ca-c867-071a17bb311e"
      },
      "source": [
        "df_final.head()"
      ],
      "execution_count": 25,
      "outputs": [
        {
          "output_type": "execute_result",
          "data": {
            "text/html": [
              "<div>\n",
              "<style scoped>\n",
              "    .dataframe tbody tr th:only-of-type {\n",
              "        vertical-align: middle;\n",
              "    }\n",
              "\n",
              "    .dataframe tbody tr th {\n",
              "        vertical-align: top;\n",
              "    }\n",
              "\n",
              "    .dataframe thead th {\n",
              "        text-align: right;\n",
              "    }\n",
              "</style>\n",
              "<table border=\"1\" class=\"dataframe\">\n",
              "  <thead>\n",
              "    <tr style=\"text-align: right;\">\n",
              "      <th></th>\n",
              "      <th>col_0</th>\n",
              "      <th>col_1</th>\n",
              "      <th>col_2</th>\n",
              "      <th>col_3</th>\n",
              "      <th>col_4</th>\n",
              "      <th>col_5</th>\n",
              "      <th>col_6</th>\n",
              "      <th>col_7</th>\n",
              "      <th>income</th>\n",
              "      <th>age</th>\n",
              "      <th>experience</th>\n",
              "      <th>married</th>\n",
              "      <th>house_ownership</th>\n",
              "      <th>car_ownership</th>\n",
              "      <th>current_job_years</th>\n",
              "      <th>current_house_years</th>\n",
              "      <th>risk_flag</th>\n",
              "    </tr>\n",
              "  </thead>\n",
              "  <tbody>\n",
              "    <tr>\n",
              "      <th>0</th>\n",
              "      <td>0</td>\n",
              "      <td>0</td>\n",
              "      <td>0</td>\n",
              "      <td>0</td>\n",
              "      <td>0</td>\n",
              "      <td>0</td>\n",
              "      <td>0</td>\n",
              "      <td>1</td>\n",
              "      <td>5017077</td>\n",
              "      <td>60</td>\n",
              "      <td>7</td>\n",
              "      <td>1</td>\n",
              "      <td>0</td>\n",
              "      <td>0</td>\n",
              "      <td>7</td>\n",
              "      <td>13</td>\n",
              "      <td>0</td>\n",
              "    </tr>\n",
              "    <tr>\n",
              "      <th>1</th>\n",
              "      <td>0</td>\n",
              "      <td>0</td>\n",
              "      <td>0</td>\n",
              "      <td>0</td>\n",
              "      <td>0</td>\n",
              "      <td>0</td>\n",
              "      <td>1</td>\n",
              "      <td>0</td>\n",
              "      <td>1948549</td>\n",
              "      <td>71</td>\n",
              "      <td>4</td>\n",
              "      <td>1</td>\n",
              "      <td>2</td>\n",
              "      <td>0</td>\n",
              "      <td>4</td>\n",
              "      <td>12</td>\n",
              "      <td>1</td>\n",
              "    </tr>\n",
              "    <tr>\n",
              "      <th>2</th>\n",
              "      <td>0</td>\n",
              "      <td>0</td>\n",
              "      <td>0</td>\n",
              "      <td>0</td>\n",
              "      <td>0</td>\n",
              "      <td>0</td>\n",
              "      <td>0</td>\n",
              "      <td>1</td>\n",
              "      <td>3959820</td>\n",
              "      <td>78</td>\n",
              "      <td>9</td>\n",
              "      <td>0</td>\n",
              "      <td>2</td>\n",
              "      <td>0</td>\n",
              "      <td>9</td>\n",
              "      <td>10</td>\n",
              "      <td>1</td>\n",
              "    </tr>\n",
              "    <tr>\n",
              "      <th>3</th>\n",
              "      <td>0</td>\n",
              "      <td>0</td>\n",
              "      <td>0</td>\n",
              "      <td>0</td>\n",
              "      <td>0</td>\n",
              "      <td>0</td>\n",
              "      <td>0</td>\n",
              "      <td>1</td>\n",
              "      <td>6296539</td>\n",
              "      <td>30</td>\n",
              "      <td>19</td>\n",
              "      <td>1</td>\n",
              "      <td>1</td>\n",
              "      <td>0</td>\n",
              "      <td>3</td>\n",
              "      <td>10</td>\n",
              "      <td>0</td>\n",
              "    </tr>\n",
              "    <tr>\n",
              "      <th>4</th>\n",
              "      <td>0</td>\n",
              "      <td>0</td>\n",
              "      <td>0</td>\n",
              "      <td>1</td>\n",
              "      <td>0</td>\n",
              "      <td>0</td>\n",
              "      <td>0</td>\n",
              "      <td>0</td>\n",
              "      <td>1410169</td>\n",
              "      <td>29</td>\n",
              "      <td>17</td>\n",
              "      <td>1</td>\n",
              "      <td>2</td>\n",
              "      <td>0</td>\n",
              "      <td>5</td>\n",
              "      <td>13</td>\n",
              "      <td>0</td>\n",
              "    </tr>\n",
              "  </tbody>\n",
              "</table>\n",
              "</div>"
            ],
            "text/plain": [
              "   col_0  col_1  col_2  ...  current_job_years  current_house_years  risk_flag\n",
              "0      0      0      0  ...                  7                   13          0\n",
              "1      0      0      0  ...                  4                   12          1\n",
              "2      0      0      0  ...                  9                   10          1\n",
              "3      0      0      0  ...                  3                   10          0\n",
              "4      0      0      0  ...                  5                   13          0\n",
              "\n",
              "[5 rows x 17 columns]"
            ]
          },
          "metadata": {
            "tags": []
          },
          "execution_count": 25
        }
      ]
    },
    {
      "cell_type": "code",
      "metadata": {
        "id": "Sx0xrWKdUN6v"
      },
      "source": [
        "scaler = preprocessing.MinMaxScaler()"
      ],
      "execution_count": 26,
      "outputs": []
    },
    {
      "cell_type": "code",
      "metadata": {
        "colab": {
          "base_uri": "https://localhost:8080/"
        },
        "id": "fzVg4WmfVG8V",
        "outputId": "14598530-5dd9-43f1-cddd-a8d01c72912b"
      },
      "source": [
        "scaler.fit(df_final)"
      ],
      "execution_count": 27,
      "outputs": [
        {
          "output_type": "execute_result",
          "data": {
            "text/plain": [
              "MinMaxScaler(copy=True, feature_range=(0, 1))"
            ]
          },
          "metadata": {
            "tags": []
          },
          "execution_count": 27
        }
      ]
    },
    {
      "cell_type": "code",
      "metadata": {
        "colab": {
          "base_uri": "https://localhost:8080/"
        },
        "id": "iGRs8hvYVP77",
        "outputId": "c4123e1f-e96a-444a-e8fd-5e853f9ae293"
      },
      "source": [
        "scaler.data_max_ , scaler.data_min_"
      ],
      "execution_count": 28,
      "outputs": [
        {
          "output_type": "execute_result",
          "data": {
            "text/plain": [
              "(array([1.00000e+00, 1.00000e+00, 1.00000e+00, 1.00000e+00, 1.00000e+00,\n",
              "        1.00000e+00, 1.00000e+00, 1.00000e+00, 9.99918e+06, 7.90000e+01,\n",
              "        2.00000e+01, 1.00000e+00, 2.00000e+00, 1.00000e+00, 1.40000e+01,\n",
              "        1.40000e+01, 1.00000e+00]),\n",
              " array([0.000e+00, 0.000e+00, 0.000e+00, 0.000e+00, 0.000e+00, 0.000e+00,\n",
              "        0.000e+00, 0.000e+00, 1.031e+04, 2.100e+01, 0.000e+00, 0.000e+00,\n",
              "        0.000e+00, 0.000e+00, 0.000e+00, 1.000e+01, 0.000e+00]))"
            ]
          },
          "metadata": {
            "tags": []
          },
          "execution_count": 28
        }
      ]
    },
    {
      "cell_type": "code",
      "metadata": {
        "id": "7fD9iJMAVY44"
      },
      "source": [
        "data2 = pd.DataFrame(scaler.transform(df_final))"
      ],
      "execution_count": 29,
      "outputs": []
    },
    {
      "cell_type": "code",
      "metadata": {
        "colab": {
          "base_uri": "https://localhost:8080/",
          "height": 202
        },
        "id": "QQ7FGg-uWACL",
        "outputId": "60f8a60e-6604-4eff-f46e-3b8e37d47d3f"
      },
      "source": [
        "data2.head()"
      ],
      "execution_count": 30,
      "outputs": [
        {
          "output_type": "execute_result",
          "data": {
            "text/html": [
              "<div>\n",
              "<style scoped>\n",
              "    .dataframe tbody tr th:only-of-type {\n",
              "        vertical-align: middle;\n",
              "    }\n",
              "\n",
              "    .dataframe tbody tr th {\n",
              "        vertical-align: top;\n",
              "    }\n",
              "\n",
              "    .dataframe thead th {\n",
              "        text-align: right;\n",
              "    }\n",
              "</style>\n",
              "<table border=\"1\" class=\"dataframe\">\n",
              "  <thead>\n",
              "    <tr style=\"text-align: right;\">\n",
              "      <th></th>\n",
              "      <th>0</th>\n",
              "      <th>1</th>\n",
              "      <th>2</th>\n",
              "      <th>3</th>\n",
              "      <th>4</th>\n",
              "      <th>5</th>\n",
              "      <th>6</th>\n",
              "      <th>7</th>\n",
              "      <th>8</th>\n",
              "      <th>9</th>\n",
              "      <th>10</th>\n",
              "      <th>11</th>\n",
              "      <th>12</th>\n",
              "      <th>13</th>\n",
              "      <th>14</th>\n",
              "      <th>15</th>\n",
              "      <th>16</th>\n",
              "    </tr>\n",
              "  </thead>\n",
              "  <tbody>\n",
              "    <tr>\n",
              "      <th>0</th>\n",
              "      <td>0.0</td>\n",
              "      <td>0.0</td>\n",
              "      <td>0.0</td>\n",
              "      <td>0.0</td>\n",
              "      <td>0.0</td>\n",
              "      <td>0.0</td>\n",
              "      <td>0.0</td>\n",
              "      <td>1.0</td>\n",
              "      <td>0.501235</td>\n",
              "      <td>0.672414</td>\n",
              "      <td>0.35</td>\n",
              "      <td>1.0</td>\n",
              "      <td>0.0</td>\n",
              "      <td>0.0</td>\n",
              "      <td>0.500000</td>\n",
              "      <td>0.75</td>\n",
              "      <td>0.0</td>\n",
              "    </tr>\n",
              "    <tr>\n",
              "      <th>1</th>\n",
              "      <td>0.0</td>\n",
              "      <td>0.0</td>\n",
              "      <td>0.0</td>\n",
              "      <td>0.0</td>\n",
              "      <td>0.0</td>\n",
              "      <td>0.0</td>\n",
              "      <td>1.0</td>\n",
              "      <td>0.0</td>\n",
              "      <td>0.194040</td>\n",
              "      <td>0.862069</td>\n",
              "      <td>0.20</td>\n",
              "      <td>1.0</td>\n",
              "      <td>1.0</td>\n",
              "      <td>0.0</td>\n",
              "      <td>0.285714</td>\n",
              "      <td>0.50</td>\n",
              "      <td>1.0</td>\n",
              "    </tr>\n",
              "    <tr>\n",
              "      <th>2</th>\n",
              "      <td>0.0</td>\n",
              "      <td>0.0</td>\n",
              "      <td>0.0</td>\n",
              "      <td>0.0</td>\n",
              "      <td>0.0</td>\n",
              "      <td>0.0</td>\n",
              "      <td>0.0</td>\n",
              "      <td>1.0</td>\n",
              "      <td>0.395391</td>\n",
              "      <td>0.982759</td>\n",
              "      <td>0.45</td>\n",
              "      <td>0.0</td>\n",
              "      <td>1.0</td>\n",
              "      <td>0.0</td>\n",
              "      <td>0.642857</td>\n",
              "      <td>0.00</td>\n",
              "      <td>1.0</td>\n",
              "    </tr>\n",
              "    <tr>\n",
              "      <th>3</th>\n",
              "      <td>0.0</td>\n",
              "      <td>0.0</td>\n",
              "      <td>0.0</td>\n",
              "      <td>0.0</td>\n",
              "      <td>0.0</td>\n",
              "      <td>0.0</td>\n",
              "      <td>0.0</td>\n",
              "      <td>1.0</td>\n",
              "      <td>0.629323</td>\n",
              "      <td>0.155172</td>\n",
              "      <td>0.95</td>\n",
              "      <td>1.0</td>\n",
              "      <td>0.5</td>\n",
              "      <td>0.0</td>\n",
              "      <td>0.214286</td>\n",
              "      <td>0.00</td>\n",
              "      <td>0.0</td>\n",
              "    </tr>\n",
              "    <tr>\n",
              "      <th>4</th>\n",
              "      <td>0.0</td>\n",
              "      <td>0.0</td>\n",
              "      <td>0.0</td>\n",
              "      <td>1.0</td>\n",
              "      <td>0.0</td>\n",
              "      <td>0.0</td>\n",
              "      <td>0.0</td>\n",
              "      <td>0.0</td>\n",
              "      <td>0.140142</td>\n",
              "      <td>0.137931</td>\n",
              "      <td>0.85</td>\n",
              "      <td>1.0</td>\n",
              "      <td>1.0</td>\n",
              "      <td>0.0</td>\n",
              "      <td>0.357143</td>\n",
              "      <td>0.75</td>\n",
              "      <td>0.0</td>\n",
              "    </tr>\n",
              "  </tbody>\n",
              "</table>\n",
              "</div>"
            ],
            "text/plain": [
              "    0    1    2    3    4    5    6   ...    10   11   12   13        14    15   16\n",
              "0  0.0  0.0  0.0  0.0  0.0  0.0  0.0  ...  0.35  1.0  0.0  0.0  0.500000  0.75  0.0\n",
              "1  0.0  0.0  0.0  0.0  0.0  0.0  1.0  ...  0.20  1.0  1.0  0.0  0.285714  0.50  1.0\n",
              "2  0.0  0.0  0.0  0.0  0.0  0.0  0.0  ...  0.45  0.0  1.0  0.0  0.642857  0.00  1.0\n",
              "3  0.0  0.0  0.0  0.0  0.0  0.0  0.0  ...  0.95  1.0  0.5  0.0  0.214286  0.00  0.0\n",
              "4  0.0  0.0  0.0  1.0  0.0  0.0  0.0  ...  0.85  1.0  1.0  0.0  0.357143  0.75  0.0\n",
              "\n",
              "[5 rows x 17 columns]"
            ]
          },
          "metadata": {
            "tags": []
          },
          "execution_count": 30
        }
      ]
    },
    {
      "cell_type": "code",
      "metadata": {
        "id": "5aKcONDVn-U1"
      },
      "source": [
        "train_ratio = 0.8\n",
        "train_m = int(train_ratio * data2.shape[0])\n",
        "\n",
        "Train = data2[:train_m]\n",
        "Test = data2[train_m:]"
      ],
      "execution_count": 31,
      "outputs": []
    },
    {
      "cell_type": "code",
      "metadata": {
        "colab": {
          "base_uri": "https://localhost:8080/"
        },
        "id": "Zb87xIgSj5Bk",
        "outputId": "80d97205-ebbd-41ca-961f-275db15f30a1"
      },
      "source": [
        "X_train = Train.iloc[:, :-1]\n",
        "y_train = Train.iloc[:, -1]\n",
        "X_test = Test.iloc[:, :-1]\n",
        "y_test = Test.iloc[:, -1]\n",
        "\n",
        "print(f\"shape of X train is {X_train.shape}\")\n",
        "print(f\"shape of y train is {y_train.shape}\")\n",
        "print(f\"shape of X test is {X_test.shape}\")\n",
        "print(f\"shape of y test is {y_test.shape}\")"
      ],
      "execution_count": 32,
      "outputs": [
        {
          "output_type": "stream",
          "text": [
            "shape of X train is (49593, 16)\n",
            "shape of y train is (49593,)\n",
            "shape of X test is (12399, 16)\n",
            "shape of y test is (12399,)\n"
          ],
          "name": "stdout"
        }
      ]
    },
    {
      "cell_type": "markdown",
      "metadata": {
        "id": "bVMJLHZZGF3A"
      },
      "source": [
        "## Using Linear Regression"
      ]
    },
    {
      "cell_type": "code",
      "metadata": {
        "id": "-csLdB-Xke2u"
      },
      "source": [
        "from sklearn.linear_model import LinearRegression\n",
        "from sklearn import metrics"
      ],
      "execution_count": 33,
      "outputs": []
    },
    {
      "cell_type": "code",
      "metadata": {
        "id": "TNOWJ4UdGX6m"
      },
      "source": [
        "lr = LinearRegression()"
      ],
      "execution_count": 34,
      "outputs": []
    },
    {
      "cell_type": "code",
      "metadata": {
        "colab": {
          "base_uri": "https://localhost:8080/"
        },
        "id": "Mw_xSgFwG0ec",
        "outputId": "f743113f-69d1-4035-9abf-8f950a5b59f0"
      },
      "source": [
        "lr.fit(X_train, y_train)"
      ],
      "execution_count": 35,
      "outputs": [
        {
          "output_type": "execute_result",
          "data": {
            "text/plain": [
              "LinearRegression(copy_X=True, fit_intercept=True, n_jobs=None, normalize=False)"
            ]
          },
          "metadata": {
            "tags": []
          },
          "execution_count": 35
        }
      ]
    },
    {
      "cell_type": "code",
      "metadata": {
        "colab": {
          "base_uri": "https://localhost:8080/"
        },
        "id": "Ge3O3GhYG-Nv",
        "outputId": "f57423eb-3bfd-4fc6-ea28-51a822320837"
      },
      "source": [
        "lr.intercept_"
      ],
      "execution_count": 36,
      "outputs": [
        {
          "output_type": "execute_result",
          "data": {
            "text/plain": [
              "-497861583125.907"
            ]
          },
          "metadata": {
            "tags": []
          },
          "execution_count": 36
        }
      ]
    },
    {
      "cell_type": "code",
      "metadata": {
        "id": "HTQiTOHjHCc4"
      },
      "source": [
        "pred_lr = lr.predict(X_test)"
      ],
      "execution_count": 37,
      "outputs": []
    },
    {
      "cell_type": "code",
      "metadata": {
        "colab": {
          "base_uri": "https://localhost:8080/"
        },
        "id": "_hpxLOURHtdn",
        "outputId": "eff50015-0f28-44e0-ac76-525896697399"
      },
      "source": [
        "pred_lr.shape"
      ],
      "execution_count": 38,
      "outputs": [
        {
          "output_type": "execute_result",
          "data": {
            "text/plain": [
              "(12399,)"
            ]
          },
          "metadata": {
            "tags": []
          },
          "execution_count": 38
        }
      ]
    },
    {
      "cell_type": "code",
      "metadata": {
        "colab": {
          "base_uri": "https://localhost:8080/"
        },
        "id": "03fFuWSuIxKa",
        "outputId": "3664bd79-2a3e-4c29-d690-bd5b4bae3e47"
      },
      "source": [
        "np.unique(pred_lr)"
      ],
      "execution_count": 39,
      "outputs": [
        {
          "output_type": "execute_result",
          "data": {
            "text/plain": [
              "array([0.2800293 , 0.2878418 , 0.29571533, ..., 0.61083984, 0.61132812,\n",
              "       0.61254883])"
            ]
          },
          "metadata": {
            "tags": []
          },
          "execution_count": 39
        }
      ]
    },
    {
      "cell_type": "code",
      "metadata": {
        "id": "spoq6CWZm9EC"
      },
      "source": [
        "for i in range(len(pred_lr)):\n",
        "  if pred_lr[i]<0.5:\n",
        "    pred_lr[i] = 0\n",
        "  else:\n",
        "    pred_lr[i] = 1"
      ],
      "execution_count": 40,
      "outputs": []
    },
    {
      "cell_type": "code",
      "metadata": {
        "colab": {
          "base_uri": "https://localhost:8080/"
        },
        "id": "dTmO1zLgHSpl",
        "outputId": "d22dd8fc-b170-4a9d-bf64-8cf6fdf81e21"
      },
      "source": [
        "print(metrics.classification_report(y_test, pred_lr))"
      ],
      "execution_count": 41,
      "outputs": [
        {
          "output_type": "stream",
          "text": [
            "              precision    recall  f1-score   support\n",
            "\n",
            "         0.0       0.55      0.50      0.53      6262\n",
            "         1.0       0.54      0.59      0.56      6137\n",
            "\n",
            "    accuracy                           0.54     12399\n",
            "   macro avg       0.54      0.54      0.54     12399\n",
            "weighted avg       0.54      0.54      0.54     12399\n",
            "\n"
          ],
          "name": "stdout"
        }
      ]
    },
    {
      "cell_type": "code",
      "metadata": {
        "colab": {
          "base_uri": "https://localhost:8080/"
        },
        "id": "wAoNz3d1HYfU",
        "outputId": "0b527811-90c6-4df9-b8f2-2d07756cb042"
      },
      "source": [
        "import collections\n",
        "collections.Counter(pred_lr)"
      ],
      "execution_count": 42,
      "outputs": [
        {
          "output_type": "execute_result",
          "data": {
            "text/plain": [
              "Counter({0.0: 5671, 1.0: 6728})"
            ]
          },
          "metadata": {
            "tags": []
          },
          "execution_count": 42
        }
      ]
    },
    {
      "cell_type": "code",
      "metadata": {
        "colab": {
          "base_uri": "https://localhost:8080/"
        },
        "id": "DMEWqT90toOd",
        "outputId": "b9bb91b9-cabb-42f7-a8e3-a20f56f6b15d"
      },
      "source": [
        "collections.Counter(y_test)"
      ],
      "execution_count": 43,
      "outputs": [
        {
          "output_type": "execute_result",
          "data": {
            "text/plain": [
              "Counter({0.0: 6262, 1.0: 6137})"
            ]
          },
          "metadata": {
            "tags": []
          },
          "execution_count": 43
        }
      ]
    },
    {
      "cell_type": "code",
      "metadata": {
        "colab": {
          "base_uri": "https://localhost:8080/"
        },
        "id": "udqw_IRqxHnF",
        "outputId": "c219ef25-61ab-443f-ddd1-ce1ea158f9dd"
      },
      "source": [
        "print(\"MAE:\", metrics.mean_absolute_error(y_test, pred_lr))\n",
        "print('MSE:', metrics.mean_squared_error(y_test, pred_lr))\n",
        "print('RMSE:', np.sqrt(metrics.mean_squared_error(y_test, pred_lr)))"
      ],
      "execution_count": 44,
      "outputs": [
        {
          "output_type": "stream",
          "text": [
            "MAE: 0.4565690781514638\n",
            "MSE: 0.4565690781514638\n",
            "RMSE: 0.6756989552688859\n"
          ],
          "name": "stdout"
        }
      ]
    },
    {
      "cell_type": "markdown",
      "metadata": {
        "id": "2dRNB0CHaWL1"
      },
      "source": [
        "## Using Logistic Regression"
      ]
    },
    {
      "cell_type": "code",
      "metadata": {
        "id": "mqXG1qTPejDU"
      },
      "source": [
        "from sklearn.linear_model import LogisticRegression"
      ],
      "execution_count": 45,
      "outputs": []
    },
    {
      "cell_type": "code",
      "metadata": {
        "id": "AakTnsXqfs0Z"
      },
      "source": [
        "reg_log = LogisticRegression()\n",
        "reg_log.fit(X_train, y_train)\n",
        "y_pred = reg_log.predict(X_test)"
      ],
      "execution_count": 46,
      "outputs": []
    },
    {
      "cell_type": "code",
      "metadata": {
        "colab": {
          "base_uri": "https://localhost:8080/"
        },
        "id": "jxXRLs_wJOHy",
        "outputId": "a7634c2d-c371-4dd0-8626-68a1c707985d"
      },
      "source": [
        "np.unique(y_pred)"
      ],
      "execution_count": 47,
      "outputs": [
        {
          "output_type": "execute_result",
          "data": {
            "text/plain": [
              "array([0., 1.])"
            ]
          },
          "metadata": {
            "tags": []
          },
          "execution_count": 47
        }
      ]
    },
    {
      "cell_type": "code",
      "metadata": {
        "colab": {
          "base_uri": "https://localhost:8080/"
        },
        "id": "h3zNacIaf92R",
        "outputId": "8338689b-d0e9-41ce-885a-71a36a7ba52e"
      },
      "source": [
        "from sklearn import metrics\n",
        "print(metrics.classification_report(y_test, y_pred))"
      ],
      "execution_count": 48,
      "outputs": [
        {
          "output_type": "stream",
          "text": [
            "              precision    recall  f1-score   support\n",
            "\n",
            "         0.0       0.55      0.50      0.53      6262\n",
            "         1.0       0.54      0.59      0.56      6137\n",
            "\n",
            "    accuracy                           0.54     12399\n",
            "   macro avg       0.54      0.54      0.54     12399\n",
            "weighted avg       0.54      0.54      0.54     12399\n",
            "\n"
          ],
          "name": "stdout"
        }
      ]
    },
    {
      "cell_type": "code",
      "metadata": {
        "colab": {
          "base_uri": "https://localhost:8080/"
        },
        "id": "qUTDEFMGgtqx",
        "outputId": "281bec1b-9c41-46b1-d617-09c2cd69c036"
      },
      "source": [
        "print(\"roc_auc_score: \", metrics.roc_auc_score(y_test, y_pred))\n",
        "print(\"f1 score: \", metrics.f1_score(y_test, y_pred))"
      ],
      "execution_count": 49,
      "outputs": [
        {
          "output_type": "stream",
          "text": [
            "roc_auc_score:  0.5437021502062951\n",
            "f1 score:  0.5597450050532535\n"
          ],
          "name": "stdout"
        }
      ]
    },
    {
      "cell_type": "code",
      "metadata": {
        "colab": {
          "base_uri": "https://localhost:8080/"
        },
        "id": "jZKdMOOUjJ6L",
        "outputId": "78ebcc78-1959-4320-9804-fd96bd696f9b"
      },
      "source": [
        "len(y_test[y_test==1])"
      ],
      "execution_count": 50,
      "outputs": [
        {
          "output_type": "execute_result",
          "data": {
            "text/plain": [
              "6137"
            ]
          },
          "metadata": {
            "tags": []
          },
          "execution_count": 50
        }
      ]
    },
    {
      "cell_type": "markdown",
      "metadata": {
        "id": "9oT3Ied_yH6a"
      },
      "source": [
        "## Using SVM"
      ]
    },
    {
      "cell_type": "code",
      "metadata": {
        "id": "j-FBsUJRyCvE"
      },
      "source": [
        "from sklearn import svm"
      ],
      "execution_count": 51,
      "outputs": []
    },
    {
      "cell_type": "code",
      "metadata": {
        "id": "CN_GlCpZyOkZ"
      },
      "source": [
        "SVM = svm.LinearSVC()\n",
        "SVM.fit(X_train, y_train)\n",
        "pred_svm = SVM.predict(X_test)"
      ],
      "execution_count": 52,
      "outputs": []
    },
    {
      "cell_type": "code",
      "metadata": {
        "colab": {
          "base_uri": "https://localhost:8080/"
        },
        "id": "yaFSsy4Gynm3",
        "outputId": "5eef8170-930d-47a8-ca31-806d4564cefc"
      },
      "source": [
        "np.unique(pred_svm)"
      ],
      "execution_count": 53,
      "outputs": [
        {
          "output_type": "execute_result",
          "data": {
            "text/plain": [
              "array([0., 1.])"
            ]
          },
          "metadata": {
            "tags": []
          },
          "execution_count": 53
        }
      ]
    },
    {
      "cell_type": "code",
      "metadata": {
        "colab": {
          "base_uri": "https://localhost:8080/"
        },
        "id": "QmgzAiOuyuqp",
        "outputId": "0efb816c-17b4-4163-8ac9-6acc9d40da8c"
      },
      "source": [
        "collections.Counter(pred_svm)"
      ],
      "execution_count": 54,
      "outputs": [
        {
          "output_type": "execute_result",
          "data": {
            "text/plain": [
              "Counter({0.0: 5668, 1.0: 6731})"
            ]
          },
          "metadata": {
            "tags": []
          },
          "execution_count": 54
        }
      ]
    },
    {
      "cell_type": "code",
      "metadata": {
        "colab": {
          "base_uri": "https://localhost:8080/"
        },
        "id": "4NE2SUn5yzqG",
        "outputId": "eb5c75d0-9cd7-48a3-9f94-949b5fd159ba"
      },
      "source": [
        "print(\"MAE:\", metrics.mean_absolute_error(y_test, pred_svm))\n",
        "print('MSE:', metrics.mean_squared_error(y_test, pred_svm))\n",
        "print('RMSE:', np.sqrt(metrics.mean_squared_error(y_test, pred_svm)))"
      ],
      "execution_count": 55,
      "outputs": [
        {
          "output_type": "stream",
          "text": [
            "MAE: 0.4569723364787483\n",
            "MSE: 0.4569723364787483\n",
            "RMSE: 0.6759972902895013\n"
          ],
          "name": "stdout"
        }
      ]
    },
    {
      "cell_type": "code",
      "metadata": {
        "colab": {
          "base_uri": "https://localhost:8080/"
        },
        "id": "bzuIbpjW19u_",
        "outputId": "b01b41e8-cb75-4672-c427-b63387d5e881"
      },
      "source": [
        "roc_auc_score(y_test, pred_svm)"
      ],
      "execution_count": 113,
      "outputs": [
        {
          "output_type": "execute_result",
          "data": {
            "text/plain": [
              "0.5434642364613339"
            ]
          },
          "metadata": {
            "tags": []
          },
          "execution_count": 113
        }
      ]
    },
    {
      "cell_type": "markdown",
      "metadata": {
        "id": "ja1f03JpzaFT"
      },
      "source": [
        "## Using Random Forest"
      ]
    },
    {
      "cell_type": "code",
      "metadata": {
        "id": "WfuVEJwLzKYW"
      },
      "source": [
        "from sklearn.ensemble import RandomForestClassifier\n",
        "\n",
        "RF = RandomForestClassifier(n_estimators=80, random_state=0)\n",
        "RF.fit(X_train, y_train)\n",
        "pred_re = RF.predict(X_test)"
      ],
      "execution_count": 56,
      "outputs": []
    },
    {
      "cell_type": "code",
      "metadata": {
        "colab": {
          "base_uri": "https://localhost:8080/"
        },
        "id": "UQlwMzEr2LAr",
        "outputId": "a141f0ca-063d-4f05-813b-d49315388cd9"
      },
      "source": [
        "from sklearn.metrics import classification_report, confusion_matrix, accuracy_score\n",
        "\n",
        "print(confusion_matrix(y_test,pred_re))\n",
        "print(classification_report(y_test,pred_re))\n",
        "print(accuracy_score(y_test, pred_re))"
      ],
      "execution_count": 57,
      "outputs": [
        {
          "output_type": "stream",
          "text": [
            "[[5786  476]\n",
            " [ 745 5392]]\n",
            "              precision    recall  f1-score   support\n",
            "\n",
            "         0.0       0.89      0.92      0.90      6262\n",
            "         1.0       0.92      0.88      0.90      6137\n",
            "\n",
            "    accuracy                           0.90     12399\n",
            "   macro avg       0.90      0.90      0.90     12399\n",
            "weighted avg       0.90      0.90      0.90     12399\n",
            "\n",
            "0.9015243164771353\n"
          ],
          "name": "stdout"
        }
      ]
    },
    {
      "cell_type": "markdown",
      "metadata": {
        "id": "TADa-pfRW0K2"
      },
      "source": [
        "## Using Neural Network to Classify"
      ]
    },
    {
      "cell_type": "code",
      "metadata": {
        "id": "o_UHqKhAWzyE"
      },
      "source": [
        "from keras.models import Sequential\n",
        "from keras.layers import Dense"
      ],
      "execution_count": 58,
      "outputs": []
    },
    {
      "cell_type": "code",
      "metadata": {
        "id": "iYxwyGylRnr9"
      },
      "source": [
        "model = Sequential()\n",
        "\n",
        "model.add(Dense(units = 8, activation = 'relu', input_shape=(X_train.shape[1], )))\n",
        "\n",
        "model.add(Dense(8, activation='relu'))\n",
        "model.add(Dense(4, activation='relu'))\n",
        "model.add(Dense(2, activation='relu'))\n",
        "\n",
        "model.add(Dense(1, activation='sigmoid'))"
      ],
      "execution_count": 59,
      "outputs": []
    },
    {
      "cell_type": "code",
      "metadata": {
        "colab": {
          "base_uri": "https://localhost:8080/"
        },
        "id": "4nhU1GCVaiPZ",
        "outputId": "33f2aca2-832b-4f81-8d9e-e2ebb0cdf8e7"
      },
      "source": [
        "model.compile(loss='binary_crossentropy',optimizer='sgd',metrics=['accuracy'])\n",
        "\n",
        "history = model.fit(X_train, y_train, epochs=20, validation_data=(X_test, y_test), batch_size=10, verbose=1)"
      ],
      "execution_count": 60,
      "outputs": [
        {
          "output_type": "stream",
          "text": [
            "Epoch 1/20\n",
            "4960/4960 [==============================] - 8s 2ms/step - loss: 0.6934 - accuracy: 0.5030 - val_loss: 0.6926 - val_accuracy: 0.5083\n",
            "Epoch 2/20\n",
            "4960/4960 [==============================] - 7s 1ms/step - loss: 0.6929 - accuracy: 0.5063 - val_loss: 0.6923 - val_accuracy: 0.5225\n",
            "Epoch 3/20\n",
            "4960/4960 [==============================] - 7s 1ms/step - loss: 0.6924 - accuracy: 0.5200 - val_loss: 0.6918 - val_accuracy: 0.5325\n",
            "Epoch 4/20\n",
            "4960/4960 [==============================] - 7s 1ms/step - loss: 0.6920 - accuracy: 0.5220 - val_loss: 0.6912 - val_accuracy: 0.5367\n",
            "Epoch 5/20\n",
            "4960/4960 [==============================] - 7s 1ms/step - loss: 0.6912 - accuracy: 0.5307 - val_loss: 0.6900 - val_accuracy: 0.5313\n",
            "Epoch 6/20\n",
            "4960/4960 [==============================] - 7s 1ms/step - loss: 0.6903 - accuracy: 0.5332 - val_loss: 0.6892 - val_accuracy: 0.5385\n",
            "Epoch 7/20\n",
            "4960/4960 [==============================] - 7s 1ms/step - loss: 0.6888 - accuracy: 0.5418 - val_loss: 0.6879 - val_accuracy: 0.5388\n",
            "Epoch 8/20\n",
            "4960/4960 [==============================] - 7s 1ms/step - loss: 0.6887 - accuracy: 0.5364 - val_loss: 0.6870 - val_accuracy: 0.5404\n",
            "Epoch 9/20\n",
            "4960/4960 [==============================] - 7s 1ms/step - loss: 0.6881 - accuracy: 0.5392 - val_loss: 0.6865 - val_accuracy: 0.5361\n",
            "Epoch 10/20\n",
            "4960/4960 [==============================] - 7s 1ms/step - loss: 0.6864 - accuracy: 0.5459 - val_loss: 0.6857 - val_accuracy: 0.5375\n",
            "Epoch 11/20\n",
            "4960/4960 [==============================] - 7s 1ms/step - loss: 0.6864 - accuracy: 0.5439 - val_loss: 0.6861 - val_accuracy: 0.5467\n",
            "Epoch 12/20\n",
            "4960/4960 [==============================] - 7s 1ms/step - loss: 0.6864 - accuracy: 0.5442 - val_loss: 0.6849 - val_accuracy: 0.5529\n",
            "Epoch 13/20\n",
            "4960/4960 [==============================] - 7s 1ms/step - loss: 0.6855 - accuracy: 0.5515 - val_loss: 0.6844 - val_accuracy: 0.5478\n",
            "Epoch 14/20\n",
            "4960/4960 [==============================] - 7s 1ms/step - loss: 0.6854 - accuracy: 0.5506 - val_loss: 0.6840 - val_accuracy: 0.5503\n",
            "Epoch 15/20\n",
            "4960/4960 [==============================] - 7s 1ms/step - loss: 0.6857 - accuracy: 0.5497 - val_loss: 0.6846 - val_accuracy: 0.5505\n",
            "Epoch 16/20\n",
            "4960/4960 [==============================] - 7s 1ms/step - loss: 0.6851 - accuracy: 0.5475 - val_loss: 0.6839 - val_accuracy: 0.5522\n",
            "Epoch 17/20\n",
            "4960/4960 [==============================] - 7s 1ms/step - loss: 0.6839 - accuracy: 0.5523 - val_loss: 0.6839 - val_accuracy: 0.5486\n",
            "Epoch 18/20\n",
            "4960/4960 [==============================] - 7s 1ms/step - loss: 0.6853 - accuracy: 0.5502 - val_loss: 0.6837 - val_accuracy: 0.5521\n",
            "Epoch 19/20\n",
            "4960/4960 [==============================] - 7s 1ms/step - loss: 0.6849 - accuracy: 0.5495 - val_loss: 0.6832 - val_accuracy: 0.5512\n",
            "Epoch 20/20\n",
            "4960/4960 [==============================] - 7s 1ms/step - loss: 0.6847 - accuracy: 0.5521 - val_loss: 0.6826 - val_accuracy: 0.5486\n"
          ],
          "name": "stdout"
        }
      ]
    },
    {
      "cell_type": "code",
      "metadata": {
        "id": "YAngnVt7xpSW",
        "colab": {
          "base_uri": "https://localhost:8080/"
        },
        "outputId": "36426509-2c2c-4cce-99a0-31dc8dcf99b7"
      },
      "source": [
        "history.history"
      ],
      "execution_count": 61,
      "outputs": [
        {
          "output_type": "execute_result",
          "data": {
            "text/plain": [
              "{'accuracy': [0.505514919757843,\n",
              "  0.5138829946517944,\n",
              "  0.5209606289863586,\n",
              "  0.5263847708702087,\n",
              "  0.5335026979446411,\n",
              "  0.5358619093894958,\n",
              "  0.5390478372573853,\n",
              "  0.5408021211624146,\n",
              "  0.542697548866272,\n",
              "  0.5434637665748596,\n",
              "  0.5445929765701294,\n",
              "  0.5459036827087402,\n",
              "  0.5480007529258728,\n",
              "  0.5470530390739441,\n",
              "  0.5488476157188416,\n",
              "  0.5464481115341187,\n",
              "  0.5483435392379761,\n",
              "  0.5490089058876038,\n",
              "  0.5504204034805298,\n",
              "  0.5534651875495911],\n",
              " 'loss': [0.693150520324707,\n",
              "  0.6926855444908142,\n",
              "  0.6922863721847534,\n",
              "  0.6917286515235901,\n",
              "  0.6909005641937256,\n",
              "  0.689785897731781,\n",
              "  0.6887065172195435,\n",
              "  0.6879234313964844,\n",
              "  0.6872814297676086,\n",
              "  0.6868842244148254,\n",
              "  0.6864020228385925,\n",
              "  0.6860926151275635,\n",
              "  0.6859434843063354,\n",
              "  0.6856527924537659,\n",
              "  0.685457170009613,\n",
              "  0.6853088736534119,\n",
              "  0.6850073933601379,\n",
              "  0.6848743557929993,\n",
              "  0.6844327449798584,\n",
              "  0.6842758059501648],\n",
              " 'val_accuracy': [0.5083474516868591,\n",
              "  0.522461473941803,\n",
              "  0.5325429439544678,\n",
              "  0.5367368459701538,\n",
              "  0.5313331484794617,\n",
              "  0.5385111570358276,\n",
              "  0.5387531518936157,\n",
              "  0.5404468178749084,\n",
              "  0.5360916256904602,\n",
              "  0.5375433564186096,\n",
              "  0.5466569662094116,\n",
              "  0.5528671741485596,\n",
              "  0.5477861166000366,\n",
              "  0.5502862930297852,\n",
              "  0.5505282878875732,\n",
              "  0.552221953868866,\n",
              "  0.5485926270484924,\n",
              "  0.5521413087844849,\n",
              "  0.5511735081672668,\n",
              "  0.5485926270484924],\n",
              " 'val_loss': [0.6926041841506958,\n",
              "  0.6922612190246582,\n",
              "  0.6918296217918396,\n",
              "  0.6912457346916199,\n",
              "  0.6899878978729248,\n",
              "  0.6891968846321106,\n",
              "  0.6879385709762573,\n",
              "  0.6869995594024658,\n",
              "  0.6864790916442871,\n",
              "  0.6856778264045715,\n",
              "  0.6861317753791809,\n",
              "  0.6849055290222168,\n",
              "  0.6843574047088623,\n",
              "  0.6840182542800903,\n",
              "  0.684554934501648,\n",
              "  0.6839304566383362,\n",
              "  0.6838892698287964,\n",
              "  0.6836714148521423,\n",
              "  0.683171272277832,\n",
              "  0.6825659871101379]}"
            ]
          },
          "metadata": {
            "tags": []
          },
          "execution_count": 61
        }
      ]
    },
    {
      "cell_type": "code",
      "metadata": {
        "colab": {
          "base_uri": "https://localhost:8080/",
          "height": 281
        },
        "id": "nWoF2xM3ycMe",
        "outputId": "1c612c96-5ccf-41a1-909a-85e6af884fde"
      },
      "source": [
        "# plot loss during training\n",
        "plt.subplot(211)\n",
        "plt.title('Loss')\n",
        "plt.plot(history.history['loss'], label='train')\n",
        "plt.plot(history.history['val_loss'], label='test')\n",
        "plt.legend()\n",
        "# plot accuracy during training\n",
        "plt.subplot(212)\n",
        "plt.title('Accuracy')\n",
        "plt.plot(history.history['accuracy'], label='train')\n",
        "plt.plot(history.history['val_accuracy'], label='test')\n",
        "plt.legend()\n",
        "plt.show()"
      ],
      "execution_count": 62,
      "outputs": [
        {
          "output_type": "display_data",
          "data": {
            "image/png": "[encoded data removed]",
            "text/plain": [
              "<Figure size 432x288 with 2 Axes>"
            ]
          },
          "metadata": {
            "tags": [],
            "needs_background": "light"
          }
        }
      ]
    },
    {
      "cell_type": "code",
      "metadata": {
        "colab": {
          "base_uri": "https://localhost:8080/"
        },
        "id": "bMWakHS-ycEw",
        "outputId": "6efcde1f-5f36-4295-9d37-bd8db0f7ea23"
      },
      "source": [
        "pred_nn = model.predict(X_test, batch_size=1, verbose=1)"
      ],
      "execution_count": 63,
      "outputs": [
        {
          "output_type": "stream",
          "text": [
            "12399/12399 [==============================] - 9s 743us/step\n"
          ],
          "name": "stdout"
        }
      ]
    },
    {
      "cell_type": "code",
      "metadata": {
        "colab": {
          "base_uri": "https://localhost:8080/"
        },
        "id": "oaTBpr402P-g",
        "outputId": "94ec6be1-a2d1-43e2-f318-bbeecb146453"
      },
      "source": [
        "for i in range(len(pred_nn)):\n",
        "  if pred_nn[i]<0.5:\n",
        "    pred_nn[i]=0\n",
        "  else:\n",
        "    pred_nn[i]=1\n",
        "\n",
        "np.unique(pred_nn)"
      ],
      "execution_count": 64,
      "outputs": [
        {
          "output_type": "execute_result",
          "data": {
            "text/plain": [
              "array([0., 1.], dtype=float32)"
            ]
          },
          "metadata": {
            "tags": []
          },
          "execution_count": 64
        }
      ]
    },
    {
      "cell_type": "code",
      "metadata": {
        "colab": {
          "base_uri": "https://localhost:8080/"
        },
        "id": "6XL0EHJX2P2D",
        "outputId": "2af035dc-a81e-4c86-d5c5-116d45d33cbe"
      },
      "source": [
        "accuracy_score(y_test, pred_nn)"
      ],
      "execution_count": 65,
      "outputs": [
        {
          "output_type": "execute_result",
          "data": {
            "text/plain": [
              "0.5485926284377772"
            ]
          },
          "metadata": {
            "tags": []
          },
          "execution_count": 65
        }
      ]
    },
    {
      "cell_type": "markdown",
      "metadata": {
        "id": "PMY0Q-BRYUCd"
      },
      "source": [
        "## Using Naive Bayes"
      ]
    },
    {
      "cell_type": "code",
      "metadata": {
        "id": "innzfXqUYc6r"
      },
      "source": [
        "from sklearn.naive_bayes import GaussianNB\n",
        "\n",
        "nb = GaussianNB()"
      ],
      "execution_count": 66,
      "outputs": []
    },
    {
      "cell_type": "code",
      "metadata": {
        "id": "zT03iV4PYcNL"
      },
      "source": [
        "nb.fit(X_train, y_train)\n",
        "pred_nb = nb.predict(X_test)"
      ],
      "execution_count": 67,
      "outputs": []
    },
    {
      "cell_type": "code",
      "metadata": {
        "colab": {
          "base_uri": "https://localhost:8080/"
        },
        "id": "NbaHMl94ZSPp",
        "outputId": "0e41ee60-3757-4656-9e1c-2aad4a1a119d"
      },
      "source": [
        "print(confusion_matrix(y_test,pred_nb))\n",
        "print(classification_report(y_test,pred_nb, target_names=['risk flag 0', 'risk flag 1'] ))\n",
        "print(accuracy_score(y_test, pred_nb))"
      ],
      "execution_count": 68,
      "outputs": [
        {
          "output_type": "stream",
          "text": [
            "[[2351 3911]\n",
            " [1920 4217]]\n",
            "              precision    recall  f1-score   support\n",
            "\n",
            " risk flag 0       0.55      0.38      0.45      6262\n",
            " risk flag 1       0.52      0.69      0.59      6137\n",
            "\n",
            "    accuracy                           0.53     12399\n",
            "   macro avg       0.53      0.53      0.52     12399\n",
            "weighted avg       0.53      0.53      0.52     12399\n",
            "\n",
            "0.5297201387208645\n"
          ],
          "name": "stdout"
        }
      ]
    },
    {
      "cell_type": "code",
      "metadata": {
        "colab": {
          "base_uri": "https://localhost:8080/"
        },
        "id": "Uje6lGGhe4Ik",
        "outputId": "6430bc49-0433-4f44-ddcc-e1f14113d7a7"
      },
      "source": [
        "pred_nb"
      ],
      "execution_count": 69,
      "outputs": [
        {
          "output_type": "execute_result",
          "data": {
            "text/plain": [
              "array([0., 1., 0., ..., 1., 0., 0.])"
            ]
          },
          "metadata": {
            "tags": []
          },
          "execution_count": 69
        }
      ]
    },
    {
      "cell_type": "code",
      "metadata": {
        "colab": {
          "base_uri": "https://localhost:8080/"
        },
        "id": "GyzhN2UZjwiy",
        "outputId": "40faa6e1-1c39-4cf4-b336-71dcfcfb2e58"
      },
      "source": [
        "print(\"Roc_auc_score:\", metrics.roc_auc_score(y_test, pred_nb))"
      ],
      "execution_count": 70,
      "outputs": [
        {
          "output_type": "stream",
          "text": [
            "Roc_auc_score: 0.5312913561510214\n"
          ],
          "name": "stdout"
        }
      ]
    },
    {
      "cell_type": "markdown",
      "metadata": {
        "id": "i3OTzMw5m_uA"
      },
      "source": [
        "## Using Decision Tree"
      ]
    },
    {
      "cell_type": "code",
      "metadata": {
        "id": "6_1gp45MnERD"
      },
      "source": [
        "from sklearn.tree import DecisionTreeClassifier\n",
        "\n",
        "dtree = DecisionTreeClassifier()\n",
        "dtree.fit(X_train, y_train)\n",
        "pred_dtree = dtree.predict(X_test)"
      ],
      "execution_count": 71,
      "outputs": []
    },
    {
      "cell_type": "code",
      "metadata": {
        "colab": {
          "base_uri": "https://localhost:8080/"
        },
        "id": "sthJu1rlnEHi",
        "outputId": "04ace86b-ff52-43eb-91be-03c81206f3d1"
      },
      "source": [
        "print(classification_report(y_test,pred_dtree, target_names=['risk flag 0', 'risk flag 1'] ))\n",
        "print(\"Accuacy score\", accuracy_score(y_test, pred_dtree))\n",
        "print(\"Roc_auc_score:\", metrics.roc_auc_score(y_test, pred_dtree))"
      ],
      "execution_count": 72,
      "outputs": [
        {
          "output_type": "stream",
          "text": [
            "              precision    recall  f1-score   support\n",
            "\n",
            " risk flag 0       0.91      0.92      0.92      6262\n",
            " risk flag 1       0.92      0.90      0.91      6137\n",
            "\n",
            "    accuracy                           0.91     12399\n",
            "   macro avg       0.91      0.91      0.91     12399\n",
            "weighted avg       0.91      0.91      0.91     12399\n",
            "\n",
            "Accuacy score 0.9135414146302121\n",
            "Roc_auc_score: 0.9134334198267628\n"
          ],
          "name": "stdout"
        }
      ]
    },
    {
      "cell_type": "markdown",
      "metadata": {
        "id": "rrMNlsYrttUC"
      },
      "source": [
        "## Conculsion of Classifier Algorithms"
      ]
    },
    {
      "cell_type": "code",
      "metadata": {
        "id": "iyYVkpNp4qv_"
      },
      "source": [
        "from sklearn.metrics import accuracy_score, f1_score, roc_auc_score"
      ],
      "execution_count": 73,
      "outputs": []
    },
    {
      "cell_type": "code",
      "metadata": {
        "id": "ayggrqfAtwFQ"
      },
      "source": [
        "comparison_matrix = {'Linear Regression': [accuracy_score(y_test, pred_lr), f1_score(y_test, pred_lr), roc_auc_score(y_test, pred_lr)],\n",
        "                     'Logistic Regression': [accuracy_score(y_test, y_pred), f1_score(y_test, y_pred), roc_auc_score(y_test, y_pred)],\n",
        "                     'SVM classifier': [accuracy_score(y_test, pred_svm), f1_score(y_test, pred_svm), roc_auc_score(y_test, pred_svm)],\n",
        "                     'Naive Bayes': [accuracy_score(y_test, pred_nb), f1_score(y_test, pred_nb), roc_auc_score(y_test, pred_nb)],\n",
        "                     'Random Forest': [accuracy_score(y_test, pred_re), f1_score(y_test, pred_re), roc_auc_score(y_test, pred_re)],\n",
        "                     'Decison Tree': [accuracy_score(y_test, pred_dtree), f1_score(y_test, pred_dtree), roc_auc_score(y_test, pred_dtree)],\n",
        "                     'Neural Network': [accuracy_score(y_test, pred_nn), f1_score(y_test, pred_nn), roc_auc_score(y_test, pred_nn)]}\n",
        "\n",
        "com_matrix = pd.DataFrame(comparison_matrix).transpose()\n",
        "com_matrix.reset_index(inplace=True)"
      ],
      "execution_count": 74,
      "outputs": []
    },
    {
      "cell_type": "code",
      "metadata": {
        "colab": {
          "base_uri": "https://localhost:8080/",
          "height": 294
        },
        "id": "fhwy2viV40p6",
        "outputId": "38e4d474-f181-4cf8-a9b5-eaf66a5fac29"
      },
      "source": [
        "com_matrix.columns = ['Classification Algorithm','Accuracy Score', 'F1 Score', 'Roc Auc Score']\n",
        "com_matrix.set_index('Classification Algorithm',inplace=True)\n",
        "com_matrix"
      ],
      "execution_count": 75,
      "outputs": [
        {
          "output_type": "execute_result",
          "data": {
            "text/html": [
              "<div>\n",
              "<style scoped>\n",
              "    .dataframe tbody tr th:only-of-type {\n",
              "        vertical-align: middle;\n",
              "    }\n",
              "\n",
              "    .dataframe tbody tr th {\n",
              "        vertical-align: top;\n",
              "    }\n",
              "\n",
              "    .dataframe thead th {\n",
              "        text-align: right;\n",
              "    }\n",
              "</style>\n",
              "<table border=\"1\" class=\"dataframe\">\n",
              "  <thead>\n",
              "    <tr style=\"text-align: right;\">\n",
              "      <th></th>\n",
              "      <th>Accuracy Score</th>\n",
              "      <th>F1 Score</th>\n",
              "      <th>Roc Auc Score</th>\n",
              "    </tr>\n",
              "    <tr>\n",
              "      <th>Classification Algorithm</th>\n",
              "      <th></th>\n",
              "      <th></th>\n",
              "      <th></th>\n",
              "    </tr>\n",
              "  </thead>\n",
              "  <tbody>\n",
              "    <tr>\n",
              "      <th>Linear Regression</th>\n",
              "      <td>0.543431</td>\n",
              "      <td>0.559969</td>\n",
              "      <td>0.543865</td>\n",
              "    </tr>\n",
              "    <tr>\n",
              "      <th>Logistic Regression</th>\n",
              "      <td>0.543270</td>\n",
              "      <td>0.559745</td>\n",
              "      <td>0.543702</td>\n",
              "    </tr>\n",
              "    <tr>\n",
              "      <th>SVM classifier</th>\n",
              "      <td>0.543028</td>\n",
              "      <td>0.559683</td>\n",
              "      <td>0.543464</td>\n",
              "    </tr>\n",
              "    <tr>\n",
              "      <th>Naive Bayes</th>\n",
              "      <td>0.529720</td>\n",
              "      <td>0.591237</td>\n",
              "      <td>0.531291</td>\n",
              "    </tr>\n",
              "    <tr>\n",
              "      <th>Random Forest</th>\n",
              "      <td>0.901524</td>\n",
              "      <td>0.898292</td>\n",
              "      <td>0.901296</td>\n",
              "    </tr>\n",
              "    <tr>\n",
              "      <th>Decison Tree</th>\n",
              "      <td>0.913541</td>\n",
              "      <td>0.911784</td>\n",
              "      <td>0.913433</td>\n",
              "    </tr>\n",
              "    <tr>\n",
              "      <th>Neural Network</th>\n",
              "      <td>0.548593</td>\n",
              "      <td>0.551846</td>\n",
              "      <td>0.548722</td>\n",
              "    </tr>\n",
              "  </tbody>\n",
              "</table>\n",
              "</div>"
            ],
            "text/plain": [
              "                          Accuracy Score  F1 Score  Roc Auc Score\n",
              "Classification Algorithm                                         \n",
              "Linear Regression               0.543431  0.559969       0.543865\n",
              "Logistic Regression             0.543270  0.559745       0.543702\n",
              "SVM classifier                  0.543028  0.559683       0.543464\n",
              "Naive Bayes                     0.529720  0.591237       0.531291\n",
              "Random Forest                   0.901524  0.898292       0.901296\n",
              "Decison Tree                    0.913541  0.911784       0.913433\n",
              "Neural Network                  0.548593  0.551846       0.548722"
            ]
          },
          "metadata": {
            "tags": []
          },
          "execution_count": 75
        }
      ]
    },
    {
      "cell_type": "markdown",
      "metadata": {
        "id": "MokIEPFB-CBv"
      },
      "source": [
        "## Using all the data from the best classifer"
      ]
    },
    {
      "cell_type": "code",
      "metadata": {
        "colab": {
          "base_uri": "https://localhost:8080/"
        },
        "id": "AJZLVwPK-AKB",
        "outputId": "3608c7b9-c73a-40af-b7f6-7f6e0be52978"
      },
      "source": [
        "train_full = data2.sample(frac=1)\n",
        "train_X_full = train_full.iloc[:, :-1]\n",
        "train_y_full = train_full.iloc[:, -1]\n",
        "\n",
        "print(\"shape of train X full :\",train_X_full.shape)\n",
        "print(\"shape of train y full :\",train_y_full.shape)"
      ],
      "execution_count": 77,
      "outputs": [
        {
          "output_type": "stream",
          "text": [
            "shape of train X full : (61992, 16)\n",
            "shape of train y full : (61992,)\n"
          ],
          "name": "stdout"
        }
      ]
    },
    {
      "cell_type": "code",
      "metadata": {
        "colab": {
          "base_uri": "https://localhost:8080/"
        },
        "id": "nUZjhv_i_Vgb",
        "outputId": "2acf6327-dfa3-4b06-9f46-06a7d896e61e"
      },
      "source": [
        "#using DecisionTree as it is showing the best results\n",
        "dtc = DecisionTreeClassifier()\n",
        "dtc.fit(train_X_full, train_y_full) "
      ],
      "execution_count": 78,
      "outputs": [
        {
          "output_type": "execute_result",
          "data": {
            "text/plain": [
              "DecisionTreeClassifier(ccp_alpha=0.0, class_weight=None, criterion='gini',\n",
              "                       max_depth=None, max_features=None, max_leaf_nodes=None,\n",
              "                       min_impurity_decrease=0.0, min_impurity_split=None,\n",
              "                       min_samples_leaf=1, min_samples_split=2,\n",
              "                       min_weight_fraction_leaf=0.0, presort='deprecated',\n",
              "                       random_state=None, splitter='best')"
            ]
          },
          "metadata": {
            "tags": []
          },
          "execution_count": 78
        }
      ]
    },
    {
      "cell_type": "code",
      "metadata": {
        "colab": {
          "base_uri": "https://localhost:8080/"
        },
        "id": "S280DChN2S_y",
        "outputId": "0c904213-a1f0-41de-b89c-f4535ced4d3e"
      },
      "source": [
        "#using Random Forest Tree as it is also have a potential score\n",
        "rf_algo = RandomForestClassifier()\n",
        "rf_algo.fit(train_X_full, train_y_full)"
      ],
      "execution_count": 114,
      "outputs": [
        {
          "output_type": "execute_result",
          "data": {
            "text/plain": [
              "RandomForestClassifier(bootstrap=True, ccp_alpha=0.0, class_weight=None,\n",
              "                       criterion='gini', max_depth=None, max_features='auto',\n",
              "                       max_leaf_nodes=None, max_samples=None,\n",
              "                       min_impurity_decrease=0.0, min_impurity_split=None,\n",
              "                       min_samples_leaf=1, min_samples_split=2,\n",
              "                       min_weight_fraction_leaf=0.0, n_estimators=100,\n",
              "                       n_jobs=None, oob_score=False, random_state=None,\n",
              "                       verbose=0, warm_start=False)"
            ]
          },
          "metadata": {
            "tags": []
          },
          "execution_count": 114
        }
      ]
    },
    {
      "cell_type": "markdown",
      "metadata": {
        "id": "z7IU1L2h3qmk"
      },
      "source": [
        "## Using Classifiers on the Test File"
      ]
    },
    {
      "cell_type": "code",
      "metadata": {
        "colab": {
          "base_uri": "https://localhost:8080/",
          "height": 202
        },
        "id": "eKNA3tRp26oS",
        "outputId": "b11c4592-7966-4a9d-aef2-2de86e6d0980"
      },
      "source": [
        "test_file_url = \"https://raw.githubusercontent.com/sudo0809/Credit-Risk-Prediction/main/Test%20Data.csv\"\n",
        "test_df = pd.read_csv(test_file_url,)\n",
        "test_df.head()"
      ],
      "execution_count": 84,
      "outputs": [
        {
          "output_type": "execute_result",
          "data": {
            "text/html": [
              "<div>\n",
              "<style scoped>\n",
              "    .dataframe tbody tr th:only-of-type {\n",
              "        vertical-align: middle;\n",
              "    }\n",
              "\n",
              "    .dataframe tbody tr th {\n",
              "        vertical-align: top;\n",
              "    }\n",
              "\n",
              "    .dataframe thead th {\n",
              "        text-align: right;\n",
              "    }\n",
              "</style>\n",
              "<table border=\"1\" class=\"dataframe\">\n",
              "  <thead>\n",
              "    <tr style=\"text-align: right;\">\n",
              "      <th></th>\n",
              "      <th>id</th>\n",
              "      <th>income</th>\n",
              "      <th>age</th>\n",
              "      <th>experience</th>\n",
              "      <th>married</th>\n",
              "      <th>house_ownership</th>\n",
              "      <th>car_ownership</th>\n",
              "      <th>profession</th>\n",
              "      <th>city</th>\n",
              "      <th>state</th>\n",
              "      <th>current_job_years</th>\n",
              "      <th>current_house_years</th>\n",
              "    </tr>\n",
              "  </thead>\n",
              "  <tbody>\n",
              "    <tr>\n",
              "      <th>0</th>\n",
              "      <td>1</td>\n",
              "      <td>7393090</td>\n",
              "      <td>59</td>\n",
              "      <td>19</td>\n",
              "      <td>single</td>\n",
              "      <td>rented</td>\n",
              "      <td>no</td>\n",
              "      <td>Geologist</td>\n",
              "      <td>Malda</td>\n",
              "      <td>West Bengal</td>\n",
              "      <td>4</td>\n",
              "      <td>13</td>\n",
              "    </tr>\n",
              "    <tr>\n",
              "      <th>1</th>\n",
              "      <td>2</td>\n",
              "      <td>1215004</td>\n",
              "      <td>25</td>\n",
              "      <td>5</td>\n",
              "      <td>single</td>\n",
              "      <td>rented</td>\n",
              "      <td>no</td>\n",
              "      <td>Firefighter</td>\n",
              "      <td>Jalna</td>\n",
              "      <td>Maharashtra</td>\n",
              "      <td>5</td>\n",
              "      <td>10</td>\n",
              "    </tr>\n",
              "    <tr>\n",
              "      <th>2</th>\n",
              "      <td>3</td>\n",
              "      <td>8901342</td>\n",
              "      <td>50</td>\n",
              "      <td>12</td>\n",
              "      <td>single</td>\n",
              "      <td>rented</td>\n",
              "      <td>no</td>\n",
              "      <td>Lawyer</td>\n",
              "      <td>Thane</td>\n",
              "      <td>Maharashtra</td>\n",
              "      <td>9</td>\n",
              "      <td>14</td>\n",
              "    </tr>\n",
              "    <tr>\n",
              "      <th>3</th>\n",
              "      <td>4</td>\n",
              "      <td>1944421</td>\n",
              "      <td>49</td>\n",
              "      <td>9</td>\n",
              "      <td>married</td>\n",
              "      <td>rented</td>\n",
              "      <td>yes</td>\n",
              "      <td>Analyst</td>\n",
              "      <td>Latur</td>\n",
              "      <td>Maharashtra</td>\n",
              "      <td>3</td>\n",
              "      <td>12</td>\n",
              "    </tr>\n",
              "    <tr>\n",
              "      <th>4</th>\n",
              "      <td>5</td>\n",
              "      <td>13429</td>\n",
              "      <td>25</td>\n",
              "      <td>18</td>\n",
              "      <td>single</td>\n",
              "      <td>rented</td>\n",
              "      <td>yes</td>\n",
              "      <td>Comedian</td>\n",
              "      <td>Berhampore</td>\n",
              "      <td>West Bengal</td>\n",
              "      <td>13</td>\n",
              "      <td>11</td>\n",
              "    </tr>\n",
              "  </tbody>\n",
              "</table>\n",
              "</div>"
            ],
            "text/plain": [
              "   id   income  age  ...        state current_job_years current_house_years\n",
              "0   1  7393090   59  ...  West Bengal                 4                  13\n",
              "1   2  1215004   25  ...  Maharashtra                 5                  10\n",
              "2   3  8901342   50  ...  Maharashtra                 9                  14\n",
              "3   4  1944421   49  ...  Maharashtra                 3                  12\n",
              "4   5    13429   25  ...  West Bengal                13                  11\n",
              "\n",
              "[5 rows x 12 columns]"
            ]
          },
          "metadata": {
            "tags": []
          },
          "execution_count": 84
        }
      ]
    },
    {
      "cell_type": "code",
      "metadata": {
        "id": "zrvXOMET33fb"
      },
      "source": [
        "useful_test = test_df.drop(['id', 'city', 'state'], axis=1)"
      ],
      "execution_count": 89,
      "outputs": []
    },
    {
      "cell_type": "code",
      "metadata": {
        "colab": {
          "base_uri": "https://localhost:8080/",
          "height": 202
        },
        "id": "LFOd5Av34b0g",
        "outputId": "850ee677-abb8-4ae2-f455-594282397df7"
      },
      "source": [
        "useful_test.head()"
      ],
      "execution_count": 90,
      "outputs": [
        {
          "output_type": "execute_result",
          "data": {
            "text/html": [
              "<div>\n",
              "<style scoped>\n",
              "    .dataframe tbody tr th:only-of-type {\n",
              "        vertical-align: middle;\n",
              "    }\n",
              "\n",
              "    .dataframe tbody tr th {\n",
              "        vertical-align: top;\n",
              "    }\n",
              "\n",
              "    .dataframe thead th {\n",
              "        text-align: right;\n",
              "    }\n",
              "</style>\n",
              "<table border=\"1\" class=\"dataframe\">\n",
              "  <thead>\n",
              "    <tr style=\"text-align: right;\">\n",
              "      <th></th>\n",
              "      <th>income</th>\n",
              "      <th>age</th>\n",
              "      <th>experience</th>\n",
              "      <th>married</th>\n",
              "      <th>house_ownership</th>\n",
              "      <th>car_ownership</th>\n",
              "      <th>profession</th>\n",
              "      <th>current_job_years</th>\n",
              "      <th>current_house_years</th>\n",
              "    </tr>\n",
              "  </thead>\n",
              "  <tbody>\n",
              "    <tr>\n",
              "      <th>0</th>\n",
              "      <td>7393090</td>\n",
              "      <td>59</td>\n",
              "      <td>19</td>\n",
              "      <td>single</td>\n",
              "      <td>rented</td>\n",
              "      <td>no</td>\n",
              "      <td>Geologist</td>\n",
              "      <td>4</td>\n",
              "      <td>13</td>\n",
              "    </tr>\n",
              "    <tr>\n",
              "      <th>1</th>\n",
              "      <td>1215004</td>\n",
              "      <td>25</td>\n",
              "      <td>5</td>\n",
              "      <td>single</td>\n",
              "      <td>rented</td>\n",
              "      <td>no</td>\n",
              "      <td>Firefighter</td>\n",
              "      <td>5</td>\n",
              "      <td>10</td>\n",
              "    </tr>\n",
              "    <tr>\n",
              "      <th>2</th>\n",
              "      <td>8901342</td>\n",
              "      <td>50</td>\n",
              "      <td>12</td>\n",
              "      <td>single</td>\n",
              "      <td>rented</td>\n",
              "      <td>no</td>\n",
              "      <td>Lawyer</td>\n",
              "      <td>9</td>\n",
              "      <td>14</td>\n",
              "    </tr>\n",
              "    <tr>\n",
              "      <th>3</th>\n",
              "      <td>1944421</td>\n",
              "      <td>49</td>\n",
              "      <td>9</td>\n",
              "      <td>married</td>\n",
              "      <td>rented</td>\n",
              "      <td>yes</td>\n",
              "      <td>Analyst</td>\n",
              "      <td>3</td>\n",
              "      <td>12</td>\n",
              "    </tr>\n",
              "    <tr>\n",
              "      <th>4</th>\n",
              "      <td>13429</td>\n",
              "      <td>25</td>\n",
              "      <td>18</td>\n",
              "      <td>single</td>\n",
              "      <td>rented</td>\n",
              "      <td>yes</td>\n",
              "      <td>Comedian</td>\n",
              "      <td>13</td>\n",
              "      <td>11</td>\n",
              "    </tr>\n",
              "  </tbody>\n",
              "</table>\n",
              "</div>"
            ],
            "text/plain": [
              "    income  age  ...  current_job_years current_house_years\n",
              "0  7393090   59  ...                  4                  13\n",
              "1  1215004   25  ...                  5                  10\n",
              "2  8901342   50  ...                  9                  14\n",
              "3  1944421   49  ...                  3                  12\n",
              "4    13429   25  ...                 13                  11\n",
              "\n",
              "[5 rows x 9 columns]"
            ]
          },
          "metadata": {
            "tags": []
          },
          "execution_count": 90
        }
      ]
    },
    {
      "cell_type": "code",
      "metadata": {
        "colab": {
          "base_uri": "https://localhost:8080/",
          "height": 258
        },
        "id": "vNKMMXud4gO4",
        "outputId": "87573f04-6f58-4cda-986f-a789c7cc0f79"
      },
      "source": [
        "useful_test['married'] = married_le.transform(useful_test['married'])\n",
        "useful_test['house_ownership'] = house_le.transform(useful_test['house_ownership'])\n",
        "useful_test['car_ownership'] = car_le.transform(useful_test['car_ownership'])\n",
        "useful_test = hash_enc.fit_transform(useful_test)\n",
        "useful_test.head()"
      ],
      "execution_count": 91,
      "outputs": [
        {
          "output_type": "stream",
          "text": [
            "/usr/local/lib/python3.7/dist-packages/category_encoders/utils.py:21: FutureWarning: is_categorical is deprecated and will be removed in a future version.  Use is_categorical_dtype instead\n",
            "  elif pd.api.types.is_categorical(cols):\n"
          ],
          "name": "stderr"
        },
        {
          "output_type": "execute_result",
          "data": {
            "text/html": [
              "<div>\n",
              "<style scoped>\n",
              "    .dataframe tbody tr th:only-of-type {\n",
              "        vertical-align: middle;\n",
              "    }\n",
              "\n",
              "    .dataframe tbody tr th {\n",
              "        vertical-align: top;\n",
              "    }\n",
              "\n",
              "    .dataframe thead th {\n",
              "        text-align: right;\n",
              "    }\n",
              "</style>\n",
              "<table border=\"1\" class=\"dataframe\">\n",
              "  <thead>\n",
              "    <tr style=\"text-align: right;\">\n",
              "      <th></th>\n",
              "      <th>col_0</th>\n",
              "      <th>col_1</th>\n",
              "      <th>col_2</th>\n",
              "      <th>col_3</th>\n",
              "      <th>col_4</th>\n",
              "      <th>col_5</th>\n",
              "      <th>col_6</th>\n",
              "      <th>col_7</th>\n",
              "      <th>income</th>\n",
              "      <th>age</th>\n",
              "      <th>experience</th>\n",
              "      <th>married</th>\n",
              "      <th>house_ownership</th>\n",
              "      <th>car_ownership</th>\n",
              "      <th>current_job_years</th>\n",
              "      <th>current_house_years</th>\n",
              "    </tr>\n",
              "  </thead>\n",
              "  <tbody>\n",
              "    <tr>\n",
              "      <th>0</th>\n",
              "      <td>0</td>\n",
              "      <td>0</td>\n",
              "      <td>1</td>\n",
              "      <td>0</td>\n",
              "      <td>0</td>\n",
              "      <td>0</td>\n",
              "      <td>0</td>\n",
              "      <td>0</td>\n",
              "      <td>7393090</td>\n",
              "      <td>59</td>\n",
              "      <td>19</td>\n",
              "      <td>1</td>\n",
              "      <td>2</td>\n",
              "      <td>0</td>\n",
              "      <td>4</td>\n",
              "      <td>13</td>\n",
              "    </tr>\n",
              "    <tr>\n",
              "      <th>1</th>\n",
              "      <td>0</td>\n",
              "      <td>1</td>\n",
              "      <td>0</td>\n",
              "      <td>0</td>\n",
              "      <td>0</td>\n",
              "      <td>0</td>\n",
              "      <td>0</td>\n",
              "      <td>0</td>\n",
              "      <td>1215004</td>\n",
              "      <td>25</td>\n",
              "      <td>5</td>\n",
              "      <td>1</td>\n",
              "      <td>2</td>\n",
              "      <td>0</td>\n",
              "      <td>5</td>\n",
              "      <td>10</td>\n",
              "    </tr>\n",
              "    <tr>\n",
              "      <th>2</th>\n",
              "      <td>0</td>\n",
              "      <td>0</td>\n",
              "      <td>0</td>\n",
              "      <td>0</td>\n",
              "      <td>1</td>\n",
              "      <td>0</td>\n",
              "      <td>0</td>\n",
              "      <td>0</td>\n",
              "      <td>8901342</td>\n",
              "      <td>50</td>\n",
              "      <td>12</td>\n",
              "      <td>1</td>\n",
              "      <td>2</td>\n",
              "      <td>0</td>\n",
              "      <td>9</td>\n",
              "      <td>14</td>\n",
              "    </tr>\n",
              "    <tr>\n",
              "      <th>3</th>\n",
              "      <td>0</td>\n",
              "      <td>0</td>\n",
              "      <td>0</td>\n",
              "      <td>0</td>\n",
              "      <td>0</td>\n",
              "      <td>1</td>\n",
              "      <td>0</td>\n",
              "      <td>0</td>\n",
              "      <td>1944421</td>\n",
              "      <td>49</td>\n",
              "      <td>9</td>\n",
              "      <td>0</td>\n",
              "      <td>2</td>\n",
              "      <td>1</td>\n",
              "      <td>3</td>\n",
              "      <td>12</td>\n",
              "    </tr>\n",
              "    <tr>\n",
              "      <th>4</th>\n",
              "      <td>0</td>\n",
              "      <td>0</td>\n",
              "      <td>1</td>\n",
              "      <td>0</td>\n",
              "      <td>0</td>\n",
              "      <td>0</td>\n",
              "      <td>0</td>\n",
              "      <td>0</td>\n",
              "      <td>13429</td>\n",
              "      <td>25</td>\n",
              "      <td>18</td>\n",
              "      <td>1</td>\n",
              "      <td>2</td>\n",
              "      <td>1</td>\n",
              "      <td>13</td>\n",
              "      <td>11</td>\n",
              "    </tr>\n",
              "  </tbody>\n",
              "</table>\n",
              "</div>"
            ],
            "text/plain": [
              "   col_0  col_1  col_2  ...  car_ownership  current_job_years  current_house_years\n",
              "0      0      0      1  ...              0                  4                   13\n",
              "1      0      1      0  ...              0                  5                   10\n",
              "2      0      0      0  ...              0                  9                   14\n",
              "3      0      0      0  ...              1                  3                   12\n",
              "4      0      0      1  ...              1                 13                   11\n",
              "\n",
              "[5 rows x 16 columns]"
            ]
          },
          "metadata": {
            "tags": []
          },
          "execution_count": 91
        }
      ]
    },
    {
      "cell_type": "code",
      "metadata": {
        "id": "Vccqgcb25gsm"
      },
      "source": [
        "test_ass = pd.DataFrame(scaler.fit_transform(useful_test))"
      ],
      "execution_count": 92,
      "outputs": []
    },
    {
      "cell_type": "code",
      "metadata": {
        "colab": {
          "base_uri": "https://localhost:8080/",
          "height": 220
        },
        "id": "RKHxHVx26Rd4",
        "outputId": "c68af64d-0a69-47cb-bdd5-525eca9bb8f8"
      },
      "source": [
        "display(test_ass.head())\n",
        "test_ass.shape"
      ],
      "execution_count": 93,
      "outputs": [
        {
          "output_type": "display_data",
          "data": {
            "text/html": [
              "<div>\n",
              "<style scoped>\n",
              "    .dataframe tbody tr th:only-of-type {\n",
              "        vertical-align: middle;\n",
              "    }\n",
              "\n",
              "    .dataframe tbody tr th {\n",
              "        vertical-align: top;\n",
              "    }\n",
              "\n",
              "    .dataframe thead th {\n",
              "        text-align: right;\n",
              "    }\n",
              "</style>\n",
              "<table border=\"1\" class=\"dataframe\">\n",
              "  <thead>\n",
              "    <tr style=\"text-align: right;\">\n",
              "      <th></th>\n",
              "      <th>0</th>\n",
              "      <th>1</th>\n",
              "      <th>2</th>\n",
              "      <th>3</th>\n",
              "      <th>4</th>\n",
              "      <th>5</th>\n",
              "      <th>6</th>\n",
              "      <th>7</th>\n",
              "      <th>8</th>\n",
              "      <th>9</th>\n",
              "      <th>10</th>\n",
              "      <th>11</th>\n",
              "      <th>12</th>\n",
              "      <th>13</th>\n",
              "      <th>14</th>\n",
              "      <th>15</th>\n",
              "    </tr>\n",
              "  </thead>\n",
              "  <tbody>\n",
              "    <tr>\n",
              "      <th>0</th>\n",
              "      <td>0.0</td>\n",
              "      <td>0.0</td>\n",
              "      <td>1.0</td>\n",
              "      <td>0.0</td>\n",
              "      <td>0.0</td>\n",
              "      <td>0.0</td>\n",
              "      <td>0.0</td>\n",
              "      <td>0.0</td>\n",
              "      <td>0.739054</td>\n",
              "      <td>0.655172</td>\n",
              "      <td>0.95</td>\n",
              "      <td>1.0</td>\n",
              "      <td>1.0</td>\n",
              "      <td>0.0</td>\n",
              "      <td>0.285714</td>\n",
              "      <td>0.75</td>\n",
              "    </tr>\n",
              "    <tr>\n",
              "      <th>1</th>\n",
              "      <td>0.0</td>\n",
              "      <td>1.0</td>\n",
              "      <td>0.0</td>\n",
              "      <td>0.0</td>\n",
              "      <td>0.0</td>\n",
              "      <td>0.0</td>\n",
              "      <td>0.0</td>\n",
              "      <td>0.0</td>\n",
              "      <td>0.120596</td>\n",
              "      <td>0.068966</td>\n",
              "      <td>0.25</td>\n",
              "      <td>1.0</td>\n",
              "      <td>1.0</td>\n",
              "      <td>0.0</td>\n",
              "      <td>0.357143</td>\n",
              "      <td>0.00</td>\n",
              "    </tr>\n",
              "    <tr>\n",
              "      <th>2</th>\n",
              "      <td>0.0</td>\n",
              "      <td>0.0</td>\n",
              "      <td>0.0</td>\n",
              "      <td>0.0</td>\n",
              "      <td>1.0</td>\n",
              "      <td>0.0</td>\n",
              "      <td>0.0</td>\n",
              "      <td>0.0</td>\n",
              "      <td>0.890037</td>\n",
              "      <td>0.500000</td>\n",
              "      <td>0.60</td>\n",
              "      <td>1.0</td>\n",
              "      <td>1.0</td>\n",
              "      <td>0.0</td>\n",
              "      <td>0.642857</td>\n",
              "      <td>1.00</td>\n",
              "    </tr>\n",
              "    <tr>\n",
              "      <th>3</th>\n",
              "      <td>0.0</td>\n",
              "      <td>0.0</td>\n",
              "      <td>0.0</td>\n",
              "      <td>0.0</td>\n",
              "      <td>0.0</td>\n",
              "      <td>1.0</td>\n",
              "      <td>0.0</td>\n",
              "      <td>0.0</td>\n",
              "      <td>0.193614</td>\n",
              "      <td>0.482759</td>\n",
              "      <td>0.45</td>\n",
              "      <td>0.0</td>\n",
              "      <td>1.0</td>\n",
              "      <td>1.0</td>\n",
              "      <td>0.214286</td>\n",
              "      <td>0.50</td>\n",
              "    </tr>\n",
              "    <tr>\n",
              "      <th>4</th>\n",
              "      <td>0.0</td>\n",
              "      <td>0.0</td>\n",
              "      <td>1.0</td>\n",
              "      <td>0.0</td>\n",
              "      <td>0.0</td>\n",
              "      <td>0.0</td>\n",
              "      <td>0.0</td>\n",
              "      <td>0.0</td>\n",
              "      <td>0.000312</td>\n",
              "      <td>0.068966</td>\n",
              "      <td>0.90</td>\n",
              "      <td>1.0</td>\n",
              "      <td>1.0</td>\n",
              "      <td>1.0</td>\n",
              "      <td>0.928571</td>\n",
              "      <td>0.25</td>\n",
              "    </tr>\n",
              "  </tbody>\n",
              "</table>\n",
              "</div>"
            ],
            "text/plain": [
              "    0    1    2    3    4    5   ...    10   11   12   13        14    15\n",
              "0  0.0  0.0  1.0  0.0  0.0  0.0  ...  0.95  1.0  1.0  0.0  0.285714  0.75\n",
              "1  0.0  1.0  0.0  0.0  0.0  0.0  ...  0.25  1.0  1.0  0.0  0.357143  0.00\n",
              "2  0.0  0.0  0.0  0.0  1.0  0.0  ...  0.60  1.0  1.0  0.0  0.642857  1.00\n",
              "3  0.0  0.0  0.0  0.0  0.0  1.0  ...  0.45  0.0  1.0  1.0  0.214286  0.50\n",
              "4  0.0  0.0  1.0  0.0  0.0  0.0  ...  0.90  1.0  1.0  1.0  0.928571  0.25\n",
              "\n",
              "[5 rows x 16 columns]"
            ]
          },
          "metadata": {
            "tags": []
          }
        },
        {
          "output_type": "execute_result",
          "data": {
            "text/plain": [
              "(28000, 16)"
            ]
          },
          "metadata": {
            "tags": []
          },
          "execution_count": 93
        }
      ]
    },
    {
      "cell_type": "code",
      "metadata": {
        "id": "d1f8YXV06TuZ"
      },
      "source": [
        "#This Decision tree classifier is trained using 80% of balanced training data\n",
        "pred_orig_y = dtree.predict(test_ass)"
      ],
      "execution_count": 94,
      "outputs": []
    },
    {
      "cell_type": "code",
      "metadata": {
        "colab": {
          "base_uri": "https://localhost:8080/"
        },
        "id": "XVp2B8MJ79Ui",
        "outputId": "1ba284aa-268d-47fe-9aee-c0e58bbecd4d"
      },
      "source": [
        "collections.Counter(pred_orig_y)"
      ],
      "execution_count": 95,
      "outputs": [
        {
          "output_type": "execute_result",
          "data": {
            "text/plain": [
              "Counter({0.0: 18633, 1.0: 9367})"
            ]
          },
          "metadata": {
            "tags": []
          },
          "execution_count": 95
        }
      ]
    },
    {
      "cell_type": "code",
      "metadata": {
        "id": "AE8hNVIB7Au1",
        "colab": {
          "base_uri": "https://localhost:8080/"
        },
        "outputId": "aac8e717-ead8-48ec-9ba6-d488fc5ce03c"
      },
      "source": [
        "#This dicision tree classifier is trained on full balanced training data\n",
        "pred_y = dtc.predict(test_ass)\n",
        "collections.Counter(pred_y)"
      ],
      "execution_count": 96,
      "outputs": [
        {
          "output_type": "execute_result",
          "data": {
            "text/plain": [
              "Counter({0.0: 18273, 1.0: 9727})"
            ]
          },
          "metadata": {
            "tags": []
          },
          "execution_count": 96
        }
      ]
    },
    {
      "cell_type": "code",
      "metadata": {
        "id": "KHfR9cgjAW1Y"
      },
      "source": [
        "submission = pd.DataFrame({\n",
        "        \"id\": test_df['id'],\n",
        "        \"risk_flag\": pred_y.astype('int')\n",
        "    })\n",
        "submission.to_csv('submission.csv', index=False)"
      ],
      "execution_count": 97,
      "outputs": []
    },
    {
      "cell_type": "code",
      "metadata": {
        "id": "yQmPdDB7BjKA"
      },
      "source": [
        "sub1 = pd.read_csv('submission1.csv')"
      ],
      "execution_count": 109,
      "outputs": []
    },
    {
      "cell_type": "code",
      "metadata": {
        "id": "_8a-k4gSzlT0"
      },
      "source": [
        "sub1_vals = sub1.iloc[:, 1]"
      ],
      "execution_count": 110,
      "outputs": []
    },
    {
      "cell_type": "code",
      "metadata": {
        "colab": {
          "base_uri": "https://localhost:8080/"
        },
        "id": "C1I92kPv0kxw",
        "outputId": "6cd284e1-77b9-42c1-9ff2-fbeb5ee2a7c8"
      },
      "source": [
        "roc_auc_score(sub1_vals, pred_orig_y)"
      ],
      "execution_count": 112,
      "outputs": [
        {
          "output_type": "execute_result",
          "data": {
            "text/plain": [
              "0.8276523621295037"
            ]
          },
          "metadata": {
            "tags": []
          },
          "execution_count": 112
        }
      ]
    },
    {
      "cell_type": "code",
      "metadata": {
        "id": "kdYEjm2Z0vvb"
      },
      "source": [
        "##using Random forest\n",
        "pred_orig_rf = rf_algo.predict(test_ass)"
      ],
      "execution_count": 115,
      "outputs": []
    },
    {
      "cell_type": "code",
      "metadata": {
        "colab": {
          "base_uri": "https://localhost:8080/"
        },
        "id": "AGHS6TTi3DOi",
        "outputId": "da89a2bf-60da-4d68-fe8d-1d611ed95c05"
      },
      "source": [
        "collections.Counter(pred_orig_rf)"
      ],
      "execution_count": 116,
      "outputs": [
        {
          "output_type": "execute_result",
          "data": {
            "text/plain": [
              "Counter({0.0: 18877, 1.0: 9123})"
            ]
          },
          "metadata": {
            "tags": []
          },
          "execution_count": 116
        }
      ]
    },
    {
      "cell_type": "code",
      "metadata": {
        "id": "hybljYq93Il9"
      },
      "source": [
        "submission = pd.DataFrame({\n",
        "        \"id\": test_df['id'],\n",
        "        \"risk_flag\": pred_y.astype('int')\n",
        "    })\n",
        "submission.to_csv('submission3_rf.csv', index=False)"
      ],
      "execution_count": 117,
      "outputs": []
    },
    {
      "cell_type": "code",
      "metadata": {
        "id": "-_FNJf1x5dFs"
      },
      "source": [
        ""
      ],
      "execution_count": null,
      "outputs": []
    }
  ]
}