{
  "nbformat": 4,
  "nbformat_minor": 0,
  "metadata": {
    "accelerator": "GPU",
    "colab": {
      "name": "Credit_risk_pred_UnivAI3.ipynb",
      "provenance": [],
      "toc_visible": true,
      "authorship_tag": "ABX9TyMGcNkZwJyH1VVYbYEbnx2n",
      "include_colab_link": true
    },
    "kernelspec": {
      "display_name": "Python 3",
      "name": "python3"
    },
    "language_info": {
      "name": "python"
    }
  },
  "cells": [
    {
      "cell_type": "markdown",
      "metadata": {
        "id": "view-in-github",
        "colab_type": "text"
      },
      "source": [
        "<a href=\"https://colab.research.google.com/github/sudo0809/Credit-Risk-Prediction/blob/main/Credit_risk_pred_UnivAI3.ipynb\" target=\"_parent\"><img src=\"https://colab.research.google.com/assets/colab-badge.svg\" alt=\"Open In Colab\"/></a>"
      ]
    },
    {
      "cell_type": "markdown",
      "metadata": {
        "id": "Nb0jgq4M4TRe"
      },
      "source": [
        "### Notebook avalilable at : https://github.com/sudo0809/Credit-Risk-Prediction\n",
        "\n",
        "\n",
        "\n"
      ]
    },
    {
      "cell_type": "markdown",
      "metadata": {
        "id": "lxfa3utJ46bF"
      },
      "source": [
        "## Importing Stuff"
      ]
    },
    {
      "cell_type": "code",
      "metadata": {
        "colab": {
          "base_uri": "https://localhost:8080/"
        },
        "id": "wsg-wi4vBDpa",
        "outputId": "643cba8a-9d76-4514-b87a-65b3b51a9acf"
      },
      "source": [
        "pip install category_encoders"
      ],
      "execution_count": 1,
      "outputs": [
        {
          "output_type": "stream",
          "text": [
            "Requirement already satisfied: category_encoders in /usr/local/lib/python3.7/dist-packages (2.2.2)\n",
            "Requirement already satisfied: patsy>=0.5.1 in /usr/local/lib/python3.7/dist-packages (from category_encoders) (0.5.1)\n",
            "Requirement already satisfied: scipy>=1.0.0 in /usr/local/lib/python3.7/dist-packages (from category_encoders) (1.4.1)\n",
            "Requirement already satisfied: numpy>=1.14.0 in /usr/local/lib/python3.7/dist-packages (from category_encoders) (1.19.5)\n",
            "Requirement already satisfied: pandas>=0.21.1 in /usr/local/lib/python3.7/dist-packages (from category_encoders) (1.1.5)\n",
            "Requirement already satisfied: statsmodels>=0.9.0 in /usr/local/lib/python3.7/dist-packages (from category_encoders) (0.10.2)\n",
            "Requirement already satisfied: scikit-learn>=0.20.0 in /usr/local/lib/python3.7/dist-packages (from category_encoders) (0.22.2.post1)\n",
            "Requirement already satisfied: six in /usr/local/lib/python3.7/dist-packages (from patsy>=0.5.1->category_encoders) (1.15.0)\n",
            "Requirement already satisfied: pytz>=2017.2 in /usr/local/lib/python3.7/dist-packages (from pandas>=0.21.1->category_encoders) (2018.9)\n",
            "Requirement already satisfied: python-dateutil>=2.7.3 in /usr/local/lib/python3.7/dist-packages (from pandas>=0.21.1->category_encoders) (2.8.1)\n",
            "Requirement already satisfied: joblib>=0.11 in /usr/local/lib/python3.7/dist-packages (from scikit-learn>=0.20.0->category_encoders) (1.0.1)\n"
          ],
          "name": "stdout"
        }
      ]
    },
    {
      "cell_type": "code",
      "metadata": {
        "id": "W_17a4_RxGeV",
        "colab": {
          "base_uri": "https://localhost:8080/"
        },
        "outputId": "88d81f74-50dc-4b82-b30a-c8da312ac590"
      },
      "source": [
        "import numpy as np\n",
        "import pandas as pd\n",
        "import seaborn as sns\n",
        "import matplotlib.pyplot as plt\n",
        "%matplotlib inline\n",
        "\n",
        "from sklearn import preprocessing\n",
        "from sklearn.metrics import accuracy_score, f1_score, roc_auc_score\n",
        "\n",
        "import category_encoders as ce"
      ],
      "execution_count": 2,
      "outputs": [
        {
          "output_type": "stream",
          "text": [
            "/usr/local/lib/python3.7/dist-packages/statsmodels/tools/_testing.py:19: FutureWarning: pandas.util.testing is deprecated. Use the functions in the public API at pandas.testing instead.\n",
            "  import pandas.util.testing as tm\n"
          ],
          "name": "stderr"
        }
      ]
    },
    {
      "cell_type": "code",
      "metadata": {
        "id": "52eldErWSVvp",
        "colab": {
          "base_uri": "https://localhost:8080/",
          "height": 222
        },
        "outputId": "da88bfe5-d5c7-474c-b991-5365078fbf97"
      },
      "source": [
        "df = pd.read_csv(\"https://raw.githubusercontent.com/sudo0809/Credit-Risk-Prediction/main/Training%20Data.csv\")\n",
        "df.head()"
      ],
      "execution_count": 3,
      "outputs": [
        {
          "output_type": "execute_result",
          "data": {
            "text/html": [
              "<div>\n",
              "<style scoped>\n",
              "    .dataframe tbody tr th:only-of-type {\n",
              "        vertical-align: middle;\n",
              "    }\n",
              "\n",
              "    .dataframe tbody tr th {\n",
              "        vertical-align: top;\n",
              "    }\n",
              "\n",
              "    .dataframe thead th {\n",
              "        text-align: right;\n",
              "    }\n",
              "</style>\n",
              "<table border=\"1\" class=\"dataframe\">\n",
              "  <thead>\n",
              "    <tr style=\"text-align: right;\">\n",
              "      <th></th>\n",
              "      <th>Id</th>\n",
              "      <th>income</th>\n",
              "      <th>age</th>\n",
              "      <th>experience</th>\n",
              "      <th>married</th>\n",
              "      <th>house_ownership</th>\n",
              "      <th>car_ownership</th>\n",
              "      <th>profession</th>\n",
              "      <th>city</th>\n",
              "      <th>state</th>\n",
              "      <th>current_job_years</th>\n",
              "      <th>current_house_years</th>\n",
              "      <th>risk_flag</th>\n",
              "    </tr>\n",
              "  </thead>\n",
              "  <tbody>\n",
              "    <tr>\n",
              "      <th>0</th>\n",
              "      <td>1</td>\n",
              "      <td>1303835</td>\n",
              "      <td>23</td>\n",
              "      <td>3</td>\n",
              "      <td>single</td>\n",
              "      <td>rented</td>\n",
              "      <td>no</td>\n",
              "      <td>Mechanical_engineer</td>\n",
              "      <td>Rewa</td>\n",
              "      <td>Madhya_Pradesh</td>\n",
              "      <td>3</td>\n",
              "      <td>13</td>\n",
              "      <td>0</td>\n",
              "    </tr>\n",
              "    <tr>\n",
              "      <th>1</th>\n",
              "      <td>2</td>\n",
              "      <td>7574516</td>\n",
              "      <td>40</td>\n",
              "      <td>10</td>\n",
              "      <td>single</td>\n",
              "      <td>rented</td>\n",
              "      <td>no</td>\n",
              "      <td>Software_Developer</td>\n",
              "      <td>Parbhani</td>\n",
              "      <td>Maharashtra</td>\n",
              "      <td>9</td>\n",
              "      <td>13</td>\n",
              "      <td>0</td>\n",
              "    </tr>\n",
              "    <tr>\n",
              "      <th>2</th>\n",
              "      <td>3</td>\n",
              "      <td>3991815</td>\n",
              "      <td>66</td>\n",
              "      <td>4</td>\n",
              "      <td>married</td>\n",
              "      <td>rented</td>\n",
              "      <td>no</td>\n",
              "      <td>Technical_writer</td>\n",
              "      <td>Alappuzha</td>\n",
              "      <td>Kerala</td>\n",
              "      <td>4</td>\n",
              "      <td>10</td>\n",
              "      <td>0</td>\n",
              "    </tr>\n",
              "    <tr>\n",
              "      <th>3</th>\n",
              "      <td>4</td>\n",
              "      <td>6256451</td>\n",
              "      <td>41</td>\n",
              "      <td>2</td>\n",
              "      <td>single</td>\n",
              "      <td>rented</td>\n",
              "      <td>yes</td>\n",
              "      <td>Software_Developer</td>\n",
              "      <td>Bhubaneswar</td>\n",
              "      <td>Odisha</td>\n",
              "      <td>2</td>\n",
              "      <td>12</td>\n",
              "      <td>1</td>\n",
              "    </tr>\n",
              "    <tr>\n",
              "      <th>4</th>\n",
              "      <td>5</td>\n",
              "      <td>5768871</td>\n",
              "      <td>47</td>\n",
              "      <td>11</td>\n",
              "      <td>single</td>\n",
              "      <td>rented</td>\n",
              "      <td>no</td>\n",
              "      <td>Civil_servant</td>\n",
              "      <td>Tiruchirappalli[10]</td>\n",
              "      <td>Tamil_Nadu</td>\n",
              "      <td>3</td>\n",
              "      <td>14</td>\n",
              "      <td>1</td>\n",
              "    </tr>\n",
              "  </tbody>\n",
              "</table>\n",
              "</div>"
            ],
            "text/plain": [
              "   Id   income  age  ...  current_job_years current_house_years risk_flag\n",
              "0   1  1303835   23  ...                  3                  13         0\n",
              "1   2  7574516   40  ...                  9                  13         0\n",
              "2   3  3991815   66  ...                  4                  10         0\n",
              "3   4  6256451   41  ...                  2                  12         1\n",
              "4   5  5768871   47  ...                  3                  14         1\n",
              "\n",
              "[5 rows x 13 columns]"
            ]
          },
          "metadata": {
            "tags": []
          },
          "execution_count": 3
        }
      ]
    },
    {
      "cell_type": "code",
      "metadata": {
        "colab": {
          "base_uri": "https://localhost:8080/",
          "height": 222
        },
        "id": "2WJZ-gdOzC4x",
        "outputId": "659710e2-b063-4a39-82a3-ac794397bef8"
      },
      "source": [
        "df.drop(\"Id\", axis=1, inplace=True)\n",
        "df.head()"
      ],
      "execution_count": 4,
      "outputs": [
        {
          "output_type": "execute_result",
          "data": {
            "text/html": [
              "<div>\n",
              "<style scoped>\n",
              "    .dataframe tbody tr th:only-of-type {\n",
              "        vertical-align: middle;\n",
              "    }\n",
              "\n",
              "    .dataframe tbody tr th {\n",
              "        vertical-align: top;\n",
              "    }\n",
              "\n",
              "    .dataframe thead th {\n",
              "        text-align: right;\n",
              "    }\n",
              "</style>\n",
              "<table border=\"1\" class=\"dataframe\">\n",
              "  <thead>\n",
              "    <tr style=\"text-align: right;\">\n",
              "      <th></th>\n",
              "      <th>income</th>\n",
              "      <th>age</th>\n",
              "      <th>experience</th>\n",
              "      <th>married</th>\n",
              "      <th>house_ownership</th>\n",
              "      <th>car_ownership</th>\n",
              "      <th>profession</th>\n",
              "      <th>city</th>\n",
              "      <th>state</th>\n",
              "      <th>current_job_years</th>\n",
              "      <th>current_house_years</th>\n",
              "      <th>risk_flag</th>\n",
              "    </tr>\n",
              "  </thead>\n",
              "  <tbody>\n",
              "    <tr>\n",
              "      <th>0</th>\n",
              "      <td>1303835</td>\n",
              "      <td>23</td>\n",
              "      <td>3</td>\n",
              "      <td>single</td>\n",
              "      <td>rented</td>\n",
              "      <td>no</td>\n",
              "      <td>Mechanical_engineer</td>\n",
              "      <td>Rewa</td>\n",
              "      <td>Madhya_Pradesh</td>\n",
              "      <td>3</td>\n",
              "      <td>13</td>\n",
              "      <td>0</td>\n",
              "    </tr>\n",
              "    <tr>\n",
              "      <th>1</th>\n",
              "      <td>7574516</td>\n",
              "      <td>40</td>\n",
              "      <td>10</td>\n",
              "      <td>single</td>\n",
              "      <td>rented</td>\n",
              "      <td>no</td>\n",
              "      <td>Software_Developer</td>\n",
              "      <td>Parbhani</td>\n",
              "      <td>Maharashtra</td>\n",
              "      <td>9</td>\n",
              "      <td>13</td>\n",
              "      <td>0</td>\n",
              "    </tr>\n",
              "    <tr>\n",
              "      <th>2</th>\n",
              "      <td>3991815</td>\n",
              "      <td>66</td>\n",
              "      <td>4</td>\n",
              "      <td>married</td>\n",
              "      <td>rented</td>\n",
              "      <td>no</td>\n",
              "      <td>Technical_writer</td>\n",
              "      <td>Alappuzha</td>\n",
              "      <td>Kerala</td>\n",
              "      <td>4</td>\n",
              "      <td>10</td>\n",
              "      <td>0</td>\n",
              "    </tr>\n",
              "    <tr>\n",
              "      <th>3</th>\n",
              "      <td>6256451</td>\n",
              "      <td>41</td>\n",
              "      <td>2</td>\n",
              "      <td>single</td>\n",
              "      <td>rented</td>\n",
              "      <td>yes</td>\n",
              "      <td>Software_Developer</td>\n",
              "      <td>Bhubaneswar</td>\n",
              "      <td>Odisha</td>\n",
              "      <td>2</td>\n",
              "      <td>12</td>\n",
              "      <td>1</td>\n",
              "    </tr>\n",
              "    <tr>\n",
              "      <th>4</th>\n",
              "      <td>5768871</td>\n",
              "      <td>47</td>\n",
              "      <td>11</td>\n",
              "      <td>single</td>\n",
              "      <td>rented</td>\n",
              "      <td>no</td>\n",
              "      <td>Civil_servant</td>\n",
              "      <td>Tiruchirappalli[10]</td>\n",
              "      <td>Tamil_Nadu</td>\n",
              "      <td>3</td>\n",
              "      <td>14</td>\n",
              "      <td>1</td>\n",
              "    </tr>\n",
              "  </tbody>\n",
              "</table>\n",
              "</div>"
            ],
            "text/plain": [
              "    income  age  experience  ... current_job_years current_house_years risk_flag\n",
              "0  1303835   23           3  ...                 3                  13         0\n",
              "1  7574516   40          10  ...                 9                  13         0\n",
              "2  3991815   66           4  ...                 4                  10         0\n",
              "3  6256451   41           2  ...                 2                  12         1\n",
              "4  5768871   47          11  ...                 3                  14         1\n",
              "\n",
              "[5 rows x 12 columns]"
            ]
          },
          "metadata": {
            "tags": []
          },
          "execution_count": 4
        }
      ]
    },
    {
      "cell_type": "code",
      "metadata": {
        "colab": {
          "base_uri": "https://localhost:8080/"
        },
        "id": "Pk8_jYxhzJou",
        "outputId": "72cf5ce2-945e-4ed7-ca1c-affc3d6172d4"
      },
      "source": [
        "df.describe(), df.info()"
      ],
      "execution_count": 5,
      "outputs": [
        {
          "output_type": "stream",
          "text": [
            "<class 'pandas.core.frame.DataFrame'>\n",
            "RangeIndex: 252000 entries, 0 to 251999\n",
            "Data columns (total 12 columns):\n",
            " #   Column               Non-Null Count   Dtype \n",
            "---  ------               --------------   ----- \n",
            " 0   income               252000 non-null  int64 \n",
            " 1   age                  252000 non-null  int64 \n",
            " 2   experience           252000 non-null  int64 \n",
            " 3   married              252000 non-null  object\n",
            " 4   house_ownership      252000 non-null  object\n",
            " 5   car_ownership        252000 non-null  object\n",
            " 6   profession           252000 non-null  object\n",
            " 7   city                 252000 non-null  object\n",
            " 8   state                252000 non-null  object\n",
            " 9   current_job_years    252000 non-null  int64 \n",
            " 10  current_house_years  252000 non-null  int64 \n",
            " 11  risk_flag            252000 non-null  int64 \n",
            "dtypes: int64(6), object(6)\n",
            "memory usage: 23.1+ MB\n"
          ],
          "name": "stdout"
        },
        {
          "output_type": "execute_result",
          "data": {
            "text/plain": [
              "(             income            age  ...  current_house_years      risk_flag\n",
              " count  2.520000e+05  252000.000000  ...        252000.000000  252000.000000\n",
              " mean   4.997117e+06      49.954071  ...            11.997794       0.123000\n",
              " std    2.878311e+06      17.063863  ...             1.399037       0.328438\n",
              " min    1.031000e+04      21.000000  ...            10.000000       0.000000\n",
              " 25%    2.503015e+06      35.000000  ...            11.000000       0.000000\n",
              " 50%    5.000694e+06      50.000000  ...            12.000000       0.000000\n",
              " 75%    7.477502e+06      65.000000  ...            13.000000       0.000000\n",
              " max    9.999938e+06      79.000000  ...            14.000000       1.000000\n",
              " \n",
              " [8 rows x 6 columns], None)"
            ]
          },
          "metadata": {
            "tags": []
          },
          "execution_count": 5
        }
      ]
    },
    {
      "cell_type": "code",
      "metadata": {
        "colab": {
          "base_uri": "https://localhost:8080/"
        },
        "id": "Njt8nOnrC-nW",
        "outputId": "cd72eb90-194e-49f4-8946-258214705f03"
      },
      "source": [
        "df.isnull().values.any()"
      ],
      "execution_count": 6,
      "outputs": [
        {
          "output_type": "execute_result",
          "data": {
            "text/plain": [
              "False"
            ]
          },
          "metadata": {
            "tags": []
          },
          "execution_count": 6
        }
      ]
    },
    {
      "cell_type": "code",
      "metadata": {
        "colab": {
          "base_uri": "https://localhost:8080/"
        },
        "id": "I7AI9dzX3UNF",
        "outputId": "5eec6d9d-6635-4669-c770-14294fd70988"
      },
      "source": [
        "df.shape"
      ],
      "execution_count": 7,
      "outputs": [
        {
          "output_type": "execute_result",
          "data": {
            "text/plain": [
              "(252000, 12)"
            ]
          },
          "metadata": {
            "tags": []
          },
          "execution_count": 7
        }
      ]
    },
    {
      "cell_type": "code",
      "metadata": {
        "colab": {
          "base_uri": "https://localhost:8080/"
        },
        "id": "4tBYoEctIlgK",
        "outputId": "9c80d490-b13d-4426-c9aa-cbf265508a98"
      },
      "source": [
        "print(f\"count of risk flag = 1 is {df[df['risk_flag']==1].shape[0]} i.e {(df[df['risk_flag']==1].shape[0]/df.shape[0])*100} % of total data\")\n",
        "print(f\"count of risk flag = 0 is {df[df['risk_flag']==0].shape[0]} i.e {(df[df['risk_flag']==0].shape[0]/df.shape[0])*100} % of total data\")"
      ],
      "execution_count": 8,
      "outputs": [
        {
          "output_type": "stream",
          "text": [
            "count of risk flag = 1 is 30996 i.e 12.3 % of total data\n",
            "count of risk flag = 0 is 221004 i.e 87.7 % of total data\n"
          ],
          "name": "stdout"
        }
      ]
    },
    {
      "cell_type": "markdown",
      "metadata": {
        "id": "C7P_NyfeJ2bp"
      },
      "source": [
        "## Taking only balanced Data\n",
        "### 50% risk flag = 1 and 50% risk_flag = 0"
      ]
    },
    {
      "cell_type": "code",
      "metadata": {
        "colab": {
          "base_uri": "https://localhost:8080/"
        },
        "id": "TljCKgPmJ0tl",
        "outputId": "6c3ad17e-85fb-4e11-c278-77b7b3f74ac5"
      },
      "source": [
        "risk_high_data = df[df['risk_flag']==1]\n",
        "risk_low_data = df[df['risk_flag']==0]\n",
        "\n",
        "m_low = min(len(risk_high_data), len(risk_low_data))\n",
        "\n",
        "balanced_data = pd.concat([risk_high_data[:m_low], risk_low_data[:m_low]]).sample(frac=1)\n",
        "print(f\"Balanced Data shape = {balanced_data.shape}\")\n",
        "print(f\"count of risk flag = 1 is {balanced_data[balanced_data['risk_flag']==1].shape[0]}\")\n",
        "print(f\"count of risk flag = 0 is {balanced_data[balanced_data['risk_flag']==0].shape[0]}\")"
      ],
      "execution_count": 9,
      "outputs": [
        {
          "output_type": "stream",
          "text": [
            "Balanced Data shape = (61992, 12)\n",
            "count of risk flag = 1 is 30996\n",
            "count of risk flag = 0 is 30996\n"
          ],
          "name": "stdout"
        }
      ]
    },
    {
      "cell_type": "code",
      "metadata": {
        "colab": {
          "base_uri": "https://localhost:8080/"
        },
        "id": "inRGpHCbzQIS",
        "outputId": "1f2ae395-eb67-4a46-8b39-b9b38d6d9151"
      },
      "source": [
        "cols = list(df.columns)\n",
        "cols"
      ],
      "execution_count": 10,
      "outputs": [
        {
          "output_type": "execute_result",
          "data": {
            "text/plain": [
              "['income',\n",
              " 'age',\n",
              " 'experience',\n",
              " 'married',\n",
              " 'house_ownership',\n",
              " 'car_ownership',\n",
              " 'profession',\n",
              " 'city',\n",
              " 'state',\n",
              " 'current_job_years',\n",
              " 'current_house_years',\n",
              " 'risk_flag']"
            ]
          },
          "metadata": {
            "tags": []
          },
          "execution_count": 10
        }
      ]
    },
    {
      "cell_type": "code",
      "metadata": {
        "colab": {
          "base_uri": "https://localhost:8080/"
        },
        "id": "eSQYPEfJNOgL",
        "outputId": "a6a3403b-f34b-42e2-cffa-90ac2e5c8762"
      },
      "source": [
        "my_dict = {}\n",
        "for col_name in cols:\n",
        "  if len(balanced_data[col_name].unique())<60:\n",
        "    print(col_name, \" = \", balanced_data[col_name].unique())\n",
        "    print()\n",
        "  else:\n",
        "    print(f\"{col_name} = {len(balanced_data[col_name].unique())} unique values\")\n",
        "    print()\n",
        "  my_dict[col_name] = balanced_data[col_name].unique()"
      ],
      "execution_count": 11,
      "outputs": [
        {
          "output_type": "stream",
          "text": [
            "income = 13251 unique values\n",
            "\n",
            "age  =  [39 55 63 66 60 28 25 70 37 77 27 57 42 69 58 32 65 24 54 56 41 29 33 48\n",
            " 45 31 61 35 74 38 53 75 64 23 40 30 79 76 67 73 51 43 78 52 22 71 36 68\n",
            " 47 59 50 49 34 44 21 72 46 62 26]\n",
            "\n",
            "experience  =  [14 18  2  9 15  3  7  5  1 16 10  6 12 20 13  8  0  4 17 19 11]\n",
            "\n",
            "married  =  ['single' 'married']\n",
            "\n",
            "house_ownership  =  ['rented' 'owned' 'norent_noown']\n",
            "\n",
            "car_ownership  =  ['yes' 'no']\n",
            "\n",
            "profession  =  ['Army_officer' 'Software_Developer' 'Civil_engineer' 'Hotel_Manager'\n",
            " 'Air_traffic_controller' 'Firefighter' 'Technical_writer'\n",
            " 'Industrial_Engineer' 'Computer_hardware_engineer' 'Statistician'\n",
            " 'Librarian' 'Petroleum_Engineer' 'Engineer' 'Biomedical_Engineer'\n",
            " 'Graphic_Designer' 'Web_designer' 'Geologist' 'Chartered_Accountant'\n",
            " 'Scientist' 'Financial_Analyst' 'Analyst' 'Surveyor' 'Police_officer'\n",
            " 'Lawyer' 'Flight_attendant' 'Official' 'Aviator' 'Designer'\n",
            " 'Psychologist' 'Computer_operator' 'Dentist' 'Physician' 'Artist'\n",
            " 'Drafter' 'Consultant' 'Technology_specialist' 'Design_Engineer'\n",
            " 'Microbiologist' 'Secretary' 'Mechanical_engineer' 'Economist'\n",
            " 'Chemical_engineer' 'Chef' 'Surgeon' 'Politician' 'Technician'\n",
            " 'Fashion_Designer' 'Magistrate' 'Civil_servant' 'Comedian' 'Architect']\n",
            "\n",
            "city = 317 unique values\n",
            "\n",
            "state  =  ['Andhra_Pradesh' 'Haryana' 'Karnataka' 'Madhya_Pradesh' 'Assam' 'Manipur'\n",
            " 'Jharkhand' 'Maharashtra' 'Tamil_Nadu' 'Delhi' 'Rajasthan'\n",
            " 'Uttar_Pradesh' 'Tripura' 'Telangana' 'Punjab' 'Mizoram' 'West_Bengal'\n",
            " 'Bihar' 'Gujarat' 'Puducherry' 'Jammu_and_Kashmir' 'Odisha' 'Uttarakhand'\n",
            " 'Kerala' 'Sikkim' 'Chhattisgarh' 'Uttar_Pradesh[5]' 'Himachal_Pradesh'\n",
            " 'Chandigarh']\n",
            "\n",
            "current_job_years  =  [ 4  9  2 14  3  7  5  1 10  6 12  8  0 13 11]\n",
            "\n",
            "current_house_years  =  [13 14 11 10 12]\n",
            "\n",
            "risk_flag  =  [0 1]\n",
            "\n"
          ],
          "name": "stdout"
        }
      ]
    },
    {
      "cell_type": "code",
      "metadata": {
        "colab": {
          "base_uri": "https://localhost:8080/"
        },
        "id": "e5D6x-rqWgHl",
        "outputId": "3faf0898-0458-47b9-a742-e583044ecf51"
      },
      "source": [
        "print(my_dict['age'])"
      ],
      "execution_count": 12,
      "outputs": [
        {
          "output_type": "stream",
          "text": [
            "[39 55 63 66 60 28 25 70 37 77 27 57 42 69 58 32 65 24 54 56 41 29 33 48\n",
            " 45 31 61 35 74 38 53 75 64 23 40 30 79 76 67 73 51 43 78 52 22 71 36 68\n",
            " 47 59 50 49 34 44 21 72 46 62 26]\n"
          ],
          "name": "stdout"
        }
      ]
    },
    {
      "cell_type": "code",
      "metadata": {
        "id": "Gkcoa77AaiuF"
      },
      "source": [
        "my_dict['experience'].sort()"
      ],
      "execution_count": 13,
      "outputs": []
    },
    {
      "cell_type": "code",
      "metadata": {
        "colab": {
          "base_uri": "https://localhost:8080/"
        },
        "id": "DHZQFjFNaqsw",
        "outputId": "e3c2f26b-870f-4ad6-8746-bb21addbfb8b"
      },
      "source": [
        "my_dict['experience']"
      ],
      "execution_count": 14,
      "outputs": [
        {
          "output_type": "execute_result",
          "data": {
            "text/plain": [
              "array([ 0,  1,  2,  3,  4,  5,  6,  7,  8,  9, 10, 11, 12, 13, 14, 15, 16,\n",
              "       17, 18, 19, 20])"
            ]
          },
          "metadata": {
            "tags": []
          },
          "execution_count": 14
        }
      ]
    },
    {
      "cell_type": "markdown",
      "metadata": {
        "id": "gUfWuEvd5Jt-"
      },
      "source": [
        "## Some Graphial Representation\n",
        "Very few though"
      ]
    },
    {
      "cell_type": "code",
      "metadata": {
        "colab": {
          "base_uri": "https://localhost:8080/",
          "height": 386
        },
        "id": "_OWIkIhzcB_-",
        "outputId": "47ac21c5-1b70-4c24-de99-e1094d567190"
      },
      "source": [
        "sns.displot(y='experience', x='age' , data=balanced_data ,hue='risk_flag', col='married' ,kind='kde', height=5, aspect=0.7)"
      ],
      "execution_count": 15,
      "outputs": [
        {
          "output_type": "execute_result",
          "data": {
            "text/plain": [
              "<seaborn.axisgrid.FacetGrid at 0x7fcdbe3f6d50>"
            ]
          },
          "metadata": {
            "tags": []
          },
          "execution_count": 15
        },
        {
          "output_type": "display_data",
          "data": {
            "image/png": "[encoded data removed]",
            "text/plain": [
              "<Figure size 554x360 with 2 Axes>"
            ]
          },
          "metadata": {
            "tags": [],
            "needs_background": "light"
          }
        }
      ]
    },
    {
      "cell_type": "code",
      "metadata": {
        "colab": {
          "base_uri": "https://localhost:8080/",
          "height": 603
        },
        "id": "MaRjZ64qePtd",
        "outputId": "01f9e692-3997-40d3-f52c-fb5541d0a3c3"
      },
      "source": [
        "features = ['married', 'house_ownership','car_ownership', 'current_job_years','current_house_years', 'experience']\n",
        "\n",
        "plt.figure(figsize=(15,8))\n",
        "for i,feature in enumerate(features):\n",
        "  plt.subplot(len(features)/2, 2, i+1)\n",
        "  sns.countplot(x=feature, data=balanced_data, hue='risk_flag')\n",
        "plt.tight_layout()\n",
        "plt.plot()"
      ],
      "execution_count": 16,
      "outputs": [
        {
          "output_type": "execute_result",
          "data": {
            "text/plain": [
              "[]"
            ]
          },
          "metadata": {
            "tags": []
          },
          "execution_count": 16
        },
        {
          "output_type": "display_data",
          "data": {
            "image/png": "[encoded data removed]",
            "text/plain": [
              "<Figure size 1080x576 with 6 Axes>"
            ]
          },
          "metadata": {
            "tags": [],
            "needs_background": "light"
          }
        }
      ]
    },
    {
      "cell_type": "markdown",
      "metadata": {
        "id": "KKByPKr3amzT"
      },
      "source": [
        "## Encoding the Categorical Data"
      ]
    },
    {
      "cell_type": "code",
      "metadata": {
        "colab": {
          "base_uri": "https://localhost:8080/"
        },
        "id": "P7Vb96iM29aJ",
        "outputId": "f22e3591-6515-4252-b861-875d38680e49"
      },
      "source": [
        "married_le = preprocessing.LabelEncoder()\n",
        "married_le.fit(balanced_data['married'].unique())\n",
        "print(married_le.classes_)\n",
        "balanced_data['married'] = married_le.transform(balanced_data[\"married\"])\n",
        "balanced_data['married'].unique()"
      ],
      "execution_count": 17,
      "outputs": [
        {
          "output_type": "stream",
          "text": [
            "['married' 'single']\n"
          ],
          "name": "stdout"
        },
        {
          "output_type": "execute_result",
          "data": {
            "text/plain": [
              "array([1, 0])"
            ]
          },
          "metadata": {
            "tags": []
          },
          "execution_count": 17
        }
      ]
    },
    {
      "cell_type": "code",
      "metadata": {
        "colab": {
          "base_uri": "https://localhost:8080/"
        },
        "id": "r2vradKI3mch",
        "outputId": "bdb83a5e-bd50-4afd-a0b5-6b113b9f5c69"
      },
      "source": [
        "car_le = preprocessing.LabelEncoder()\n",
        "car_le.fit(balanced_data['car_ownership'].unique())\n",
        "print(car_le.classes_)\n",
        "balanced_data['car_ownership'] = car_le.transform(balanced_data['car_ownership'])\n",
        "balanced_data['car_ownership'].unique()"
      ],
      "execution_count": 18,
      "outputs": [
        {
          "output_type": "stream",
          "text": [
            "['no' 'yes']\n"
          ],
          "name": "stdout"
        },
        {
          "output_type": "execute_result",
          "data": {
            "text/plain": [
              "array([1, 0])"
            ]
          },
          "metadata": {
            "tags": []
          },
          "execution_count": 18
        }
      ]
    },
    {
      "cell_type": "code",
      "metadata": {
        "colab": {
          "base_uri": "https://localhost:8080/"
        },
        "id": "yGx7eRlISQom",
        "outputId": "48b7a44f-33a6-44e5-9267-27c3d1ca3893"
      },
      "source": [
        "house_le = preprocessing.LabelEncoder()\n",
        "house_le.fit(balanced_data['house_ownership'].unique())\n",
        "print(house_le.classes_)\n",
        "balanced_data['house_ownership'] = house_le.transform(balanced_data['house_ownership'])\n",
        "balanced_data['house_ownership'].unique()"
      ],
      "execution_count": 19,
      "outputs": [
        {
          "output_type": "stream",
          "text": [
            "['norent_noown' 'owned' 'rented']\n"
          ],
          "name": "stdout"
        },
        {
          "output_type": "execute_result",
          "data": {
            "text/plain": [
              "array([2, 1, 0])"
            ]
          },
          "metadata": {
            "tags": []
          },
          "execution_count": 19
        }
      ]
    },
    {
      "cell_type": "code",
      "metadata": {
        "colab": {
          "base_uri": "https://localhost:8080/"
        },
        "id": "Mr5TEzXJcAO4",
        "outputId": "37ebbd31-f49d-4fee-fa8f-de7e4e43b76b"
      },
      "source": [
        "# hash_enc = ce.hashing.HashingEncoder(cols='profession' , max_process=4)\n",
        "# # hash_enc.fit(balanced_data['profession'])\n",
        "\n",
        "# data1 = hash_enc.fit_transform(balanced_data)\n",
        "# print(hash_enc.get_feature_names())\n",
        "\n",
        "binary_enc = ce.BinaryEncoder(cols=['profession', 'state'])\n",
        "data1 = binary_enc.fit_transform(balanced_data)"
      ],
      "execution_count": 20,
      "outputs": [
        {
          "output_type": "stream",
          "text": [
            "/usr/local/lib/python3.7/dist-packages/category_encoders/utils.py:21: FutureWarning: is_categorical is deprecated and will be removed in a future version.  Use is_categorical_dtype instead\n",
            "  elif pd.api.types.is_categorical(cols):\n"
          ],
          "name": "stderr"
        }
      ]
    },
    {
      "cell_type": "code",
      "metadata": {
        "colab": {
          "base_uri": "https://localhost:8080/",
          "height": 376
        },
        "id": "JPvJrR44l2xF",
        "outputId": "a3891ac9-a164-4c12-ede4-2a3fb0420ce3"
      },
      "source": [
        "data1.head(10)"
      ],
      "execution_count": 21,
      "outputs": [
        {
          "output_type": "execute_result",
          "data": {
            "text/html": [
              "<div>\n",
              "<style scoped>\n",
              "    .dataframe tbody tr th:only-of-type {\n",
              "        vertical-align: middle;\n",
              "    }\n",
              "\n",
              "    .dataframe tbody tr th {\n",
              "        vertical-align: top;\n",
              "    }\n",
              "\n",
              "    .dataframe thead th {\n",
              "        text-align: right;\n",
              "    }\n",
              "</style>\n",
              "<table border=\"1\" class=\"dataframe\">\n",
              "  <thead>\n",
              "    <tr style=\"text-align: right;\">\n",
              "      <th></th>\n",
              "      <th>income</th>\n",
              "      <th>age</th>\n",
              "      <th>experience</th>\n",
              "      <th>married</th>\n",
              "      <th>house_ownership</th>\n",
              "      <th>car_ownership</th>\n",
              "      <th>profession_0</th>\n",
              "      <th>profession_1</th>\n",
              "      <th>profession_2</th>\n",
              "      <th>profession_3</th>\n",
              "      <th>profession_4</th>\n",
              "      <th>profession_5</th>\n",
              "      <th>profession_6</th>\n",
              "      <th>city</th>\n",
              "      <th>state_0</th>\n",
              "      <th>state_1</th>\n",
              "      <th>state_2</th>\n",
              "      <th>state_3</th>\n",
              "      <th>state_4</th>\n",
              "      <th>state_5</th>\n",
              "      <th>current_job_years</th>\n",
              "      <th>current_house_years</th>\n",
              "      <th>risk_flag</th>\n",
              "    </tr>\n",
              "  </thead>\n",
              "  <tbody>\n",
              "    <tr>\n",
              "      <th>14227</th>\n",
              "      <td>1548035</td>\n",
              "      <td>39</td>\n",
              "      <td>14</td>\n",
              "      <td>1</td>\n",
              "      <td>2</td>\n",
              "      <td>1</td>\n",
              "      <td>0</td>\n",
              "      <td>0</td>\n",
              "      <td>0</td>\n",
              "      <td>0</td>\n",
              "      <td>0</td>\n",
              "      <td>0</td>\n",
              "      <td>1</td>\n",
              "      <td>Tadepalligudem</td>\n",
              "      <td>0</td>\n",
              "      <td>0</td>\n",
              "      <td>0</td>\n",
              "      <td>0</td>\n",
              "      <td>0</td>\n",
              "      <td>1</td>\n",
              "      <td>4</td>\n",
              "      <td>13</td>\n",
              "      <td>0</td>\n",
              "    </tr>\n",
              "    <tr>\n",
              "      <th>26133</th>\n",
              "      <td>8064081</td>\n",
              "      <td>55</td>\n",
              "      <td>18</td>\n",
              "      <td>1</td>\n",
              "      <td>2</td>\n",
              "      <td>1</td>\n",
              "      <td>0</td>\n",
              "      <td>0</td>\n",
              "      <td>0</td>\n",
              "      <td>0</td>\n",
              "      <td>0</td>\n",
              "      <td>1</td>\n",
              "      <td>0</td>\n",
              "      <td>Bhiwani</td>\n",
              "      <td>0</td>\n",
              "      <td>0</td>\n",
              "      <td>0</td>\n",
              "      <td>0</td>\n",
              "      <td>1</td>\n",
              "      <td>0</td>\n",
              "      <td>9</td>\n",
              "      <td>14</td>\n",
              "      <td>0</td>\n",
              "    </tr>\n",
              "    <tr>\n",
              "      <th>242803</th>\n",
              "      <td>7444966</td>\n",
              "      <td>39</td>\n",
              "      <td>2</td>\n",
              "      <td>1</td>\n",
              "      <td>2</td>\n",
              "      <td>0</td>\n",
              "      <td>0</td>\n",
              "      <td>0</td>\n",
              "      <td>0</td>\n",
              "      <td>0</td>\n",
              "      <td>0</td>\n",
              "      <td>1</td>\n",
              "      <td>1</td>\n",
              "      <td>Udupi</td>\n",
              "      <td>0</td>\n",
              "      <td>0</td>\n",
              "      <td>0</td>\n",
              "      <td>0</td>\n",
              "      <td>1</td>\n",
              "      <td>1</td>\n",
              "      <td>2</td>\n",
              "      <td>11</td>\n",
              "      <td>1</td>\n",
              "    </tr>\n",
              "    <tr>\n",
              "      <th>80320</th>\n",
              "      <td>7256900</td>\n",
              "      <td>55</td>\n",
              "      <td>9</td>\n",
              "      <td>1</td>\n",
              "      <td>2</td>\n",
              "      <td>0</td>\n",
              "      <td>0</td>\n",
              "      <td>0</td>\n",
              "      <td>0</td>\n",
              "      <td>0</td>\n",
              "      <td>1</td>\n",
              "      <td>0</td>\n",
              "      <td>0</td>\n",
              "      <td>Indore</td>\n",
              "      <td>0</td>\n",
              "      <td>0</td>\n",
              "      <td>0</td>\n",
              "      <td>1</td>\n",
              "      <td>0</td>\n",
              "      <td>0</td>\n",
              "      <td>4</td>\n",
              "      <td>14</td>\n",
              "      <td>1</td>\n",
              "    </tr>\n",
              "    <tr>\n",
              "      <th>208171</th>\n",
              "      <td>5842579</td>\n",
              "      <td>63</td>\n",
              "      <td>15</td>\n",
              "      <td>1</td>\n",
              "      <td>2</td>\n",
              "      <td>0</td>\n",
              "      <td>0</td>\n",
              "      <td>0</td>\n",
              "      <td>0</td>\n",
              "      <td>0</td>\n",
              "      <td>1</td>\n",
              "      <td>0</td>\n",
              "      <td>1</td>\n",
              "      <td>Bongaigaon</td>\n",
              "      <td>0</td>\n",
              "      <td>0</td>\n",
              "      <td>0</td>\n",
              "      <td>1</td>\n",
              "      <td>0</td>\n",
              "      <td>1</td>\n",
              "      <td>14</td>\n",
              "      <td>13</td>\n",
              "      <td>1</td>\n",
              "    </tr>\n",
              "    <tr>\n",
              "      <th>111461</th>\n",
              "      <td>2935149</td>\n",
              "      <td>66</td>\n",
              "      <td>2</td>\n",
              "      <td>1</td>\n",
              "      <td>2</td>\n",
              "      <td>0</td>\n",
              "      <td>0</td>\n",
              "      <td>0</td>\n",
              "      <td>0</td>\n",
              "      <td>0</td>\n",
              "      <td>1</td>\n",
              "      <td>1</td>\n",
              "      <td>0</td>\n",
              "      <td>Imphal</td>\n",
              "      <td>0</td>\n",
              "      <td>0</td>\n",
              "      <td>0</td>\n",
              "      <td>1</td>\n",
              "      <td>1</td>\n",
              "      <td>0</td>\n",
              "      <td>2</td>\n",
              "      <td>10</td>\n",
              "      <td>1</td>\n",
              "    </tr>\n",
              "    <tr>\n",
              "      <th>29673</th>\n",
              "      <td>2687545</td>\n",
              "      <td>60</td>\n",
              "      <td>3</td>\n",
              "      <td>1</td>\n",
              "      <td>2</td>\n",
              "      <td>1</td>\n",
              "      <td>0</td>\n",
              "      <td>0</td>\n",
              "      <td>0</td>\n",
              "      <td>0</td>\n",
              "      <td>1</td>\n",
              "      <td>1</td>\n",
              "      <td>1</td>\n",
              "      <td>Mango</td>\n",
              "      <td>0</td>\n",
              "      <td>0</td>\n",
              "      <td>0</td>\n",
              "      <td>1</td>\n",
              "      <td>1</td>\n",
              "      <td>1</td>\n",
              "      <td>3</td>\n",
              "      <td>11</td>\n",
              "      <td>0</td>\n",
              "    </tr>\n",
              "    <tr>\n",
              "      <th>67311</th>\n",
              "      <td>1872336</td>\n",
              "      <td>28</td>\n",
              "      <td>3</td>\n",
              "      <td>1</td>\n",
              "      <td>2</td>\n",
              "      <td>1</td>\n",
              "      <td>0</td>\n",
              "      <td>0</td>\n",
              "      <td>0</td>\n",
              "      <td>1</td>\n",
              "      <td>0</td>\n",
              "      <td>0</td>\n",
              "      <td>0</td>\n",
              "      <td>Satna</td>\n",
              "      <td>0</td>\n",
              "      <td>0</td>\n",
              "      <td>0</td>\n",
              "      <td>1</td>\n",
              "      <td>0</td>\n",
              "      <td>0</td>\n",
              "      <td>3</td>\n",
              "      <td>12</td>\n",
              "      <td>1</td>\n",
              "    </tr>\n",
              "    <tr>\n",
              "      <th>183706</th>\n",
              "      <td>1312362</td>\n",
              "      <td>25</td>\n",
              "      <td>7</td>\n",
              "      <td>0</td>\n",
              "      <td>2</td>\n",
              "      <td>0</td>\n",
              "      <td>0</td>\n",
              "      <td>0</td>\n",
              "      <td>0</td>\n",
              "      <td>1</td>\n",
              "      <td>0</td>\n",
              "      <td>0</td>\n",
              "      <td>1</td>\n",
              "      <td>Parbhani</td>\n",
              "      <td>0</td>\n",
              "      <td>0</td>\n",
              "      <td>1</td>\n",
              "      <td>0</td>\n",
              "      <td>0</td>\n",
              "      <td>0</td>\n",
              "      <td>7</td>\n",
              "      <td>13</td>\n",
              "      <td>1</td>\n",
              "    </tr>\n",
              "    <tr>\n",
              "      <th>247702</th>\n",
              "      <td>1983548</td>\n",
              "      <td>70</td>\n",
              "      <td>5</td>\n",
              "      <td>1</td>\n",
              "      <td>2</td>\n",
              "      <td>0</td>\n",
              "      <td>0</td>\n",
              "      <td>0</td>\n",
              "      <td>0</td>\n",
              "      <td>1</td>\n",
              "      <td>0</td>\n",
              "      <td>1</td>\n",
              "      <td>0</td>\n",
              "      <td>Burhanpur</td>\n",
              "      <td>0</td>\n",
              "      <td>0</td>\n",
              "      <td>0</td>\n",
              "      <td>1</td>\n",
              "      <td>0</td>\n",
              "      <td>0</td>\n",
              "      <td>5</td>\n",
              "      <td>13</td>\n",
              "      <td>1</td>\n",
              "    </tr>\n",
              "  </tbody>\n",
              "</table>\n",
              "</div>"
            ],
            "text/plain": [
              "         income  age  ...  current_house_years  risk_flag\n",
              "14227   1548035   39  ...                   13          0\n",
              "26133   8064081   55  ...                   14          0\n",
              "242803  7444966   39  ...                   11          1\n",
              "80320   7256900   55  ...                   14          1\n",
              "208171  5842579   63  ...                   13          1\n",
              "111461  2935149   66  ...                   10          1\n",
              "29673   2687545   60  ...                   11          0\n",
              "67311   1872336   28  ...                   12          1\n",
              "183706  1312362   25  ...                   13          1\n",
              "247702  1983548   70  ...                   13          1\n",
              "\n",
              "[10 rows x 23 columns]"
            ]
          },
          "metadata": {
            "tags": []
          },
          "execution_count": 21
        }
      ]
    },
    {
      "cell_type": "code",
      "metadata": {
        "id": "NADyXghiTnrD"
      },
      "source": [
        "df_final = data1.drop(labels=['city'], axis=1)"
      ],
      "execution_count": 22,
      "outputs": []
    },
    {
      "cell_type": "code",
      "metadata": {
        "colab": {
          "base_uri": "https://localhost:8080/"
        },
        "id": "Z2FZDk_iUG03",
        "outputId": "dbabcf7b-14a9-42fc-ba1e-3020efe7a3ca"
      },
      "source": [
        "df_final.info()"
      ],
      "execution_count": 23,
      "outputs": [
        {
          "output_type": "stream",
          "text": [
            "<class 'pandas.core.frame.DataFrame'>\n",
            "Int64Index: 61992 entries, 14227 to 5500\n",
            "Data columns (total 22 columns):\n",
            " #   Column               Non-Null Count  Dtype\n",
            "---  ------               --------------  -----\n",
            " 0   income               61992 non-null  int64\n",
            " 1   age                  61992 non-null  int64\n",
            " 2   experience           61992 non-null  int64\n",
            " 3   married              61992 non-null  int64\n",
            " 4   house_ownership      61992 non-null  int64\n",
            " 5   car_ownership        61992 non-null  int64\n",
            " 6   profession_0         61992 non-null  int64\n",
            " 7   profession_1         61992 non-null  int64\n",
            " 8   profession_2         61992 non-null  int64\n",
            " 9   profession_3         61992 non-null  int64\n",
            " 10  profession_4         61992 non-null  int64\n",
            " 11  profession_5         61992 non-null  int64\n",
            " 12  profession_6         61992 non-null  int64\n",
            " 13  state_0              61992 non-null  int64\n",
            " 14  state_1              61992 non-null  int64\n",
            " 15  state_2              61992 non-null  int64\n",
            " 16  state_3              61992 non-null  int64\n",
            " 17  state_4              61992 non-null  int64\n",
            " 18  state_5              61992 non-null  int64\n",
            " 19  current_job_years    61992 non-null  int64\n",
            " 20  current_house_years  61992 non-null  int64\n",
            " 21  risk_flag            61992 non-null  int64\n",
            "dtypes: int64(22)\n",
            "memory usage: 10.9 MB\n"
          ],
          "name": "stdout"
        }
      ]
    },
    {
      "cell_type": "code",
      "metadata": {
        "colab": {
          "base_uri": "https://localhost:8080/",
          "height": 222
        },
        "id": "ByLvRV4kUI8Q",
        "outputId": "6d3bd3b7-3c09-4ed8-9cc8-af2013808764"
      },
      "source": [
        "df_final.head()"
      ],
      "execution_count": 24,
      "outputs": [
        {
          "output_type": "execute_result",
          "data": {
            "text/html": [
              "<div>\n",
              "<style scoped>\n",
              "    .dataframe tbody tr th:only-of-type {\n",
              "        vertical-align: middle;\n",
              "    }\n",
              "\n",
              "    .dataframe tbody tr th {\n",
              "        vertical-align: top;\n",
              "    }\n",
              "\n",
              "    .dataframe thead th {\n",
              "        text-align: right;\n",
              "    }\n",
              "</style>\n",
              "<table border=\"1\" class=\"dataframe\">\n",
              "  <thead>\n",
              "    <tr style=\"text-align: right;\">\n",
              "      <th></th>\n",
              "      <th>income</th>\n",
              "      <th>age</th>\n",
              "      <th>experience</th>\n",
              "      <th>married</th>\n",
              "      <th>house_ownership</th>\n",
              "      <th>car_ownership</th>\n",
              "      <th>profession_0</th>\n",
              "      <th>profession_1</th>\n",
              "      <th>profession_2</th>\n",
              "      <th>profession_3</th>\n",
              "      <th>profession_4</th>\n",
              "      <th>profession_5</th>\n",
              "      <th>profession_6</th>\n",
              "      <th>state_0</th>\n",
              "      <th>state_1</th>\n",
              "      <th>state_2</th>\n",
              "      <th>state_3</th>\n",
              "      <th>state_4</th>\n",
              "      <th>state_5</th>\n",
              "      <th>current_job_years</th>\n",
              "      <th>current_house_years</th>\n",
              "      <th>risk_flag</th>\n",
              "    </tr>\n",
              "  </thead>\n",
              "  <tbody>\n",
              "    <tr>\n",
              "      <th>14227</th>\n",
              "      <td>1548035</td>\n",
              "      <td>39</td>\n",
              "      <td>14</td>\n",
              "      <td>1</td>\n",
              "      <td>2</td>\n",
              "      <td>1</td>\n",
              "      <td>0</td>\n",
              "      <td>0</td>\n",
              "      <td>0</td>\n",
              "      <td>0</td>\n",
              "      <td>0</td>\n",
              "      <td>0</td>\n",
              "      <td>1</td>\n",
              "      <td>0</td>\n",
              "      <td>0</td>\n",
              "      <td>0</td>\n",
              "      <td>0</td>\n",
              "      <td>0</td>\n",
              "      <td>1</td>\n",
              "      <td>4</td>\n",
              "      <td>13</td>\n",
              "      <td>0</td>\n",
              "    </tr>\n",
              "    <tr>\n",
              "      <th>26133</th>\n",
              "      <td>8064081</td>\n",
              "      <td>55</td>\n",
              "      <td>18</td>\n",
              "      <td>1</td>\n",
              "      <td>2</td>\n",
              "      <td>1</td>\n",
              "      <td>0</td>\n",
              "      <td>0</td>\n",
              "      <td>0</td>\n",
              "      <td>0</td>\n",
              "      <td>0</td>\n",
              "      <td>1</td>\n",
              "      <td>0</td>\n",
              "      <td>0</td>\n",
              "      <td>0</td>\n",
              "      <td>0</td>\n",
              "      <td>0</td>\n",
              "      <td>1</td>\n",
              "      <td>0</td>\n",
              "      <td>9</td>\n",
              "      <td>14</td>\n",
              "      <td>0</td>\n",
              "    </tr>\n",
              "    <tr>\n",
              "      <th>242803</th>\n",
              "      <td>7444966</td>\n",
              "      <td>39</td>\n",
              "      <td>2</td>\n",
              "      <td>1</td>\n",
              "      <td>2</td>\n",
              "      <td>0</td>\n",
              "      <td>0</td>\n",
              "      <td>0</td>\n",
              "      <td>0</td>\n",
              "      <td>0</td>\n",
              "      <td>0</td>\n",
              "      <td>1</td>\n",
              "      <td>1</td>\n",
              "      <td>0</td>\n",
              "      <td>0</td>\n",
              "      <td>0</td>\n",
              "      <td>0</td>\n",
              "      <td>1</td>\n",
              "      <td>1</td>\n",
              "      <td>2</td>\n",
              "      <td>11</td>\n",
              "      <td>1</td>\n",
              "    </tr>\n",
              "    <tr>\n",
              "      <th>80320</th>\n",
              "      <td>7256900</td>\n",
              "      <td>55</td>\n",
              "      <td>9</td>\n",
              "      <td>1</td>\n",
              "      <td>2</td>\n",
              "      <td>0</td>\n",
              "      <td>0</td>\n",
              "      <td>0</td>\n",
              "      <td>0</td>\n",
              "      <td>0</td>\n",
              "      <td>1</td>\n",
              "      <td>0</td>\n",
              "      <td>0</td>\n",
              "      <td>0</td>\n",
              "      <td>0</td>\n",
              "      <td>0</td>\n",
              "      <td>1</td>\n",
              "      <td>0</td>\n",
              "      <td>0</td>\n",
              "      <td>4</td>\n",
              "      <td>14</td>\n",
              "      <td>1</td>\n",
              "    </tr>\n",
              "    <tr>\n",
              "      <th>208171</th>\n",
              "      <td>5842579</td>\n",
              "      <td>63</td>\n",
              "      <td>15</td>\n",
              "      <td>1</td>\n",
              "      <td>2</td>\n",
              "      <td>0</td>\n",
              "      <td>0</td>\n",
              "      <td>0</td>\n",
              "      <td>0</td>\n",
              "      <td>0</td>\n",
              "      <td>1</td>\n",
              "      <td>0</td>\n",
              "      <td>1</td>\n",
              "      <td>0</td>\n",
              "      <td>0</td>\n",
              "      <td>0</td>\n",
              "      <td>1</td>\n",
              "      <td>0</td>\n",
              "      <td>1</td>\n",
              "      <td>14</td>\n",
              "      <td>13</td>\n",
              "      <td>1</td>\n",
              "    </tr>\n",
              "  </tbody>\n",
              "</table>\n",
              "</div>"
            ],
            "text/plain": [
              "         income  age  ...  current_house_years  risk_flag\n",
              "14227   1548035   39  ...                   13          0\n",
              "26133   8064081   55  ...                   14          0\n",
              "242803  7444966   39  ...                   11          1\n",
              "80320   7256900   55  ...                   14          1\n",
              "208171  5842579   63  ...                   13          1\n",
              "\n",
              "[5 rows x 22 columns]"
            ]
          },
          "metadata": {
            "tags": []
          },
          "execution_count": 24
        }
      ]
    },
    {
      "cell_type": "code",
      "metadata": {
        "colab": {
          "base_uri": "https://localhost:8080/"
        },
        "id": "0kbnjayGuL8j",
        "outputId": "a99b97c6-f872-40d0-ea2f-18bdd7ca7563"
      },
      "source": [
        "np.unique(df_final['profession_0'].values), np.unique(df_final['state_0'].values)"
      ],
      "execution_count": 25,
      "outputs": [
        {
          "output_type": "execute_result",
          "data": {
            "text/plain": [
              "(array([0]), array([0]))"
            ]
          },
          "metadata": {
            "tags": []
          },
          "execution_count": 25
        }
      ]
    },
    {
      "cell_type": "code",
      "metadata": {
        "id": "PMbhxbanuWg-"
      },
      "source": [
        "df_final.drop(['profession_0', 'state_0'], axis=1, inplace=True)"
      ],
      "execution_count": 26,
      "outputs": []
    },
    {
      "cell_type": "code",
      "metadata": {
        "id": "Sx0xrWKdUN6v"
      },
      "source": [
        "scaler = preprocessing.MinMaxScaler()"
      ],
      "execution_count": 27,
      "outputs": []
    },
    {
      "cell_type": "code",
      "metadata": {
        "colab": {
          "base_uri": "https://localhost:8080/"
        },
        "id": "fzVg4WmfVG8V",
        "outputId": "c767e25f-1ff8-4794-df8b-92e2abc8da7a"
      },
      "source": [
        "scaler.fit(df_final)"
      ],
      "execution_count": 28,
      "outputs": [
        {
          "output_type": "execute_result",
          "data": {
            "text/plain": [
              "MinMaxScaler(copy=True, feature_range=(0, 1))"
            ]
          },
          "metadata": {
            "tags": []
          },
          "execution_count": 28
        }
      ]
    },
    {
      "cell_type": "code",
      "metadata": {
        "colab": {
          "base_uri": "https://localhost:8080/"
        },
        "id": "iGRs8hvYVP77",
        "outputId": "3604a108-97ac-4a47-d2f6-edf7f194419a"
      },
      "source": [
        "scaler.data_max_ , scaler.data_min_"
      ],
      "execution_count": 29,
      "outputs": [
        {
          "output_type": "execute_result",
          "data": {
            "text/plain": [
              "(array([9.99918e+06, 7.90000e+01, 2.00000e+01, 1.00000e+00, 2.00000e+00,\n",
              "        1.00000e+00, 1.00000e+00, 1.00000e+00, 1.00000e+00, 1.00000e+00,\n",
              "        1.00000e+00, 1.00000e+00, 1.00000e+00, 1.00000e+00, 1.00000e+00,\n",
              "        1.00000e+00, 1.00000e+00, 1.40000e+01, 1.40000e+01, 1.00000e+00]),\n",
              " array([1.031e+04, 2.100e+01, 0.000e+00, 0.000e+00, 0.000e+00, 0.000e+00,\n",
              "        0.000e+00, 0.000e+00, 0.000e+00, 0.000e+00, 0.000e+00, 0.000e+00,\n",
              "        0.000e+00, 0.000e+00, 0.000e+00, 0.000e+00, 0.000e+00, 0.000e+00,\n",
              "        1.000e+01, 0.000e+00]))"
            ]
          },
          "metadata": {
            "tags": []
          },
          "execution_count": 29
        }
      ]
    },
    {
      "cell_type": "code",
      "metadata": {
        "id": "7fD9iJMAVY44"
      },
      "source": [
        "data2 = pd.DataFrame(scaler.transform(df_final))"
      ],
      "execution_count": 30,
      "outputs": []
    },
    {
      "cell_type": "code",
      "metadata": {
        "colab": {
          "base_uri": "https://localhost:8080/",
          "height": 416
        },
        "id": "iARh_t2AH3Oz",
        "outputId": "5a25addd-a50f-47ab-9625-93bbdb714441"
      },
      "source": [
        "data2"
      ],
      "execution_count": 32,
      "outputs": [
        {
          "output_type": "execute_result",
          "data": {
            "text/html": [
              "<div>\n",
              "<style scoped>\n",
              "    .dataframe tbody tr th:only-of-type {\n",
              "        vertical-align: middle;\n",
              "    }\n",
              "\n",
              "    .dataframe tbody tr th {\n",
              "        vertical-align: top;\n",
              "    }\n",
              "\n",
              "    .dataframe thead th {\n",
              "        text-align: right;\n",
              "    }\n",
              "</style>\n",
              "<table border=\"1\" class=\"dataframe\">\n",
              "  <thead>\n",
              "    <tr style=\"text-align: right;\">\n",
              "      <th></th>\n",
              "      <th>0</th>\n",
              "      <th>1</th>\n",
              "      <th>2</th>\n",
              "      <th>3</th>\n",
              "      <th>4</th>\n",
              "      <th>5</th>\n",
              "      <th>6</th>\n",
              "      <th>7</th>\n",
              "      <th>8</th>\n",
              "      <th>9</th>\n",
              "      <th>10</th>\n",
              "      <th>11</th>\n",
              "      <th>12</th>\n",
              "      <th>13</th>\n",
              "      <th>14</th>\n",
              "      <th>15</th>\n",
              "      <th>16</th>\n",
              "      <th>17</th>\n",
              "      <th>18</th>\n",
              "      <th>19</th>\n",
              "    </tr>\n",
              "  </thead>\n",
              "  <tbody>\n",
              "    <tr>\n",
              "      <th>0</th>\n",
              "      <td>0.153944</td>\n",
              "      <td>0.310345</td>\n",
              "      <td>0.70</td>\n",
              "      <td>1.0</td>\n",
              "      <td>1.0</td>\n",
              "      <td>1.0</td>\n",
              "      <td>0.0</td>\n",
              "      <td>0.0</td>\n",
              "      <td>0.0</td>\n",
              "      <td>0.0</td>\n",
              "      <td>0.0</td>\n",
              "      <td>1.0</td>\n",
              "      <td>0.0</td>\n",
              "      <td>0.0</td>\n",
              "      <td>0.0</td>\n",
              "      <td>0.0</td>\n",
              "      <td>1.0</td>\n",
              "      <td>0.285714</td>\n",
              "      <td>0.75</td>\n",
              "      <td>0.0</td>\n",
              "    </tr>\n",
              "    <tr>\n",
              "      <th>1</th>\n",
              "      <td>0.806274</td>\n",
              "      <td>0.586207</td>\n",
              "      <td>0.90</td>\n",
              "      <td>1.0</td>\n",
              "      <td>1.0</td>\n",
              "      <td>1.0</td>\n",
              "      <td>0.0</td>\n",
              "      <td>0.0</td>\n",
              "      <td>0.0</td>\n",
              "      <td>0.0</td>\n",
              "      <td>1.0</td>\n",
              "      <td>0.0</td>\n",
              "      <td>0.0</td>\n",
              "      <td>0.0</td>\n",
              "      <td>0.0</td>\n",
              "      <td>1.0</td>\n",
              "      <td>0.0</td>\n",
              "      <td>0.642857</td>\n",
              "      <td>1.00</td>\n",
              "      <td>0.0</td>\n",
              "    </tr>\n",
              "    <tr>\n",
              "      <th>2</th>\n",
              "      <td>0.744294</td>\n",
              "      <td>0.310345</td>\n",
              "      <td>0.10</td>\n",
              "      <td>1.0</td>\n",
              "      <td>1.0</td>\n",
              "      <td>0.0</td>\n",
              "      <td>0.0</td>\n",
              "      <td>0.0</td>\n",
              "      <td>0.0</td>\n",
              "      <td>0.0</td>\n",
              "      <td>1.0</td>\n",
              "      <td>1.0</td>\n",
              "      <td>0.0</td>\n",
              "      <td>0.0</td>\n",
              "      <td>0.0</td>\n",
              "      <td>1.0</td>\n",
              "      <td>1.0</td>\n",
              "      <td>0.142857</td>\n",
              "      <td>0.25</td>\n",
              "      <td>1.0</td>\n",
              "    </tr>\n",
              "    <tr>\n",
              "      <th>3</th>\n",
              "      <td>0.725466</td>\n",
              "      <td>0.586207</td>\n",
              "      <td>0.45</td>\n",
              "      <td>1.0</td>\n",
              "      <td>1.0</td>\n",
              "      <td>0.0</td>\n",
              "      <td>0.0</td>\n",
              "      <td>0.0</td>\n",
              "      <td>0.0</td>\n",
              "      <td>1.0</td>\n",
              "      <td>0.0</td>\n",
              "      <td>0.0</td>\n",
              "      <td>0.0</td>\n",
              "      <td>0.0</td>\n",
              "      <td>1.0</td>\n",
              "      <td>0.0</td>\n",
              "      <td>0.0</td>\n",
              "      <td>0.285714</td>\n",
              "      <td>1.00</td>\n",
              "      <td>1.0</td>\n",
              "    </tr>\n",
              "    <tr>\n",
              "      <th>4</th>\n",
              "      <td>0.583877</td>\n",
              "      <td>0.724138</td>\n",
              "      <td>0.75</td>\n",
              "      <td>1.0</td>\n",
              "      <td>1.0</td>\n",
              "      <td>0.0</td>\n",
              "      <td>0.0</td>\n",
              "      <td>0.0</td>\n",
              "      <td>0.0</td>\n",
              "      <td>1.0</td>\n",
              "      <td>0.0</td>\n",
              "      <td>1.0</td>\n",
              "      <td>0.0</td>\n",
              "      <td>0.0</td>\n",
              "      <td>1.0</td>\n",
              "      <td>0.0</td>\n",
              "      <td>1.0</td>\n",
              "      <td>1.000000</td>\n",
              "      <td>0.75</td>\n",
              "      <td>1.0</td>\n",
              "    </tr>\n",
              "    <tr>\n",
              "      <th>...</th>\n",
              "      <td>...</td>\n",
              "      <td>...</td>\n",
              "      <td>...</td>\n",
              "      <td>...</td>\n",
              "      <td>...</td>\n",
              "      <td>...</td>\n",
              "      <td>...</td>\n",
              "      <td>...</td>\n",
              "      <td>...</td>\n",
              "      <td>...</td>\n",
              "      <td>...</td>\n",
              "      <td>...</td>\n",
              "      <td>...</td>\n",
              "      <td>...</td>\n",
              "      <td>...</td>\n",
              "      <td>...</td>\n",
              "      <td>...</td>\n",
              "      <td>...</td>\n",
              "      <td>...</td>\n",
              "      <td>...</td>\n",
              "    </tr>\n",
              "    <tr>\n",
              "      <th>61987</th>\n",
              "      <td>0.495511</td>\n",
              "      <td>0.603448</td>\n",
              "      <td>0.55</td>\n",
              "      <td>1.0</td>\n",
              "      <td>1.0</td>\n",
              "      <td>1.0</td>\n",
              "      <td>1.0</td>\n",
              "      <td>0.0</td>\n",
              "      <td>1.0</td>\n",
              "      <td>0.0</td>\n",
              "      <td>0.0</td>\n",
              "      <td>0.0</td>\n",
              "      <td>0.0</td>\n",
              "      <td>0.0</td>\n",
              "      <td>0.0</td>\n",
              "      <td>0.0</td>\n",
              "      <td>1.0</td>\n",
              "      <td>0.357143</td>\n",
              "      <td>0.50</td>\n",
              "      <td>1.0</td>\n",
              "    </tr>\n",
              "    <tr>\n",
              "      <th>61988</th>\n",
              "      <td>0.878603</td>\n",
              "      <td>0.362069</td>\n",
              "      <td>0.25</td>\n",
              "      <td>1.0</td>\n",
              "      <td>1.0</td>\n",
              "      <td>0.0</td>\n",
              "      <td>0.0</td>\n",
              "      <td>0.0</td>\n",
              "      <td>1.0</td>\n",
              "      <td>0.0</td>\n",
              "      <td>0.0</td>\n",
              "      <td>0.0</td>\n",
              "      <td>0.0</td>\n",
              "      <td>0.0</td>\n",
              "      <td>0.0</td>\n",
              "      <td>0.0</td>\n",
              "      <td>1.0</td>\n",
              "      <td>0.285714</td>\n",
              "      <td>0.50</td>\n",
              "      <td>0.0</td>\n",
              "    </tr>\n",
              "    <tr>\n",
              "      <th>61989</th>\n",
              "      <td>0.970585</td>\n",
              "      <td>0.224138</td>\n",
              "      <td>0.45</td>\n",
              "      <td>0.0</td>\n",
              "      <td>1.0</td>\n",
              "      <td>0.0</td>\n",
              "      <td>1.0</td>\n",
              "      <td>0.0</td>\n",
              "      <td>1.0</td>\n",
              "      <td>1.0</td>\n",
              "      <td>0.0</td>\n",
              "      <td>0.0</td>\n",
              "      <td>0.0</td>\n",
              "      <td>1.0</td>\n",
              "      <td>1.0</td>\n",
              "      <td>0.0</td>\n",
              "      <td>0.0</td>\n",
              "      <td>0.571429</td>\n",
              "      <td>1.00</td>\n",
              "      <td>0.0</td>\n",
              "    </tr>\n",
              "    <tr>\n",
              "      <th>61990</th>\n",
              "      <td>0.976933</td>\n",
              "      <td>0.775862</td>\n",
              "      <td>0.05</td>\n",
              "      <td>1.0</td>\n",
              "      <td>1.0</td>\n",
              "      <td>0.0</td>\n",
              "      <td>1.0</td>\n",
              "      <td>1.0</td>\n",
              "      <td>0.0</td>\n",
              "      <td>0.0</td>\n",
              "      <td>1.0</td>\n",
              "      <td>0.0</td>\n",
              "      <td>0.0</td>\n",
              "      <td>0.0</td>\n",
              "      <td>1.0</td>\n",
              "      <td>0.0</td>\n",
              "      <td>0.0</td>\n",
              "      <td>0.071429</td>\n",
              "      <td>0.75</td>\n",
              "      <td>1.0</td>\n",
              "    </tr>\n",
              "    <tr>\n",
              "      <th>61991</th>\n",
              "      <td>0.939811</td>\n",
              "      <td>0.637931</td>\n",
              "      <td>0.15</td>\n",
              "      <td>0.0</td>\n",
              "      <td>1.0</td>\n",
              "      <td>0.0</td>\n",
              "      <td>0.0</td>\n",
              "      <td>1.0</td>\n",
              "      <td>1.0</td>\n",
              "      <td>1.0</td>\n",
              "      <td>0.0</td>\n",
              "      <td>1.0</td>\n",
              "      <td>0.0</td>\n",
              "      <td>1.0</td>\n",
              "      <td>1.0</td>\n",
              "      <td>0.0</td>\n",
              "      <td>0.0</td>\n",
              "      <td>0.214286</td>\n",
              "      <td>1.00</td>\n",
              "      <td>0.0</td>\n",
              "    </tr>\n",
              "  </tbody>\n",
              "</table>\n",
              "<p>61992 rows × 20 columns</p>\n",
              "</div>"
            ],
            "text/plain": [
              "             0         1     2    3    4   ...   15   16        17    18   19\n",
              "0      0.153944  0.310345  0.70  1.0  1.0  ...  0.0  1.0  0.285714  0.75  0.0\n",
              "1      0.806274  0.586207  0.90  1.0  1.0  ...  1.0  0.0  0.642857  1.00  0.0\n",
              "2      0.744294  0.310345  0.10  1.0  1.0  ...  1.0  1.0  0.142857  0.25  1.0\n",
              "3      0.725466  0.586207  0.45  1.0  1.0  ...  0.0  0.0  0.285714  1.00  1.0\n",
              "4      0.583877  0.724138  0.75  1.0  1.0  ...  0.0  1.0  1.000000  0.75  1.0\n",
              "...         ...       ...   ...  ...  ...  ...  ...  ...       ...   ...  ...\n",
              "61987  0.495511  0.603448  0.55  1.0  1.0  ...  0.0  1.0  0.357143  0.50  1.0\n",
              "61988  0.878603  0.362069  0.25  1.0  1.0  ...  0.0  1.0  0.285714  0.50  0.0\n",
              "61989  0.970585  0.224138  0.45  0.0  1.0  ...  0.0  0.0  0.571429  1.00  0.0\n",
              "61990  0.976933  0.775862  0.05  1.0  1.0  ...  0.0  0.0  0.071429  0.75  1.0\n",
              "61991  0.939811  0.637931  0.15  0.0  1.0  ...  0.0  0.0  0.214286  1.00  0.0\n",
              "\n",
              "[61992 rows x 20 columns]"
            ]
          },
          "metadata": {
            "tags": []
          },
          "execution_count": 32
        }
      ]
    },
    {
      "cell_type": "code",
      "metadata": {
        "colab": {
          "base_uri": "https://localhost:8080/",
          "height": 722
        },
        "id": "a4FS1fGBFCNV",
        "outputId": "a2b7cbf0-b957-4423-8296-2c44393d0c52"
      },
      "source": [
        "plt.figure(figsize=(18,12)) \n",
        "sns.heatmap(data2.corr(), annot=True, fmt='.2g',)\n",
        "plt.plot()"
      ],
      "execution_count": 122,
      "outputs": [
        {
          "output_type": "execute_result",
          "data": {
            "text/plain": [
              "[]"
            ]
          },
          "metadata": {
            "tags": []
          },
          "execution_count": 122
        },
        {
          "output_type": "display_data",
          "data": {
            "image/png": "[encoded data removed]",
            "text/plain": [
              "<Figure size 1296x864 with 2 Axes>"
            ]
          },
          "metadata": {
            "tags": [],
            "needs_background": "light"
          }
        }
      ]
    },
    {
      "cell_type": "code",
      "metadata": {
        "id": "5aKcONDVn-U1"
      },
      "source": [
        "train_ratio = 0.8\n",
        "train_m = int(train_ratio * data2.shape[0])\n",
        "\n",
        "Train = data2[:train_m]\n",
        "Test = data2[train_m:]"
      ],
      "execution_count": 34,
      "outputs": []
    },
    {
      "cell_type": "code",
      "metadata": {
        "colab": {
          "base_uri": "https://localhost:8080/"
        },
        "id": "Zb87xIgSj5Bk",
        "outputId": "9e26a2ce-abfd-4ec4-c63e-93209289338e"
      },
      "source": [
        "X_train = Train.iloc[:, :-1]\n",
        "y_train = Train.iloc[:, -1]\n",
        "X_test = Test.iloc[:, :-1]\n",
        "y_test = Test.iloc[:, -1]\n",
        "\n",
        "print(f\"shape of X train is {X_train.shape}\")\n",
        "print(f\"shape of y train is {y_train.shape}\")\n",
        "print(f\"shape of X test is {X_test.shape}\")\n",
        "print(f\"shape of y test is {y_test.shape}\")"
      ],
      "execution_count": 35,
      "outputs": [
        {
          "output_type": "stream",
          "text": [
            "shape of X train is (49593, 19)\n",
            "shape of y train is (49593,)\n",
            "shape of X test is (12399, 19)\n",
            "shape of y test is (12399,)\n"
          ],
          "name": "stdout"
        }
      ]
    },
    {
      "cell_type": "markdown",
      "metadata": {
        "id": "m8yWV_yp5xER"
      },
      "source": [
        "# Learning From Different Classifier"
      ]
    },
    {
      "cell_type": "markdown",
      "metadata": {
        "id": "bVMJLHZZGF3A"
      },
      "source": [
        "## Using Linear Regression"
      ]
    },
    {
      "cell_type": "code",
      "metadata": {
        "id": "-csLdB-Xke2u"
      },
      "source": [
        "from sklearn.linear_model import LinearRegression\n",
        "from sklearn import metrics"
      ],
      "execution_count": 36,
      "outputs": []
    },
    {
      "cell_type": "code",
      "metadata": {
        "id": "TNOWJ4UdGX6m"
      },
      "source": [
        "lr = LinearRegression()"
      ],
      "execution_count": 37,
      "outputs": []
    },
    {
      "cell_type": "code",
      "metadata": {
        "colab": {
          "base_uri": "https://localhost:8080/"
        },
        "id": "Mw_xSgFwG0ec",
        "outputId": "cabc9197-05ba-42d1-db88-c8d2eaecc917"
      },
      "source": [
        "lr.fit(X_train, y_train)"
      ],
      "execution_count": 38,
      "outputs": [
        {
          "output_type": "execute_result",
          "data": {
            "text/plain": [
              "LinearRegression(copy_X=True, fit_intercept=True, n_jobs=None, normalize=False)"
            ]
          },
          "metadata": {
            "tags": []
          },
          "execution_count": 38
        }
      ]
    },
    {
      "cell_type": "code",
      "metadata": {
        "colab": {
          "base_uri": "https://localhost:8080/"
        },
        "id": "Ge3O3GhYG-Nv",
        "outputId": "c6daa8a6-0182-4e01-abf7-21c228a78eb3"
      },
      "source": [
        "lr.intercept_"
      ],
      "execution_count": 39,
      "outputs": [
        {
          "output_type": "execute_result",
          "data": {
            "text/plain": [
              "0.46982297181932364"
            ]
          },
          "metadata": {
            "tags": []
          },
          "execution_count": 39
        }
      ]
    },
    {
      "cell_type": "code",
      "metadata": {
        "id": "HTQiTOHjHCc4"
      },
      "source": [
        "pred_lr = lr.predict(X_test)"
      ],
      "execution_count": 40,
      "outputs": []
    },
    {
      "cell_type": "code",
      "metadata": {
        "colab": {
          "base_uri": "https://localhost:8080/"
        },
        "id": "_hpxLOURHtdn",
        "outputId": "9740b395-7545-4533-bd5a-861bef4b6421"
      },
      "source": [
        "pred_lr.shape"
      ],
      "execution_count": 41,
      "outputs": [
        {
          "output_type": "execute_result",
          "data": {
            "text/plain": [
              "(12399,)"
            ]
          },
          "metadata": {
            "tags": []
          },
          "execution_count": 41
        }
      ]
    },
    {
      "cell_type": "code",
      "metadata": {
        "colab": {
          "base_uri": "https://localhost:8080/"
        },
        "id": "03fFuWSuIxKa",
        "outputId": "cdbd900c-c3ac-43f3-fced-d4d34cf6a565"
      },
      "source": [
        "np.unique(pred_lr)"
      ],
      "execution_count": 42,
      "outputs": [
        {
          "output_type": "execute_result",
          "data": {
            "text/plain": [
              "array([0.27269417, 0.27945514, 0.28424517, ..., 0.66475349, 0.6670198 ,\n",
              "       0.67421849])"
            ]
          },
          "metadata": {
            "tags": []
          },
          "execution_count": 42
        }
      ]
    },
    {
      "cell_type": "code",
      "metadata": {
        "id": "spoq6CWZm9EC"
      },
      "source": [
        "for i in range(len(pred_lr)):\n",
        "  if pred_lr[i]<0.5:\n",
        "    pred_lr[i] = 0\n",
        "  else:\n",
        "    pred_lr[i] = 1"
      ],
      "execution_count": 43,
      "outputs": []
    },
    {
      "cell_type": "code",
      "metadata": {
        "colab": {
          "base_uri": "https://localhost:8080/"
        },
        "id": "dTmO1zLgHSpl",
        "outputId": "0d924104-572f-4cf9-c26e-b379e39c3909"
      },
      "source": [
        "print(metrics.classification_report(y_test, pred_lr))"
      ],
      "execution_count": 44,
      "outputs": [
        {
          "output_type": "stream",
          "text": [
            "              precision    recall  f1-score   support\n",
            "\n",
            "         0.0       0.55      0.53      0.54      6193\n",
            "         1.0       0.55      0.57      0.56      6206\n",
            "\n",
            "    accuracy                           0.55     12399\n",
            "   macro avg       0.55      0.55      0.55     12399\n",
            "weighted avg       0.55      0.55      0.55     12399\n",
            "\n"
          ],
          "name": "stdout"
        }
      ]
    },
    {
      "cell_type": "code",
      "metadata": {
        "colab": {
          "base_uri": "https://localhost:8080/"
        },
        "id": "wAoNz3d1HYfU",
        "outputId": "5492fefe-7a8f-4405-b6c2-70f24943c27c"
      },
      "source": [
        "import collections\n",
        "collections.Counter(pred_lr)"
      ],
      "execution_count": 45,
      "outputs": [
        {
          "output_type": "execute_result",
          "data": {
            "text/plain": [
              "Counter({0.0: 5900, 1.0: 6499})"
            ]
          },
          "metadata": {
            "tags": []
          },
          "execution_count": 45
        }
      ]
    },
    {
      "cell_type": "code",
      "metadata": {
        "colab": {
          "base_uri": "https://localhost:8080/"
        },
        "id": "DMEWqT90toOd",
        "outputId": "09441254-610c-4403-e7e7-c4a89f122f57"
      },
      "source": [
        "collections.Counter(y_test)"
      ],
      "execution_count": 46,
      "outputs": [
        {
          "output_type": "execute_result",
          "data": {
            "text/plain": [
              "Counter({0.0: 6193, 1.0: 6206})"
            ]
          },
          "metadata": {
            "tags": []
          },
          "execution_count": 46
        }
      ]
    },
    {
      "cell_type": "code",
      "metadata": {
        "colab": {
          "base_uri": "https://localhost:8080/"
        },
        "id": "udqw_IRqxHnF",
        "outputId": "ad15e300-bbab-47f5-de82-44654b428906"
      },
      "source": [
        "print(\"MAE:\", metrics.mean_absolute_error(y_test, pred_lr))\n",
        "print('MSE:', metrics.mean_squared_error(y_test, pred_lr))\n",
        "print('RMSE:', np.sqrt(metrics.mean_squared_error(y_test, pred_lr)))"
      ],
      "execution_count": 47,
      "outputs": [
        {
          "output_type": "stream",
          "text": [
            "MAE: 0.45043955157674004\n",
            "MSE: 0.45043955157674004\n",
            "RMSE: 0.6711479356868648\n"
          ],
          "name": "stdout"
        }
      ]
    },
    {
      "cell_type": "markdown",
      "metadata": {
        "id": "2dRNB0CHaWL1"
      },
      "source": [
        "## Using Logistic Regression"
      ]
    },
    {
      "cell_type": "code",
      "metadata": {
        "id": "mqXG1qTPejDU"
      },
      "source": [
        "from sklearn.linear_model import LogisticRegression"
      ],
      "execution_count": 48,
      "outputs": []
    },
    {
      "cell_type": "code",
      "metadata": {
        "id": "AakTnsXqfs0Z"
      },
      "source": [
        "reg_log = LogisticRegression()\n",
        "reg_log.fit(X_train, y_train)\n",
        "y_pred = reg_log.predict(X_test)"
      ],
      "execution_count": 49,
      "outputs": []
    },
    {
      "cell_type": "code",
      "metadata": {
        "colab": {
          "base_uri": "https://localhost:8080/"
        },
        "id": "jxXRLs_wJOHy",
        "outputId": "dea28588-e927-449f-afa6-b380a73da073"
      },
      "source": [
        "np.unique(y_pred)"
      ],
      "execution_count": 50,
      "outputs": [
        {
          "output_type": "execute_result",
          "data": {
            "text/plain": [
              "array([0., 1.])"
            ]
          },
          "metadata": {
            "tags": []
          },
          "execution_count": 50
        }
      ]
    },
    {
      "cell_type": "code",
      "metadata": {
        "colab": {
          "base_uri": "https://localhost:8080/"
        },
        "id": "h3zNacIaf92R",
        "outputId": "327da14e-de1b-491c-c24b-1701d820c226"
      },
      "source": [
        "from sklearn import metrics\n",
        "print(metrics.classification_report(y_test, y_pred))"
      ],
      "execution_count": 51,
      "outputs": [
        {
          "output_type": "stream",
          "text": [
            "              precision    recall  f1-score   support\n",
            "\n",
            "         0.0       0.55      0.53      0.54      6193\n",
            "         1.0       0.55      0.57      0.56      6206\n",
            "\n",
            "    accuracy                           0.55     12399\n",
            "   macro avg       0.55      0.55      0.55     12399\n",
            "weighted avg       0.55      0.55      0.55     12399\n",
            "\n"
          ],
          "name": "stdout"
        }
      ]
    },
    {
      "cell_type": "code",
      "metadata": {
        "colab": {
          "base_uri": "https://localhost:8080/"
        },
        "id": "qUTDEFMGgtqx",
        "outputId": "79823978-e9f3-4a8c-a35d-fc5fa6fe61ac"
      },
      "source": [
        "print(\"roc_auc_score: \", metrics.roc_auc_score(y_test, y_pred))\n",
        "print(\"f1 score: \", metrics.f1_score(y_test, y_pred))"
      ],
      "execution_count": 52,
      "outputs": [
        {
          "output_type": "stream",
          "text": [
            "roc_auc_score:  0.5499388584379389\n",
            "f1 score:  0.5606299212598426\n"
          ],
          "name": "stdout"
        }
      ]
    },
    {
      "cell_type": "code",
      "metadata": {
        "colab": {
          "base_uri": "https://localhost:8080/"
        },
        "id": "jZKdMOOUjJ6L",
        "outputId": "78f1c5f1-d05f-4ac7-9517-5229367dc33c"
      },
      "source": [
        "len(y_test[y_test==1])"
      ],
      "execution_count": 53,
      "outputs": [
        {
          "output_type": "execute_result",
          "data": {
            "text/plain": [
              "6206"
            ]
          },
          "metadata": {
            "tags": []
          },
          "execution_count": 53
        }
      ]
    },
    {
      "cell_type": "markdown",
      "metadata": {
        "id": "9oT3Ied_yH6a"
      },
      "source": [
        "## Using SVM"
      ]
    },
    {
      "cell_type": "code",
      "metadata": {
        "id": "j-FBsUJRyCvE"
      },
      "source": [
        "from sklearn import svm"
      ],
      "execution_count": 54,
      "outputs": []
    },
    {
      "cell_type": "code",
      "metadata": {
        "id": "CN_GlCpZyOkZ"
      },
      "source": [
        "SVM = svm.LinearSVC()\n",
        "SVM.fit(X_train, y_train)\n",
        "pred_svm = SVM.predict(X_test)"
      ],
      "execution_count": 55,
      "outputs": []
    },
    {
      "cell_type": "code",
      "metadata": {
        "colab": {
          "base_uri": "https://localhost:8080/"
        },
        "id": "yaFSsy4Gynm3",
        "outputId": "3f785f23-ad35-4ea5-e3ae-5aab2787fba6"
      },
      "source": [
        "np.unique(pred_svm)"
      ],
      "execution_count": 56,
      "outputs": [
        {
          "output_type": "execute_result",
          "data": {
            "text/plain": [
              "array([0., 1.])"
            ]
          },
          "metadata": {
            "tags": []
          },
          "execution_count": 56
        }
      ]
    },
    {
      "cell_type": "code",
      "metadata": {
        "colab": {
          "base_uri": "https://localhost:8080/"
        },
        "id": "QmgzAiOuyuqp",
        "outputId": "206dc838-7a24-45fb-a4d2-ecd8805d9889"
      },
      "source": [
        "collections.Counter(pred_svm)"
      ],
      "execution_count": 57,
      "outputs": [
        {
          "output_type": "execute_result",
          "data": {
            "text/plain": [
              "Counter({0.0: 5900, 1.0: 6499})"
            ]
          },
          "metadata": {
            "tags": []
          },
          "execution_count": 57
        }
      ]
    },
    {
      "cell_type": "code",
      "metadata": {
        "colab": {
          "base_uri": "https://localhost:8080/"
        },
        "id": "4NE2SUn5yzqG",
        "outputId": "d667fe3b-a16f-4819-95ba-099b4f238cab"
      },
      "source": [
        "print(\"MAE:\", metrics.mean_absolute_error(y_test, pred_svm))\n",
        "print('MSE:', metrics.mean_squared_error(y_test, pred_svm))\n",
        "print('RMSE:', np.sqrt(metrics.mean_squared_error(y_test, pred_svm)))"
      ],
      "execution_count": 58,
      "outputs": [
        {
          "output_type": "stream",
          "text": [
            "MAE: 0.45043955157674004\n",
            "MSE: 0.45043955157674004\n",
            "RMSE: 0.6711479356868648\n"
          ],
          "name": "stdout"
        }
      ]
    },
    {
      "cell_type": "code",
      "metadata": {
        "colab": {
          "base_uri": "https://localhost:8080/"
        },
        "id": "bzuIbpjW19u_",
        "outputId": "8a483705-97d1-423e-d8af-51b6e9785552"
      },
      "source": [
        "roc_auc_score(y_test, pred_svm)"
      ],
      "execution_count": 59,
      "outputs": [
        {
          "output_type": "execute_result",
          "data": {
            "text/plain": [
              "0.549535176861966"
            ]
          },
          "metadata": {
            "tags": []
          },
          "execution_count": 59
        }
      ]
    },
    {
      "cell_type": "markdown",
      "metadata": {
        "id": "ja1f03JpzaFT"
      },
      "source": [
        "## Using Random Forest"
      ]
    },
    {
      "cell_type": "code",
      "metadata": {
        "id": "WfuVEJwLzKYW"
      },
      "source": [
        "from sklearn.ensemble import RandomForestClassifier\n",
        "\n",
        "RF = RandomForestClassifier(n_estimators=80, random_state=0)\n",
        "RF.fit(X_train, y_train)\n",
        "pred_re = RF.predict(X_test)"
      ],
      "execution_count": 60,
      "outputs": []
    },
    {
      "cell_type": "code",
      "metadata": {
        "colab": {
          "base_uri": "https://localhost:8080/"
        },
        "id": "UQlwMzEr2LAr",
        "outputId": "2cbfeba7-da60-4a5d-91d5-f051baf6c245"
      },
      "source": [
        "from sklearn.metrics import classification_report, confusion_matrix, accuracy_score\n",
        "\n",
        "print(confusion_matrix(y_test,pred_re))\n",
        "print(classification_report(y_test,pred_re))\n",
        "print(accuracy_score(y_test, pred_re))"
      ],
      "execution_count": 61,
      "outputs": [
        {
          "output_type": "stream",
          "text": [
            "[[5668  525]\n",
            " [ 705 5501]]\n",
            "              precision    recall  f1-score   support\n",
            "\n",
            "         0.0       0.89      0.92      0.90      6193\n",
            "         1.0       0.91      0.89      0.90      6206\n",
            "\n",
            "    accuracy                           0.90     12399\n",
            "   macro avg       0.90      0.90      0.90     12399\n",
            "weighted avg       0.90      0.90      0.90     12399\n",
            "\n",
            "0.9007984514880232\n"
          ],
          "name": "stdout"
        }
      ]
    },
    {
      "cell_type": "markdown",
      "metadata": {
        "id": "TADa-pfRW0K2"
      },
      "source": [
        "## Using Neural Network to Classify"
      ]
    },
    {
      "cell_type": "code",
      "metadata": {
        "id": "o_UHqKhAWzyE"
      },
      "source": [
        "from keras.models import Sequential\n",
        "from keras.layers import Dense"
      ],
      "execution_count": 62,
      "outputs": []
    },
    {
      "cell_type": "code",
      "metadata": {
        "id": "iYxwyGylRnr9"
      },
      "source": [
        "model = Sequential()\n",
        "\n",
        "model.add(Dense(units = 20, activation = 'relu', input_shape=(X_train.shape[1], )))\n",
        "\n",
        "model.add(Dense(10, activation='relu'))\n",
        "model.add(Dense(4, activation='relu'))\n",
        "model.add(Dense(2, activation='relu'))\n",
        "\n",
        "model.add(Dense(1, activation='sigmoid'))"
      ],
      "execution_count": 63,
      "outputs": []
    },
    {
      "cell_type": "code",
      "metadata": {
        "colab": {
          "base_uri": "https://localhost:8080/"
        },
        "id": "4nhU1GCVaiPZ",
        "outputId": "65d0ce2c-20fa-4281-d5ed-f3236a4d5974"
      },
      "source": [
        "model.compile(loss='binary_crossentropy',optimizer='sgd',metrics=['accuracy'])\n",
        "\n",
        "history = model.fit(X_train, y_train, epochs=20, validation_data=(X_test, y_test), batch_size=10, verbose=1)"
      ],
      "execution_count": 64,
      "outputs": [
        {
          "output_type": "stream",
          "text": [
            "Epoch 1/20\n",
            "4960/4960 [==============================] - 8s 1ms/step - loss: 0.6930 - accuracy: 0.5057 - val_loss: 0.6931 - val_accuracy: 0.5067\n",
            "Epoch 2/20\n",
            "4960/4960 [==============================] - 7s 1ms/step - loss: 0.6930 - accuracy: 0.5074 - val_loss: 0.6925 - val_accuracy: 0.5005\n",
            "Epoch 3/20\n",
            "4960/4960 [==============================] - 7s 1ms/step - loss: 0.6928 - accuracy: 0.5086 - val_loss: 0.6925 - val_accuracy: 0.5193\n",
            "Epoch 4/20\n",
            "4960/4960 [==============================] - 7s 2ms/step - loss: 0.6922 - accuracy: 0.5164 - val_loss: 0.6915 - val_accuracy: 0.5253\n",
            "Epoch 5/20\n",
            "4960/4960 [==============================] - 7s 1ms/step - loss: 0.6915 - accuracy: 0.5236 - val_loss: 0.6902 - val_accuracy: 0.5350\n",
            "Epoch 6/20\n",
            "4960/4960 [==============================] - 8s 2ms/step - loss: 0.6902 - accuracy: 0.5317 - val_loss: 0.6873 - val_accuracy: 0.5512\n",
            "Epoch 7/20\n",
            "4960/4960 [==============================] - 8s 2ms/step - loss: 0.6874 - accuracy: 0.5457 - val_loss: 0.6844 - val_accuracy: 0.5541\n",
            "Epoch 8/20\n",
            "4960/4960 [==============================] - 7s 1ms/step - loss: 0.6844 - accuracy: 0.5582 - val_loss: 0.6823 - val_accuracy: 0.5628\n",
            "Epoch 9/20\n",
            "4960/4960 [==============================] - 7s 1ms/step - loss: 0.6824 - accuracy: 0.5629 - val_loss: 0.6811 - val_accuracy: 0.5645\n",
            "Epoch 10/20\n",
            "4960/4960 [==============================] - 7s 1ms/step - loss: 0.6794 - accuracy: 0.5744 - val_loss: 0.6794 - val_accuracy: 0.5713\n",
            "Epoch 11/20\n",
            "4960/4960 [==============================] - 7s 1ms/step - loss: 0.6770 - accuracy: 0.5783 - val_loss: 0.6826 - val_accuracy: 0.5604\n",
            "Epoch 12/20\n",
            "4960/4960 [==============================] - 7s 1ms/step - loss: 0.6765 - accuracy: 0.5800 - val_loss: 0.6770 - val_accuracy: 0.5767\n",
            "Epoch 13/20\n",
            "4960/4960 [==============================] - 7s 2ms/step - loss: 0.6753 - accuracy: 0.5811 - val_loss: 0.6752 - val_accuracy: 0.5834\n",
            "Epoch 14/20\n",
            "4960/4960 [==============================] - 7s 1ms/step - loss: 0.6726 - accuracy: 0.5860 - val_loss: 0.6771 - val_accuracy: 0.5773\n",
            "Epoch 15/20\n",
            "4960/4960 [==============================] - 7s 1ms/step - loss: 0.6708 - accuracy: 0.5932 - val_loss: 0.6712 - val_accuracy: 0.5912\n",
            "Epoch 16/20\n",
            "4960/4960 [==============================] - 7s 2ms/step - loss: 0.6684 - accuracy: 0.5953 - val_loss: 0.6721 - val_accuracy: 0.5868\n",
            "Epoch 17/20\n",
            "4960/4960 [==============================] - 7s 1ms/step - loss: 0.6664 - accuracy: 0.6000 - val_loss: 0.6671 - val_accuracy: 0.6021\n",
            "Epoch 18/20\n",
            "4960/4960 [==============================] - 7s 2ms/step - loss: 0.6648 - accuracy: 0.6031 - val_loss: 0.6655 - val_accuracy: 0.6053\n",
            "Epoch 19/20\n",
            "4960/4960 [==============================] - 7s 1ms/step - loss: 0.6610 - accuracy: 0.6110 - val_loss: 0.6673 - val_accuracy: 0.5975\n",
            "Epoch 20/20\n",
            "4960/4960 [==============================] - 7s 2ms/step - loss: 0.6583 - accuracy: 0.6146 - val_loss: 0.6657 - val_accuracy: 0.6056\n"
          ],
          "name": "stdout"
        }
      ]
    },
    {
      "cell_type": "code",
      "metadata": {
        "id": "YAngnVt7xpSW"
      },
      "source": [
        "# history.history"
      ],
      "execution_count": 65,
      "outputs": []
    },
    {
      "cell_type": "code",
      "metadata": {
        "colab": {
          "base_uri": "https://localhost:8080/",
          "height": 281
        },
        "id": "nWoF2xM3ycMe",
        "outputId": "b9ae507c-99fa-421b-920c-2de0c3df7085"
      },
      "source": [
        "# plot loss during training\n",
        "plt.subplot(211)\n",
        "plt.title('Loss')\n",
        "plt.plot(history.history['loss'], label='train')\n",
        "plt.plot(history.history['val_loss'], label='test')\n",
        "plt.legend()\n",
        "# plot accuracy during training\n",
        "plt.subplot(212)\n",
        "plt.title('Accuracy')\n",
        "plt.plot(history.history['accuracy'], label='train')\n",
        "plt.plot(history.history['val_accuracy'], label='test')\n",
        "plt.legend()\n",
        "plt.show()"
      ],
      "execution_count": 66,
      "outputs": [
        {
          "output_type": "display_data",
          "data": {
            "image/png": "[encoded data removed]",
            "text/plain": [
              "<Figure size 432x288 with 2 Axes>"
            ]
          },
          "metadata": {
            "tags": [],
            "needs_background": "light"
          }
        }
      ]
    },
    {
      "cell_type": "code",
      "metadata": {
        "colab": {
          "base_uri": "https://localhost:8080/"
        },
        "id": "bMWakHS-ycEw",
        "outputId": "47d379b9-f859-4b95-883e-e1d5c637f85d"
      },
      "source": [
        "pred_nn = model.predict(X_test, batch_size=1, verbose=1)"
      ],
      "execution_count": 67,
      "outputs": [
        {
          "output_type": "stream",
          "text": [
            "12399/12399 [==============================] - 9s 742us/step\n"
          ],
          "name": "stdout"
        }
      ]
    },
    {
      "cell_type": "code",
      "metadata": {
        "colab": {
          "base_uri": "https://localhost:8080/"
        },
        "id": "oaTBpr402P-g",
        "outputId": "66a7d987-e40a-4795-8590-c76155c5c88b"
      },
      "source": [
        "for i in range(len(pred_nn)):\n",
        "  if pred_nn[i]<0.5:\n",
        "    pred_nn[i]=0\n",
        "  else:\n",
        "    pred_nn[i]=1\n",
        "\n",
        "np.unique(pred_nn)"
      ],
      "execution_count": 68,
      "outputs": [
        {
          "output_type": "execute_result",
          "data": {
            "text/plain": [
              "array([0., 1.], dtype=float32)"
            ]
          },
          "metadata": {
            "tags": []
          },
          "execution_count": 68
        }
      ]
    },
    {
      "cell_type": "code",
      "metadata": {
        "colab": {
          "base_uri": "https://localhost:8080/"
        },
        "id": "6XL0EHJX2P2D",
        "outputId": "132c5981-de56-44e2-817b-a2ab4e3f22b0"
      },
      "source": [
        "accuracy_score(y_test, pred_nn)"
      ],
      "execution_count": 69,
      "outputs": [
        {
          "output_type": "execute_result",
          "data": {
            "text/plain": [
              "0.6056133559157997"
            ]
          },
          "metadata": {
            "tags": []
          },
          "execution_count": 69
        }
      ]
    },
    {
      "cell_type": "markdown",
      "metadata": {
        "id": "PMY0Q-BRYUCd"
      },
      "source": [
        "## Using Naive Bayes"
      ]
    },
    {
      "cell_type": "code",
      "metadata": {
        "id": "innzfXqUYc6r"
      },
      "source": [
        "from sklearn.naive_bayes import GaussianNB\n",
        "\n",
        "nb = GaussianNB()"
      ],
      "execution_count": 70,
      "outputs": []
    },
    {
      "cell_type": "code",
      "metadata": {
        "id": "zT03iV4PYcNL"
      },
      "source": [
        "nb.fit(X_train, y_train)\n",
        "pred_nb = nb.predict(X_test)"
      ],
      "execution_count": 71,
      "outputs": []
    },
    {
      "cell_type": "code",
      "metadata": {
        "colab": {
          "base_uri": "https://localhost:8080/"
        },
        "id": "NbaHMl94ZSPp",
        "outputId": "188f1f4a-a3c5-4470-83c4-025a8044a387"
      },
      "source": [
        "print(confusion_matrix(y_test,pred_nb))\n",
        "print(classification_report(y_test,pred_nb, target_names=['risk flag 0', 'risk flag 1'] ))\n",
        "print(accuracy_score(y_test, pred_nb))"
      ],
      "execution_count": 72,
      "outputs": [
        {
          "output_type": "stream",
          "text": [
            "[[2269 3924]\n",
            " [1793 4413]]\n",
            "              precision    recall  f1-score   support\n",
            "\n",
            " risk flag 0       0.56      0.37      0.44      6193\n",
            " risk flag 1       0.53      0.71      0.61      6206\n",
            "\n",
            "    accuracy                           0.54     12399\n",
            "   macro avg       0.54      0.54      0.52     12399\n",
            "weighted avg       0.54      0.54      0.52     12399\n",
            "\n",
            "0.5389144285829502\n"
          ],
          "name": "stdout"
        }
      ]
    },
    {
      "cell_type": "code",
      "metadata": {
        "colab": {
          "base_uri": "https://localhost:8080/"
        },
        "id": "Uje6lGGhe4Ik",
        "outputId": "b0addd83-d43e-44f1-842e-ba5324a77df0"
      },
      "source": [
        "pred_nb"
      ],
      "execution_count": 73,
      "outputs": [
        {
          "output_type": "execute_result",
          "data": {
            "text/plain": [
              "array([1., 0., 1., ..., 0., 1., 0.])"
            ]
          },
          "metadata": {
            "tags": []
          },
          "execution_count": 73
        }
      ]
    },
    {
      "cell_type": "code",
      "metadata": {
        "colab": {
          "base_uri": "https://localhost:8080/"
        },
        "id": "GyzhN2UZjwiy",
        "outputId": "5a882ca4-e304-459a-d55f-ff88b17256d7"
      },
      "source": [
        "print(\"Roc_auc_score:\", metrics.roc_auc_score(y_test, pred_nb))"
      ],
      "execution_count": 74,
      "outputs": [
        {
          "output_type": "stream",
          "text": [
            "Roc_auc_score: 0.5387337220575723\n"
          ],
          "name": "stdout"
        }
      ]
    },
    {
      "cell_type": "markdown",
      "metadata": {
        "id": "i3OTzMw5m_uA"
      },
      "source": [
        "## Using Decision Tree"
      ]
    },
    {
      "cell_type": "code",
      "metadata": {
        "id": "6_1gp45MnERD"
      },
      "source": [
        "from sklearn.tree import DecisionTreeClassifier\n",
        "\n",
        "dtree = DecisionTreeClassifier()\n",
        "dtree.fit(X_train, y_train)\n",
        "pred_dtree = dtree.predict(X_test)"
      ],
      "execution_count": 75,
      "outputs": []
    },
    {
      "cell_type": "code",
      "metadata": {
        "colab": {
          "base_uri": "https://localhost:8080/"
        },
        "id": "sthJu1rlnEHi",
        "outputId": "55ea26b0-938a-45b4-8ccb-8db5beb0f9fe"
      },
      "source": [
        "print(classification_report(y_test,pred_dtree, target_names=['risk flag 0', 'risk flag 1'] ))\n",
        "print(\"Accuacy score\", accuracy_score(y_test, pred_dtree))\n",
        "print(\"Roc_auc_score:\", metrics.roc_auc_score(y_test, pred_dtree))"
      ],
      "execution_count": 76,
      "outputs": [
        {
          "output_type": "stream",
          "text": [
            "              precision    recall  f1-score   support\n",
            "\n",
            " risk flag 0       0.91      0.91      0.91      6193\n",
            " risk flag 1       0.91      0.91      0.91      6206\n",
            "\n",
            "    accuracy                           0.91     12399\n",
            "   macro avg       0.91      0.91      0.91     12399\n",
            "weighted avg       0.91      0.91      0.91     12399\n",
            "\n",
            "Accuacy score 0.9126542463101863\n",
            "Roc_auc_score: 0.9126555878298448\n"
          ],
          "name": "stdout"
        }
      ]
    },
    {
      "cell_type": "markdown",
      "metadata": {
        "id": "rrMNlsYrttUC"
      },
      "source": [
        "# Conculsion of Classifier Algorithms"
      ]
    },
    {
      "cell_type": "code",
      "metadata": {
        "id": "ayggrqfAtwFQ"
      },
      "source": [
        "comparison_matrix = {'Linear Regression': [accuracy_score(y_test, pred_lr), f1_score(y_test, pred_lr), roc_auc_score(y_test, pred_lr)],\n",
        "                     'Logistic Regression': [accuracy_score(y_test, y_pred), f1_score(y_test, y_pred), roc_auc_score(y_test, y_pred)],\n",
        "                     'SVM classifier': [accuracy_score(y_test, pred_svm), f1_score(y_test, pred_svm), roc_auc_score(y_test, pred_svm)],\n",
        "                     'Naive Bayes': [accuracy_score(y_test, pred_nb), f1_score(y_test, pred_nb), roc_auc_score(y_test, pred_nb)],\n",
        "                     'Random Forest': [accuracy_score(y_test, pred_re), f1_score(y_test, pred_re), roc_auc_score(y_test, pred_re)],\n",
        "                     'Decison Tree': [accuracy_score(y_test, pred_dtree), f1_score(y_test, pred_dtree), roc_auc_score(y_test, pred_dtree)],\n",
        "                     'Neural Network': [accuracy_score(y_test, pred_nn), f1_score(y_test, pred_nn), roc_auc_score(y_test, pred_nn)]}\n",
        "\n",
        "com_matrix = pd.DataFrame(comparison_matrix).transpose()\n",
        "com_matrix.reset_index(inplace=True)"
      ],
      "execution_count": 77,
      "outputs": []
    },
    {
      "cell_type": "code",
      "metadata": {
        "colab": {
          "base_uri": "https://localhost:8080/",
          "height": 294
        },
        "id": "fhwy2viV40p6",
        "outputId": "e31ee051-a64d-4c05-f979-b7be4c8112f3"
      },
      "source": [
        "com_matrix.columns = ['Classification Algorithm','Accuracy Score', 'F1 Score', 'Roc Auc Score']\n",
        "com_matrix.set_index('Classification Algorithm',inplace=True)\n",
        "com_matrix"
      ],
      "execution_count": 78,
      "outputs": [
        {
          "output_type": "execute_result",
          "data": {
            "text/html": [
              "<div>\n",
              "<style scoped>\n",
              "    .dataframe tbody tr th:only-of-type {\n",
              "        vertical-align: middle;\n",
              "    }\n",
              "\n",
              "    .dataframe tbody tr th {\n",
              "        vertical-align: top;\n",
              "    }\n",
              "\n",
              "    .dataframe thead th {\n",
              "        text-align: right;\n",
              "    }\n",
              "</style>\n",
              "<table border=\"1\" class=\"dataframe\">\n",
              "  <thead>\n",
              "    <tr style=\"text-align: right;\">\n",
              "      <th></th>\n",
              "      <th>Accuracy Score</th>\n",
              "      <th>F1 Score</th>\n",
              "      <th>Roc Auc Score</th>\n",
              "    </tr>\n",
              "    <tr>\n",
              "      <th>Classification Algorithm</th>\n",
              "      <th></th>\n",
              "      <th></th>\n",
              "      <th></th>\n",
              "    </tr>\n",
              "  </thead>\n",
              "  <tbody>\n",
              "    <tr>\n",
              "      <th>Linear Regression</th>\n",
              "      <td>0.549560</td>\n",
              "      <td>0.560409</td>\n",
              "      <td>0.549535</td>\n",
              "    </tr>\n",
              "    <tr>\n",
              "      <th>Logistic Regression</th>\n",
              "      <td>0.549964</td>\n",
              "      <td>0.560630</td>\n",
              "      <td>0.549939</td>\n",
              "    </tr>\n",
              "    <tr>\n",
              "      <th>SVM classifier</th>\n",
              "      <td>0.549560</td>\n",
              "      <td>0.560409</td>\n",
              "      <td>0.549535</td>\n",
              "    </tr>\n",
              "    <tr>\n",
              "      <th>Naive Bayes</th>\n",
              "      <td>0.538914</td>\n",
              "      <td>0.606890</td>\n",
              "      <td>0.538734</td>\n",
              "    </tr>\n",
              "    <tr>\n",
              "      <th>Random Forest</th>\n",
              "      <td>0.900798</td>\n",
              "      <td>0.899444</td>\n",
              "      <td>0.900814</td>\n",
              "    </tr>\n",
              "    <tr>\n",
              "      <th>Decison Tree</th>\n",
              "      <td>0.912654</td>\n",
              "      <td>0.912626</td>\n",
              "      <td>0.912656</td>\n",
              "    </tr>\n",
              "    <tr>\n",
              "      <th>Neural Network</th>\n",
              "      <td>0.605613</td>\n",
              "      <td>0.529174</td>\n",
              "      <td>0.605784</td>\n",
              "    </tr>\n",
              "  </tbody>\n",
              "</table>\n",
              "</div>"
            ],
            "text/plain": [
              "                          Accuracy Score  F1 Score  Roc Auc Score\n",
              "Classification Algorithm                                         \n",
              "Linear Regression               0.549560  0.560409       0.549535\n",
              "Logistic Regression             0.549964  0.560630       0.549939\n",
              "SVM classifier                  0.549560  0.560409       0.549535\n",
              "Naive Bayes                     0.538914  0.606890       0.538734\n",
              "Random Forest                   0.900798  0.899444       0.900814\n",
              "Decison Tree                    0.912654  0.912626       0.912656\n",
              "Neural Network                  0.605613  0.529174       0.605784"
            ]
          },
          "metadata": {
            "tags": []
          },
          "execution_count": 78
        }
      ]
    },
    {
      "cell_type": "markdown",
      "metadata": {
        "id": "mHJEd_iB6EFJ"
      },
      "source": [
        "# Prediction on the Test File for submission"
      ]
    },
    {
      "cell_type": "markdown",
      "metadata": {
        "id": "MokIEPFB-CBv"
      },
      "source": [
        "## Modeling Best Classifier from all the Training data available"
      ]
    },
    {
      "cell_type": "code",
      "metadata": {
        "colab": {
          "base_uri": "https://localhost:8080/"
        },
        "id": "AJZLVwPK-AKB",
        "outputId": "62138a16-3834-435d-9847-e70c94a9c10a"
      },
      "source": [
        "train_full = data2.sample(frac=1)\n",
        "train_X_full = train_full.iloc[:, :-1]\n",
        "train_y_full = train_full.iloc[:, -1]\n",
        "\n",
        "print(\"shape of train X full :\",train_X_full.shape)\n",
        "print(\"shape of train y full :\",train_y_full.shape)"
      ],
      "execution_count": 79,
      "outputs": [
        {
          "output_type": "stream",
          "text": [
            "shape of train X full : (61992, 19)\n",
            "shape of train y full : (61992,)\n"
          ],
          "name": "stdout"
        }
      ]
    },
    {
      "cell_type": "code",
      "metadata": {
        "colab": {
          "base_uri": "https://localhost:8080/",
          "height": 202
        },
        "id": "qnxmcH2TpuKo",
        "outputId": "c1cd5a1e-5c33-46f8-b879-60d0d94e18e7"
      },
      "source": [
        "train_X_full.head()"
      ],
      "execution_count": 80,
      "outputs": [
        {
          "output_type": "execute_result",
          "data": {
            "text/html": [
              "<div>\n",
              "<style scoped>\n",
              "    .dataframe tbody tr th:only-of-type {\n",
              "        vertical-align: middle;\n",
              "    }\n",
              "\n",
              "    .dataframe tbody tr th {\n",
              "        vertical-align: top;\n",
              "    }\n",
              "\n",
              "    .dataframe thead th {\n",
              "        text-align: right;\n",
              "    }\n",
              "</style>\n",
              "<table border=\"1\" class=\"dataframe\">\n",
              "  <thead>\n",
              "    <tr style=\"text-align: right;\">\n",
              "      <th></th>\n",
              "      <th>0</th>\n",
              "      <th>1</th>\n",
              "      <th>2</th>\n",
              "      <th>3</th>\n",
              "      <th>4</th>\n",
              "      <th>5</th>\n",
              "      <th>6</th>\n",
              "      <th>7</th>\n",
              "      <th>8</th>\n",
              "      <th>9</th>\n",
              "      <th>10</th>\n",
              "      <th>11</th>\n",
              "      <th>12</th>\n",
              "      <th>13</th>\n",
              "      <th>14</th>\n",
              "      <th>15</th>\n",
              "      <th>16</th>\n",
              "      <th>17</th>\n",
              "      <th>18</th>\n",
              "    </tr>\n",
              "  </thead>\n",
              "  <tbody>\n",
              "    <tr>\n",
              "      <th>28878</th>\n",
              "      <td>0.438393</td>\n",
              "      <td>0.362069</td>\n",
              "      <td>1.00</td>\n",
              "      <td>1.0</td>\n",
              "      <td>1.0</td>\n",
              "      <td>1.0</td>\n",
              "      <td>0.0</td>\n",
              "      <td>1.0</td>\n",
              "      <td>0.0</td>\n",
              "      <td>0.0</td>\n",
              "      <td>1.0</td>\n",
              "      <td>1.0</td>\n",
              "      <td>0.0</td>\n",
              "      <td>0.0</td>\n",
              "      <td>1.0</td>\n",
              "      <td>0.0</td>\n",
              "      <td>0.0</td>\n",
              "      <td>0.785714</td>\n",
              "      <td>0.00</td>\n",
              "    </tr>\n",
              "    <tr>\n",
              "      <th>37919</th>\n",
              "      <td>0.406631</td>\n",
              "      <td>0.310345</td>\n",
              "      <td>0.45</td>\n",
              "      <td>1.0</td>\n",
              "      <td>1.0</td>\n",
              "      <td>0.0</td>\n",
              "      <td>0.0</td>\n",
              "      <td>0.0</td>\n",
              "      <td>1.0</td>\n",
              "      <td>1.0</td>\n",
              "      <td>1.0</td>\n",
              "      <td>1.0</td>\n",
              "      <td>0.0</td>\n",
              "      <td>1.0</td>\n",
              "      <td>1.0</td>\n",
              "      <td>0.0</td>\n",
              "      <td>0.0</td>\n",
              "      <td>0.642857</td>\n",
              "      <td>1.00</td>\n",
              "    </tr>\n",
              "    <tr>\n",
              "      <th>10075</th>\n",
              "      <td>0.722095</td>\n",
              "      <td>0.896552</td>\n",
              "      <td>0.00</td>\n",
              "      <td>1.0</td>\n",
              "      <td>1.0</td>\n",
              "      <td>1.0</td>\n",
              "      <td>0.0</td>\n",
              "      <td>1.0</td>\n",
              "      <td>1.0</td>\n",
              "      <td>0.0</td>\n",
              "      <td>1.0</td>\n",
              "      <td>1.0</td>\n",
              "      <td>0.0</td>\n",
              "      <td>0.0</td>\n",
              "      <td>1.0</td>\n",
              "      <td>1.0</td>\n",
              "      <td>1.0</td>\n",
              "      <td>0.000000</td>\n",
              "      <td>0.25</td>\n",
              "    </tr>\n",
              "    <tr>\n",
              "      <th>19623</th>\n",
              "      <td>0.042166</td>\n",
              "      <td>0.517241</td>\n",
              "      <td>0.50</td>\n",
              "      <td>1.0</td>\n",
              "      <td>1.0</td>\n",
              "      <td>1.0</td>\n",
              "      <td>0.0</td>\n",
              "      <td>1.0</td>\n",
              "      <td>0.0</td>\n",
              "      <td>1.0</td>\n",
              "      <td>1.0</td>\n",
              "      <td>0.0</td>\n",
              "      <td>0.0</td>\n",
              "      <td>1.0</td>\n",
              "      <td>0.0</td>\n",
              "      <td>0.0</td>\n",
              "      <td>0.0</td>\n",
              "      <td>0.714286</td>\n",
              "      <td>0.25</td>\n",
              "    </tr>\n",
              "    <tr>\n",
              "      <th>51668</th>\n",
              "      <td>0.042166</td>\n",
              "      <td>0.517241</td>\n",
              "      <td>0.50</td>\n",
              "      <td>1.0</td>\n",
              "      <td>1.0</td>\n",
              "      <td>1.0</td>\n",
              "      <td>0.0</td>\n",
              "      <td>1.0</td>\n",
              "      <td>0.0</td>\n",
              "      <td>1.0</td>\n",
              "      <td>1.0</td>\n",
              "      <td>0.0</td>\n",
              "      <td>0.0</td>\n",
              "      <td>1.0</td>\n",
              "      <td>0.0</td>\n",
              "      <td>0.0</td>\n",
              "      <td>0.0</td>\n",
              "      <td>0.714286</td>\n",
              "      <td>0.25</td>\n",
              "    </tr>\n",
              "  </tbody>\n",
              "</table>\n",
              "</div>"
            ],
            "text/plain": [
              "             0         1     2    3    4   ...   14   15   16        17    18\n",
              "28878  0.438393  0.362069  1.00  1.0  1.0  ...  1.0  0.0  0.0  0.785714  0.00\n",
              "37919  0.406631  0.310345  0.45  1.0  1.0  ...  1.0  0.0  0.0  0.642857  1.00\n",
              "10075  0.722095  0.896552  0.00  1.0  1.0  ...  1.0  1.0  1.0  0.000000  0.25\n",
              "19623  0.042166  0.517241  0.50  1.0  1.0  ...  0.0  0.0  0.0  0.714286  0.25\n",
              "51668  0.042166  0.517241  0.50  1.0  1.0  ...  0.0  0.0  0.0  0.714286  0.25\n",
              "\n",
              "[5 rows x 19 columns]"
            ]
          },
          "metadata": {
            "tags": []
          },
          "execution_count": 80
        }
      ]
    },
    {
      "cell_type": "code",
      "metadata": {
        "id": "9ojqYhldpfZm"
      },
      "source": [
        "# np.unique(train_X_full[6].values), np.unique(train_X_full[13].values)"
      ],
      "execution_count": 81,
      "outputs": []
    },
    {
      "cell_type": "code",
      "metadata": {
        "id": "E3TcLmDzrf5y"
      },
      "source": [
        "# train_X_full.drop([6,13], axis=1, inplace=True)"
      ],
      "execution_count": 82,
      "outputs": []
    },
    {
      "cell_type": "code",
      "metadata": {
        "colab": {
          "base_uri": "https://localhost:8080/"
        },
        "id": "Y_HSmhIor0aS",
        "outputId": "2d3a162f-e7f2-424c-ad59-2e461cf45371"
      },
      "source": [
        "train_X_full.shape"
      ],
      "execution_count": 83,
      "outputs": [
        {
          "output_type": "execute_result",
          "data": {
            "text/plain": [
              "(61992, 19)"
            ]
          },
          "metadata": {
            "tags": []
          },
          "execution_count": 83
        }
      ]
    },
    {
      "cell_type": "code",
      "metadata": {
        "colab": {
          "base_uri": "https://localhost:8080/"
        },
        "id": "nUZjhv_i_Vgb",
        "outputId": "03b1e590-22e6-4a91-c691-495589e0bef1"
      },
      "source": [
        "#using DecisionTree as it is showing the best results\n",
        "dtc = DecisionTreeClassifier()\n",
        "dtc.fit(train_X_full, train_y_full) "
      ],
      "execution_count": 84,
      "outputs": [
        {
          "output_type": "execute_result",
          "data": {
            "text/plain": [
              "DecisionTreeClassifier(ccp_alpha=0.0, class_weight=None, criterion='gini',\n",
              "                       max_depth=None, max_features=None, max_leaf_nodes=None,\n",
              "                       min_impurity_decrease=0.0, min_impurity_split=None,\n",
              "                       min_samples_leaf=1, min_samples_split=2,\n",
              "                       min_weight_fraction_leaf=0.0, presort='deprecated',\n",
              "                       random_state=None, splitter='best')"
            ]
          },
          "metadata": {
            "tags": []
          },
          "execution_count": 84
        }
      ]
    },
    {
      "cell_type": "code",
      "metadata": {
        "colab": {
          "base_uri": "https://localhost:8080/"
        },
        "id": "S280DChN2S_y",
        "outputId": "13a818d6-3d14-4d78-e6c4-8ac797dcb5c1"
      },
      "source": [
        "#using Random Forest Tree as it is also have a potential score\n",
        "rf_algo = RandomForestClassifier()\n",
        "rf_algo.fit(train_X_full, train_y_full)"
      ],
      "execution_count": 85,
      "outputs": [
        {
          "output_type": "execute_result",
          "data": {
            "text/plain": [
              "RandomForestClassifier(bootstrap=True, ccp_alpha=0.0, class_weight=None,\n",
              "                       criterion='gini', max_depth=None, max_features='auto',\n",
              "                       max_leaf_nodes=None, max_samples=None,\n",
              "                       min_impurity_decrease=0.0, min_impurity_split=None,\n",
              "                       min_samples_leaf=1, min_samples_split=2,\n",
              "                       min_weight_fraction_leaf=0.0, n_estimators=100,\n",
              "                       n_jobs=None, oob_score=False, random_state=None,\n",
              "                       verbose=0, warm_start=False)"
            ]
          },
          "metadata": {
            "tags": []
          },
          "execution_count": 85
        }
      ]
    },
    {
      "cell_type": "markdown",
      "metadata": {
        "id": "z7IU1L2h3qmk"
      },
      "source": [
        "## Using Classifiers on the Test File"
      ]
    },
    {
      "cell_type": "code",
      "metadata": {
        "colab": {
          "base_uri": "https://localhost:8080/",
          "height": 202
        },
        "id": "eKNA3tRp26oS",
        "outputId": "407e4248-d9bc-47dc-90d1-0036d627b783"
      },
      "source": [
        "test_file_url = \"https://raw.githubusercontent.com/sudo0809/Credit-Risk-Prediction/main/Test%20Data.csv\"\n",
        "test_df = pd.read_csv(test_file_url,)\n",
        "test_df.head()"
      ],
      "execution_count": 86,
      "outputs": [
        {
          "output_type": "execute_result",
          "data": {
            "text/html": [
              "<div>\n",
              "<style scoped>\n",
              "    .dataframe tbody tr th:only-of-type {\n",
              "        vertical-align: middle;\n",
              "    }\n",
              "\n",
              "    .dataframe tbody tr th {\n",
              "        vertical-align: top;\n",
              "    }\n",
              "\n",
              "    .dataframe thead th {\n",
              "        text-align: right;\n",
              "    }\n",
              "</style>\n",
              "<table border=\"1\" class=\"dataframe\">\n",
              "  <thead>\n",
              "    <tr style=\"text-align: right;\">\n",
              "      <th></th>\n",
              "      <th>id</th>\n",
              "      <th>income</th>\n",
              "      <th>age</th>\n",
              "      <th>experience</th>\n",
              "      <th>married</th>\n",
              "      <th>house_ownership</th>\n",
              "      <th>car_ownership</th>\n",
              "      <th>profession</th>\n",
              "      <th>city</th>\n",
              "      <th>state</th>\n",
              "      <th>current_job_years</th>\n",
              "      <th>current_house_years</th>\n",
              "    </tr>\n",
              "  </thead>\n",
              "  <tbody>\n",
              "    <tr>\n",
              "      <th>0</th>\n",
              "      <td>1</td>\n",
              "      <td>7393090</td>\n",
              "      <td>59</td>\n",
              "      <td>19</td>\n",
              "      <td>single</td>\n",
              "      <td>rented</td>\n",
              "      <td>no</td>\n",
              "      <td>Geologist</td>\n",
              "      <td>Malda</td>\n",
              "      <td>West Bengal</td>\n",
              "      <td>4</td>\n",
              "      <td>13</td>\n",
              "    </tr>\n",
              "    <tr>\n",
              "      <th>1</th>\n",
              "      <td>2</td>\n",
              "      <td>1215004</td>\n",
              "      <td>25</td>\n",
              "      <td>5</td>\n",
              "      <td>single</td>\n",
              "      <td>rented</td>\n",
              "      <td>no</td>\n",
              "      <td>Firefighter</td>\n",
              "      <td>Jalna</td>\n",
              "      <td>Maharashtra</td>\n",
              "      <td>5</td>\n",
              "      <td>10</td>\n",
              "    </tr>\n",
              "    <tr>\n",
              "      <th>2</th>\n",
              "      <td>3</td>\n",
              "      <td>8901342</td>\n",
              "      <td>50</td>\n",
              "      <td>12</td>\n",
              "      <td>single</td>\n",
              "      <td>rented</td>\n",
              "      <td>no</td>\n",
              "      <td>Lawyer</td>\n",
              "      <td>Thane</td>\n",
              "      <td>Maharashtra</td>\n",
              "      <td>9</td>\n",
              "      <td>14</td>\n",
              "    </tr>\n",
              "    <tr>\n",
              "      <th>3</th>\n",
              "      <td>4</td>\n",
              "      <td>1944421</td>\n",
              "      <td>49</td>\n",
              "      <td>9</td>\n",
              "      <td>married</td>\n",
              "      <td>rented</td>\n",
              "      <td>yes</td>\n",
              "      <td>Analyst</td>\n",
              "      <td>Latur</td>\n",
              "      <td>Maharashtra</td>\n",
              "      <td>3</td>\n",
              "      <td>12</td>\n",
              "    </tr>\n",
              "    <tr>\n",
              "      <th>4</th>\n",
              "      <td>5</td>\n",
              "      <td>13429</td>\n",
              "      <td>25</td>\n",
              "      <td>18</td>\n",
              "      <td>single</td>\n",
              "      <td>rented</td>\n",
              "      <td>yes</td>\n",
              "      <td>Comedian</td>\n",
              "      <td>Berhampore</td>\n",
              "      <td>West Bengal</td>\n",
              "      <td>13</td>\n",
              "      <td>11</td>\n",
              "    </tr>\n",
              "  </tbody>\n",
              "</table>\n",
              "</div>"
            ],
            "text/plain": [
              "   id   income  age  ...        state current_job_years current_house_years\n",
              "0   1  7393090   59  ...  West Bengal                 4                  13\n",
              "1   2  1215004   25  ...  Maharashtra                 5                  10\n",
              "2   3  8901342   50  ...  Maharashtra                 9                  14\n",
              "3   4  1944421   49  ...  Maharashtra                 3                  12\n",
              "4   5    13429   25  ...  West Bengal                13                  11\n",
              "\n",
              "[5 rows x 12 columns]"
            ]
          },
          "metadata": {
            "tags": []
          },
          "execution_count": 86
        }
      ]
    },
    {
      "cell_type": "code",
      "metadata": {
        "id": "zrvXOMET33fb"
      },
      "source": [
        "test_data = test_df.drop(['id', 'city',], axis=1)"
      ],
      "execution_count": 87,
      "outputs": []
    },
    {
      "cell_type": "code",
      "metadata": {
        "colab": {
          "base_uri": "https://localhost:8080/",
          "height": 202
        },
        "id": "LFOd5Av34b0g",
        "outputId": "cdd776b1-e028-40fd-8860-e7ee12e2c497"
      },
      "source": [
        "test_data.head()"
      ],
      "execution_count": 88,
      "outputs": [
        {
          "output_type": "execute_result",
          "data": {
            "text/html": [
              "<div>\n",
              "<style scoped>\n",
              "    .dataframe tbody tr th:only-of-type {\n",
              "        vertical-align: middle;\n",
              "    }\n",
              "\n",
              "    .dataframe tbody tr th {\n",
              "        vertical-align: top;\n",
              "    }\n",
              "\n",
              "    .dataframe thead th {\n",
              "        text-align: right;\n",
              "    }\n",
              "</style>\n",
              "<table border=\"1\" class=\"dataframe\">\n",
              "  <thead>\n",
              "    <tr style=\"text-align: right;\">\n",
              "      <th></th>\n",
              "      <th>income</th>\n",
              "      <th>age</th>\n",
              "      <th>experience</th>\n",
              "      <th>married</th>\n",
              "      <th>house_ownership</th>\n",
              "      <th>car_ownership</th>\n",
              "      <th>profession</th>\n",
              "      <th>state</th>\n",
              "      <th>current_job_years</th>\n",
              "      <th>current_house_years</th>\n",
              "    </tr>\n",
              "  </thead>\n",
              "  <tbody>\n",
              "    <tr>\n",
              "      <th>0</th>\n",
              "      <td>7393090</td>\n",
              "      <td>59</td>\n",
              "      <td>19</td>\n",
              "      <td>single</td>\n",
              "      <td>rented</td>\n",
              "      <td>no</td>\n",
              "      <td>Geologist</td>\n",
              "      <td>West Bengal</td>\n",
              "      <td>4</td>\n",
              "      <td>13</td>\n",
              "    </tr>\n",
              "    <tr>\n",
              "      <th>1</th>\n",
              "      <td>1215004</td>\n",
              "      <td>25</td>\n",
              "      <td>5</td>\n",
              "      <td>single</td>\n",
              "      <td>rented</td>\n",
              "      <td>no</td>\n",
              "      <td>Firefighter</td>\n",
              "      <td>Maharashtra</td>\n",
              "      <td>5</td>\n",
              "      <td>10</td>\n",
              "    </tr>\n",
              "    <tr>\n",
              "      <th>2</th>\n",
              "      <td>8901342</td>\n",
              "      <td>50</td>\n",
              "      <td>12</td>\n",
              "      <td>single</td>\n",
              "      <td>rented</td>\n",
              "      <td>no</td>\n",
              "      <td>Lawyer</td>\n",
              "      <td>Maharashtra</td>\n",
              "      <td>9</td>\n",
              "      <td>14</td>\n",
              "    </tr>\n",
              "    <tr>\n",
              "      <th>3</th>\n",
              "      <td>1944421</td>\n",
              "      <td>49</td>\n",
              "      <td>9</td>\n",
              "      <td>married</td>\n",
              "      <td>rented</td>\n",
              "      <td>yes</td>\n",
              "      <td>Analyst</td>\n",
              "      <td>Maharashtra</td>\n",
              "      <td>3</td>\n",
              "      <td>12</td>\n",
              "    </tr>\n",
              "    <tr>\n",
              "      <th>4</th>\n",
              "      <td>13429</td>\n",
              "      <td>25</td>\n",
              "      <td>18</td>\n",
              "      <td>single</td>\n",
              "      <td>rented</td>\n",
              "      <td>yes</td>\n",
              "      <td>Comedian</td>\n",
              "      <td>West Bengal</td>\n",
              "      <td>13</td>\n",
              "      <td>11</td>\n",
              "    </tr>\n",
              "  </tbody>\n",
              "</table>\n",
              "</div>"
            ],
            "text/plain": [
              "    income  age  ...  current_job_years current_house_years\n",
              "0  7393090   59  ...                  4                  13\n",
              "1  1215004   25  ...                  5                  10\n",
              "2  8901342   50  ...                  9                  14\n",
              "3  1944421   49  ...                  3                  12\n",
              "4    13429   25  ...                 13                  11\n",
              "\n",
              "[5 rows x 10 columns]"
            ]
          },
          "metadata": {
            "tags": []
          },
          "execution_count": 88
        }
      ]
    },
    {
      "cell_type": "code",
      "metadata": {
        "colab": {
          "base_uri": "https://localhost:8080/",
          "height": 258
        },
        "id": "vNKMMXud4gO4",
        "outputId": "8f496df1-e397-498d-c633-e9074826bc49"
      },
      "source": [
        "test_data['married'] = married_le.transform(test_data['married'])\n",
        "test_data['house_ownership'] = house_le.transform(test_data['house_ownership'])\n",
        "test_data['car_ownership'] = car_le.transform(test_data['car_ownership'])\n",
        "# test_data = hash_enc.fit_transform(test_data)\n",
        "test_data = binary_enc.fit_transform(test_data)\n",
        "test_data.head()"
      ],
      "execution_count": 89,
      "outputs": [
        {
          "output_type": "stream",
          "text": [
            "/usr/local/lib/python3.7/dist-packages/category_encoders/utils.py:21: FutureWarning: is_categorical is deprecated and will be removed in a future version.  Use is_categorical_dtype instead\n",
            "  elif pd.api.types.is_categorical(cols):\n"
          ],
          "name": "stderr"
        },
        {
          "output_type": "execute_result",
          "data": {
            "text/html": [
              "<div>\n",
              "<style scoped>\n",
              "    .dataframe tbody tr th:only-of-type {\n",
              "        vertical-align: middle;\n",
              "    }\n",
              "\n",
              "    .dataframe tbody tr th {\n",
              "        vertical-align: top;\n",
              "    }\n",
              "\n",
              "    .dataframe thead th {\n",
              "        text-align: right;\n",
              "    }\n",
              "</style>\n",
              "<table border=\"1\" class=\"dataframe\">\n",
              "  <thead>\n",
              "    <tr style=\"text-align: right;\">\n",
              "      <th></th>\n",
              "      <th>income</th>\n",
              "      <th>age</th>\n",
              "      <th>experience</th>\n",
              "      <th>married</th>\n",
              "      <th>house_ownership</th>\n",
              "      <th>car_ownership</th>\n",
              "      <th>profession_0</th>\n",
              "      <th>profession_1</th>\n",
              "      <th>profession_2</th>\n",
              "      <th>profession_3</th>\n",
              "      <th>profession_4</th>\n",
              "      <th>profession_5</th>\n",
              "      <th>profession_6</th>\n",
              "      <th>state_0</th>\n",
              "      <th>state_1</th>\n",
              "      <th>state_2</th>\n",
              "      <th>state_3</th>\n",
              "      <th>state_4</th>\n",
              "      <th>state_5</th>\n",
              "      <th>current_job_years</th>\n",
              "      <th>current_house_years</th>\n",
              "    </tr>\n",
              "  </thead>\n",
              "  <tbody>\n",
              "    <tr>\n",
              "      <th>0</th>\n",
              "      <td>7393090</td>\n",
              "      <td>59</td>\n",
              "      <td>19</td>\n",
              "      <td>1</td>\n",
              "      <td>2</td>\n",
              "      <td>0</td>\n",
              "      <td>0</td>\n",
              "      <td>0</td>\n",
              "      <td>0</td>\n",
              "      <td>0</td>\n",
              "      <td>0</td>\n",
              "      <td>0</td>\n",
              "      <td>1</td>\n",
              "      <td>0</td>\n",
              "      <td>0</td>\n",
              "      <td>0</td>\n",
              "      <td>0</td>\n",
              "      <td>0</td>\n",
              "      <td>1</td>\n",
              "      <td>4</td>\n",
              "      <td>13</td>\n",
              "    </tr>\n",
              "    <tr>\n",
              "      <th>1</th>\n",
              "      <td>1215004</td>\n",
              "      <td>25</td>\n",
              "      <td>5</td>\n",
              "      <td>1</td>\n",
              "      <td>2</td>\n",
              "      <td>0</td>\n",
              "      <td>0</td>\n",
              "      <td>0</td>\n",
              "      <td>0</td>\n",
              "      <td>0</td>\n",
              "      <td>0</td>\n",
              "      <td>1</td>\n",
              "      <td>0</td>\n",
              "      <td>0</td>\n",
              "      <td>0</td>\n",
              "      <td>0</td>\n",
              "      <td>0</td>\n",
              "      <td>1</td>\n",
              "      <td>0</td>\n",
              "      <td>5</td>\n",
              "      <td>10</td>\n",
              "    </tr>\n",
              "    <tr>\n",
              "      <th>2</th>\n",
              "      <td>8901342</td>\n",
              "      <td>50</td>\n",
              "      <td>12</td>\n",
              "      <td>1</td>\n",
              "      <td>2</td>\n",
              "      <td>0</td>\n",
              "      <td>0</td>\n",
              "      <td>0</td>\n",
              "      <td>0</td>\n",
              "      <td>0</td>\n",
              "      <td>0</td>\n",
              "      <td>1</td>\n",
              "      <td>1</td>\n",
              "      <td>0</td>\n",
              "      <td>0</td>\n",
              "      <td>0</td>\n",
              "      <td>0</td>\n",
              "      <td>1</td>\n",
              "      <td>0</td>\n",
              "      <td>9</td>\n",
              "      <td>14</td>\n",
              "    </tr>\n",
              "    <tr>\n",
              "      <th>3</th>\n",
              "      <td>1944421</td>\n",
              "      <td>49</td>\n",
              "      <td>9</td>\n",
              "      <td>0</td>\n",
              "      <td>2</td>\n",
              "      <td>1</td>\n",
              "      <td>0</td>\n",
              "      <td>0</td>\n",
              "      <td>0</td>\n",
              "      <td>0</td>\n",
              "      <td>1</td>\n",
              "      <td>0</td>\n",
              "      <td>0</td>\n",
              "      <td>0</td>\n",
              "      <td>0</td>\n",
              "      <td>0</td>\n",
              "      <td>0</td>\n",
              "      <td>1</td>\n",
              "      <td>0</td>\n",
              "      <td>3</td>\n",
              "      <td>12</td>\n",
              "    </tr>\n",
              "    <tr>\n",
              "      <th>4</th>\n",
              "      <td>13429</td>\n",
              "      <td>25</td>\n",
              "      <td>18</td>\n",
              "      <td>1</td>\n",
              "      <td>2</td>\n",
              "      <td>1</td>\n",
              "      <td>0</td>\n",
              "      <td>0</td>\n",
              "      <td>0</td>\n",
              "      <td>0</td>\n",
              "      <td>1</td>\n",
              "      <td>0</td>\n",
              "      <td>1</td>\n",
              "      <td>0</td>\n",
              "      <td>0</td>\n",
              "      <td>0</td>\n",
              "      <td>0</td>\n",
              "      <td>0</td>\n",
              "      <td>1</td>\n",
              "      <td>13</td>\n",
              "      <td>11</td>\n",
              "    </tr>\n",
              "  </tbody>\n",
              "</table>\n",
              "</div>"
            ],
            "text/plain": [
              "    income  age  experience  ...  state_5  current_job_years  current_house_years\n",
              "0  7393090   59          19  ...        1                  4                   13\n",
              "1  1215004   25           5  ...        0                  5                   10\n",
              "2  8901342   50          12  ...        0                  9                   14\n",
              "3  1944421   49           9  ...        0                  3                   12\n",
              "4    13429   25          18  ...        1                 13                   11\n",
              "\n",
              "[5 rows x 21 columns]"
            ]
          },
          "metadata": {
            "tags": []
          },
          "execution_count": 89
        }
      ]
    },
    {
      "cell_type": "code",
      "metadata": {
        "id": "c1mKGQMMofG3"
      },
      "source": [
        "test_data.drop(labels=['profession_0', 'state_0'], axis=1, inplace=True)"
      ],
      "execution_count": 90,
      "outputs": []
    },
    {
      "cell_type": "code",
      "metadata": {
        "colab": {
          "base_uri": "https://localhost:8080/"
        },
        "id": "Vxh5A-FipXGr",
        "outputId": "8194446d-95aa-48e9-c9b4-5b530b1e6eb4"
      },
      "source": [
        "np.unique(test_data['state_4'].values)"
      ],
      "execution_count": 91,
      "outputs": [
        {
          "output_type": "execute_result",
          "data": {
            "text/plain": [
              "array([0, 1])"
            ]
          },
          "metadata": {
            "tags": []
          },
          "execution_count": 91
        }
      ]
    },
    {
      "cell_type": "code",
      "metadata": {
        "id": "Vccqgcb25gsm"
      },
      "source": [
        "test_X = pd.DataFrame(scaler.fit_transform(test_data))"
      ],
      "execution_count": 92,
      "outputs": []
    },
    {
      "cell_type": "code",
      "metadata": {
        "colab": {
          "base_uri": "https://localhost:8080/",
          "height": 220
        },
        "id": "RKHxHVx26Rd4",
        "outputId": "b6f5d5a3-94b0-4d98-8ba5-6a95312c4b57"
      },
      "source": [
        "display(test_X.head())\n",
        "test_X.shape"
      ],
      "execution_count": 93,
      "outputs": [
        {
          "output_type": "display_data",
          "data": {
            "text/html": [
              "<div>\n",
              "<style scoped>\n",
              "    .dataframe tbody tr th:only-of-type {\n",
              "        vertical-align: middle;\n",
              "    }\n",
              "\n",
              "    .dataframe tbody tr th {\n",
              "        vertical-align: top;\n",
              "    }\n",
              "\n",
              "    .dataframe thead th {\n",
              "        text-align: right;\n",
              "    }\n",
              "</style>\n",
              "<table border=\"1\" class=\"dataframe\">\n",
              "  <thead>\n",
              "    <tr style=\"text-align: right;\">\n",
              "      <th></th>\n",
              "      <th>0</th>\n",
              "      <th>1</th>\n",
              "      <th>2</th>\n",
              "      <th>3</th>\n",
              "      <th>4</th>\n",
              "      <th>5</th>\n",
              "      <th>6</th>\n",
              "      <th>7</th>\n",
              "      <th>8</th>\n",
              "      <th>9</th>\n",
              "      <th>10</th>\n",
              "      <th>11</th>\n",
              "      <th>12</th>\n",
              "      <th>13</th>\n",
              "      <th>14</th>\n",
              "      <th>15</th>\n",
              "      <th>16</th>\n",
              "      <th>17</th>\n",
              "      <th>18</th>\n",
              "    </tr>\n",
              "  </thead>\n",
              "  <tbody>\n",
              "    <tr>\n",
              "      <th>0</th>\n",
              "      <td>0.739054</td>\n",
              "      <td>0.655172</td>\n",
              "      <td>0.95</td>\n",
              "      <td>1.0</td>\n",
              "      <td>1.0</td>\n",
              "      <td>0.0</td>\n",
              "      <td>0.0</td>\n",
              "      <td>0.0</td>\n",
              "      <td>0.0</td>\n",
              "      <td>0.0</td>\n",
              "      <td>0.0</td>\n",
              "      <td>1.0</td>\n",
              "      <td>0.0</td>\n",
              "      <td>0.0</td>\n",
              "      <td>0.0</td>\n",
              "      <td>0.0</td>\n",
              "      <td>1.0</td>\n",
              "      <td>0.285714</td>\n",
              "      <td>0.75</td>\n",
              "    </tr>\n",
              "    <tr>\n",
              "      <th>1</th>\n",
              "      <td>0.120596</td>\n",
              "      <td>0.068966</td>\n",
              "      <td>0.25</td>\n",
              "      <td>1.0</td>\n",
              "      <td>1.0</td>\n",
              "      <td>0.0</td>\n",
              "      <td>0.0</td>\n",
              "      <td>0.0</td>\n",
              "      <td>0.0</td>\n",
              "      <td>0.0</td>\n",
              "      <td>1.0</td>\n",
              "      <td>0.0</td>\n",
              "      <td>0.0</td>\n",
              "      <td>0.0</td>\n",
              "      <td>0.0</td>\n",
              "      <td>1.0</td>\n",
              "      <td>0.0</td>\n",
              "      <td>0.357143</td>\n",
              "      <td>0.00</td>\n",
              "    </tr>\n",
              "    <tr>\n",
              "      <th>2</th>\n",
              "      <td>0.890037</td>\n",
              "      <td>0.500000</td>\n",
              "      <td>0.60</td>\n",
              "      <td>1.0</td>\n",
              "      <td>1.0</td>\n",
              "      <td>0.0</td>\n",
              "      <td>0.0</td>\n",
              "      <td>0.0</td>\n",
              "      <td>0.0</td>\n",
              "      <td>0.0</td>\n",
              "      <td>1.0</td>\n",
              "      <td>1.0</td>\n",
              "      <td>0.0</td>\n",
              "      <td>0.0</td>\n",
              "      <td>0.0</td>\n",
              "      <td>1.0</td>\n",
              "      <td>0.0</td>\n",
              "      <td>0.642857</td>\n",
              "      <td>1.00</td>\n",
              "    </tr>\n",
              "    <tr>\n",
              "      <th>3</th>\n",
              "      <td>0.193614</td>\n",
              "      <td>0.482759</td>\n",
              "      <td>0.45</td>\n",
              "      <td>0.0</td>\n",
              "      <td>1.0</td>\n",
              "      <td>1.0</td>\n",
              "      <td>0.0</td>\n",
              "      <td>0.0</td>\n",
              "      <td>0.0</td>\n",
              "      <td>1.0</td>\n",
              "      <td>0.0</td>\n",
              "      <td>0.0</td>\n",
              "      <td>0.0</td>\n",
              "      <td>0.0</td>\n",
              "      <td>0.0</td>\n",
              "      <td>1.0</td>\n",
              "      <td>0.0</td>\n",
              "      <td>0.214286</td>\n",
              "      <td>0.50</td>\n",
              "    </tr>\n",
              "    <tr>\n",
              "      <th>4</th>\n",
              "      <td>0.000312</td>\n",
              "      <td>0.068966</td>\n",
              "      <td>0.90</td>\n",
              "      <td>1.0</td>\n",
              "      <td>1.0</td>\n",
              "      <td>1.0</td>\n",
              "      <td>0.0</td>\n",
              "      <td>0.0</td>\n",
              "      <td>0.0</td>\n",
              "      <td>1.0</td>\n",
              "      <td>0.0</td>\n",
              "      <td>1.0</td>\n",
              "      <td>0.0</td>\n",
              "      <td>0.0</td>\n",
              "      <td>0.0</td>\n",
              "      <td>0.0</td>\n",
              "      <td>1.0</td>\n",
              "      <td>0.928571</td>\n",
              "      <td>0.25</td>\n",
              "    </tr>\n",
              "  </tbody>\n",
              "</table>\n",
              "</div>"
            ],
            "text/plain": [
              "         0         1     2    3    4    5   ...   13   14   15   16        17    18\n",
              "0  0.739054  0.655172  0.95  1.0  1.0  0.0  ...  0.0  0.0  0.0  1.0  0.285714  0.75\n",
              "1  0.120596  0.068966  0.25  1.0  1.0  0.0  ...  0.0  0.0  1.0  0.0  0.357143  0.00\n",
              "2  0.890037  0.500000  0.60  1.0  1.0  0.0  ...  0.0  0.0  1.0  0.0  0.642857  1.00\n",
              "3  0.193614  0.482759  0.45  0.0  1.0  1.0  ...  0.0  0.0  1.0  0.0  0.214286  0.50\n",
              "4  0.000312  0.068966  0.90  1.0  1.0  1.0  ...  0.0  0.0  0.0  1.0  0.928571  0.25\n",
              "\n",
              "[5 rows x 19 columns]"
            ]
          },
          "metadata": {
            "tags": []
          }
        },
        {
          "output_type": "execute_result",
          "data": {
            "text/plain": [
              "(28000, 19)"
            ]
          },
          "metadata": {
            "tags": []
          },
          "execution_count": 93
        }
      ]
    },
    {
      "cell_type": "markdown",
      "metadata": {
        "id": "-Ejmyh581FrG"
      },
      "source": [
        "### This Decision tree classifier is trained using 80% of balanced training data\n"
      ]
    },
    {
      "cell_type": "code",
      "metadata": {
        "id": "d1f8YXV06TuZ"
      },
      "source": [
        "pred_test_y_dtree = dtree.predict(test_X)"
      ],
      "execution_count": 94,
      "outputs": []
    },
    {
      "cell_type": "code",
      "metadata": {
        "colab": {
          "base_uri": "https://localhost:8080/"
        },
        "id": "XVp2B8MJ79Ui",
        "outputId": "9276fd14-aa12-4126-d0f2-6747e50e651b"
      },
      "source": [
        "collections.Counter(pred_test_y_dtree)"
      ],
      "execution_count": 95,
      "outputs": [
        {
          "output_type": "execute_result",
          "data": {
            "text/plain": [
              "Counter({0.0: 13190, 1.0: 14810})"
            ]
          },
          "metadata": {
            "tags": []
          },
          "execution_count": 95
        }
      ]
    },
    {
      "cell_type": "markdown",
      "metadata": {
        "id": "PkCqckdY1OiR"
      },
      "source": [
        "### This Decision tree classifier is trained on full balanced training data\n"
      ]
    },
    {
      "cell_type": "code",
      "metadata": {
        "id": "AE8hNVIB7Au1",
        "colab": {
          "base_uri": "https://localhost:8080/"
        },
        "outputId": "e73182ec-abff-4e45-ed80-bd86ad21b418"
      },
      "source": [
        "pred_test_y_dtc = dtc.predict(test_X)\n",
        "collections.Counter(pred_test_y_dtc)"
      ],
      "execution_count": 96,
      "outputs": [
        {
          "output_type": "execute_result",
          "data": {
            "text/plain": [
              "Counter({0.0: 11819, 1.0: 16181})"
            ]
          },
          "metadata": {
            "tags": []
          },
          "execution_count": 96
        }
      ]
    },
    {
      "cell_type": "code",
      "metadata": {
        "id": "KHfR9cgjAW1Y"
      },
      "source": [
        "submission = pd.DataFrame({\n",
        "        \"id\": test_df['id'],\n",
        "        \"risk_flag\": pred_y.astype('int')\n",
        "    })\n",
        "submission.to_csv('submission2.csv', index=False)"
      ],
      "execution_count": 97,
      "outputs": []
    },
    {
      "cell_type": "markdown",
      "metadata": {
        "id": "DgeAkCXx1l9N"
      },
      "source": [
        "### Predicting using Random Forest "
      ]
    },
    {
      "cell_type": "code",
      "metadata": {
        "colab": {
          "base_uri": "https://localhost:8080/"
        },
        "id": "kdYEjm2Z0vvb",
        "outputId": "5d0a6e43-5c3f-40a8-d1c1-6a18ab16c3b2"
      },
      "source": [
        "##using Random forest\n",
        "pred_test_y_rf = rf_algo.predict(test_X)\n",
        "\n",
        "collections.Counter(pred_test_y_rf)"
      ],
      "execution_count": 121,
      "outputs": [
        {
          "output_type": "execute_result",
          "data": {
            "text/plain": [
              "Counter({0.0: 10847, 1.0: 17153})"
            ]
          },
          "metadata": {
            "tags": []
          },
          "execution_count": 121
        }
      ]
    },
    {
      "cell_type": "code",
      "metadata": {
        "id": "hybljYq93Il9"
      },
      "source": [
        "submission = pd.DataFrame({\n",
        "        \"id\": test_df['id'],\n",
        "        \"risk_flag\": pred_y.astype('int')\n",
        "    })\n",
        "submission.to_csv('submission3_rf.csv', index=False)"
      ],
      "execution_count": 117,
      "outputs": []
    },
    {
      "cell_type": "markdown",
      "metadata": {
        "id": "1H7d6H6Q2xnY"
      },
      "source": [
        "### Predict using Neural Network Model"
      ]
    },
    {
      "cell_type": "code",
      "metadata": {
        "colab": {
          "base_uri": "https://localhost:8080/"
        },
        "id": "-_FNJf1x5dFs",
        "outputId": "cd000079-228d-40c1-c643-0b8ea29ce06f"
      },
      "source": [
        "pred_test_y_nn = model.predict(test_X)\n",
        "\n",
        "for i in range(len(pred_test_y_nn)):\n",
        "  if pred_test_y_nn[i]<0.5:\n",
        "    pred_test_y_nn[i]=0\n",
        "  else:\n",
        "    pred_test_y_nn[i]=1\n",
        "\n",
        "np.unique(pred_test_y_nn, return_counts=True)"
      ],
      "execution_count": 119,
      "outputs": [
        {
          "output_type": "execute_result",
          "data": {
            "text/plain": [
              "(array([0., 1.], dtype=float32), array([20702,  7298]))"
            ]
          },
          "metadata": {
            "tags": []
          },
          "execution_count": 119
        }
      ]
    },
    {
      "cell_type": "markdown",
      "metadata": {
        "id": "M0idkydV3U-B"
      },
      "source": [
        "## The First submission which has nearly 86.7% accuracy\n",
        "- profession, state, city columns wew dropped in this model\n",
        "- used Decision Tree classifier for prediction"
      ]
    },
    {
      "cell_type": "code",
      "metadata": {
        "colab": {
          "base_uri": "https://localhost:8080/"
        },
        "id": "jXmIr8Ow0Xoi",
        "outputId": "dd6effd5-ad04-4e3a-fdf3-5eb7c329449a"
      },
      "source": [
        "sub1 = pd.read_csv('submission1.csv')\n",
        "\n",
        "collections.Counter(sub1['risk_flag'])"
      ],
      "execution_count": 120,
      "outputs": [
        {
          "output_type": "execute_result",
          "data": {
            "text/plain": [
              "Counter({0: 21262, 1: 6738})"
            ]
          },
          "metadata": {
            "tags": []
          },
          "execution_count": 120
        }
      ]
    },
    {
      "cell_type": "code",
      "metadata": {
        "id": "PcvZ3DF33-3p"
      },
      "source": [
        ""
      ],
      "execution_count": null,
      "outputs": []
    }
  ]
}